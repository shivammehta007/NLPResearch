{
  "nbformat": 4,
  "nbformat_minor": 0,
  "metadata": {
    "colab": {
      "name": "Comparison of NLP Models IMDB classification.ipynb",
      "provenance": [],
      "collapsed_sections": [],
      "toc_visible": true,
      "authorship_tag": "ABX9TyMp2gBHVYHRtgeYzrhq8MPj",
      "include_colab_link": true
    },
    "kernelspec": {
      "name": "python3",
      "display_name": "Python 3"
    },
    "accelerator": "GPU",
    "widgets": {
      "application/vnd.jupyter.widget-state+json": {
        "4adbfc35499546b3bc9a5a6fc19ed3b9": {
          "model_module": "@jupyter-widgets/controls",
          "model_name": "HBoxModel",
          "state": {
            "_view_name": "HBoxView",
            "_dom_classes": [],
            "_model_name": "HBoxModel",
            "_view_module": "@jupyter-widgets/controls",
            "_model_module_version": "1.5.0",
            "_view_count": null,
            "_view_module_version": "1.5.0",
            "box_style": "",
            "layout": "IPY_MODEL_ecba9639d4f5443d92740b4a6bcd19e5",
            "_model_module": "@jupyter-widgets/controls",
            "children": [
              "IPY_MODEL_da8041d9359640028ccd420eca874a6e",
              "IPY_MODEL_13e743367f164266bf063ddac45e4e40"
            ]
          }
        },
        "ecba9639d4f5443d92740b4a6bcd19e5": {
          "model_module": "@jupyter-widgets/base",
          "model_name": "LayoutModel",
          "state": {
            "_view_name": "LayoutView",
            "grid_template_rows": null,
            "right": null,
            "justify_content": null,
            "_view_module": "@jupyter-widgets/base",
            "overflow": null,
            "_model_module_version": "1.2.0",
            "_view_count": null,
            "flex_flow": null,
            "width": null,
            "min_width": null,
            "border": null,
            "align_items": null,
            "bottom": null,
            "_model_module": "@jupyter-widgets/base",
            "top": null,
            "grid_column": null,
            "overflow_y": null,
            "overflow_x": null,
            "grid_auto_flow": null,
            "grid_area": null,
            "grid_template_columns": null,
            "flex": null,
            "_model_name": "LayoutModel",
            "justify_items": null,
            "grid_row": null,
            "max_height": null,
            "align_content": null,
            "visibility": null,
            "align_self": null,
            "height": null,
            "min_height": null,
            "padding": null,
            "grid_auto_rows": null,
            "grid_gap": null,
            "max_width": null,
            "order": null,
            "_view_module_version": "1.2.0",
            "grid_template_areas": null,
            "object_position": null,
            "object_fit": null,
            "grid_auto_columns": null,
            "margin": null,
            "display": null,
            "left": null
          }
        },
        "da8041d9359640028ccd420eca874a6e": {
          "model_module": "@jupyter-widgets/controls",
          "model_name": "FloatProgressModel",
          "state": {
            "_view_name": "ProgressView",
            "style": "IPY_MODEL_a196949ecd854ddfb060a7ee9e6e241e",
            "_dom_classes": [],
            "description": "100%",
            "_model_name": "FloatProgressModel",
            "bar_style": "success",
            "max": 20000,
            "_view_module": "@jupyter-widgets/controls",
            "_model_module_version": "1.5.0",
            "value": 20000,
            "_view_count": null,
            "_view_module_version": "1.5.0",
            "orientation": "horizontal",
            "min": 0,
            "description_tooltip": null,
            "_model_module": "@jupyter-widgets/controls",
            "layout": "IPY_MODEL_072eb1cf8a2e4e088f304abd3b28aa42"
          }
        },
        "13e743367f164266bf063ddac45e4e40": {
          "model_module": "@jupyter-widgets/controls",
          "model_name": "HTMLModel",
          "state": {
            "_view_name": "HTMLView",
            "style": "IPY_MODEL_b44734396cdf40d7b142c1ccff0f0514",
            "_dom_classes": [],
            "description": "",
            "_model_name": "HTMLModel",
            "placeholder": "​",
            "_view_module": "@jupyter-widgets/controls",
            "_model_module_version": "1.5.0",
            "value": " 20000/20000 [13:28&lt;00:00, 24.73it/s]",
            "_view_count": null,
            "_view_module_version": "1.5.0",
            "description_tooltip": null,
            "_model_module": "@jupyter-widgets/controls",
            "layout": "IPY_MODEL_f11b9e57cbb64e7ea79bbba494a7d54d"
          }
        },
        "a196949ecd854ddfb060a7ee9e6e241e": {
          "model_module": "@jupyter-widgets/controls",
          "model_name": "ProgressStyleModel",
          "state": {
            "_view_name": "StyleView",
            "_model_name": "ProgressStyleModel",
            "description_width": "initial",
            "_view_module": "@jupyter-widgets/base",
            "_model_module_version": "1.5.0",
            "_view_count": null,
            "_view_module_version": "1.2.0",
            "bar_color": null,
            "_model_module": "@jupyter-widgets/controls"
          }
        },
        "072eb1cf8a2e4e088f304abd3b28aa42": {
          "model_module": "@jupyter-widgets/base",
          "model_name": "LayoutModel",
          "state": {
            "_view_name": "LayoutView",
            "grid_template_rows": null,
            "right": null,
            "justify_content": null,
            "_view_module": "@jupyter-widgets/base",
            "overflow": null,
            "_model_module_version": "1.2.0",
            "_view_count": null,
            "flex_flow": null,
            "width": null,
            "min_width": null,
            "border": null,
            "align_items": null,
            "bottom": null,
            "_model_module": "@jupyter-widgets/base",
            "top": null,
            "grid_column": null,
            "overflow_y": null,
            "overflow_x": null,
            "grid_auto_flow": null,
            "grid_area": null,
            "grid_template_columns": null,
            "flex": null,
            "_model_name": "LayoutModel",
            "justify_items": null,
            "grid_row": null,
            "max_height": null,
            "align_content": null,
            "visibility": null,
            "align_self": null,
            "height": null,
            "min_height": null,
            "padding": null,
            "grid_auto_rows": null,
            "grid_gap": null,
            "max_width": null,
            "order": null,
            "_view_module_version": "1.2.0",
            "grid_template_areas": null,
            "object_position": null,
            "object_fit": null,
            "grid_auto_columns": null,
            "margin": null,
            "display": null,
            "left": null
          }
        },
        "b44734396cdf40d7b142c1ccff0f0514": {
          "model_module": "@jupyter-widgets/controls",
          "model_name": "DescriptionStyleModel",
          "state": {
            "_view_name": "StyleView",
            "_model_name": "DescriptionStyleModel",
            "description_width": "",
            "_view_module": "@jupyter-widgets/base",
            "_model_module_version": "1.5.0",
            "_view_count": null,
            "_view_module_version": "1.2.0",
            "_model_module": "@jupyter-widgets/controls"
          }
        },
        "f11b9e57cbb64e7ea79bbba494a7d54d": {
          "model_module": "@jupyter-widgets/base",
          "model_name": "LayoutModel",
          "state": {
            "_view_name": "LayoutView",
            "grid_template_rows": null,
            "right": null,
            "justify_content": null,
            "_view_module": "@jupyter-widgets/base",
            "overflow": null,
            "_model_module_version": "1.2.0",
            "_view_count": null,
            "flex_flow": null,
            "width": null,
            "min_width": null,
            "border": null,
            "align_items": null,
            "bottom": null,
            "_model_module": "@jupyter-widgets/base",
            "top": null,
            "grid_column": null,
            "overflow_y": null,
            "overflow_x": null,
            "grid_auto_flow": null,
            "grid_area": null,
            "grid_template_columns": null,
            "flex": null,
            "_model_name": "LayoutModel",
            "justify_items": null,
            "grid_row": null,
            "max_height": null,
            "align_content": null,
            "visibility": null,
            "align_self": null,
            "height": null,
            "min_height": null,
            "padding": null,
            "grid_auto_rows": null,
            "grid_gap": null,
            "max_width": null,
            "order": null,
            "_view_module_version": "1.2.0",
            "grid_template_areas": null,
            "object_position": null,
            "object_fit": null,
            "grid_auto_columns": null,
            "margin": null,
            "display": null,
            "left": null
          }
        },
        "63c8735d9ea447ee8baa913871ad8ebe": {
          "model_module": "@jupyter-widgets/controls",
          "model_name": "HBoxModel",
          "state": {
            "_view_name": "HBoxView",
            "_dom_classes": [],
            "_model_name": "HBoxModel",
            "_view_module": "@jupyter-widgets/controls",
            "_model_module_version": "1.5.0",
            "_view_count": null,
            "_view_module_version": "1.5.0",
            "box_style": "",
            "layout": "IPY_MODEL_a027421a49634567b6440d91885b31bd",
            "_model_module": "@jupyter-widgets/controls",
            "children": [
              "IPY_MODEL_e3e953a891b1406c9a255127ba8856a5",
              "IPY_MODEL_9326751d63404496910ed0475b0ce9e2"
            ]
          }
        },
        "a027421a49634567b6440d91885b31bd": {
          "model_module": "@jupyter-widgets/base",
          "model_name": "LayoutModel",
          "state": {
            "_view_name": "LayoutView",
            "grid_template_rows": null,
            "right": null,
            "justify_content": null,
            "_view_module": "@jupyter-widgets/base",
            "overflow": null,
            "_model_module_version": "1.2.0",
            "_view_count": null,
            "flex_flow": null,
            "width": null,
            "min_width": null,
            "border": null,
            "align_items": null,
            "bottom": null,
            "_model_module": "@jupyter-widgets/base",
            "top": null,
            "grid_column": null,
            "overflow_y": null,
            "overflow_x": null,
            "grid_auto_flow": null,
            "grid_area": null,
            "grid_template_columns": null,
            "flex": null,
            "_model_name": "LayoutModel",
            "justify_items": null,
            "grid_row": null,
            "max_height": null,
            "align_content": null,
            "visibility": null,
            "align_self": null,
            "height": null,
            "min_height": null,
            "padding": null,
            "grid_auto_rows": null,
            "grid_gap": null,
            "max_width": null,
            "order": null,
            "_view_module_version": "1.2.0",
            "grid_template_areas": null,
            "object_position": null,
            "object_fit": null,
            "grid_auto_columns": null,
            "margin": null,
            "display": null,
            "left": null
          }
        },
        "e3e953a891b1406c9a255127ba8856a5": {
          "model_module": "@jupyter-widgets/controls",
          "model_name": "FloatProgressModel",
          "state": {
            "_view_name": "ProgressView",
            "style": "IPY_MODEL_a2f797415d2f4664bb381b3e52b89319",
            "_dom_classes": [],
            "description": "100%",
            "_model_name": "FloatProgressModel",
            "bar_style": "success",
            "max": 5000,
            "_view_module": "@jupyter-widgets/controls",
            "_model_module_version": "1.5.0",
            "value": 5000,
            "_view_count": null,
            "_view_module_version": "1.5.0",
            "orientation": "horizontal",
            "min": 0,
            "description_tooltip": null,
            "_model_module": "@jupyter-widgets/controls",
            "layout": "IPY_MODEL_0ae47c6dd9724636b17c11f60e0f5a40"
          }
        },
        "9326751d63404496910ed0475b0ce9e2": {
          "model_module": "@jupyter-widgets/controls",
          "model_name": "HTMLModel",
          "state": {
            "_view_name": "HTMLView",
            "style": "IPY_MODEL_95629a4ca5264563849f1c0c4125ee63",
            "_dom_classes": [],
            "description": "",
            "_model_name": "HTMLModel",
            "placeholder": "​",
            "_view_module": "@jupyter-widgets/controls",
            "_model_module_version": "1.5.0",
            "value": " 5000/5000 [13:03&lt;00:00,  6.38it/s]",
            "_view_count": null,
            "_view_module_version": "1.5.0",
            "description_tooltip": null,
            "_model_module": "@jupyter-widgets/controls",
            "layout": "IPY_MODEL_be5a989795a64bc88641b0e9443e84fb"
          }
        },
        "a2f797415d2f4664bb381b3e52b89319": {
          "model_module": "@jupyter-widgets/controls",
          "model_name": "ProgressStyleModel",
          "state": {
            "_view_name": "StyleView",
            "_model_name": "ProgressStyleModel",
            "description_width": "initial",
            "_view_module": "@jupyter-widgets/base",
            "_model_module_version": "1.5.0",
            "_view_count": null,
            "_view_module_version": "1.2.0",
            "bar_color": null,
            "_model_module": "@jupyter-widgets/controls"
          }
        },
        "0ae47c6dd9724636b17c11f60e0f5a40": {
          "model_module": "@jupyter-widgets/base",
          "model_name": "LayoutModel",
          "state": {
            "_view_name": "LayoutView",
            "grid_template_rows": null,
            "right": null,
            "justify_content": null,
            "_view_module": "@jupyter-widgets/base",
            "overflow": null,
            "_model_module_version": "1.2.0",
            "_view_count": null,
            "flex_flow": null,
            "width": null,
            "min_width": null,
            "border": null,
            "align_items": null,
            "bottom": null,
            "_model_module": "@jupyter-widgets/base",
            "top": null,
            "grid_column": null,
            "overflow_y": null,
            "overflow_x": null,
            "grid_auto_flow": null,
            "grid_area": null,
            "grid_template_columns": null,
            "flex": null,
            "_model_name": "LayoutModel",
            "justify_items": null,
            "grid_row": null,
            "max_height": null,
            "align_content": null,
            "visibility": null,
            "align_self": null,
            "height": null,
            "min_height": null,
            "padding": null,
            "grid_auto_rows": null,
            "grid_gap": null,
            "max_width": null,
            "order": null,
            "_view_module_version": "1.2.0",
            "grid_template_areas": null,
            "object_position": null,
            "object_fit": null,
            "grid_auto_columns": null,
            "margin": null,
            "display": null,
            "left": null
          }
        },
        "95629a4ca5264563849f1c0c4125ee63": {
          "model_module": "@jupyter-widgets/controls",
          "model_name": "DescriptionStyleModel",
          "state": {
            "_view_name": "StyleView",
            "_model_name": "DescriptionStyleModel",
            "description_width": "",
            "_view_module": "@jupyter-widgets/base",
            "_model_module_version": "1.5.0",
            "_view_count": null,
            "_view_module_version": "1.2.0",
            "_model_module": "@jupyter-widgets/controls"
          }
        },
        "be5a989795a64bc88641b0e9443e84fb": {
          "model_module": "@jupyter-widgets/base",
          "model_name": "LayoutModel",
          "state": {
            "_view_name": "LayoutView",
            "grid_template_rows": null,
            "right": null,
            "justify_content": null,
            "_view_module": "@jupyter-widgets/base",
            "overflow": null,
            "_model_module_version": "1.2.0",
            "_view_count": null,
            "flex_flow": null,
            "width": null,
            "min_width": null,
            "border": null,
            "align_items": null,
            "bottom": null,
            "_model_module": "@jupyter-widgets/base",
            "top": null,
            "grid_column": null,
            "overflow_y": null,
            "overflow_x": null,
            "grid_auto_flow": null,
            "grid_area": null,
            "grid_template_columns": null,
            "flex": null,
            "_model_name": "LayoutModel",
            "justify_items": null,
            "grid_row": null,
            "max_height": null,
            "align_content": null,
            "visibility": null,
            "align_self": null,
            "height": null,
            "min_height": null,
            "padding": null,
            "grid_auto_rows": null,
            "grid_gap": null,
            "max_width": null,
            "order": null,
            "_view_module_version": "1.2.0",
            "grid_template_areas": null,
            "object_position": null,
            "object_fit": null,
            "grid_auto_columns": null,
            "margin": null,
            "display": null,
            "left": null
          }
        },
        "76bc8b6684e1490eb3a65039100d2488": {
          "model_module": "@jupyter-widgets/controls",
          "model_name": "HBoxModel",
          "state": {
            "_view_name": "HBoxView",
            "_dom_classes": [],
            "_model_name": "HBoxModel",
            "_view_module": "@jupyter-widgets/controls",
            "_model_module_version": "1.5.0",
            "_view_count": null,
            "_view_module_version": "1.5.0",
            "box_style": "",
            "layout": "IPY_MODEL_b22951f42b1f45e49d4cfe20da9234f0",
            "_model_module": "@jupyter-widgets/controls",
            "children": [
              "IPY_MODEL_ee1ae89b2ef6424e9d7fc14ed3e664fd",
              "IPY_MODEL_dc017949dffa44878fe1f0ecefcf55c1"
            ]
          }
        },
        "b22951f42b1f45e49d4cfe20da9234f0": {
          "model_module": "@jupyter-widgets/base",
          "model_name": "LayoutModel",
          "state": {
            "_view_name": "LayoutView",
            "grid_template_rows": null,
            "right": null,
            "justify_content": null,
            "_view_module": "@jupyter-widgets/base",
            "overflow": null,
            "_model_module_version": "1.2.0",
            "_view_count": null,
            "flex_flow": null,
            "width": null,
            "min_width": null,
            "border": null,
            "align_items": null,
            "bottom": null,
            "_model_module": "@jupyter-widgets/base",
            "top": null,
            "grid_column": null,
            "overflow_y": null,
            "overflow_x": null,
            "grid_auto_flow": null,
            "grid_area": null,
            "grid_template_columns": null,
            "flex": null,
            "_model_name": "LayoutModel",
            "justify_items": null,
            "grid_row": null,
            "max_height": null,
            "align_content": null,
            "visibility": null,
            "align_self": null,
            "height": null,
            "min_height": null,
            "padding": null,
            "grid_auto_rows": null,
            "grid_gap": null,
            "max_width": null,
            "order": null,
            "_view_module_version": "1.2.0",
            "grid_template_areas": null,
            "object_position": null,
            "object_fit": null,
            "grid_auto_columns": null,
            "margin": null,
            "display": null,
            "left": null
          }
        },
        "ee1ae89b2ef6424e9d7fc14ed3e664fd": {
          "model_module": "@jupyter-widgets/controls",
          "model_name": "FloatProgressModel",
          "state": {
            "_view_name": "ProgressView",
            "style": "IPY_MODEL_c20edad6b1c34dfdb13c845886db09c8",
            "_dom_classes": [],
            "description": "100%",
            "_model_name": "FloatProgressModel",
            "bar_style": "success",
            "max": 25000,
            "_view_module": "@jupyter-widgets/controls",
            "_model_module_version": "1.5.0",
            "value": 25000,
            "_view_count": null,
            "_view_module_version": "1.5.0",
            "orientation": "horizontal",
            "min": 0,
            "description_tooltip": null,
            "_model_module": "@jupyter-widgets/controls",
            "layout": "IPY_MODEL_c407c7b9ba7a4716b17c9e86d38d1a80"
          }
        },
        "dc017949dffa44878fe1f0ecefcf55c1": {
          "model_module": "@jupyter-widgets/controls",
          "model_name": "HTMLModel",
          "state": {
            "_view_name": "HTMLView",
            "style": "IPY_MODEL_c27bd1b22413436088b7f2fd0d0dfcf0",
            "_dom_classes": [],
            "description": "",
            "_model_name": "HTMLModel",
            "placeholder": "​",
            "_view_module": "@jupyter-widgets/controls",
            "_model_module_version": "1.5.0",
            "value": " 25000/25000 [13:03&lt;00:00, 31.92it/s]",
            "_view_count": null,
            "_view_module_version": "1.5.0",
            "description_tooltip": null,
            "_model_module": "@jupyter-widgets/controls",
            "layout": "IPY_MODEL_5673456052fd48d9b595005719b20432"
          }
        },
        "c20edad6b1c34dfdb13c845886db09c8": {
          "model_module": "@jupyter-widgets/controls",
          "model_name": "ProgressStyleModel",
          "state": {
            "_view_name": "StyleView",
            "_model_name": "ProgressStyleModel",
            "description_width": "initial",
            "_view_module": "@jupyter-widgets/base",
            "_model_module_version": "1.5.0",
            "_view_count": null,
            "_view_module_version": "1.2.0",
            "bar_color": null,
            "_model_module": "@jupyter-widgets/controls"
          }
        },
        "c407c7b9ba7a4716b17c9e86d38d1a80": {
          "model_module": "@jupyter-widgets/base",
          "model_name": "LayoutModel",
          "state": {
            "_view_name": "LayoutView",
            "grid_template_rows": null,
            "right": null,
            "justify_content": null,
            "_view_module": "@jupyter-widgets/base",
            "overflow": null,
            "_model_module_version": "1.2.0",
            "_view_count": null,
            "flex_flow": null,
            "width": null,
            "min_width": null,
            "border": null,
            "align_items": null,
            "bottom": null,
            "_model_module": "@jupyter-widgets/base",
            "top": null,
            "grid_column": null,
            "overflow_y": null,
            "overflow_x": null,
            "grid_auto_flow": null,
            "grid_area": null,
            "grid_template_columns": null,
            "flex": null,
            "_model_name": "LayoutModel",
            "justify_items": null,
            "grid_row": null,
            "max_height": null,
            "align_content": null,
            "visibility": null,
            "align_self": null,
            "height": null,
            "min_height": null,
            "padding": null,
            "grid_auto_rows": null,
            "grid_gap": null,
            "max_width": null,
            "order": null,
            "_view_module_version": "1.2.0",
            "grid_template_areas": null,
            "object_position": null,
            "object_fit": null,
            "grid_auto_columns": null,
            "margin": null,
            "display": null,
            "left": null
          }
        },
        "c27bd1b22413436088b7f2fd0d0dfcf0": {
          "model_module": "@jupyter-widgets/controls",
          "model_name": "DescriptionStyleModel",
          "state": {
            "_view_name": "StyleView",
            "_model_name": "DescriptionStyleModel",
            "description_width": "",
            "_view_module": "@jupyter-widgets/base",
            "_model_module_version": "1.5.0",
            "_view_count": null,
            "_view_module_version": "1.2.0",
            "_model_module": "@jupyter-widgets/controls"
          }
        },
        "5673456052fd48d9b595005719b20432": {
          "model_module": "@jupyter-widgets/base",
          "model_name": "LayoutModel",
          "state": {
            "_view_name": "LayoutView",
            "grid_template_rows": null,
            "right": null,
            "justify_content": null,
            "_view_module": "@jupyter-widgets/base",
            "overflow": null,
            "_model_module_version": "1.2.0",
            "_view_count": null,
            "flex_flow": null,
            "width": null,
            "min_width": null,
            "border": null,
            "align_items": null,
            "bottom": null,
            "_model_module": "@jupyter-widgets/base",
            "top": null,
            "grid_column": null,
            "overflow_y": null,
            "overflow_x": null,
            "grid_auto_flow": null,
            "grid_area": null,
            "grid_template_columns": null,
            "flex": null,
            "_model_name": "LayoutModel",
            "justify_items": null,
            "grid_row": null,
            "max_height": null,
            "align_content": null,
            "visibility": null,
            "align_self": null,
            "height": null,
            "min_height": null,
            "padding": null,
            "grid_auto_rows": null,
            "grid_gap": null,
            "max_width": null,
            "order": null,
            "_view_module_version": "1.2.0",
            "grid_template_areas": null,
            "object_position": null,
            "object_fit": null,
            "grid_auto_columns": null,
            "margin": null,
            "display": null,
            "left": null
          }
        },
        "c863fa09221c426099b21780256682eb": {
          "model_module": "@jupyter-widgets/controls",
          "model_name": "HBoxModel",
          "state": {
            "_view_name": "HBoxView",
            "_dom_classes": [],
            "_model_name": "HBoxModel",
            "_view_module": "@jupyter-widgets/controls",
            "_model_module_version": "1.5.0",
            "_view_count": null,
            "_view_module_version": "1.5.0",
            "box_style": "",
            "layout": "IPY_MODEL_4190a182c7294bad9139c02f2675301e",
            "_model_module": "@jupyter-widgets/controls",
            "children": [
              "IPY_MODEL_852520deaa4a408d8daf7160b8ee771f",
              "IPY_MODEL_a9d04e97b8d84b2ba83df2e0d53dc794"
            ]
          }
        },
        "4190a182c7294bad9139c02f2675301e": {
          "model_module": "@jupyter-widgets/base",
          "model_name": "LayoutModel",
          "state": {
            "_view_name": "LayoutView",
            "grid_template_rows": null,
            "right": null,
            "justify_content": null,
            "_view_module": "@jupyter-widgets/base",
            "overflow": null,
            "_model_module_version": "1.2.0",
            "_view_count": null,
            "flex_flow": null,
            "width": null,
            "min_width": null,
            "border": null,
            "align_items": null,
            "bottom": null,
            "_model_module": "@jupyter-widgets/base",
            "top": null,
            "grid_column": null,
            "overflow_y": null,
            "overflow_x": null,
            "grid_auto_flow": null,
            "grid_area": null,
            "grid_template_columns": null,
            "flex": null,
            "_model_name": "LayoutModel",
            "justify_items": null,
            "grid_row": null,
            "max_height": null,
            "align_content": null,
            "visibility": null,
            "align_self": null,
            "height": null,
            "min_height": null,
            "padding": null,
            "grid_auto_rows": null,
            "grid_gap": null,
            "max_width": null,
            "order": null,
            "_view_module_version": "1.2.0",
            "grid_template_areas": null,
            "object_position": null,
            "object_fit": null,
            "grid_auto_columns": null,
            "margin": null,
            "display": null,
            "left": null
          }
        },
        "852520deaa4a408d8daf7160b8ee771f": {
          "model_module": "@jupyter-widgets/controls",
          "model_name": "FloatProgressModel",
          "state": {
            "_view_name": "ProgressView",
            "style": "IPY_MODEL_553514d2659c4fc3b69e3e161f2437ee",
            "_dom_classes": [],
            "description": "100%",
            "_model_name": "FloatProgressModel",
            "bar_style": "success",
            "max": 3,
            "_view_module": "@jupyter-widgets/controls",
            "_model_module_version": "1.5.0",
            "value": 3,
            "_view_count": null,
            "_view_module_version": "1.5.0",
            "orientation": "horizontal",
            "min": 0,
            "description_tooltip": null,
            "_model_module": "@jupyter-widgets/controls",
            "layout": "IPY_MODEL_6b28a0a9249d48d09f73c059e585937b"
          }
        },
        "a9d04e97b8d84b2ba83df2e0d53dc794": {
          "model_module": "@jupyter-widgets/controls",
          "model_name": "HTMLModel",
          "state": {
            "_view_name": "HTMLView",
            "style": "IPY_MODEL_36f3698c61d54c41baa6233c35982c3e",
            "_dom_classes": [],
            "description": "",
            "_model_name": "HTMLModel",
            "placeholder": "​",
            "_view_module": "@jupyter-widgets/controls",
            "_model_module_version": "1.5.0",
            "value": " 3/3 [00:00&lt;00:00, 58.07it/s]",
            "_view_count": null,
            "_view_module_version": "1.5.0",
            "description_tooltip": null,
            "_model_module": "@jupyter-widgets/controls",
            "layout": "IPY_MODEL_f1d1d2ec41f34ba5a7ae91a2f5113eac"
          }
        },
        "553514d2659c4fc3b69e3e161f2437ee": {
          "model_module": "@jupyter-widgets/controls",
          "model_name": "ProgressStyleModel",
          "state": {
            "_view_name": "StyleView",
            "_model_name": "ProgressStyleModel",
            "description_width": "initial",
            "_view_module": "@jupyter-widgets/base",
            "_model_module_version": "1.5.0",
            "_view_count": null,
            "_view_module_version": "1.2.0",
            "bar_color": null,
            "_model_module": "@jupyter-widgets/controls"
          }
        },
        "6b28a0a9249d48d09f73c059e585937b": {
          "model_module": "@jupyter-widgets/base",
          "model_name": "LayoutModel",
          "state": {
            "_view_name": "LayoutView",
            "grid_template_rows": null,
            "right": null,
            "justify_content": null,
            "_view_module": "@jupyter-widgets/base",
            "overflow": null,
            "_model_module_version": "1.2.0",
            "_view_count": null,
            "flex_flow": null,
            "width": null,
            "min_width": null,
            "border": null,
            "align_items": null,
            "bottom": null,
            "_model_module": "@jupyter-widgets/base",
            "top": null,
            "grid_column": null,
            "overflow_y": null,
            "overflow_x": null,
            "grid_auto_flow": null,
            "grid_area": null,
            "grid_template_columns": null,
            "flex": null,
            "_model_name": "LayoutModel",
            "justify_items": null,
            "grid_row": null,
            "max_height": null,
            "align_content": null,
            "visibility": null,
            "align_self": null,
            "height": null,
            "min_height": null,
            "padding": null,
            "grid_auto_rows": null,
            "grid_gap": null,
            "max_width": null,
            "order": null,
            "_view_module_version": "1.2.0",
            "grid_template_areas": null,
            "object_position": null,
            "object_fit": null,
            "grid_auto_columns": null,
            "margin": null,
            "display": null,
            "left": null
          }
        },
        "36f3698c61d54c41baa6233c35982c3e": {
          "model_module": "@jupyter-widgets/controls",
          "model_name": "DescriptionStyleModel",
          "state": {
            "_view_name": "StyleView",
            "_model_name": "DescriptionStyleModel",
            "description_width": "",
            "_view_module": "@jupyter-widgets/base",
            "_model_module_version": "1.5.0",
            "_view_count": null,
            "_view_module_version": "1.2.0",
            "_model_module": "@jupyter-widgets/controls"
          }
        },
        "f1d1d2ec41f34ba5a7ae91a2f5113eac": {
          "model_module": "@jupyter-widgets/base",
          "model_name": "LayoutModel",
          "state": {
            "_view_name": "LayoutView",
            "grid_template_rows": null,
            "right": null,
            "justify_content": null,
            "_view_module": "@jupyter-widgets/base",
            "overflow": null,
            "_model_module_version": "1.2.0",
            "_view_count": null,
            "flex_flow": null,
            "width": null,
            "min_width": null,
            "border": null,
            "align_items": null,
            "bottom": null,
            "_model_module": "@jupyter-widgets/base",
            "top": null,
            "grid_column": null,
            "overflow_y": null,
            "overflow_x": null,
            "grid_auto_flow": null,
            "grid_area": null,
            "grid_template_columns": null,
            "flex": null,
            "_model_name": "LayoutModel",
            "justify_items": null,
            "grid_row": null,
            "max_height": null,
            "align_content": null,
            "visibility": null,
            "align_self": null,
            "height": null,
            "min_height": null,
            "padding": null,
            "grid_auto_rows": null,
            "grid_gap": null,
            "max_width": null,
            "order": null,
            "_view_module_version": "1.2.0",
            "grid_template_areas": null,
            "object_position": null,
            "object_fit": null,
            "grid_auto_columns": null,
            "margin": null,
            "display": null,
            "left": null
          }
        },
        "791ba843457e4f8099e7ef9625f55ce4": {
          "model_module": "@jupyter-widgets/controls",
          "model_name": "HBoxModel",
          "state": {
            "_view_name": "HBoxView",
            "_dom_classes": [],
            "_model_name": "HBoxModel",
            "_view_module": "@jupyter-widgets/controls",
            "_model_module_version": "1.5.0",
            "_view_count": null,
            "_view_module_version": "1.5.0",
            "box_style": "",
            "layout": "IPY_MODEL_7ae123e47f1c45de8946d91d47f46185",
            "_model_module": "@jupyter-widgets/controls",
            "children": [
              "IPY_MODEL_a7f3508ca68041c0a62fdf4f42dfe60f",
              "IPY_MODEL_3a5d5468b2864102aa1cfcb9652b949b"
            ]
          }
        },
        "7ae123e47f1c45de8946d91d47f46185": {
          "model_module": "@jupyter-widgets/base",
          "model_name": "LayoutModel",
          "state": {
            "_view_name": "LayoutView",
            "grid_template_rows": null,
            "right": null,
            "justify_content": null,
            "_view_module": "@jupyter-widgets/base",
            "overflow": null,
            "_model_module_version": "1.2.0",
            "_view_count": null,
            "flex_flow": null,
            "width": null,
            "min_width": null,
            "border": null,
            "align_items": null,
            "bottom": null,
            "_model_module": "@jupyter-widgets/base",
            "top": null,
            "grid_column": null,
            "overflow_y": null,
            "overflow_x": null,
            "grid_auto_flow": null,
            "grid_area": null,
            "grid_template_columns": null,
            "flex": null,
            "_model_name": "LayoutModel",
            "justify_items": null,
            "grid_row": null,
            "max_height": null,
            "align_content": null,
            "visibility": null,
            "align_self": null,
            "height": null,
            "min_height": null,
            "padding": null,
            "grid_auto_rows": null,
            "grid_gap": null,
            "max_width": null,
            "order": null,
            "_view_module_version": "1.2.0",
            "grid_template_areas": null,
            "object_position": null,
            "object_fit": null,
            "grid_auto_columns": null,
            "margin": null,
            "display": null,
            "left": null
          }
        },
        "a7f3508ca68041c0a62fdf4f42dfe60f": {
          "model_module": "@jupyter-widgets/controls",
          "model_name": "FloatProgressModel",
          "state": {
            "_view_name": "ProgressView",
            "style": "IPY_MODEL_1d2be9ba06294672bece4e2bd664b798",
            "_dom_classes": [],
            "description": "100%",
            "_model_name": "FloatProgressModel",
            "bar_style": "success",
            "max": 2,
            "_view_module": "@jupyter-widgets/controls",
            "_model_module_version": "1.5.0",
            "value": 2,
            "_view_count": null,
            "_view_module_version": "1.5.0",
            "orientation": "horizontal",
            "min": 0,
            "description_tooltip": null,
            "_model_module": "@jupyter-widgets/controls",
            "layout": "IPY_MODEL_816f0d05f1104ab0b47af6732793f235"
          }
        },
        "3a5d5468b2864102aa1cfcb9652b949b": {
          "model_module": "@jupyter-widgets/controls",
          "model_name": "HTMLModel",
          "state": {
            "_view_name": "HTMLView",
            "style": "IPY_MODEL_0217b3bcd1984738b416906796214184",
            "_dom_classes": [],
            "description": "",
            "_model_name": "HTMLModel",
            "placeholder": "​",
            "_view_module": "@jupyter-widgets/controls",
            "_model_module_version": "1.5.0",
            "value": " 2/2 [1:05:41&lt;00:00, 1970.84s/it]",
            "_view_count": null,
            "_view_module_version": "1.5.0",
            "description_tooltip": null,
            "_model_module": "@jupyter-widgets/controls",
            "layout": "IPY_MODEL_bb82d6a63b534c3c84efca3f835aa553"
          }
        },
        "1d2be9ba06294672bece4e2bd664b798": {
          "model_module": "@jupyter-widgets/controls",
          "model_name": "ProgressStyleModel",
          "state": {
            "_view_name": "StyleView",
            "_model_name": "ProgressStyleModel",
            "description_width": "initial",
            "_view_module": "@jupyter-widgets/base",
            "_model_module_version": "1.5.0",
            "_view_count": null,
            "_view_module_version": "1.2.0",
            "bar_color": null,
            "_model_module": "@jupyter-widgets/controls"
          }
        },
        "816f0d05f1104ab0b47af6732793f235": {
          "model_module": "@jupyter-widgets/base",
          "model_name": "LayoutModel",
          "state": {
            "_view_name": "LayoutView",
            "grid_template_rows": null,
            "right": null,
            "justify_content": null,
            "_view_module": "@jupyter-widgets/base",
            "overflow": null,
            "_model_module_version": "1.2.0",
            "_view_count": null,
            "flex_flow": null,
            "width": null,
            "min_width": null,
            "border": null,
            "align_items": null,
            "bottom": null,
            "_model_module": "@jupyter-widgets/base",
            "top": null,
            "grid_column": null,
            "overflow_y": null,
            "overflow_x": null,
            "grid_auto_flow": null,
            "grid_area": null,
            "grid_template_columns": null,
            "flex": null,
            "_model_name": "LayoutModel",
            "justify_items": null,
            "grid_row": null,
            "max_height": null,
            "align_content": null,
            "visibility": null,
            "align_self": null,
            "height": null,
            "min_height": null,
            "padding": null,
            "grid_auto_rows": null,
            "grid_gap": null,
            "max_width": null,
            "order": null,
            "_view_module_version": "1.2.0",
            "grid_template_areas": null,
            "object_position": null,
            "object_fit": null,
            "grid_auto_columns": null,
            "margin": null,
            "display": null,
            "left": null
          }
        },
        "0217b3bcd1984738b416906796214184": {
          "model_module": "@jupyter-widgets/controls",
          "model_name": "DescriptionStyleModel",
          "state": {
            "_view_name": "StyleView",
            "_model_name": "DescriptionStyleModel",
            "description_width": "",
            "_view_module": "@jupyter-widgets/base",
            "_model_module_version": "1.5.0",
            "_view_count": null,
            "_view_module_version": "1.2.0",
            "_model_module": "@jupyter-widgets/controls"
          }
        },
        "bb82d6a63b534c3c84efca3f835aa553": {
          "model_module": "@jupyter-widgets/base",
          "model_name": "LayoutModel",
          "state": {
            "_view_name": "LayoutView",
            "grid_template_rows": null,
            "right": null,
            "justify_content": null,
            "_view_module": "@jupyter-widgets/base",
            "overflow": null,
            "_model_module_version": "1.2.0",
            "_view_count": null,
            "flex_flow": null,
            "width": null,
            "min_width": null,
            "border": null,
            "align_items": null,
            "bottom": null,
            "_model_module": "@jupyter-widgets/base",
            "top": null,
            "grid_column": null,
            "overflow_y": null,
            "overflow_x": null,
            "grid_auto_flow": null,
            "grid_area": null,
            "grid_template_columns": null,
            "flex": null,
            "_model_name": "LayoutModel",
            "justify_items": null,
            "grid_row": null,
            "max_height": null,
            "align_content": null,
            "visibility": null,
            "align_self": null,
            "height": null,
            "min_height": null,
            "padding": null,
            "grid_auto_rows": null,
            "grid_gap": null,
            "max_width": null,
            "order": null,
            "_view_module_version": "1.2.0",
            "grid_template_areas": null,
            "object_position": null,
            "object_fit": null,
            "grid_auto_columns": null,
            "margin": null,
            "display": null,
            "left": null
          }
        },
        "c9f7c55442034d2e93674154ce750ea1": {
          "model_module": "@jupyter-widgets/controls",
          "model_name": "HBoxModel",
          "state": {
            "_view_name": "HBoxView",
            "_dom_classes": [],
            "_model_name": "HBoxModel",
            "_view_module": "@jupyter-widgets/controls",
            "_model_module_version": "1.5.0",
            "_view_count": null,
            "_view_module_version": "1.5.0",
            "box_style": "",
            "layout": "IPY_MODEL_861d29c83b9242ae827c23dbf2e684b7",
            "_model_module": "@jupyter-widgets/controls",
            "children": [
              "IPY_MODEL_c15abd8a76b2489db5d770c1ef4c98cc",
              "IPY_MODEL_695aef7dc0f74eee910e699bd3b37da2"
            ]
          }
        },
        "861d29c83b9242ae827c23dbf2e684b7": {
          "model_module": "@jupyter-widgets/base",
          "model_name": "LayoutModel",
          "state": {
            "_view_name": "LayoutView",
            "grid_template_rows": null,
            "right": null,
            "justify_content": null,
            "_view_module": "@jupyter-widgets/base",
            "overflow": null,
            "_model_module_version": "1.2.0",
            "_view_count": null,
            "flex_flow": null,
            "width": null,
            "min_width": null,
            "border": null,
            "align_items": null,
            "bottom": null,
            "_model_module": "@jupyter-widgets/base",
            "top": null,
            "grid_column": null,
            "overflow_y": null,
            "overflow_x": null,
            "grid_auto_flow": null,
            "grid_area": null,
            "grid_template_columns": null,
            "flex": null,
            "_model_name": "LayoutModel",
            "justify_items": null,
            "grid_row": null,
            "max_height": null,
            "align_content": null,
            "visibility": null,
            "align_self": null,
            "height": null,
            "min_height": null,
            "padding": null,
            "grid_auto_rows": null,
            "grid_gap": null,
            "max_width": null,
            "order": null,
            "_view_module_version": "1.2.0",
            "grid_template_areas": null,
            "object_position": null,
            "object_fit": null,
            "grid_auto_columns": null,
            "margin": null,
            "display": null,
            "left": null
          }
        },
        "c15abd8a76b2489db5d770c1ef4c98cc": {
          "model_module": "@jupyter-widgets/controls",
          "model_name": "FloatProgressModel",
          "state": {
            "_view_name": "ProgressView",
            "style": "IPY_MODEL_eec228a3ea0b434c8034876af4b55a88",
            "_dom_classes": [],
            "description": "100%",
            "_model_name": "FloatProgressModel",
            "bar_style": "success",
            "max": 4,
            "_view_module": "@jupyter-widgets/controls",
            "_model_module_version": "1.5.0",
            "value": 4,
            "_view_count": null,
            "_view_module_version": "1.5.0",
            "orientation": "horizontal",
            "min": 0,
            "description_tooltip": null,
            "_model_module": "@jupyter-widgets/controls",
            "layout": "IPY_MODEL_8c3432cb73c4497882e5802a2c72acd5"
          }
        },
        "695aef7dc0f74eee910e699bd3b37da2": {
          "model_module": "@jupyter-widgets/controls",
          "model_name": "HTMLModel",
          "state": {
            "_view_name": "HTMLView",
            "style": "IPY_MODEL_35a1e61e385141df8fbdf38a6396b1e0",
            "_dom_classes": [],
            "description": "",
            "_model_name": "HTMLModel",
            "placeholder": "​",
            "_view_module": "@jupyter-widgets/controls",
            "_model_module_version": "1.5.0",
            "value": " 4/4 [1:05:34&lt;00:00, 983.67s/it]",
            "_view_count": null,
            "_view_module_version": "1.5.0",
            "description_tooltip": null,
            "_model_module": "@jupyter-widgets/controls",
            "layout": "IPY_MODEL_a0359ec2a42d4e71b41526e5678883db"
          }
        },
        "eec228a3ea0b434c8034876af4b55a88": {
          "model_module": "@jupyter-widgets/controls",
          "model_name": "ProgressStyleModel",
          "state": {
            "_view_name": "StyleView",
            "_model_name": "ProgressStyleModel",
            "description_width": "initial",
            "_view_module": "@jupyter-widgets/base",
            "_model_module_version": "1.5.0",
            "_view_count": null,
            "_view_module_version": "1.2.0",
            "bar_color": null,
            "_model_module": "@jupyter-widgets/controls"
          }
        },
        "8c3432cb73c4497882e5802a2c72acd5": {
          "model_module": "@jupyter-widgets/base",
          "model_name": "LayoutModel",
          "state": {
            "_view_name": "LayoutView",
            "grid_template_rows": null,
            "right": null,
            "justify_content": null,
            "_view_module": "@jupyter-widgets/base",
            "overflow": null,
            "_model_module_version": "1.2.0",
            "_view_count": null,
            "flex_flow": null,
            "width": null,
            "min_width": null,
            "border": null,
            "align_items": null,
            "bottom": null,
            "_model_module": "@jupyter-widgets/base",
            "top": null,
            "grid_column": null,
            "overflow_y": null,
            "overflow_x": null,
            "grid_auto_flow": null,
            "grid_area": null,
            "grid_template_columns": null,
            "flex": null,
            "_model_name": "LayoutModel",
            "justify_items": null,
            "grid_row": null,
            "max_height": null,
            "align_content": null,
            "visibility": null,
            "align_self": null,
            "height": null,
            "min_height": null,
            "padding": null,
            "grid_auto_rows": null,
            "grid_gap": null,
            "max_width": null,
            "order": null,
            "_view_module_version": "1.2.0",
            "grid_template_areas": null,
            "object_position": null,
            "object_fit": null,
            "grid_auto_columns": null,
            "margin": null,
            "display": null,
            "left": null
          }
        },
        "35a1e61e385141df8fbdf38a6396b1e0": {
          "model_module": "@jupyter-widgets/controls",
          "model_name": "DescriptionStyleModel",
          "state": {
            "_view_name": "StyleView",
            "_model_name": "DescriptionStyleModel",
            "description_width": "",
            "_view_module": "@jupyter-widgets/base",
            "_model_module_version": "1.5.0",
            "_view_count": null,
            "_view_module_version": "1.2.0",
            "_model_module": "@jupyter-widgets/controls"
          }
        },
        "a0359ec2a42d4e71b41526e5678883db": {
          "model_module": "@jupyter-widgets/base",
          "model_name": "LayoutModel",
          "state": {
            "_view_name": "LayoutView",
            "grid_template_rows": null,
            "right": null,
            "justify_content": null,
            "_view_module": "@jupyter-widgets/base",
            "overflow": null,
            "_model_module_version": "1.2.0",
            "_view_count": null,
            "flex_flow": null,
            "width": null,
            "min_width": null,
            "border": null,
            "align_items": null,
            "bottom": null,
            "_model_module": "@jupyter-widgets/base",
            "top": null,
            "grid_column": null,
            "overflow_y": null,
            "overflow_x": null,
            "grid_auto_flow": null,
            "grid_area": null,
            "grid_template_columns": null,
            "flex": null,
            "_model_name": "LayoutModel",
            "justify_items": null,
            "grid_row": null,
            "max_height": null,
            "align_content": null,
            "visibility": null,
            "align_self": null,
            "height": null,
            "min_height": null,
            "padding": null,
            "grid_auto_rows": null,
            "grid_gap": null,
            "max_width": null,
            "order": null,
            "_view_module_version": "1.2.0",
            "grid_template_areas": null,
            "object_position": null,
            "object_fit": null,
            "grid_auto_columns": null,
            "margin": null,
            "display": null,
            "left": null
          }
        },
        "a9f0327bacaf4662a20ffdfa87081f8e": {
          "model_module": "@jupyter-widgets/controls",
          "model_name": "HBoxModel",
          "state": {
            "_view_name": "HBoxView",
            "_dom_classes": [],
            "_model_name": "HBoxModel",
            "_view_module": "@jupyter-widgets/controls",
            "_model_module_version": "1.5.0",
            "_view_count": null,
            "_view_module_version": "1.5.0",
            "box_style": "",
            "layout": "IPY_MODEL_e80c1d3eb9e546d08541ae3cfcd18460",
            "_model_module": "@jupyter-widgets/controls",
            "children": [
              "IPY_MODEL_aeccbae7554d4da09a16afc8d03b8c1e",
              "IPY_MODEL_27b2aa7198764d95a4a6d807fe59941e"
            ]
          }
        },
        "e80c1d3eb9e546d08541ae3cfcd18460": {
          "model_module": "@jupyter-widgets/base",
          "model_name": "LayoutModel",
          "state": {
            "_view_name": "LayoutView",
            "grid_template_rows": null,
            "right": null,
            "justify_content": null,
            "_view_module": "@jupyter-widgets/base",
            "overflow": null,
            "_model_module_version": "1.2.0",
            "_view_count": null,
            "flex_flow": null,
            "width": null,
            "min_width": null,
            "border": null,
            "align_items": null,
            "bottom": null,
            "_model_module": "@jupyter-widgets/base",
            "top": null,
            "grid_column": null,
            "overflow_y": null,
            "overflow_x": null,
            "grid_auto_flow": null,
            "grid_area": null,
            "grid_template_columns": null,
            "flex": null,
            "_model_name": "LayoutModel",
            "justify_items": null,
            "grid_row": null,
            "max_height": null,
            "align_content": null,
            "visibility": null,
            "align_self": null,
            "height": null,
            "min_height": null,
            "padding": null,
            "grid_auto_rows": null,
            "grid_gap": null,
            "max_width": null,
            "order": null,
            "_view_module_version": "1.2.0",
            "grid_template_areas": null,
            "object_position": null,
            "object_fit": null,
            "grid_auto_columns": null,
            "margin": null,
            "display": null,
            "left": null
          }
        },
        "aeccbae7554d4da09a16afc8d03b8c1e": {
          "model_module": "@jupyter-widgets/controls",
          "model_name": "FloatProgressModel",
          "state": {
            "_view_name": "ProgressView",
            "style": "IPY_MODEL_3750d48e361b46fa93ee2d1473ec9de6",
            "_dom_classes": [],
            "description": "100%",
            "_model_name": "FloatProgressModel",
            "bar_style": "success",
            "max": 2,
            "_view_module": "@jupyter-widgets/controls",
            "_model_module_version": "1.5.0",
            "value": 2,
            "_view_count": null,
            "_view_module_version": "1.5.0",
            "orientation": "horizontal",
            "min": 0,
            "description_tooltip": null,
            "_model_module": "@jupyter-widgets/controls",
            "layout": "IPY_MODEL_5a3c41046e154018928c5c491031b956"
          }
        },
        "27b2aa7198764d95a4a6d807fe59941e": {
          "model_module": "@jupyter-widgets/controls",
          "model_name": "HTMLModel",
          "state": {
            "_view_name": "HTMLView",
            "style": "IPY_MODEL_41c3f5fc6b5e4c8fb1ad9a4d58c51b0e",
            "_dom_classes": [],
            "description": "",
            "_model_name": "HTMLModel",
            "placeholder": "​",
            "_view_module": "@jupyter-widgets/controls",
            "_model_module_version": "1.5.0",
            "value": " 2/2 [1:03:34&lt;00:00, 1907.28s/it]",
            "_view_count": null,
            "_view_module_version": "1.5.0",
            "description_tooltip": null,
            "_model_module": "@jupyter-widgets/controls",
            "layout": "IPY_MODEL_8b9b9c158f77426ba580e6508578eb9a"
          }
        },
        "3750d48e361b46fa93ee2d1473ec9de6": {
          "model_module": "@jupyter-widgets/controls",
          "model_name": "ProgressStyleModel",
          "state": {
            "_view_name": "StyleView",
            "_model_name": "ProgressStyleModel",
            "description_width": "initial",
            "_view_module": "@jupyter-widgets/base",
            "_model_module_version": "1.5.0",
            "_view_count": null,
            "_view_module_version": "1.2.0",
            "bar_color": null,
            "_model_module": "@jupyter-widgets/controls"
          }
        },
        "5a3c41046e154018928c5c491031b956": {
          "model_module": "@jupyter-widgets/base",
          "model_name": "LayoutModel",
          "state": {
            "_view_name": "LayoutView",
            "grid_template_rows": null,
            "right": null,
            "justify_content": null,
            "_view_module": "@jupyter-widgets/base",
            "overflow": null,
            "_model_module_version": "1.2.0",
            "_view_count": null,
            "flex_flow": null,
            "width": null,
            "min_width": null,
            "border": null,
            "align_items": null,
            "bottom": null,
            "_model_module": "@jupyter-widgets/base",
            "top": null,
            "grid_column": null,
            "overflow_y": null,
            "overflow_x": null,
            "grid_auto_flow": null,
            "grid_area": null,
            "grid_template_columns": null,
            "flex": null,
            "_model_name": "LayoutModel",
            "justify_items": null,
            "grid_row": null,
            "max_height": null,
            "align_content": null,
            "visibility": null,
            "align_self": null,
            "height": null,
            "min_height": null,
            "padding": null,
            "grid_auto_rows": null,
            "grid_gap": null,
            "max_width": null,
            "order": null,
            "_view_module_version": "1.2.0",
            "grid_template_areas": null,
            "object_position": null,
            "object_fit": null,
            "grid_auto_columns": null,
            "margin": null,
            "display": null,
            "left": null
          }
        },
        "41c3f5fc6b5e4c8fb1ad9a4d58c51b0e": {
          "model_module": "@jupyter-widgets/controls",
          "model_name": "DescriptionStyleModel",
          "state": {
            "_view_name": "StyleView",
            "_model_name": "DescriptionStyleModel",
            "description_width": "",
            "_view_module": "@jupyter-widgets/base",
            "_model_module_version": "1.5.0",
            "_view_count": null,
            "_view_module_version": "1.2.0",
            "_model_module": "@jupyter-widgets/controls"
          }
        },
        "8b9b9c158f77426ba580e6508578eb9a": {
          "model_module": "@jupyter-widgets/base",
          "model_name": "LayoutModel",
          "state": {
            "_view_name": "LayoutView",
            "grid_template_rows": null,
            "right": null,
            "justify_content": null,
            "_view_module": "@jupyter-widgets/base",
            "overflow": null,
            "_model_module_version": "1.2.0",
            "_view_count": null,
            "flex_flow": null,
            "width": null,
            "min_width": null,
            "border": null,
            "align_items": null,
            "bottom": null,
            "_model_module": "@jupyter-widgets/base",
            "top": null,
            "grid_column": null,
            "overflow_y": null,
            "overflow_x": null,
            "grid_auto_flow": null,
            "grid_area": null,
            "grid_template_columns": null,
            "flex": null,
            "_model_name": "LayoutModel",
            "justify_items": null,
            "grid_row": null,
            "max_height": null,
            "align_content": null,
            "visibility": null,
            "align_self": null,
            "height": null,
            "min_height": null,
            "padding": null,
            "grid_auto_rows": null,
            "grid_gap": null,
            "max_width": null,
            "order": null,
            "_view_module_version": "1.2.0",
            "grid_template_areas": null,
            "object_position": null,
            "object_fit": null,
            "grid_auto_columns": null,
            "margin": null,
            "display": null,
            "left": null
          }
        },
        "a6638a7104b84eeda2d6b06a3078a42f": {
          "model_module": "@jupyter-widgets/controls",
          "model_name": "HBoxModel",
          "state": {
            "_view_name": "HBoxView",
            "_dom_classes": [],
            "_model_name": "HBoxModel",
            "_view_module": "@jupyter-widgets/controls",
            "_model_module_version": "1.5.0",
            "_view_count": null,
            "_view_module_version": "1.5.0",
            "box_style": "",
            "layout": "IPY_MODEL_efdf899bf4154ee098d3bd5f8807fd02",
            "_model_module": "@jupyter-widgets/controls",
            "children": [
              "IPY_MODEL_49f3f3a445c449c2b5cb898709659023",
              "IPY_MODEL_b1ba62b0d0a2483dbe11c1756ab41aed"
            ]
          }
        },
        "efdf899bf4154ee098d3bd5f8807fd02": {
          "model_module": "@jupyter-widgets/base",
          "model_name": "LayoutModel",
          "state": {
            "_view_name": "LayoutView",
            "grid_template_rows": null,
            "right": null,
            "justify_content": null,
            "_view_module": "@jupyter-widgets/base",
            "overflow": null,
            "_model_module_version": "1.2.0",
            "_view_count": null,
            "flex_flow": null,
            "width": null,
            "min_width": null,
            "border": null,
            "align_items": null,
            "bottom": null,
            "_model_module": "@jupyter-widgets/base",
            "top": null,
            "grid_column": null,
            "overflow_y": null,
            "overflow_x": null,
            "grid_auto_flow": null,
            "grid_area": null,
            "grid_template_columns": null,
            "flex": null,
            "_model_name": "LayoutModel",
            "justify_items": null,
            "grid_row": null,
            "max_height": null,
            "align_content": null,
            "visibility": null,
            "align_self": null,
            "height": null,
            "min_height": null,
            "padding": null,
            "grid_auto_rows": null,
            "grid_gap": null,
            "max_width": null,
            "order": null,
            "_view_module_version": "1.2.0",
            "grid_template_areas": null,
            "object_position": null,
            "object_fit": null,
            "grid_auto_columns": null,
            "margin": null,
            "display": null,
            "left": null
          }
        },
        "49f3f3a445c449c2b5cb898709659023": {
          "model_module": "@jupyter-widgets/controls",
          "model_name": "FloatProgressModel",
          "state": {
            "_view_name": "ProgressView",
            "style": "IPY_MODEL_85875da99a824c9aa348fb638e51713f",
            "_dom_classes": [],
            "description": "100%",
            "_model_name": "FloatProgressModel",
            "bar_style": "success",
            "max": 3,
            "_view_module": "@jupyter-widgets/controls",
            "_model_module_version": "1.5.0",
            "value": 3,
            "_view_count": null,
            "_view_module_version": "1.5.0",
            "orientation": "horizontal",
            "min": 0,
            "description_tooltip": null,
            "_model_module": "@jupyter-widgets/controls",
            "layout": "IPY_MODEL_56d6519dfb11440e8b4f548b5bdd930b"
          }
        },
        "b1ba62b0d0a2483dbe11c1756ab41aed": {
          "model_module": "@jupyter-widgets/controls",
          "model_name": "HTMLModel",
          "state": {
            "_view_name": "HTMLView",
            "style": "IPY_MODEL_f6918b9e41f84a0884f3509818c0362d",
            "_dom_classes": [],
            "description": "",
            "_model_name": "HTMLModel",
            "placeholder": "​",
            "_view_module": "@jupyter-widgets/controls",
            "_model_module_version": "1.5.0",
            "value": " 3/3 [02:07&lt;00:00, 42.41s/it]",
            "_view_count": null,
            "_view_module_version": "1.5.0",
            "description_tooltip": null,
            "_model_module": "@jupyter-widgets/controls",
            "layout": "IPY_MODEL_136dff13364845f7b2dbf909e004cb9d"
          }
        },
        "85875da99a824c9aa348fb638e51713f": {
          "model_module": "@jupyter-widgets/controls",
          "model_name": "ProgressStyleModel",
          "state": {
            "_view_name": "StyleView",
            "_model_name": "ProgressStyleModel",
            "description_width": "initial",
            "_view_module": "@jupyter-widgets/base",
            "_model_module_version": "1.5.0",
            "_view_count": null,
            "_view_module_version": "1.2.0",
            "bar_color": null,
            "_model_module": "@jupyter-widgets/controls"
          }
        },
        "56d6519dfb11440e8b4f548b5bdd930b": {
          "model_module": "@jupyter-widgets/base",
          "model_name": "LayoutModel",
          "state": {
            "_view_name": "LayoutView",
            "grid_template_rows": null,
            "right": null,
            "justify_content": null,
            "_view_module": "@jupyter-widgets/base",
            "overflow": null,
            "_model_module_version": "1.2.0",
            "_view_count": null,
            "flex_flow": null,
            "width": null,
            "min_width": null,
            "border": null,
            "align_items": null,
            "bottom": null,
            "_model_module": "@jupyter-widgets/base",
            "top": null,
            "grid_column": null,
            "overflow_y": null,
            "overflow_x": null,
            "grid_auto_flow": null,
            "grid_area": null,
            "grid_template_columns": null,
            "flex": null,
            "_model_name": "LayoutModel",
            "justify_items": null,
            "grid_row": null,
            "max_height": null,
            "align_content": null,
            "visibility": null,
            "align_self": null,
            "height": null,
            "min_height": null,
            "padding": null,
            "grid_auto_rows": null,
            "grid_gap": null,
            "max_width": null,
            "order": null,
            "_view_module_version": "1.2.0",
            "grid_template_areas": null,
            "object_position": null,
            "object_fit": null,
            "grid_auto_columns": null,
            "margin": null,
            "display": null,
            "left": null
          }
        },
        "f6918b9e41f84a0884f3509818c0362d": {
          "model_module": "@jupyter-widgets/controls",
          "model_name": "DescriptionStyleModel",
          "state": {
            "_view_name": "StyleView",
            "_model_name": "DescriptionStyleModel",
            "description_width": "",
            "_view_module": "@jupyter-widgets/base",
            "_model_module_version": "1.5.0",
            "_view_count": null,
            "_view_module_version": "1.2.0",
            "_model_module": "@jupyter-widgets/controls"
          }
        },
        "136dff13364845f7b2dbf909e004cb9d": {
          "model_module": "@jupyter-widgets/base",
          "model_name": "LayoutModel",
          "state": {
            "_view_name": "LayoutView",
            "grid_template_rows": null,
            "right": null,
            "justify_content": null,
            "_view_module": "@jupyter-widgets/base",
            "overflow": null,
            "_model_module_version": "1.2.0",
            "_view_count": null,
            "flex_flow": null,
            "width": null,
            "min_width": null,
            "border": null,
            "align_items": null,
            "bottom": null,
            "_model_module": "@jupyter-widgets/base",
            "top": null,
            "grid_column": null,
            "overflow_y": null,
            "overflow_x": null,
            "grid_auto_flow": null,
            "grid_area": null,
            "grid_template_columns": null,
            "flex": null,
            "_model_name": "LayoutModel",
            "justify_items": null,
            "grid_row": null,
            "max_height": null,
            "align_content": null,
            "visibility": null,
            "align_self": null,
            "height": null,
            "min_height": null,
            "padding": null,
            "grid_auto_rows": null,
            "grid_gap": null,
            "max_width": null,
            "order": null,
            "_view_module_version": "1.2.0",
            "grid_template_areas": null,
            "object_position": null,
            "object_fit": null,
            "grid_auto_columns": null,
            "margin": null,
            "display": null,
            "left": null
          }
        },
        "26cac233480d42848dfaf1843c097711": {
          "model_module": "@jupyter-widgets/controls",
          "model_name": "HBoxModel",
          "state": {
            "_view_name": "HBoxView",
            "_dom_classes": [],
            "_model_name": "HBoxModel",
            "_view_module": "@jupyter-widgets/controls",
            "_model_module_version": "1.5.0",
            "_view_count": null,
            "_view_module_version": "1.5.0",
            "box_style": "",
            "layout": "IPY_MODEL_71bf03b1ef4c465e9b1a559bd57b752a",
            "_model_module": "@jupyter-widgets/controls",
            "children": [
              "IPY_MODEL_a172b9e9ab24419ab1f049d5eb19eb7d",
              "IPY_MODEL_de1558983ec94288919cf0a66fb95265"
            ]
          }
        },
        "71bf03b1ef4c465e9b1a559bd57b752a": {
          "model_module": "@jupyter-widgets/base",
          "model_name": "LayoutModel",
          "state": {
            "_view_name": "LayoutView",
            "grid_template_rows": null,
            "right": null,
            "justify_content": null,
            "_view_module": "@jupyter-widgets/base",
            "overflow": null,
            "_model_module_version": "1.2.0",
            "_view_count": null,
            "flex_flow": null,
            "width": null,
            "min_width": null,
            "border": null,
            "align_items": null,
            "bottom": null,
            "_model_module": "@jupyter-widgets/base",
            "top": null,
            "grid_column": null,
            "overflow_y": null,
            "overflow_x": null,
            "grid_auto_flow": null,
            "grid_area": null,
            "grid_template_columns": null,
            "flex": null,
            "_model_name": "LayoutModel",
            "justify_items": null,
            "grid_row": null,
            "max_height": null,
            "align_content": null,
            "visibility": null,
            "align_self": null,
            "height": null,
            "min_height": null,
            "padding": null,
            "grid_auto_rows": null,
            "grid_gap": null,
            "max_width": null,
            "order": null,
            "_view_module_version": "1.2.0",
            "grid_template_areas": null,
            "object_position": null,
            "object_fit": null,
            "grid_auto_columns": null,
            "margin": null,
            "display": null,
            "left": null
          }
        },
        "a172b9e9ab24419ab1f049d5eb19eb7d": {
          "model_module": "@jupyter-widgets/controls",
          "model_name": "FloatProgressModel",
          "state": {
            "_view_name": "ProgressView",
            "style": "IPY_MODEL_b836a630c4aa45bfb67bc66d85e343e6",
            "_dom_classes": [],
            "description": "100%",
            "_model_name": "FloatProgressModel",
            "bar_style": "success",
            "max": 8,
            "_view_module": "@jupyter-widgets/controls",
            "_model_module_version": "1.5.0",
            "value": 8,
            "_view_count": null,
            "_view_module_version": "1.5.0",
            "orientation": "horizontal",
            "min": 0,
            "description_tooltip": null,
            "_model_module": "@jupyter-widgets/controls",
            "layout": "IPY_MODEL_20ee41268daf4ee69b0b44a6bd5d5922"
          }
        },
        "de1558983ec94288919cf0a66fb95265": {
          "model_module": "@jupyter-widgets/controls",
          "model_name": "HTMLModel",
          "state": {
            "_view_name": "HTMLView",
            "style": "IPY_MODEL_d180c9a372084afdae5b5240f0ba0d0c",
            "_dom_classes": [],
            "description": "",
            "_model_name": "HTMLModel",
            "placeholder": "​",
            "_view_module": "@jupyter-widgets/controls",
            "_model_module_version": "1.5.0",
            "value": " 8/8 [01:13&lt;00:00,  9.19s/it]",
            "_view_count": null,
            "_view_module_version": "1.5.0",
            "description_tooltip": null,
            "_model_module": "@jupyter-widgets/controls",
            "layout": "IPY_MODEL_52b99aee1a5a47c5815606dc74398a2c"
          }
        },
        "b836a630c4aa45bfb67bc66d85e343e6": {
          "model_module": "@jupyter-widgets/controls",
          "model_name": "ProgressStyleModel",
          "state": {
            "_view_name": "StyleView",
            "_model_name": "ProgressStyleModel",
            "description_width": "initial",
            "_view_module": "@jupyter-widgets/base",
            "_model_module_version": "1.5.0",
            "_view_count": null,
            "_view_module_version": "1.2.0",
            "bar_color": null,
            "_model_module": "@jupyter-widgets/controls"
          }
        },
        "20ee41268daf4ee69b0b44a6bd5d5922": {
          "model_module": "@jupyter-widgets/base",
          "model_name": "LayoutModel",
          "state": {
            "_view_name": "LayoutView",
            "grid_template_rows": null,
            "right": null,
            "justify_content": null,
            "_view_module": "@jupyter-widgets/base",
            "overflow": null,
            "_model_module_version": "1.2.0",
            "_view_count": null,
            "flex_flow": null,
            "width": null,
            "min_width": null,
            "border": null,
            "align_items": null,
            "bottom": null,
            "_model_module": "@jupyter-widgets/base",
            "top": null,
            "grid_column": null,
            "overflow_y": null,
            "overflow_x": null,
            "grid_auto_flow": null,
            "grid_area": null,
            "grid_template_columns": null,
            "flex": null,
            "_model_name": "LayoutModel",
            "justify_items": null,
            "grid_row": null,
            "max_height": null,
            "align_content": null,
            "visibility": null,
            "align_self": null,
            "height": null,
            "min_height": null,
            "padding": null,
            "grid_auto_rows": null,
            "grid_gap": null,
            "max_width": null,
            "order": null,
            "_view_module_version": "1.2.0",
            "grid_template_areas": null,
            "object_position": null,
            "object_fit": null,
            "grid_auto_columns": null,
            "margin": null,
            "display": null,
            "left": null
          }
        },
        "d180c9a372084afdae5b5240f0ba0d0c": {
          "model_module": "@jupyter-widgets/controls",
          "model_name": "DescriptionStyleModel",
          "state": {
            "_view_name": "StyleView",
            "_model_name": "DescriptionStyleModel",
            "description_width": "",
            "_view_module": "@jupyter-widgets/base",
            "_model_module_version": "1.5.0",
            "_view_count": null,
            "_view_module_version": "1.2.0",
            "_model_module": "@jupyter-widgets/controls"
          }
        },
        "52b99aee1a5a47c5815606dc74398a2c": {
          "model_module": "@jupyter-widgets/base",
          "model_name": "LayoutModel",
          "state": {
            "_view_name": "LayoutView",
            "grid_template_rows": null,
            "right": null,
            "justify_content": null,
            "_view_module": "@jupyter-widgets/base",
            "overflow": null,
            "_model_module_version": "1.2.0",
            "_view_count": null,
            "flex_flow": null,
            "width": null,
            "min_width": null,
            "border": null,
            "align_items": null,
            "bottom": null,
            "_model_module": "@jupyter-widgets/base",
            "top": null,
            "grid_column": null,
            "overflow_y": null,
            "overflow_x": null,
            "grid_auto_flow": null,
            "grid_area": null,
            "grid_template_columns": null,
            "flex": null,
            "_model_name": "LayoutModel",
            "justify_items": null,
            "grid_row": null,
            "max_height": null,
            "align_content": null,
            "visibility": null,
            "align_self": null,
            "height": null,
            "min_height": null,
            "padding": null,
            "grid_auto_rows": null,
            "grid_gap": null,
            "max_width": null,
            "order": null,
            "_view_module_version": "1.2.0",
            "grid_template_areas": null,
            "object_position": null,
            "object_fit": null,
            "grid_auto_columns": null,
            "margin": null,
            "display": null,
            "left": null
          }
        },
        "19b6e041caa24788aece3dc85d015cfc": {
          "model_module": "@jupyter-widgets/controls",
          "model_name": "HBoxModel",
          "state": {
            "_view_name": "HBoxView",
            "_dom_classes": [],
            "_model_name": "HBoxModel",
            "_view_module": "@jupyter-widgets/controls",
            "_model_module_version": "1.5.0",
            "_view_count": null,
            "_view_module_version": "1.5.0",
            "box_style": "",
            "layout": "IPY_MODEL_4dc1688f7502463a8f2dbddf07a420e9",
            "_model_module": "@jupyter-widgets/controls",
            "children": [
              "IPY_MODEL_24f8961bdb4e4fa998bdb4a07e163cac",
              "IPY_MODEL_f991540e93c846be9f4e9aa31033d824"
            ]
          }
        },
        "4dc1688f7502463a8f2dbddf07a420e9": {
          "model_module": "@jupyter-widgets/base",
          "model_name": "LayoutModel",
          "state": {
            "_view_name": "LayoutView",
            "grid_template_rows": null,
            "right": null,
            "justify_content": null,
            "_view_module": "@jupyter-widgets/base",
            "overflow": null,
            "_model_module_version": "1.2.0",
            "_view_count": null,
            "flex_flow": null,
            "width": null,
            "min_width": null,
            "border": null,
            "align_items": null,
            "bottom": null,
            "_model_module": "@jupyter-widgets/base",
            "top": null,
            "grid_column": null,
            "overflow_y": null,
            "overflow_x": null,
            "grid_auto_flow": null,
            "grid_area": null,
            "grid_template_columns": null,
            "flex": null,
            "_model_name": "LayoutModel",
            "justify_items": null,
            "grid_row": null,
            "max_height": null,
            "align_content": null,
            "visibility": null,
            "align_self": null,
            "height": null,
            "min_height": null,
            "padding": null,
            "grid_auto_rows": null,
            "grid_gap": null,
            "max_width": null,
            "order": null,
            "_view_module_version": "1.2.0",
            "grid_template_areas": null,
            "object_position": null,
            "object_fit": null,
            "grid_auto_columns": null,
            "margin": null,
            "display": null,
            "left": null
          }
        },
        "24f8961bdb4e4fa998bdb4a07e163cac": {
          "model_module": "@jupyter-widgets/controls",
          "model_name": "FloatProgressModel",
          "state": {
            "_view_name": "ProgressView",
            "style": "IPY_MODEL_2e45dc2b86d64c4eabd334a8c5514162",
            "_dom_classes": [],
            "description": "100%",
            "_model_name": "FloatProgressModel",
            "bar_style": "success",
            "max": 6,
            "_view_module": "@jupyter-widgets/controls",
            "_model_module_version": "1.5.0",
            "value": 6,
            "_view_count": null,
            "_view_module_version": "1.5.0",
            "orientation": "horizontal",
            "min": 0,
            "description_tooltip": null,
            "_model_module": "@jupyter-widgets/controls",
            "layout": "IPY_MODEL_66d1008ca6e741d3a96bcb5aafdf2fb8"
          }
        },
        "f991540e93c846be9f4e9aa31033d824": {
          "model_module": "@jupyter-widgets/controls",
          "model_name": "HTMLModel",
          "state": {
            "_view_name": "HTMLView",
            "style": "IPY_MODEL_706da63d1f8f4758b9b81eeb68c6d758",
            "_dom_classes": [],
            "description": "",
            "_model_name": "HTMLModel",
            "placeholder": "​",
            "_view_module": "@jupyter-widgets/controls",
            "_model_module_version": "1.5.0",
            "value": " 6/6 [36:14&lt;00:00, 362.36s/it]",
            "_view_count": null,
            "_view_module_version": "1.5.0",
            "description_tooltip": null,
            "_model_module": "@jupyter-widgets/controls",
            "layout": "IPY_MODEL_e780a11fe06e4141a6a20b4eae7c0a17"
          }
        },
        "2e45dc2b86d64c4eabd334a8c5514162": {
          "model_module": "@jupyter-widgets/controls",
          "model_name": "ProgressStyleModel",
          "state": {
            "_view_name": "StyleView",
            "_model_name": "ProgressStyleModel",
            "description_width": "initial",
            "_view_module": "@jupyter-widgets/base",
            "_model_module_version": "1.5.0",
            "_view_count": null,
            "_view_module_version": "1.2.0",
            "bar_color": null,
            "_model_module": "@jupyter-widgets/controls"
          }
        },
        "66d1008ca6e741d3a96bcb5aafdf2fb8": {
          "model_module": "@jupyter-widgets/base",
          "model_name": "LayoutModel",
          "state": {
            "_view_name": "LayoutView",
            "grid_template_rows": null,
            "right": null,
            "justify_content": null,
            "_view_module": "@jupyter-widgets/base",
            "overflow": null,
            "_model_module_version": "1.2.0",
            "_view_count": null,
            "flex_flow": null,
            "width": null,
            "min_width": null,
            "border": null,
            "align_items": null,
            "bottom": null,
            "_model_module": "@jupyter-widgets/base",
            "top": null,
            "grid_column": null,
            "overflow_y": null,
            "overflow_x": null,
            "grid_auto_flow": null,
            "grid_area": null,
            "grid_template_columns": null,
            "flex": null,
            "_model_name": "LayoutModel",
            "justify_items": null,
            "grid_row": null,
            "max_height": null,
            "align_content": null,
            "visibility": null,
            "align_self": null,
            "height": null,
            "min_height": null,
            "padding": null,
            "grid_auto_rows": null,
            "grid_gap": null,
            "max_width": null,
            "order": null,
            "_view_module_version": "1.2.0",
            "grid_template_areas": null,
            "object_position": null,
            "object_fit": null,
            "grid_auto_columns": null,
            "margin": null,
            "display": null,
            "left": null
          }
        },
        "706da63d1f8f4758b9b81eeb68c6d758": {
          "model_module": "@jupyter-widgets/controls",
          "model_name": "DescriptionStyleModel",
          "state": {
            "_view_name": "StyleView",
            "_model_name": "DescriptionStyleModel",
            "description_width": "",
            "_view_module": "@jupyter-widgets/base",
            "_model_module_version": "1.5.0",
            "_view_count": null,
            "_view_module_version": "1.2.0",
            "_model_module": "@jupyter-widgets/controls"
          }
        },
        "e780a11fe06e4141a6a20b4eae7c0a17": {
          "model_module": "@jupyter-widgets/base",
          "model_name": "LayoutModel",
          "state": {
            "_view_name": "LayoutView",
            "grid_template_rows": null,
            "right": null,
            "justify_content": null,
            "_view_module": "@jupyter-widgets/base",
            "overflow": null,
            "_model_module_version": "1.2.0",
            "_view_count": null,
            "flex_flow": null,
            "width": null,
            "min_width": null,
            "border": null,
            "align_items": null,
            "bottom": null,
            "_model_module": "@jupyter-widgets/base",
            "top": null,
            "grid_column": null,
            "overflow_y": null,
            "overflow_x": null,
            "grid_auto_flow": null,
            "grid_area": null,
            "grid_template_columns": null,
            "flex": null,
            "_model_name": "LayoutModel",
            "justify_items": null,
            "grid_row": null,
            "max_height": null,
            "align_content": null,
            "visibility": null,
            "align_self": null,
            "height": null,
            "min_height": null,
            "padding": null,
            "grid_auto_rows": null,
            "grid_gap": null,
            "max_width": null,
            "order": null,
            "_view_module_version": "1.2.0",
            "grid_template_areas": null,
            "object_position": null,
            "object_fit": null,
            "grid_auto_columns": null,
            "margin": null,
            "display": null,
            "left": null
          }
        },
        "42563147fb8c4ccfb40653d46785ba09": {
          "model_module": "@jupyter-widgets/controls",
          "model_name": "HBoxModel",
          "state": {
            "_view_name": "HBoxView",
            "_dom_classes": [],
            "_model_name": "HBoxModel",
            "_view_module": "@jupyter-widgets/controls",
            "_model_module_version": "1.5.0",
            "_view_count": null,
            "_view_module_version": "1.5.0",
            "box_style": "",
            "layout": "IPY_MODEL_77e1ef8ab12447e8940850d4a4fca6ee",
            "_model_module": "@jupyter-widgets/controls",
            "children": [
              "IPY_MODEL_ccca4da823fb47a994efe45327973016",
              "IPY_MODEL_f0d665b5f0ac4d34bf4e48525ab5b029"
            ]
          }
        },
        "77e1ef8ab12447e8940850d4a4fca6ee": {
          "model_module": "@jupyter-widgets/base",
          "model_name": "LayoutModel",
          "state": {
            "_view_name": "LayoutView",
            "grid_template_rows": null,
            "right": null,
            "justify_content": null,
            "_view_module": "@jupyter-widgets/base",
            "overflow": null,
            "_model_module_version": "1.2.0",
            "_view_count": null,
            "flex_flow": null,
            "width": null,
            "min_width": null,
            "border": null,
            "align_items": null,
            "bottom": null,
            "_model_module": "@jupyter-widgets/base",
            "top": null,
            "grid_column": null,
            "overflow_y": null,
            "overflow_x": null,
            "grid_auto_flow": null,
            "grid_area": null,
            "grid_template_columns": null,
            "flex": null,
            "_model_name": "LayoutModel",
            "justify_items": null,
            "grid_row": null,
            "max_height": null,
            "align_content": null,
            "visibility": null,
            "align_self": null,
            "height": null,
            "min_height": null,
            "padding": null,
            "grid_auto_rows": null,
            "grid_gap": null,
            "max_width": null,
            "order": null,
            "_view_module_version": "1.2.0",
            "grid_template_areas": null,
            "object_position": null,
            "object_fit": null,
            "grid_auto_columns": null,
            "margin": null,
            "display": null,
            "left": null
          }
        },
        "ccca4da823fb47a994efe45327973016": {
          "model_module": "@jupyter-widgets/controls",
          "model_name": "FloatProgressModel",
          "state": {
            "_view_name": "ProgressView",
            "style": "IPY_MODEL_b06c54487ba24dbf8a0d0dd0d33d3c5f",
            "_dom_classes": [],
            "description": "100%",
            "_model_name": "FloatProgressModel",
            "bar_style": "success",
            "max": 4,
            "_view_module": "@jupyter-widgets/controls",
            "_model_module_version": "1.5.0",
            "value": 4,
            "_view_count": null,
            "_view_module_version": "1.5.0",
            "orientation": "horizontal",
            "min": 0,
            "description_tooltip": null,
            "_model_module": "@jupyter-widgets/controls",
            "layout": "IPY_MODEL_c35e00d3a7764200824aabb5997afa73"
          }
        },
        "f0d665b5f0ac4d34bf4e48525ab5b029": {
          "model_module": "@jupyter-widgets/controls",
          "model_name": "HTMLModel",
          "state": {
            "_view_name": "HTMLView",
            "style": "IPY_MODEL_24e464472fa34718ae6e4bb6e885b183",
            "_dom_classes": [],
            "description": "",
            "_model_name": "HTMLModel",
            "placeholder": "​",
            "_view_module": "@jupyter-widgets/controls",
            "_model_module_version": "1.5.0",
            "value": " 4/4 [06:34&lt;00:00, 98.75s/it]",
            "_view_count": null,
            "_view_module_version": "1.5.0",
            "description_tooltip": null,
            "_model_module": "@jupyter-widgets/controls",
            "layout": "IPY_MODEL_0b8040e5f8ab4dee85cb37f82b1b61f3"
          }
        },
        "b06c54487ba24dbf8a0d0dd0d33d3c5f": {
          "model_module": "@jupyter-widgets/controls",
          "model_name": "ProgressStyleModel",
          "state": {
            "_view_name": "StyleView",
            "_model_name": "ProgressStyleModel",
            "description_width": "initial",
            "_view_module": "@jupyter-widgets/base",
            "_model_module_version": "1.5.0",
            "_view_count": null,
            "_view_module_version": "1.2.0",
            "bar_color": null,
            "_model_module": "@jupyter-widgets/controls"
          }
        },
        "c35e00d3a7764200824aabb5997afa73": {
          "model_module": "@jupyter-widgets/base",
          "model_name": "LayoutModel",
          "state": {
            "_view_name": "LayoutView",
            "grid_template_rows": null,
            "right": null,
            "justify_content": null,
            "_view_module": "@jupyter-widgets/base",
            "overflow": null,
            "_model_module_version": "1.2.0",
            "_view_count": null,
            "flex_flow": null,
            "width": null,
            "min_width": null,
            "border": null,
            "align_items": null,
            "bottom": null,
            "_model_module": "@jupyter-widgets/base",
            "top": null,
            "grid_column": null,
            "overflow_y": null,
            "overflow_x": null,
            "grid_auto_flow": null,
            "grid_area": null,
            "grid_template_columns": null,
            "flex": null,
            "_model_name": "LayoutModel",
            "justify_items": null,
            "grid_row": null,
            "max_height": null,
            "align_content": null,
            "visibility": null,
            "align_self": null,
            "height": null,
            "min_height": null,
            "padding": null,
            "grid_auto_rows": null,
            "grid_gap": null,
            "max_width": null,
            "order": null,
            "_view_module_version": "1.2.0",
            "grid_template_areas": null,
            "object_position": null,
            "object_fit": null,
            "grid_auto_columns": null,
            "margin": null,
            "display": null,
            "left": null
          }
        },
        "24e464472fa34718ae6e4bb6e885b183": {
          "model_module": "@jupyter-widgets/controls",
          "model_name": "DescriptionStyleModel",
          "state": {
            "_view_name": "StyleView",
            "_model_name": "DescriptionStyleModel",
            "description_width": "",
            "_view_module": "@jupyter-widgets/base",
            "_model_module_version": "1.5.0",
            "_view_count": null,
            "_view_module_version": "1.2.0",
            "_model_module": "@jupyter-widgets/controls"
          }
        },
        "0b8040e5f8ab4dee85cb37f82b1b61f3": {
          "model_module": "@jupyter-widgets/base",
          "model_name": "LayoutModel",
          "state": {
            "_view_name": "LayoutView",
            "grid_template_rows": null,
            "right": null,
            "justify_content": null,
            "_view_module": "@jupyter-widgets/base",
            "overflow": null,
            "_model_module_version": "1.2.0",
            "_view_count": null,
            "flex_flow": null,
            "width": null,
            "min_width": null,
            "border": null,
            "align_items": null,
            "bottom": null,
            "_model_module": "@jupyter-widgets/base",
            "top": null,
            "grid_column": null,
            "overflow_y": null,
            "overflow_x": null,
            "grid_auto_flow": null,
            "grid_area": null,
            "grid_template_columns": null,
            "flex": null,
            "_model_name": "LayoutModel",
            "justify_items": null,
            "grid_row": null,
            "max_height": null,
            "align_content": null,
            "visibility": null,
            "align_self": null,
            "height": null,
            "min_height": null,
            "padding": null,
            "grid_auto_rows": null,
            "grid_gap": null,
            "max_width": null,
            "order": null,
            "_view_module_version": "1.2.0",
            "grid_template_areas": null,
            "object_position": null,
            "object_fit": null,
            "grid_auto_columns": null,
            "margin": null,
            "display": null,
            "left": null
          }
        },
        "35825555e75f49b688973f1d9667d681": {
          "model_module": "@jupyter-widgets/controls",
          "model_name": "HBoxModel",
          "state": {
            "_view_name": "HBoxView",
            "_dom_classes": [],
            "_model_name": "HBoxModel",
            "_view_module": "@jupyter-widgets/controls",
            "_model_module_version": "1.5.0",
            "_view_count": null,
            "_view_module_version": "1.5.0",
            "box_style": "",
            "layout": "IPY_MODEL_091a1c867c48447b9b0bd22b6f06cc51",
            "_model_module": "@jupyter-widgets/controls",
            "children": [
              "IPY_MODEL_2f0273399d464cfba89fd657168b77e9",
              "IPY_MODEL_86b0c9f7784e49bf8807f34283c6ee85"
            ]
          }
        },
        "091a1c867c48447b9b0bd22b6f06cc51": {
          "model_module": "@jupyter-widgets/base",
          "model_name": "LayoutModel",
          "state": {
            "_view_name": "LayoutView",
            "grid_template_rows": null,
            "right": null,
            "justify_content": null,
            "_view_module": "@jupyter-widgets/base",
            "overflow": null,
            "_model_module_version": "1.2.0",
            "_view_count": null,
            "flex_flow": null,
            "width": null,
            "min_width": null,
            "border": null,
            "align_items": null,
            "bottom": null,
            "_model_module": "@jupyter-widgets/base",
            "top": null,
            "grid_column": null,
            "overflow_y": null,
            "overflow_x": null,
            "grid_auto_flow": null,
            "grid_area": null,
            "grid_template_columns": null,
            "flex": null,
            "_model_name": "LayoutModel",
            "justify_items": null,
            "grid_row": null,
            "max_height": null,
            "align_content": null,
            "visibility": null,
            "align_self": null,
            "height": null,
            "min_height": null,
            "padding": null,
            "grid_auto_rows": null,
            "grid_gap": null,
            "max_width": null,
            "order": null,
            "_view_module_version": "1.2.0",
            "grid_template_areas": null,
            "object_position": null,
            "object_fit": null,
            "grid_auto_columns": null,
            "margin": null,
            "display": null,
            "left": null
          }
        },
        "2f0273399d464cfba89fd657168b77e9": {
          "model_module": "@jupyter-widgets/controls",
          "model_name": "FloatProgressModel",
          "state": {
            "_view_name": "ProgressView",
            "style": "IPY_MODEL_33767acbc6b14a7b967281b8ffa4d088",
            "_dom_classes": [],
            "description": "100%",
            "_model_name": "FloatProgressModel",
            "bar_style": "success",
            "max": 10,
            "_view_module": "@jupyter-widgets/controls",
            "_model_module_version": "1.5.0",
            "value": 10,
            "_view_count": null,
            "_view_module_version": "1.5.0",
            "orientation": "horizontal",
            "min": 0,
            "description_tooltip": null,
            "_model_module": "@jupyter-widgets/controls",
            "layout": "IPY_MODEL_add254a2d610410c96f50f2b8468f17b"
          }
        },
        "86b0c9f7784e49bf8807f34283c6ee85": {
          "model_module": "@jupyter-widgets/controls",
          "model_name": "HTMLModel",
          "state": {
            "_view_name": "HTMLView",
            "style": "IPY_MODEL_dbc4d54d405e4af08c6076daae82f15c",
            "_dom_classes": [],
            "description": "",
            "_model_name": "HTMLModel",
            "placeholder": "​",
            "_view_module": "@jupyter-widgets/controls",
            "_model_module_version": "1.5.0",
            "value": " 10/10 [31:00&lt;00:00, 186.06s/it]",
            "_view_count": null,
            "_view_module_version": "1.5.0",
            "description_tooltip": null,
            "_model_module": "@jupyter-widgets/controls",
            "layout": "IPY_MODEL_387728856edb4d6a9d6d96079089c15e"
          }
        },
        "33767acbc6b14a7b967281b8ffa4d088": {
          "model_module": "@jupyter-widgets/controls",
          "model_name": "ProgressStyleModel",
          "state": {
            "_view_name": "StyleView",
            "_model_name": "ProgressStyleModel",
            "description_width": "initial",
            "_view_module": "@jupyter-widgets/base",
            "_model_module_version": "1.5.0",
            "_view_count": null,
            "_view_module_version": "1.2.0",
            "bar_color": null,
            "_model_module": "@jupyter-widgets/controls"
          }
        },
        "add254a2d610410c96f50f2b8468f17b": {
          "model_module": "@jupyter-widgets/base",
          "model_name": "LayoutModel",
          "state": {
            "_view_name": "LayoutView",
            "grid_template_rows": null,
            "right": null,
            "justify_content": null,
            "_view_module": "@jupyter-widgets/base",
            "overflow": null,
            "_model_module_version": "1.2.0",
            "_view_count": null,
            "flex_flow": null,
            "width": null,
            "min_width": null,
            "border": null,
            "align_items": null,
            "bottom": null,
            "_model_module": "@jupyter-widgets/base",
            "top": null,
            "grid_column": null,
            "overflow_y": null,
            "overflow_x": null,
            "grid_auto_flow": null,
            "grid_area": null,
            "grid_template_columns": null,
            "flex": null,
            "_model_name": "LayoutModel",
            "justify_items": null,
            "grid_row": null,
            "max_height": null,
            "align_content": null,
            "visibility": null,
            "align_self": null,
            "height": null,
            "min_height": null,
            "padding": null,
            "grid_auto_rows": null,
            "grid_gap": null,
            "max_width": null,
            "order": null,
            "_view_module_version": "1.2.0",
            "grid_template_areas": null,
            "object_position": null,
            "object_fit": null,
            "grid_auto_columns": null,
            "margin": null,
            "display": null,
            "left": null
          }
        },
        "dbc4d54d405e4af08c6076daae82f15c": {
          "model_module": "@jupyter-widgets/controls",
          "model_name": "DescriptionStyleModel",
          "state": {
            "_view_name": "StyleView",
            "_model_name": "DescriptionStyleModel",
            "description_width": "",
            "_view_module": "@jupyter-widgets/base",
            "_model_module_version": "1.5.0",
            "_view_count": null,
            "_view_module_version": "1.2.0",
            "_model_module": "@jupyter-widgets/controls"
          }
        },
        "387728856edb4d6a9d6d96079089c15e": {
          "model_module": "@jupyter-widgets/base",
          "model_name": "LayoutModel",
          "state": {
            "_view_name": "LayoutView",
            "grid_template_rows": null,
            "right": null,
            "justify_content": null,
            "_view_module": "@jupyter-widgets/base",
            "overflow": null,
            "_model_module_version": "1.2.0",
            "_view_count": null,
            "flex_flow": null,
            "width": null,
            "min_width": null,
            "border": null,
            "align_items": null,
            "bottom": null,
            "_model_module": "@jupyter-widgets/base",
            "top": null,
            "grid_column": null,
            "overflow_y": null,
            "overflow_x": null,
            "grid_auto_flow": null,
            "grid_area": null,
            "grid_template_columns": null,
            "flex": null,
            "_model_name": "LayoutModel",
            "justify_items": null,
            "grid_row": null,
            "max_height": null,
            "align_content": null,
            "visibility": null,
            "align_self": null,
            "height": null,
            "min_height": null,
            "padding": null,
            "grid_auto_rows": null,
            "grid_gap": null,
            "max_width": null,
            "order": null,
            "_view_module_version": "1.2.0",
            "grid_template_areas": null,
            "object_position": null,
            "object_fit": null,
            "grid_auto_columns": null,
            "margin": null,
            "display": null,
            "left": null
          }
        },
        "eb6deec53fe64e17ac9541c6da774f59": {
          "model_module": "@jupyter-widgets/controls",
          "model_name": "HBoxModel",
          "state": {
            "_view_name": "HBoxView",
            "_dom_classes": [],
            "_model_name": "HBoxModel",
            "_view_module": "@jupyter-widgets/controls",
            "_model_module_version": "1.5.0",
            "_view_count": null,
            "_view_module_version": "1.5.0",
            "box_style": "",
            "layout": "IPY_MODEL_41a114e6273a461598fc52979e36ab0e",
            "_model_module": "@jupyter-widgets/controls",
            "children": [
              "IPY_MODEL_026f8a69d87d460a91f29f4c4244de5a",
              "IPY_MODEL_fd49d52a022140bdb57aba9ae7b124e8"
            ]
          }
        },
        "41a114e6273a461598fc52979e36ab0e": {
          "model_module": "@jupyter-widgets/base",
          "model_name": "LayoutModel",
          "state": {
            "_view_name": "LayoutView",
            "grid_template_rows": null,
            "right": null,
            "justify_content": null,
            "_view_module": "@jupyter-widgets/base",
            "overflow": null,
            "_model_module_version": "1.2.0",
            "_view_count": null,
            "flex_flow": null,
            "width": null,
            "min_width": null,
            "border": null,
            "align_items": null,
            "bottom": null,
            "_model_module": "@jupyter-widgets/base",
            "top": null,
            "grid_column": null,
            "overflow_y": null,
            "overflow_x": null,
            "grid_auto_flow": null,
            "grid_area": null,
            "grid_template_columns": null,
            "flex": null,
            "_model_name": "LayoutModel",
            "justify_items": null,
            "grid_row": null,
            "max_height": null,
            "align_content": null,
            "visibility": null,
            "align_self": null,
            "height": null,
            "min_height": null,
            "padding": null,
            "grid_auto_rows": null,
            "grid_gap": null,
            "max_width": null,
            "order": null,
            "_view_module_version": "1.2.0",
            "grid_template_areas": null,
            "object_position": null,
            "object_fit": null,
            "grid_auto_columns": null,
            "margin": null,
            "display": null,
            "left": null
          }
        },
        "026f8a69d87d460a91f29f4c4244de5a": {
          "model_module": "@jupyter-widgets/controls",
          "model_name": "FloatProgressModel",
          "state": {
            "_view_name": "ProgressView",
            "style": "IPY_MODEL_e4c74f79ab9a47dea6804f3a125c51fd",
            "_dom_classes": [],
            "description": "100%",
            "_model_name": "FloatProgressModel",
            "bar_style": "success",
            "max": 10,
            "_view_module": "@jupyter-widgets/controls",
            "_model_module_version": "1.5.0",
            "value": 10,
            "_view_count": null,
            "_view_module_version": "1.5.0",
            "orientation": "horizontal",
            "min": 0,
            "description_tooltip": null,
            "_model_module": "@jupyter-widgets/controls",
            "layout": "IPY_MODEL_756d1d33d22b4fedaed1e90f5f6c938d"
          }
        },
        "fd49d52a022140bdb57aba9ae7b124e8": {
          "model_module": "@jupyter-widgets/controls",
          "model_name": "HTMLModel",
          "state": {
            "_view_name": "HTMLView",
            "style": "IPY_MODEL_c11563f6573e4d81981dcae031070c73",
            "_dom_classes": [],
            "description": "",
            "_model_name": "HTMLModel",
            "placeholder": "​",
            "_view_module": "@jupyter-widgets/controls",
            "_model_module_version": "1.5.0",
            "value": " 10/10 [20:49&lt;00:00, 125.00s/it]",
            "_view_count": null,
            "_view_module_version": "1.5.0",
            "description_tooltip": null,
            "_model_module": "@jupyter-widgets/controls",
            "layout": "IPY_MODEL_27f39886871e47a99c89ecbf2ac6bf76"
          }
        },
        "e4c74f79ab9a47dea6804f3a125c51fd": {
          "model_module": "@jupyter-widgets/controls",
          "model_name": "ProgressStyleModel",
          "state": {
            "_view_name": "StyleView",
            "_model_name": "ProgressStyleModel",
            "description_width": "initial",
            "_view_module": "@jupyter-widgets/base",
            "_model_module_version": "1.5.0",
            "_view_count": null,
            "_view_module_version": "1.2.0",
            "bar_color": null,
            "_model_module": "@jupyter-widgets/controls"
          }
        },
        "756d1d33d22b4fedaed1e90f5f6c938d": {
          "model_module": "@jupyter-widgets/base",
          "model_name": "LayoutModel",
          "state": {
            "_view_name": "LayoutView",
            "grid_template_rows": null,
            "right": null,
            "justify_content": null,
            "_view_module": "@jupyter-widgets/base",
            "overflow": null,
            "_model_module_version": "1.2.0",
            "_view_count": null,
            "flex_flow": null,
            "width": null,
            "min_width": null,
            "border": null,
            "align_items": null,
            "bottom": null,
            "_model_module": "@jupyter-widgets/base",
            "top": null,
            "grid_column": null,
            "overflow_y": null,
            "overflow_x": null,
            "grid_auto_flow": null,
            "grid_area": null,
            "grid_template_columns": null,
            "flex": null,
            "_model_name": "LayoutModel",
            "justify_items": null,
            "grid_row": null,
            "max_height": null,
            "align_content": null,
            "visibility": null,
            "align_self": null,
            "height": null,
            "min_height": null,
            "padding": null,
            "grid_auto_rows": null,
            "grid_gap": null,
            "max_width": null,
            "order": null,
            "_view_module_version": "1.2.0",
            "grid_template_areas": null,
            "object_position": null,
            "object_fit": null,
            "grid_auto_columns": null,
            "margin": null,
            "display": null,
            "left": null
          }
        },
        "c11563f6573e4d81981dcae031070c73": {
          "model_module": "@jupyter-widgets/controls",
          "model_name": "DescriptionStyleModel",
          "state": {
            "_view_name": "StyleView",
            "_model_name": "DescriptionStyleModel",
            "description_width": "",
            "_view_module": "@jupyter-widgets/base",
            "_model_module_version": "1.5.0",
            "_view_count": null,
            "_view_module_version": "1.2.0",
            "_model_module": "@jupyter-widgets/controls"
          }
        },
        "27f39886871e47a99c89ecbf2ac6bf76": {
          "model_module": "@jupyter-widgets/base",
          "model_name": "LayoutModel",
          "state": {
            "_view_name": "LayoutView",
            "grid_template_rows": null,
            "right": null,
            "justify_content": null,
            "_view_module": "@jupyter-widgets/base",
            "overflow": null,
            "_model_module_version": "1.2.0",
            "_view_count": null,
            "flex_flow": null,
            "width": null,
            "min_width": null,
            "border": null,
            "align_items": null,
            "bottom": null,
            "_model_module": "@jupyter-widgets/base",
            "top": null,
            "grid_column": null,
            "overflow_y": null,
            "overflow_x": null,
            "grid_auto_flow": null,
            "grid_area": null,
            "grid_template_columns": null,
            "flex": null,
            "_model_name": "LayoutModel",
            "justify_items": null,
            "grid_row": null,
            "max_height": null,
            "align_content": null,
            "visibility": null,
            "align_self": null,
            "height": null,
            "min_height": null,
            "padding": null,
            "grid_auto_rows": null,
            "grid_gap": null,
            "max_width": null,
            "order": null,
            "_view_module_version": "1.2.0",
            "grid_template_areas": null,
            "object_position": null,
            "object_fit": null,
            "grid_auto_columns": null,
            "margin": null,
            "display": null,
            "left": null
          }
        }
      }
    }
  },
  "cells": [
    {
      "cell_type": "markdown",
      "metadata": {
        "id": "view-in-github",
        "colab_type": "text"
      },
      "source": [
        "<a href=\"https://colab.research.google.com/github/shivammehta007/NLPResearch/blob/master/Comparison_of_NLP_Models_IMDB_classification.ipynb\" target=\"_parent\"><img src=\"https://colab.research.google.com/assets/colab-badge.svg\" alt=\"Open In Colab\"/></a>"
      ]
    },
    {
      "cell_type": "markdown",
      "metadata": {
        "id": "NyH-mhd8m1ev",
        "colab_type": "text"
      },
      "source": [
        "# We will compare NLP Models with IMDB Classification"
      ]
    },
    {
      "cell_type": "markdown",
      "metadata": {
        "colab_type": "text",
        "id": "N7Xg7aE_vYGN"
      },
      "source": [
        "## Imports"
      ]
    },
    {
      "cell_type": "code",
      "metadata": {
        "id": "z-bijPkNinEF",
        "colab_type": "code",
        "outputId": "0cf682c9-a6eb-458f-e2a4-8eb13adbccd5",
        "colab": {
          "base_uri": "https://localhost:8080/",
          "height": 34
        }
      },
      "source": [
        "import os\n",
        "import re\n",
        "import random\n",
        "\n",
        "import torch\n",
        "import torch.nn as nn\n",
        "import torch.nn.functional as F\n",
        "import torch.optim as optim\n",
        "import torchtext\n",
        "\n",
        "import matplotlib.pyplot as plt\n",
        "import numpy as np\n",
        "import pandas as pd\n",
        "import seaborn as sns\n",
        "import spacy\n",
        "from collections import namedtuple\n",
        "from pprint import pprint\n",
        "\n",
        "!pip install -U tqdm\n",
        "# Need to restart runtime on google collab for it to work\n",
        "\n",
        "from sklearn.metrics import accuracy_score\n",
        "from sklearn.metrics import f1_score\n",
        "from sklearn.metrics import classification_report\n",
        "from sklearn.model_selection import GridSearchCV\n",
        "from sklearn.model_selection import ParameterGrid\n",
        "from tqdm.notebook import tqdm\n",
        "from torchtext import datasets\n",
        "from torchtext import data\n",
        "\n",
        "# Create a Tokenizer with the default settings for English\n",
        "# including punctuation rules and exceptions\n",
        "spacy_en = spacy.load('en')\n",
        "%matplotlib inline"
      ],
      "execution_count": 57,
      "outputs": [
        {
          "output_type": "stream",
          "text": [
            "Requirement already up-to-date: tqdm in /usr/local/lib/python3.6/dist-packages (4.42.0)\n"
          ],
          "name": "stdout"
        }
      ]
    },
    {
      "cell_type": "markdown",
      "metadata": {
        "colab_type": "text",
        "id": "hn8fswVAvYbp"
      },
      "source": [
        "## Seed Set"
      ]
    },
    {
      "cell_type": "code",
      "metadata": {
        "id": "ORV6WPWTlsUG",
        "colab_type": "code",
        "colab": {}
      },
      "source": [
        "SEED = 1234\n",
        "\n",
        "torch.manual_seed(SEED)\n",
        "torch.cuda.manual_seed(SEED)\n",
        "np.random.seed(SEED)\n",
        "torch.backends.cudnn.deterministic = True\n",
        "random.seed(SEED)"
      ],
      "execution_count": 0,
      "outputs": []
    },
    {
      "cell_type": "markdown",
      "metadata": {
        "id": "StHbAEfLm0YB",
        "colab_type": "text"
      },
      "source": [
        "# Load the Data"
      ]
    },
    {
      "cell_type": "markdown",
      "metadata": {
        "id": "HAwIk3D1G1gs",
        "colab_type": "text"
      },
      "source": [
        "## PreProcessing Functions"
      ]
    },
    {
      "cell_type": "markdown",
      "metadata": {
        "id": "rfuP1CRE8Evg",
        "colab_type": "text"
      },
      "source": [
        "#### Steps:\n",
        "\n",
        "1.   Decontract\n",
        "2.   Stopwords Removal\n",
        "3.   Punctuation Removal\n"
      ]
    },
    {
      "cell_type": "markdown",
      "metadata": {
        "id": "5GwvN4nB9VrS",
        "colab_type": "text"
      },
      "source": [
        "##### 1. Decontract"
      ]
    },
    {
      "cell_type": "code",
      "metadata": {
        "id": "R7zbeyFA9Yon",
        "colab_type": "code",
        "colab": {}
      },
      "source": [
        "def decontracted(text):\n",
        "    # specific\n",
        "    text = re.sub(r\"won't\", \"will not\", text)\n",
        "    text = re.sub(r\"can\\'t\", \"can not\", text)\n",
        "\n",
        "    # general\n",
        "    text = re.sub(r\"n\\'t\", \" not\", text)\n",
        "    text = re.sub(r\"\\'re\", \" are\", text)\n",
        "    text = re.sub(r\"\\'s\", \" is\", text)\n",
        "    text = re.sub(r\"\\'d\", \" would\", text)\n",
        "    text = re.sub(r\"\\'ll\", \" will\", text)\n",
        "    text = re.sub(r\"\\'t\", \" not\", text)\n",
        "    text = re.sub(r\"\\'ve\", \" have\", text)\n",
        "    text = re.sub(r\"\\'m\", \" am\", text)\n",
        "    return text"
      ],
      "execution_count": 0,
      "outputs": []
    },
    {
      "cell_type": "markdown",
      "metadata": {
        "id": "OIAOlZx38gpA",
        "colab_type": "text"
      },
      "source": [
        "##### 2. Stopwords Removal"
      ]
    },
    {
      "cell_type": "code",
      "metadata": {
        "id": "WatG-zXj8ns7",
        "colab_type": "code",
        "outputId": "17410757-0544-4fbd-e82a-8ffb3fd9fc45",
        "colab": {
          "base_uri": "https://localhost:8080/",
          "height": 51
        }
      },
      "source": [
        "import nltk\n",
        "from nltk.corpus import stopwords\n",
        "nltk.download(\"stopwords\")\n",
        "\n",
        "stopwords = set(stopwords.words(\"english\")) | set([\"br\"])"
      ],
      "execution_count": 4,
      "outputs": [
        {
          "output_type": "stream",
          "text": [
            "[nltk_data] Downloading package stopwords to /root/nltk_data...\n",
            "[nltk_data]   Package stopwords is already up-to-date!\n"
          ],
          "name": "stdout"
        }
      ]
    },
    {
      "cell_type": "markdown",
      "metadata": {
        "id": "7NH9Rn3qE-Xi",
        "colab_type": "text"
      },
      "source": [
        "##### 3. Punctuation Removal"
      ]
    },
    {
      "cell_type": "code",
      "metadata": {
        "id": "84EUT7EJD-84",
        "colab_type": "code",
        "colab": {}
      },
      "source": [
        "from string import punctuation\n",
        "\n",
        "def remove_punctuation(text):\n",
        "    text = text.translate(str.maketrans('', '', punctuation))\n",
        "    return text"
      ],
      "execution_count": 0,
      "outputs": []
    },
    {
      "cell_type": "markdown",
      "metadata": {
        "id": "2DrR3G5l3tVe",
        "colab_type": "text"
      },
      "source": [
        "## TorchText Data"
      ]
    },
    {
      "cell_type": "markdown",
      "metadata": {
        "colab_type": "text",
        "id": "jqPAOqi1vYzR"
      },
      "source": [
        "Initialize two Field and Label "
      ]
    },
    {
      "cell_type": "markdown",
      "metadata": {
        "id": "6xwlnBIKHB9i",
        "colab_type": "text"
      },
      "source": [
        "### Creating Tokenizer"
      ]
    },
    {
      "cell_type": "code",
      "metadata": {
        "id": "gsEpdk9XHG6Y",
        "colab_type": "code",
        "colab": {}
      },
      "source": [
        "def tokenizer(text):\n",
        "    \"\"\"Tokenize and do an Early PreProcessing\"\"\"\n",
        "    text = decontracted(text)\n",
        "    text = remove_punctuation(text)\n",
        "    return [word.text.lower() for word in spacy_en.tokenizer(text) if word.text.lower() not in stopwords]\n"
      ],
      "execution_count": 0,
      "outputs": []
    },
    {
      "cell_type": "code",
      "metadata": {
        "id": "tmIYUv0UmrLh",
        "colab_type": "code",
        "colab": {}
      },
      "source": [
        "TEXT = data.Field(tokenize=tokenizer, include_lengths=True)\n",
        "LABEL = data.LabelField(dtype = torch.float)"
      ],
      "execution_count": 0,
      "outputs": []
    },
    {
      "cell_type": "code",
      "metadata": {
        "colab_type": "code",
        "id": "NF4-7i_zvZDn",
        "outputId": "ca39abf4-b036-4e24-db3a-72b31b275f6a",
        "colab": {
          "base_uri": "https://localhost:8080/",
          "height": 85
        }
      },
      "source": [
        "%%time\n",
        "train_data, test_data = datasets.IMDB.splits(TEXT, LABEL)"
      ],
      "execution_count": 0,
      "outputs": [
        {
          "output_type": "stream",
          "text": [
            "\raclImdb_v1.tar.gz:   0%|          | 0.00/84.1M [00:00<?, ?B/s]"
          ],
          "name": "stderr"
        },
        {
          "output_type": "stream",
          "text": [
            "downloading aclImdb_v1.tar.gz\n"
          ],
          "name": "stdout"
        },
        {
          "output_type": "stream",
          "text": [
            "aclImdb_v1.tar.gz: 100%|██████████| 84.1M/84.1M [00:02<00:00, 41.3MB/s]\n"
          ],
          "name": "stderr"
        },
        {
          "output_type": "stream",
          "text": [
            "CPU times: user 1min 50s, sys: 10.5 s, total: 2min\n",
            "Wall time: 2min 2s\n"
          ],
          "name": "stdout"
        }
      ]
    },
    {
      "cell_type": "code",
      "metadata": {
        "colab_type": "code",
        "outputId": "0f3dcb67-90ec-4073-fbf2-f8d93869a2f3",
        "id": "_YyGCsIwvZak",
        "colab": {
          "base_uri": "https://localhost:8080/",
          "height": 71
        }
      },
      "source": [
        "print(len(train_data), len(test_data))\n",
        "print(vars(train_data.examples[0]))"
      ],
      "execution_count": 0,
      "outputs": [
        {
          "output_type": "stream",
          "text": [
            "25000 25000\n",
            "{'text': ['diagnosis', 'murder', 'shown', 'weekday', 'afternoons', 'bbc1', 'since', 'used', 'watch', 'ill', 'school', 'good', '10', 'years', 'ago', ' ', 'know', 'really', 'enjoy', 'way', 'enjoy', 'murder', 'wrote', 'totally', 'addicted', 'even', 'dvd', 'boxsetsok', 'know', 'sadbr', 'dick', 'van', 'dyke', 'carries', 'show', 'stars', 'drmark', 'sloan', 'doctor', 'community', 'general', 'hospital', 'la', 'also', 'police', 'consultant', 'lapd', ' ', 'son', 'steve', 'barry', 'van', 'dyke', ' ', 'dick', 'real', 'life', 'son', 'police', 'officer', 'needs', 'father', 'help', 'many', 'suspicious', 'deaths', 'along', 'ride', 'dramanda', 'bentley', 'victoria', 'bentley', 'resident', 'pathologist', 'community', 'general', 'first', 'couple', 'seasons', 'scott', 'baio', 'playing', 'drjack', 'stewart', 'upped', 'left', 'series', '1995', 'hoping', 'go', 'bigger', 'better', 'thingshe', 'stayed', 'done', 'anything', 'note', 'sinceand', 'theatrical', 'appearance', 'many', 'years', 'baby', 'geniuses', '2superbabiesoh', 'dearbr', 'anyhow', 'drjack', 'stewart', 'replaced', 'younger', 'drjesse', 'travis', 'played', 'charlie', 'schlatter', 'stepped', 'baio', 'shoes', 'pretty', 'comfortablybr', 'series', 'highly', 'implausible', 'whodunit', 'series', 'murder', 'wrote', ' ', 'everywhere', 'jessica', 'goes', 'someone', 'ends', 'dead', 'underrated', 'father', 'dowling', 'mysteries', 'murder', 'solving', 'priest', 'nun', 'sidekickbr', 'series', 'much', 'lighter', '1997', 'supporting', 'cast', 'included', 'bumbling', 'hospital', 'manager', 'norman', 'briggs', 'played', 'michael', 'tucci', 'along', 'nurse', ' ', 'mark', 'secretary', 'dolores', 'played', 'delores', 'hall', '1997', 'characters', 'longer', 'included', 'series', 'became', 'grittier', 'affair', 'bigger', 'looking', 'budget', 'episodes', 'included', 'far', 'action', 'one', 'episode', 'entire', 'hospital', 'blown', 'upbr', 'family', 'show', 'van', 'dyke', 'well', 'dick', 'son', 'barry', 'also', 'dick', 'daughter', 'grandchildren', 'making', 'appearance', 'various', 'episodes', 'series', 'went', 'got', 'bit', 'silly', 'one', 'episode', 'remember', 'dick', 'van', 'dike', 'plays', 'entire', 'family', 'bit', 'ordinary', 'whole', 'diagnosis', 'murder', 'really', 'good', 'tv', 'show', 'numerous', 'good', 'guest', 'starsbr', 'since', 'show', 'finished', '2001', 'dick', ' ', 'barry', 'appeared', 'together', 'murder', '101', 'series', 'tv', 'movies', 'made', 'hallmark', 'channel', 'pretty', 'much', 'following', 'path', 'still', 'enjoyable', 'dick', 'mid', '80', 'seem', 'change', 'great', 'deal', 'looks', 'working', 'till', 'bitter', 'endbr', 'tv', 'show', ' '], 'label': 'pos'}\n"
          ],
          "name": "stdout"
        }
      ]
    },
    {
      "cell_type": "code",
      "metadata": {
        "id": "SNad2-abviOR",
        "colab_type": "code",
        "colab": {}
      },
      "source": [
        "train_data, valid_data = train_data.split(split_ratio=0.8, random_state=random.seed(SEED))"
      ],
      "execution_count": 0,
      "outputs": []
    },
    {
      "cell_type": "code",
      "metadata": {
        "id": "yEmv6GymvxO4",
        "colab_type": "code",
        "outputId": "81ed1374-3064-439a-9b17-d70b2a6af0dc",
        "colab": {
          "base_uri": "https://localhost:8080/",
          "height": 68
        }
      },
      "source": [
        "print(f'Train Data: \\t\\t {len(train_data):,}')\n",
        "print(f'Validation Dataset: \\t {len(valid_data):,}')\n",
        "print(f'Test Data: \\t\\t {len(test_data):,}')"
      ],
      "execution_count": 0,
      "outputs": [
        {
          "output_type": "stream",
          "text": [
            "Train Data: \t\t 20,000\n",
            "Validation Dataset: \t 5,000\n",
            "Test Data: \t\t 25,000\n"
          ],
          "name": "stdout"
        }
      ]
    },
    {
      "cell_type": "code",
      "metadata": {
        "id": "0h6P3Q1tqnkx",
        "colab_type": "code",
        "colab": {}
      },
      "source": [
        ""
      ],
      "execution_count": 0,
      "outputs": []
    },
    {
      "cell_type": "markdown",
      "metadata": {
        "id": "rcME0jWxxDHS",
        "colab_type": "text"
      },
      "source": [
        "## Pandas DataFrame\n",
        "We Converted Data to DataFrame for implementation of Classical Algorithms"
      ]
    },
    {
      "cell_type": "code",
      "metadata": {
        "id": "u1k_PFqNws4r",
        "colab_type": "code",
        "outputId": "255ce268-dfda-404d-e1d1-7e776615a73b",
        "colab": {
          "base_uri": "https://localhost:8080/",
          "height": 34
        }
      },
      "source": [
        "type(train_data.examples[0].text)"
      ],
      "execution_count": 0,
      "outputs": [
        {
          "output_type": "execute_result",
          "data": {
            "text/plain": [
              "list"
            ]
          },
          "metadata": {
            "tags": []
          },
          "execution_count": 18
        }
      ]
    },
    {
      "cell_type": "code",
      "metadata": {
        "id": "lOSBBPiFxcEZ",
        "colab_type": "code",
        "colab": {}
      },
      "source": [
        "def get_dataframe_from_dataset(dataset, labels = {'X': 'text', 'y': 'label'}):\n",
        "    \"\"\"Utility Method to convert torchext.data.Dataset to numpy array of text and label\"\"\"\n",
        "    i = 0\n",
        "    data = {'X' : [], 'y' : []}\n",
        "    for example in tqdm(dataset):\n",
        "        data['X'].append(' '.join(example.text))\n",
        "        data['y'].append(example.label)\n",
        "    \n",
        "    assert len(data['X']) == len(data['y'])\n",
        "\n",
        "    return pd.DataFrame(data).rename(columns=labels)\n"
      ],
      "execution_count": 0,
      "outputs": []
    },
    {
      "cell_type": "code",
      "metadata": {
        "id": "xRlYIj0gygqK",
        "colab_type": "code",
        "outputId": "28a0cb8a-c545-4c6c-d773-a88495d7dcc0",
        "colab": {
          "base_uri": "https://localhost:8080/",
          "height": 164,
          "referenced_widgets": [
            "4adbfc35499546b3bc9a5a6fc19ed3b9",
            "ecba9639d4f5443d92740b4a6bcd19e5",
            "da8041d9359640028ccd420eca874a6e",
            "13e743367f164266bf063ddac45e4e40",
            "a196949ecd854ddfb060a7ee9e6e241e",
            "072eb1cf8a2e4e088f304abd3b28aa42",
            "b44734396cdf40d7b142c1ccff0f0514",
            "f11b9e57cbb64e7ea79bbba494a7d54d",
            "63c8735d9ea447ee8baa913871ad8ebe",
            "a027421a49634567b6440d91885b31bd",
            "e3e953a891b1406c9a255127ba8856a5",
            "9326751d63404496910ed0475b0ce9e2",
            "a2f797415d2f4664bb381b3e52b89319",
            "0ae47c6dd9724636b17c11f60e0f5a40",
            "95629a4ca5264563849f1c0c4125ee63",
            "be5a989795a64bc88641b0e9443e84fb",
            "76bc8b6684e1490eb3a65039100d2488",
            "b22951f42b1f45e49d4cfe20da9234f0",
            "ee1ae89b2ef6424e9d7fc14ed3e664fd",
            "dc017949dffa44878fe1f0ecefcf55c1",
            "c20edad6b1c34dfdb13c845886db09c8",
            "c407c7b9ba7a4716b17c9e86d38d1a80",
            "c27bd1b22413436088b7f2fd0d0dfcf0",
            "5673456052fd48d9b595005719b20432"
          ]
        }
      },
      "source": [
        "train_df = get_dataframe_from_dataset(train_data)\n",
        "val_df = get_dataframe_from_dataset(valid_data)\n",
        "test_df = get_dataframe_from_dataset(test_data)"
      ],
      "execution_count": 0,
      "outputs": [
        {
          "output_type": "display_data",
          "data": {
            "application/vnd.jupyter.widget-view+json": {
              "model_id": "4adbfc35499546b3bc9a5a6fc19ed3b9",
              "version_minor": 0,
              "version_major": 2
            },
            "text/plain": [
              "HBox(children=(FloatProgress(value=0.0, max=20000.0), HTML(value='')))"
            ]
          },
          "metadata": {
            "tags": []
          }
        },
        {
          "output_type": "stream",
          "text": [
            "\n"
          ],
          "name": "stdout"
        },
        {
          "output_type": "display_data",
          "data": {
            "application/vnd.jupyter.widget-view+json": {
              "model_id": "63c8735d9ea447ee8baa913871ad8ebe",
              "version_minor": 0,
              "version_major": 2
            },
            "text/plain": [
              "HBox(children=(FloatProgress(value=0.0, max=5000.0), HTML(value='')))"
            ]
          },
          "metadata": {
            "tags": []
          }
        },
        {
          "output_type": "stream",
          "text": [
            "\n"
          ],
          "name": "stdout"
        },
        {
          "output_type": "display_data",
          "data": {
            "application/vnd.jupyter.widget-view+json": {
              "model_id": "76bc8b6684e1490eb3a65039100d2488",
              "version_minor": 0,
              "version_major": 2
            },
            "text/plain": [
              "HBox(children=(FloatProgress(value=0.0, max=25000.0), HTML(value='')))"
            ]
          },
          "metadata": {
            "tags": []
          }
        },
        {
          "output_type": "stream",
          "text": [
            "\n"
          ],
          "name": "stdout"
        }
      ]
    },
    {
      "cell_type": "code",
      "metadata": {
        "id": "ToZcEPMi0rRj",
        "colab_type": "code",
        "outputId": "47ffd848-7a8f-48fe-ba13-5dde37f6545e",
        "colab": {
          "base_uri": "https://localhost:8080/",
          "height": 204
        }
      },
      "source": [
        "test_df.head()"
      ],
      "execution_count": 0,
      "outputs": [
        {
          "output_type": "execute_result",
          "data": {
            "text/html": [
              "<div>\n",
              "<style scoped>\n",
              "    .dataframe tbody tr th:only-of-type {\n",
              "        vertical-align: middle;\n",
              "    }\n",
              "\n",
              "    .dataframe tbody tr th {\n",
              "        vertical-align: top;\n",
              "    }\n",
              "\n",
              "    .dataframe thead th {\n",
              "        text-align: right;\n",
              "    }\n",
              "</style>\n",
              "<table border=\"1\" class=\"dataframe\">\n",
              "  <thead>\n",
              "    <tr style=\"text-align: right;\">\n",
              "      <th></th>\n",
              "      <th>text</th>\n",
              "      <th>label</th>\n",
              "    </tr>\n",
              "  </thead>\n",
              "  <tbody>\n",
              "    <tr>\n",
              "      <th>0</th>\n",
              "      <td>1850 yorkshire boy chimneysweep falsely accuse...</td>\n",
              "      <td>pos</td>\n",
              "    </tr>\n",
              "    <tr>\n",
              "      <th>1</th>\n",
              "      <td>film partly thriller partly publicservice anno...</td>\n",
              "      <td>pos</td>\n",
              "    </tr>\n",
              "    <tr>\n",
              "      <th>2</th>\n",
              "      <td>even decade frontline aired abc near tell curr...</td>\n",
              "      <td>pos</td>\n",
              "    </tr>\n",
              "    <tr>\n",
              "      <th>3</th>\n",
              "      <td>amazed quality film particularly seeing pictur...</td>\n",
              "      <td>pos</td>\n",
              "    </tr>\n",
              "    <tr>\n",
              "      <th>4</th>\n",
              "      <td>felt way saw episode original run still agree ...</td>\n",
              "      <td>pos</td>\n",
              "    </tr>\n",
              "  </tbody>\n",
              "</table>\n",
              "</div>"
            ],
            "text/plain": [
              "                                                text label\n",
              "0  1850 yorkshire boy chimneysweep falsely accuse...   pos\n",
              "1  film partly thriller partly publicservice anno...   pos\n",
              "2  even decade frontline aired abc near tell curr...   pos\n",
              "3  amazed quality film particularly seeing pictur...   pos\n",
              "4  felt way saw episode original run still agree ...   pos"
            ]
          },
          "metadata": {
            "tags": []
          },
          "execution_count": 21
        }
      ]
    },
    {
      "cell_type": "markdown",
      "metadata": {
        "id": "hdwoSFLb325h",
        "colab_type": "text"
      },
      "source": [
        "# Implementation"
      ]
    },
    {
      "cell_type": "markdown",
      "metadata": {
        "id": "VAvHj19I_4ZP",
        "colab_type": "text"
      },
      "source": [
        "\n",
        "## Classical ML algorithms"
      ]
    },
    {
      "cell_type": "markdown",
      "metadata": {
        "id": "ShkE7cca3jeU",
        "colab_type": "text"
      },
      "source": [
        "First Step will be **Preprocessing**\n",
        "### List of Algorithms Implemented\n",
        "1.   Naïve Bais Classifier\n",
        "2.   Random Forest Classifier\n",
        "3.   Support Vector Machines (SVM) Linear\n",
        "4.   SGD Classifiers\n",
        "5.   XGBoost\n",
        "6.   Lightgbm\n",
        "\n"
      ]
    },
    {
      "cell_type": "markdown",
      "metadata": {
        "id": "WIqoo3HL46_h",
        "colab_type": "text"
      },
      "source": [
        "## Vectorize Data"
      ]
    },
    {
      "cell_type": "code",
      "metadata": {
        "id": "qt0ldViZ98Z6",
        "colab_type": "code",
        "colab": {}
      },
      "source": [
        "dataframes = [train_df, val_df, test_df]"
      ],
      "execution_count": 0,
      "outputs": []
    },
    {
      "cell_type": "markdown",
      "metadata": {
        "id": "ZsqSHPFY7wN1",
        "colab_type": "text"
      },
      "source": [
        "##### 1. Vectorize\n",
        "from Sklearn.feature_extraction.text import:\n",
        "1.   CountVectorizer\n",
        "2.   TfIdfVectorizer\n",
        "\n"
      ]
    },
    {
      "cell_type": "code",
      "metadata": {
        "id": "wgYAT4sk1D_a",
        "colab_type": "code",
        "colab": {}
      },
      "source": [
        "from sklearn.feature_extraction.text import CountVectorizer\n",
        "from sklearn.feature_extraction.text import TfidfVectorizer"
      ],
      "execution_count": 0,
      "outputs": []
    },
    {
      "cell_type": "markdown",
      "metadata": {
        "id": "D-MNKU34Hh7s",
        "colab_type": "text"
      },
      "source": [
        "We will use them later ! In sklearn.pipeline.Pipleline !!"
      ]
    },
    {
      "cell_type": "markdown",
      "metadata": {
        "id": "__6VkPntGGVg",
        "colab_type": "text"
      },
      "source": [
        "##### 2. Encode Label"
      ]
    },
    {
      "cell_type": "code",
      "metadata": {
        "id": "v8nUTi9rF8tm",
        "colab_type": "code",
        "colab": {}
      },
      "source": [
        "from sklearn.preprocessing import LabelEncoder\n",
        "le = LabelEncoder()"
      ],
      "execution_count": 0,
      "outputs": []
    },
    {
      "cell_type": "code",
      "metadata": {
        "id": "xt1-Rq_-Gdiw",
        "colab_type": "code",
        "outputId": "f76ecf44-93cf-4a2b-c169-95be8ff680e8",
        "colab": {
          "base_uri": "https://localhost:8080/",
          "height": 66,
          "referenced_widgets": [
            "c863fa09221c426099b21780256682eb",
            "4190a182c7294bad9139c02f2675301e",
            "852520deaa4a408d8daf7160b8ee771f",
            "a9d04e97b8d84b2ba83df2e0d53dc794",
            "553514d2659c4fc3b69e3e161f2437ee",
            "6b28a0a9249d48d09f73c059e585937b",
            "36f3698c61d54c41baa6233c35982c3e",
            "f1d1d2ec41f34ba5a7ae91a2f5113eac"
          ]
        }
      },
      "source": [
        "for df in tqdm(dataframes):\n",
        "    df['label'] = le.fit_transform(df['label'])"
      ],
      "execution_count": 0,
      "outputs": [
        {
          "output_type": "display_data",
          "data": {
            "application/vnd.jupyter.widget-view+json": {
              "model_id": "c863fa09221c426099b21780256682eb",
              "version_minor": 0,
              "version_major": 2
            },
            "text/plain": [
              "HBox(children=(FloatProgress(value=0.0, max=3.0), HTML(value='')))"
            ]
          },
          "metadata": {
            "tags": []
          }
        },
        {
          "output_type": "stream",
          "text": [
            "\n"
          ],
          "name": "stdout"
        }
      ]
    },
    {
      "cell_type": "code",
      "metadata": {
        "id": "vwL3cGLMGk1T",
        "colab_type": "code",
        "outputId": "74f61d8b-45a3-4754-f2c7-ad0e81fd7fa1",
        "colab": {
          "base_uri": "https://localhost:8080/",
          "height": 204
        }
      },
      "source": [
        "train_df.head()"
      ],
      "execution_count": 0,
      "outputs": [
        {
          "output_type": "execute_result",
          "data": {
            "text/html": [
              "<div>\n",
              "<style scoped>\n",
              "    .dataframe tbody tr th:only-of-type {\n",
              "        vertical-align: middle;\n",
              "    }\n",
              "\n",
              "    .dataframe tbody tr th {\n",
              "        vertical-align: top;\n",
              "    }\n",
              "\n",
              "    .dataframe thead th {\n",
              "        text-align: right;\n",
              "    }\n",
              "</style>\n",
              "<table border=\"1\" class=\"dataframe\">\n",
              "  <thead>\n",
              "    <tr style=\"text-align: right;\">\n",
              "      <th></th>\n",
              "      <th>text</th>\n",
              "      <th>label</th>\n",
              "    </tr>\n",
              "  </thead>\n",
              "  <tbody>\n",
              "    <tr>\n",
              "      <th>0</th>\n",
              "      <td>margret laurence probably intend novels adopte...</td>\n",
              "      <td>0</td>\n",
              "    </tr>\n",
              "    <tr>\n",
              "      <th>1</th>\n",
              "      <td>movie made feel like feel bad like want money ...</td>\n",
              "      <td>1</td>\n",
              "    </tr>\n",
              "    <tr>\n",
              "      <th>2</th>\n",
              "      <td>brilliant russian émigré devises stanislavsky...</td>\n",
              "      <td>1</td>\n",
              "    </tr>\n",
              "    <tr>\n",
              "      <th>3</th>\n",
              "      <td>hard say sometimes exactly film effective mome...</td>\n",
              "      <td>1</td>\n",
              "    </tr>\n",
              "    <tr>\n",
              "      <th>4</th>\n",
              "      <td>seen movie many times recently read book movie...</td>\n",
              "      <td>0</td>\n",
              "    </tr>\n",
              "  </tbody>\n",
              "</table>\n",
              "</div>"
            ],
            "text/plain": [
              "                                                text  label\n",
              "0  margret laurence probably intend novels adopte...      0\n",
              "1  movie made feel like feel bad like want money ...      1\n",
              "2  brilliant russian émigré devises stanislavsky...      1\n",
              "3  hard say sometimes exactly film effective mome...      1\n",
              "4  seen movie many times recently read book movie...      0"
            ]
          },
          "metadata": {
            "tags": []
          },
          "execution_count": 20
        }
      ]
    },
    {
      "cell_type": "markdown",
      "metadata": {
        "id": "ZkjXQmfvCMWL",
        "colab_type": "text"
      },
      "source": [
        "#### Converting to Numpy arrays \n",
        "For faster computation and generic variable names"
      ]
    },
    {
      "cell_type": "code",
      "metadata": {
        "id": "GtuRfRZICWq3",
        "colab_type": "code",
        "colab": {}
      },
      "source": [
        "split_df = lambda df: (np.array(df['text']), np.array(df['label']))"
      ],
      "execution_count": 0,
      "outputs": []
    },
    {
      "cell_type": "code",
      "metadata": {
        "id": "EvW7ImQICqgx",
        "colab_type": "code",
        "colab": {}
      },
      "source": [
        "X_train, y_train = split_df(train_df)\n",
        "X_valid, y_valid = split_df(val_df)\n",
        "X_test, y_test = split_df(test_df)"
      ],
      "execution_count": 0,
      "outputs": []
    },
    {
      "cell_type": "markdown",
      "metadata": {
        "id": "PZaI7yZBvx5x",
        "colab_type": "text"
      },
      "source": [
        "### Pipeline of Algorithms"
      ]
    },
    {
      "cell_type": "markdown",
      "metadata": {
        "id": "Q8YeVQGQvF8U",
        "colab_type": "text"
      },
      "source": [
        "#### Support Methods"
      ]
    },
    {
      "cell_type": "code",
      "metadata": {
        "id": "oBhkix0jvKOR",
        "colab_type": "code",
        "colab": {}
      },
      "source": [
        "def get_predictions_and_accuracy(X_test):\n",
        "    y_pred = best_model.pipeline.predict(X_test)\n",
        "    test_accuracy = accuracy_score(y_test, y_pred)\n",
        "    print('Test Accuracy: {:.4f}%'.format(test_accuracy * 100))\n",
        "    report = pd.DataFrame(classification_report(y_pred, y_test, target_names=['neg', 'pos'], output_dict=True))\n",
        "    print(report)\n",
        "    sns.heatmap(report.iloc[:-1:].T, annot=True)\n",
        "    plt.title('Classification Report')\n",
        "    plt.show()"
      ],
      "execution_count": 0,
      "outputs": []
    },
    {
      "cell_type": "code",
      "metadata": {
        "id": "Lnpkn56pyVa3",
        "colab_type": "code",
        "colab": {}
      },
      "source": [
        "from sklearn.pipeline import Pipeline"
      ],
      "execution_count": 0,
      "outputs": []
    },
    {
      "cell_type": "code",
      "metadata": {
        "id": "jK_qJwQr-gHJ",
        "colab_type": "code",
        "colab": {}
      },
      "source": [
        "Model = namedtuple('Model', ['pipeline', 'predictions', 'accuracy'])"
      ],
      "execution_count": 0,
      "outputs": []
    },
    {
      "cell_type": "markdown",
      "metadata": {
        "id": "kSlnFCaSv3dR",
        "colab_type": "text"
      },
      "source": [
        "#### 1. Naïve Bais Classifier"
      ]
    },
    {
      "cell_type": "code",
      "metadata": {
        "id": "inQUrWrHGnIQ",
        "colab_type": "code",
        "colab": {}
      },
      "source": [
        "from sklearn.naive_bayes import MultinomialNB"
      ],
      "execution_count": 0,
      "outputs": []
    },
    {
      "cell_type": "markdown",
      "metadata": {
        "id": "9Xv9nQ6EFskS",
        "colab_type": "text"
      },
      "source": [
        "##### Generating Pipelines\n",
        "Generate two pipelines with differenet Vectorizers, whichever will show better performance over valid set, we will tune Hyperparameters over it"
      ]
    },
    {
      "cell_type": "code",
      "metadata": {
        "id": "fJXUHi_DfB5a",
        "colab_type": "code",
        "colab": {}
      },
      "source": [
        "naive_bais1 = Pipeline(\n",
        "    [('cv', CountVectorizer()),\n",
        "      ('nb', MultinomialNB())])\n",
        "\n",
        "naive_bais2 = Pipeline(\n",
        "    [('tfidf', TfidfVectorizer()),\n",
        "      ('nb', MultinomialNB())])"
      ],
      "execution_count": 0,
      "outputs": []
    },
    {
      "cell_type": "code",
      "metadata": {
        "id": "Mh0esZgXm5EZ",
        "colab_type": "code",
        "outputId": "c2bd3221-c946-4fb5-a185-6451bef4614b",
        "colab": {
          "base_uri": "https://localhost:8080/",
          "height": 83,
          "referenced_widgets": [
            "791ba843457e4f8099e7ef9625f55ce4",
            "7ae123e47f1c45de8946d91d47f46185",
            "a7f3508ca68041c0a62fdf4f42dfe60f",
            "3a5d5468b2864102aa1cfcb9652b949b",
            "1d2be9ba06294672bece4e2bd664b798",
            "816f0d05f1104ab0b47af6732793f235",
            "0217b3bcd1984738b416906796214184",
            "bb82d6a63b534c3c84efca3f835aa553"
          ]
        }
      },
      "source": [
        "best_accuracy = 0.0\n",
        "best_model = Model(None, None, None)\n",
        "for pipeline in tqdm([naive_bais1, naive_bais2]):\n",
        "    pipeline.fit(X_train, y_train)\n",
        "    y_pred = pipeline.predict(X_valid)\n",
        "    accuracy = accuracy_score(y_valid, y_pred)\n",
        "    if accuracy > best_accuracy:\n",
        "        best_accuracy = accuracy\n",
        "        best_model = Model(pipeline, y_pred, accuracy)\n",
        "\n",
        "print('Best Pipeline found: {} with accuracy: {:.2f}%'.format([step[0] for step in best_model.pipeline.steps], best_model.accuracy*100))"
      ],
      "execution_count": 0,
      "outputs": [
        {
          "output_type": "display_data",
          "data": {
            "application/vnd.jupyter.widget-view+json": {
              "model_id": "791ba843457e4f8099e7ef9625f55ce4",
              "version_minor": 0,
              "version_major": 2
            },
            "text/plain": [
              "HBox(children=(FloatProgress(value=0.0, max=2.0), HTML(value='')))"
            ]
          },
          "metadata": {
            "tags": []
          }
        },
        {
          "output_type": "stream",
          "text": [
            "\n",
            "Best Pipeline found: ['tfidf', 'nb'] with accuracy: 87.26%\n"
          ],
          "name": "stdout"
        }
      ]
    },
    {
      "cell_type": "code",
      "metadata": {
        "id": "z39Y14C3Gm3s",
        "colab_type": "code",
        "outputId": "f2d4b328-14ba-4780-ee4b-75a070434e66",
        "colab": {
          "base_uri": "https://localhost:8080/",
          "height": 383
        }
      },
      "source": [
        "get_predictions_and_accuracy(X_test)"
      ],
      "execution_count": 0,
      "outputs": [
        {
          "output_type": "stream",
          "text": [
            "Test Accuracy: 83.5880%\n",
            "                    neg           pos  accuracy     macro avg  weighted avg\n",
            "precision      0.885520      0.786240   0.83588      0.835880      0.840808\n",
            "recall         0.805545      0.872902   0.83588      0.839224      0.835880\n",
            "f1-score       0.843642      0.827308   0.83588      0.835475      0.836285\n",
            "support    13741.000000  11259.000000   0.83588  25000.000000  25000.000000\n"
          ],
          "name": "stdout"
        },
        {
          "output_type": "display_data",
          "data": {
            "image/png": "[encoded data removed]",
            "text/plain": [
              "<Figure size 432x288 with 2 Axes>"
            ]
          },
          "metadata": {
            "tags": []
          }
        }
      ]
    },
    {
      "cell_type": "markdown",
      "metadata": {
        "id": "cyq4CiFzGOs7",
        "colab_type": "text"
      },
      "source": [
        "##### Tune Hyperparameters\n",
        "We will use ParameterSearch since we already have validation set else we would have used GridSearchCV"
      ]
    },
    {
      "cell_type": "code",
      "metadata": {
        "id": "d2nc74_eBj0X",
        "colab_type": "code",
        "colab": {}
      },
      "source": [
        "parameters = {\n",
        "    'ngram_range': [(1, 1), (1, 2), (1, 3), (2, 3)]\n",
        "}\n",
        "parameters = ParameterGrid(parameters)"
      ],
      "execution_count": 0,
      "outputs": []
    },
    {
      "cell_type": "code",
      "metadata": {
        "id": "dwjDOc73OFmC",
        "colab_type": "code",
        "outputId": "19f640e0-68ba-426d-e750-1bbb5499ea1c",
        "colab": {
          "base_uri": "https://localhost:8080/",
          "height": 253,
          "referenced_widgets": [
            "c9f7c55442034d2e93674154ce750ea1",
            "861d29c83b9242ae827c23dbf2e684b7",
            "c15abd8a76b2489db5d770c1ef4c98cc",
            "695aef7dc0f74eee910e699bd3b37da2",
            "eec228a3ea0b434c8034876af4b55a88",
            "8c3432cb73c4497882e5802a2c72acd5",
            "35a1e61e385141df8fbdf38a6396b1e0",
            "a0359ec2a42d4e71b41526e5678883db"
          ]
        }
      },
      "source": [
        "best_model = Model(None, None, None)\n",
        "best_accuracy = 0\n",
        "for parameter in tqdm(list(parameters)):\n",
        "    pipeline = Pipeline(\n",
        "        [('tfidf', TfidfVectorizer(ngram_range=parameter['ngram_range'])),\n",
        "        ('nb', MultinomialNB())])\n",
        "    pipeline.fit(X_train, y_train)\n",
        "    y_pred = pipeline.predict(X_valid)\n",
        "    accuracy = accuracy_score(y_valid, y_pred)\n",
        "    print('Accuracy: {:.2f} Parameter: {}'.format(accuracy * 100, parameter['ngram_range']))\n",
        "    if accuracy > best_accuracy:\n",
        "        best_accuracy = accuracy\n",
        "        best_model = Model(pipeline, y_pred, accuracy)\n",
        "\n",
        "print('Best Pipeline found: {} with accuracy: {:.2f}%'.format([step[1] for step in best_model.pipeline.steps], best_model.accuracy*100))"
      ],
      "execution_count": 0,
      "outputs": [
        {
          "output_type": "display_data",
          "data": {
            "application/vnd.jupyter.widget-view+json": {
              "model_id": "c9f7c55442034d2e93674154ce750ea1",
              "version_minor": 0,
              "version_major": 2
            },
            "text/plain": [
              "HBox(children=(FloatProgress(value=0.0, max=4.0), HTML(value='')))"
            ]
          },
          "metadata": {
            "tags": []
          }
        },
        {
          "output_type": "stream",
          "text": [
            "Accuracy: 87.26 Parameter: (1, 1)\n",
            "Accuracy: 88.78 Parameter: (1, 2)\n",
            "Accuracy: 88.78 Parameter: (1, 3)\n",
            "Accuracy: 87.04 Parameter: (2, 3)\n",
            "\n",
            "Best Pipeline found: [TfidfVectorizer(analyzer='word', binary=False, decode_error='strict',\n",
            "                dtype=<class 'numpy.float64'>, encoding='utf-8',\n",
            "                input='content', lowercase=True, max_df=1.0, max_features=None,\n",
            "                min_df=1, ngram_range=(1, 2), norm='l2', preprocessor=None,\n",
            "                smooth_idf=True, stop_words=None, strip_accents=None,\n",
            "                sublinear_tf=False, token_pattern='(?u)\\\\b\\\\w\\\\w+\\\\b',\n",
            "                tokenizer=None, use_idf=True, vocabulary=None), MultinomialNB(alpha=1.0, class_prior=None, fit_prior=True)] with accuracy: 88.78%\n"
          ],
          "name": "stdout"
        }
      ]
    },
    {
      "cell_type": "markdown",
      "metadata": {
        "id": "n9HSX2nHTvBf",
        "colab_type": "text"
      },
      "source": [
        "##### Test Set Results"
      ]
    },
    {
      "cell_type": "code",
      "metadata": {
        "id": "Lsb-GbIWRfFo",
        "colab_type": "code",
        "outputId": "2bd20825-cedf-4fc5-d547-4cdbc245b1da",
        "colab": {
          "base_uri": "https://localhost:8080/",
          "height": 383
        }
      },
      "source": [
        "get_predictions_and_accuracy(X_test)"
      ],
      "execution_count": 0,
      "outputs": [
        {
          "output_type": "stream",
          "text": [
            "Test Accuracy: 86.2120%\n",
            "                    neg           pos  accuracy     macro avg  weighted avg\n",
            "precision      0.899440      0.824800   0.86212      0.862120      0.864906\n",
            "recall         0.836969      0.891329   0.86212      0.864149      0.862120\n",
            "f1-score       0.867081      0.856775   0.86212      0.861928      0.862312\n",
            "support    13433.000000  11567.000000   0.86212  25000.000000  25000.000000\n"
          ],
          "name": "stdout"
        },
        {
          "output_type": "display_data",
          "data": {
            "image/png": "[encoded data removed]",
            "text/plain": [
              "<Figure size 432x288 with 2 Axes>"
            ]
          },
          "metadata": {
            "tags": []
          }
        }
      ]
    },
    {
      "cell_type": "markdown",
      "metadata": {
        "id": "TWOH1kKfeQbS",
        "colab_type": "text"
      },
      "source": [
        "#### 2. Random Forest Classifier"
      ]
    },
    {
      "cell_type": "code",
      "metadata": {
        "id": "M_NDMa_ogVQA",
        "colab_type": "code",
        "colab": {}
      },
      "source": [
        "from sklearn.ensemble import RandomForestClassifier"
      ],
      "execution_count": 0,
      "outputs": []
    },
    {
      "cell_type": "code",
      "metadata": {
        "id": "YnzEKPnTgzYW",
        "colab_type": "code",
        "outputId": "16d4fddb-e924-47bb-8aa7-1d640e6917c8",
        "colab": {
          "base_uri": "https://localhost:8080/",
          "height": 34
        }
      },
      "source": [
        "tf = TfidfVectorizer()\n",
        "tf_x_train = tf.fit_transform(X_train)\n",
        "accuracy = accuracy_score(RandomForestClassifier().fit(tf_x_train, y_train).predict(tf.transform(X_valid)), y_valid)\n",
        "print('Base Accuracy: {:.4f}'.format(accuracy * 100))"
      ],
      "execution_count": 0,
      "outputs": [
        {
          "output_type": "stream",
          "text": [
            "Base Accuracy: 85.7600\n"
          ],
          "name": "stdout"
        }
      ]
    },
    {
      "cell_type": "code",
      "metadata": {
        "id": "jAjJSH66fXgY",
        "colab_type": "code",
        "colab": {}
      },
      "source": [
        "parameters = {\n",
        "    'ngram_range': [(1, 2)],\n",
        "    'max_depth': [None],\n",
        "    'n_estimators': [300, 1000],\n",
        "    'n_jobs' : [-1]\n",
        "}\n",
        "\n",
        "parameters = ParameterGrid(parameters)"
      ],
      "execution_count": 0,
      "outputs": []
    },
    {
      "cell_type": "code",
      "metadata": {
        "id": "R7ONdjiRUSzt",
        "colab_type": "code",
        "outputId": "5da373c7-159b-45fa-e2af-036da4c2917e",
        "colab": {
          "base_uri": "https://localhost:8080/",
          "height": 338,
          "referenced_widgets": [
            "a9f0327bacaf4662a20ffdfa87081f8e",
            "e80c1d3eb9e546d08541ae3cfcd18460",
            "aeccbae7554d4da09a16afc8d03b8c1e",
            "27b2aa7198764d95a4a6d807fe59941e",
            "3750d48e361b46fa93ee2d1473ec9de6",
            "5a3c41046e154018928c5c491031b956",
            "41c3f5fc6b5e4c8fb1ad9a4d58c51b0e",
            "8b9b9c158f77426ba580e6508578eb9a"
          ]
        }
      },
      "source": [
        "best_model = Model(None, None, None)\n",
        "best_accuracy = 0\n",
        "for parameter in tqdm(list(parameters)):\n",
        "    pipeline = Pipeline(\n",
        "        [('tfidf', TfidfVectorizer(ngram_range=parameter['ngram_range'])),\n",
        "        ('rfc', RandomForestClassifier(\n",
        "                    max_depth=parameter['max_depth'],\n",
        "                    n_estimators=parameter['n_estimators']\n",
        "                                      ))])\n",
        "    pipeline.fit(X_train, y_train)\n",
        "    y_pred = pipeline.predict(X_valid)\n",
        "    accuracy = accuracy_score(y_valid, y_pred)\n",
        "    print('Accuracy: {:.2f} Parameters: {}'.format(accuracy * 100, parameter))\n",
        "    if accuracy > best_accuracy:\n",
        "        best_accuracy = accuracy\n",
        "        best_model = Model(pipeline, y_pred, accuracy)\n",
        "\n",
        "print('Best Pipeline found: {} with accuracy: {:.2f}%'.format([step[1] for step in best_model.pipeline.steps], best_model.accuracy*100))"
      ],
      "execution_count": 0,
      "outputs": [
        {
          "output_type": "display_data",
          "data": {
            "application/vnd.jupyter.widget-view+json": {
              "model_id": "a9f0327bacaf4662a20ffdfa87081f8e",
              "version_minor": 0,
              "version_major": 2
            },
            "text/plain": [
              "HBox(children=(FloatProgress(value=0.0, max=2.0), HTML(value='')))"
            ]
          },
          "metadata": {
            "tags": []
          }
        },
        {
          "output_type": "stream",
          "text": [
            "Accuracy: 86.80 Parameters: {'max_depth': None, 'n_estimators': 300, 'n_jobs': -1, 'ngram_range': (1, 2)}\n",
            "Accuracy: 87.60 Parameters: {'max_depth': None, 'n_estimators': 1000, 'n_jobs': -1, 'ngram_range': (1, 2)}\n",
            "\n",
            "Best Pipeline found: [TfidfVectorizer(analyzer='word', binary=False, decode_error='strict',\n",
            "                dtype=<class 'numpy.float64'>, encoding='utf-8',\n",
            "                input='content', lowercase=True, max_df=1.0, max_features=None,\n",
            "                min_df=1, ngram_range=(1, 2), norm='l2', preprocessor=None,\n",
            "                smooth_idf=True, stop_words=None, strip_accents=None,\n",
            "                sublinear_tf=False, token_pattern='(?u)\\\\b\\\\w\\\\w+\\\\b',\n",
            "                tokenizer=None, use_idf=True, vocabulary=None), RandomForestClassifier(bootstrap=True, ccp_alpha=0.0, class_weight=None,\n",
            "                       criterion='gini', max_depth=None, max_features='auto',\n",
            "                       max_leaf_nodes=None, max_samples=None,\n",
            "                       min_impurity_decrease=0.0, min_impurity_split=None,\n",
            "                       min_samples_leaf=1, min_samples_split=2,\n",
            "                       min_weight_fraction_leaf=0.0, n_estimators=1000,\n",
            "                       n_jobs=None, oob_score=False, random_state=None,\n",
            "                       verbose=0, warm_start=False)] with accuracy: 87.60%\n"
          ],
          "name": "stdout"
        }
      ]
    },
    {
      "cell_type": "code",
      "metadata": {
        "id": "op0XoVkdf0vs",
        "colab_type": "code",
        "outputId": "6b16f624-985d-460d-9b0b-2cf260da781f",
        "colab": {
          "base_uri": "https://localhost:8080/",
          "height": 383
        }
      },
      "source": [
        "get_predictions_and_accuracy(X_test)"
      ],
      "execution_count": 0,
      "outputs": [
        {
          "output_type": "stream",
          "text": [
            "Test Accuracy: 87.1000%\n",
            "                    neg           pos  accuracy     macro avg  weighted avg\n",
            "precision      0.882880      0.859120     0.871      0.871000      0.871282\n",
            "recall         0.862390      0.880030     0.871      0.871210      0.871000\n",
            "f1-score       0.872515      0.869449     0.871      0.870982      0.871018\n",
            "support    12797.000000  12203.000000     0.871  25000.000000  25000.000000\n"
          ],
          "name": "stdout"
        },
        {
          "output_type": "display_data",
          "data": {
            "image/png": "[encoded data removed]",
            "text/plain": [
              "<Figure size 432x288 with 2 Axes>"
            ]
          },
          "metadata": {
            "tags": []
          }
        }
      ]
    },
    {
      "cell_type": "markdown",
      "metadata": {
        "id": "LlKBQlUVd70o",
        "colab_type": "text"
      },
      "source": [
        "#### 3. SVC"
      ]
    },
    {
      "cell_type": "code",
      "metadata": {
        "id": "nTYNWMl1ATy9",
        "colab_type": "code",
        "colab": {}
      },
      "source": [
        "from sklearn.svm import LinearSVC"
      ],
      "execution_count": 0,
      "outputs": []
    },
    {
      "cell_type": "code",
      "metadata": {
        "id": "sJItNpaviZBj",
        "colab_type": "code",
        "colab": {}
      },
      "source": [
        "parameters = {\n",
        "    'ngram_range': [(1, 2)],\n",
        "    'penalty': ['l2'],\n",
        "    'C' : [1.0, 2.0, 3.0]\n",
        "}\n",
        "\n",
        "parameters = ParameterGrid(parameters)"
      ],
      "execution_count": 0,
      "outputs": []
    },
    {
      "cell_type": "code",
      "metadata": {
        "id": "EZJRhe24iS3g",
        "colab_type": "code",
        "outputId": "d9da4228-b545-45b4-a883-c3f484280e8d",
        "colab": {
          "base_uri": "https://localhost:8080/",
          "height": 287,
          "referenced_widgets": [
            "a6638a7104b84eeda2d6b06a3078a42f",
            "efdf899bf4154ee098d3bd5f8807fd02",
            "49f3f3a445c449c2b5cb898709659023",
            "b1ba62b0d0a2483dbe11c1756ab41aed",
            "85875da99a824c9aa348fb638e51713f",
            "56d6519dfb11440e8b4f548b5bdd930b",
            "f6918b9e41f84a0884f3509818c0362d",
            "136dff13364845f7b2dbf909e004cb9d"
          ]
        }
      },
      "source": [
        "best_model = Model(None, None, None)\n",
        "best_accuracy = 0\n",
        "for parameter in tqdm(list(parameters)):\n",
        "    pipeline = Pipeline(\n",
        "        [('tfidf', TfidfVectorizer(ngram_range=parameter['ngram_range'])),\n",
        "        ('svc', LinearSVC(penalty=parameter['penalty'],\n",
        "                          C=parameter['C']))])\n",
        "    pipeline.fit(X_train, y_train)\n",
        "    y_pred = pipeline.predict(X_valid)\n",
        "    accuracy = accuracy_score(y_valid, y_pred)\n",
        "    print('Accuracy: {:.2f} Parameters: {}'.format(accuracy * 100, parameter))\n",
        "    if accuracy > best_accuracy:\n",
        "        best_accuracy = accuracy\n",
        "        best_model = Model(pipeline, y_pred, accuracy)\n",
        "\n",
        "print('Best Pipeline found: {} with accuracy: {:.2f}%'.format([step[1] for step in best_model.pipeline.steps], best_model.accuracy*100))"
      ],
      "execution_count": 0,
      "outputs": [
        {
          "output_type": "display_data",
          "data": {
            "application/vnd.jupyter.widget-view+json": {
              "model_id": "a6638a7104b84eeda2d6b06a3078a42f",
              "version_minor": 0,
              "version_major": 2
            },
            "text/plain": [
              "HBox(children=(FloatProgress(value=0.0, max=3.0), HTML(value='')))"
            ]
          },
          "metadata": {
            "tags": []
          }
        },
        {
          "output_type": "stream",
          "text": [
            "Accuracy: 89.88 Parameters: {'C': 1.0, 'ngram_range': (1, 2), 'penalty': 'l2'}\n",
            "Accuracy: 90.04 Parameters: {'C': 2.0, 'ngram_range': (1, 2), 'penalty': 'l2'}\n",
            "Accuracy: 90.02 Parameters: {'C': 3.0, 'ngram_range': (1, 2), 'penalty': 'l2'}\n",
            "\n",
            "Best Pipeline found: [TfidfVectorizer(analyzer='word', binary=False, decode_error='strict',\n",
            "                dtype=<class 'numpy.float64'>, encoding='utf-8',\n",
            "                input='content', lowercase=True, max_df=1.0, max_features=None,\n",
            "                min_df=1, ngram_range=(1, 2), norm='l2', preprocessor=None,\n",
            "                smooth_idf=True, stop_words=None, strip_accents=None,\n",
            "                sublinear_tf=False, token_pattern='(?u)\\\\b\\\\w\\\\w+\\\\b',\n",
            "                tokenizer=None, use_idf=True, vocabulary=None), LinearSVC(C=2.0, class_weight=None, dual=True, fit_intercept=True,\n",
            "          intercept_scaling=1, loss='squared_hinge', max_iter=1000,\n",
            "          multi_class='ovr', penalty='l2', random_state=None, tol=0.0001,\n",
            "          verbose=0)] with accuracy: 90.04%\n"
          ],
          "name": "stdout"
        }
      ]
    },
    {
      "cell_type": "code",
      "metadata": {
        "id": "PPy4GxNYonMd",
        "colab_type": "code",
        "outputId": "06e0ff7e-94b5-429d-89fb-7a341cc1130a",
        "colab": {
          "base_uri": "https://localhost:8080/",
          "height": 383
        }
      },
      "source": [
        "get_predictions_and_accuracy(X_test)"
      ],
      "execution_count": 0,
      "outputs": [
        {
          "output_type": "stream",
          "text": [
            "Test Accuracy: 89.2440%\n",
            "                    neg           pos  accuracy     macro avg  weighted avg\n",
            "precision      0.891200      0.893680   0.89244      0.892440      0.892443\n",
            "recall         0.893416      0.891469   0.89244      0.892442      0.892440\n",
            "f1-score       0.892306      0.892573   0.89244      0.892440      0.892440\n",
            "support    12469.000000  12531.000000   0.89244  25000.000000  25000.000000\n"
          ],
          "name": "stdout"
        },
        {
          "output_type": "display_data",
          "data": {
            "image/png": "[encoded data removed]",
            "text/plain": [
              "<Figure size 432x288 with 2 Axes>"
            ]
          },
          "metadata": {
            "tags": []
          }
        }
      ]
    },
    {
      "cell_type": "markdown",
      "metadata": {
        "id": "ucd20bPcqQMX",
        "colab_type": "text"
      },
      "source": [
        "#### 4. SGD Classifier"
      ]
    },
    {
      "cell_type": "code",
      "metadata": {
        "id": "TiCXgwLbop8C",
        "colab_type": "code",
        "colab": {}
      },
      "source": [
        "from sklearn.linear_model import SGDClassifier"
      ],
      "execution_count": 0,
      "outputs": []
    },
    {
      "cell_type": "code",
      "metadata": {
        "id": "JrwvQqiYqWyi",
        "colab_type": "code",
        "colab": {}
      },
      "source": [
        "parameters = {\n",
        "    'ngram_range': [(1,1), (1, 2)],\n",
        "    'penalty': ['l2', 'elasticnet'],\n",
        "    'alpha': [1e-3, 1e-4],\n",
        "    'n_jobs' : [-1]\n",
        "}\n",
        "\n",
        "parameters = ParameterGrid(parameters)"
      ],
      "execution_count": 0,
      "outputs": []
    },
    {
      "cell_type": "code",
      "metadata": {
        "id": "QyEHT6x8qaeT",
        "colab_type": "code",
        "outputId": "7200d2f2-d8e5-41b9-9047-3caaedc63c16",
        "colab": {
          "base_uri": "https://localhost:8080/",
          "height": 406,
          "referenced_widgets": [
            "26cac233480d42848dfaf1843c097711",
            "71bf03b1ef4c465e9b1a559bd57b752a",
            "a172b9e9ab24419ab1f049d5eb19eb7d",
            "de1558983ec94288919cf0a66fb95265",
            "b836a630c4aa45bfb67bc66d85e343e6",
            "20ee41268daf4ee69b0b44a6bd5d5922",
            "d180c9a372084afdae5b5240f0ba0d0c",
            "52b99aee1a5a47c5815606dc74398a2c"
          ]
        }
      },
      "source": [
        "best_model = Model(None, None, None)\n",
        "best_accuracy = 0\n",
        "for parameter in tqdm(list(parameters)):\n",
        "    pipeline = Pipeline(\n",
        "        [('tfidf', TfidfVectorizer(ngram_range=parameter['ngram_range'])),\n",
        "        ('sgd', SGDClassifier(penalty=parameter['penalty'],\n",
        "                          alpha=parameter['alpha'],\n",
        "                          n_jobs=parameter['n_jobs']))])\n",
        "    pipeline.fit(X_train, y_train)\n",
        "    y_pred = pipeline.predict(X_valid)\n",
        "    accuracy = accuracy_score(y_valid, y_pred)\n",
        "    print('Accuracy: {:.2f} Parameters: {}'.format(accuracy * 100, parameter))\n",
        "    if accuracy > best_accuracy:\n",
        "        best_accuracy = accuracy\n",
        "        best_model = Model(pipeline, y_pred, accuracy)\n",
        "\n",
        "print('Best Pipeline found: {} with accuracy: {:.2f}%'.format([step[1] for step in best_model.pipeline.steps], best_model.accuracy*100))"
      ],
      "execution_count": 0,
      "outputs": [
        {
          "output_type": "display_data",
          "data": {
            "application/vnd.jupyter.widget-view+json": {
              "model_id": "26cac233480d42848dfaf1843c097711",
              "version_minor": 0,
              "version_major": 2
            },
            "text/plain": [
              "HBox(children=(FloatProgress(value=0.0, max=8.0), HTML(value='')))"
            ]
          },
          "metadata": {
            "tags": []
          }
        },
        {
          "output_type": "stream",
          "text": [
            "Accuracy: 85.50 Parameters: {'alpha': 0.001, 'n_jobs': -1, 'ngram_range': (1, 1), 'penalty': 'l2'}\n",
            "Accuracy: 82.84 Parameters: {'alpha': 0.001, 'n_jobs': -1, 'ngram_range': (1, 1), 'penalty': 'elasticnet'}\n",
            "Accuracy: 82.44 Parameters: {'alpha': 0.001, 'n_jobs': -1, 'ngram_range': (1, 2), 'penalty': 'l2'}\n",
            "Accuracy: 79.48 Parameters: {'alpha': 0.001, 'n_jobs': -1, 'ngram_range': (1, 2), 'penalty': 'elasticnet'}\n",
            "Accuracy: 89.50 Parameters: {'alpha': 0.0001, 'n_jobs': -1, 'ngram_range': (1, 1), 'penalty': 'l2'}\n",
            "Accuracy: 88.90 Parameters: {'alpha': 0.0001, 'n_jobs': -1, 'ngram_range': (1, 1), 'penalty': 'elasticnet'}\n",
            "Accuracy: 89.02 Parameters: {'alpha': 0.0001, 'n_jobs': -1, 'ngram_range': (1, 2), 'penalty': 'l2'}\n",
            "Accuracy: 87.88 Parameters: {'alpha': 0.0001, 'n_jobs': -1, 'ngram_range': (1, 2), 'penalty': 'elasticnet'}\n",
            "\n",
            "Best Pipeline found: [TfidfVectorizer(analyzer='word', binary=False, decode_error='strict',\n",
            "                dtype=<class 'numpy.float64'>, encoding='utf-8',\n",
            "                input='content', lowercase=True, max_df=1.0, max_features=None,\n",
            "                min_df=1, ngram_range=(1, 1), norm='l2', preprocessor=None,\n",
            "                smooth_idf=True, stop_words=None, strip_accents=None,\n",
            "                sublinear_tf=False, token_pattern='(?u)\\\\b\\\\w\\\\w+\\\\b',\n",
            "                tokenizer=None, use_idf=True, vocabulary=None), SGDClassifier(alpha=0.0001, average=False, class_weight=None,\n",
            "              early_stopping=False, epsilon=0.1, eta0=0.0, fit_intercept=True,\n",
            "              l1_ratio=0.15, learning_rate='optimal', loss='hinge',\n",
            "              max_iter=1000, n_iter_no_change=5, n_jobs=-1, penalty='l2',\n",
            "              power_t=0.5, random_state=None, shuffle=True, tol=0.001,\n",
            "              validation_fraction=0.1, verbose=0, warm_start=False)] with accuracy: 89.50%\n"
          ],
          "name": "stdout"
        }
      ]
    },
    {
      "cell_type": "code",
      "metadata": {
        "id": "3zgGlROetczU",
        "colab_type": "code",
        "outputId": "7f36cbd1-4e90-4a9e-d010-134e6a4e6d6f",
        "colab": {
          "base_uri": "https://localhost:8080/",
          "height": 383
        }
      },
      "source": [
        "get_predictions_and_accuracy(X_test)"
      ],
      "execution_count": 0,
      "outputs": [
        {
          "output_type": "stream",
          "text": [
            "Test Accuracy: 88.2080%\n",
            "                    neg           pos  accuracy     macro avg  weighted avg\n",
            "precision      0.887440      0.876720   0.88208      0.882080      0.882137\n",
            "recall         0.878028      0.886220   0.88208      0.882124      0.882080\n",
            "f1-score       0.882709      0.881445   0.88208      0.882077      0.882083\n",
            "support    12634.000000  12366.000000   0.88208  25000.000000  25000.000000\n"
          ],
          "name": "stdout"
        },
        {
          "output_type": "display_data",
          "data": {
            "image/png": "[encoded data removed]",
            "text/plain": [
              "<Figure size 432x288 with 2 Axes>"
            ]
          },
          "metadata": {
            "tags": []
          }
        }
      ]
    },
    {
      "cell_type": "markdown",
      "metadata": {
        "id": "tO4dUtNKB5R1",
        "colab_type": "text"
      },
      "source": [
        "#### 5. XGBoost\n",
        "Ah! The power of Gradient Boosted tree :D"
      ]
    },
    {
      "cell_type": "code",
      "metadata": {
        "id": "D4Rq-y9iuVLh",
        "colab_type": "code",
        "colab": {}
      },
      "source": [
        "import xgboost as xgb"
      ],
      "execution_count": 0,
      "outputs": []
    },
    {
      "cell_type": "code",
      "metadata": {
        "id": "qs3JYz2cB_uG",
        "colab_type": "code",
        "colab": {}
      },
      "source": [
        "parameters = {\n",
        "    'ngram_range': [(1, 2)],\n",
        "    'max_depth' : [3, 4, 5],\n",
        "    'n_estimators' : [100, 150]\n",
        "}\n",
        "\n",
        "parameters = ParameterGrid(parameters)"
      ],
      "execution_count": 0,
      "outputs": []
    },
    {
      "cell_type": "code",
      "metadata": {
        "id": "CV8AYDLuDkid",
        "colab_type": "code",
        "outputId": "7dfbcad8-5f22-49f4-ca0a-dbe51793604c",
        "colab": {
          "base_uri": "https://localhost:8080/",
          "height": 389,
          "referenced_widgets": [
            "19b6e041caa24788aece3dc85d015cfc",
            "4dc1688f7502463a8f2dbddf07a420e9",
            "24f8961bdb4e4fa998bdb4a07e163cac",
            "f991540e93c846be9f4e9aa31033d824",
            "2e45dc2b86d64c4eabd334a8c5514162",
            "66d1008ca6e741d3a96bcb5aafdf2fb8",
            "706da63d1f8f4758b9b81eeb68c6d758",
            "e780a11fe06e4141a6a20b4eae7c0a17"
          ]
        }
      },
      "source": [
        "best_model = Model(None, None, None)\n",
        "best_accuracy = 0\n",
        "for parameter in tqdm(list(parameters)):\n",
        "    pipeline = Pipeline(\n",
        "        [('tfidf', TfidfVectorizer(ngram_range=parameter['ngram_range'])),\n",
        "        ('xgb', xgb.XGBClassifier(objective=\"binary:logistic\",\n",
        "            max_depth=parameter['max_depth'],\n",
        "            n_estimators=parameter['n_estimators']\n",
        "        ))])\n",
        "    pipeline.fit(X_train, y_train)\n",
        "    y_pred = pipeline.predict(X_valid)\n",
        "    accuracy = accuracy_score(y_valid, y_pred)\n",
        "    print('Accuracy: {:.2f} Parameters: {}'.format(accuracy * 100, parameter))\n",
        "    if accuracy > best_accuracy:\n",
        "        best_accuracy = accuracy\n",
        "        best_model = Model(pipeline, y_pred, accuracy)\n",
        "\n",
        "print('Best Pipeline found: {} with accuracy: {:.2f}%'.format([step[1] for step in best_model.pipeline.steps], best_model.accuracy*100))"
      ],
      "execution_count": 0,
      "outputs": [
        {
          "output_type": "display_data",
          "data": {
            "application/vnd.jupyter.widget-view+json": {
              "model_id": "19b6e041caa24788aece3dc85d015cfc",
              "version_minor": 0,
              "version_major": 2
            },
            "text/plain": [
              "HBox(children=(FloatProgress(value=0.0, max=6.0), HTML(value='')))"
            ]
          },
          "metadata": {
            "tags": []
          }
        },
        {
          "output_type": "stream",
          "text": [
            "Accuracy: 80.94 Parameters: {'max_depth': 3, 'n_estimators': 100, 'ngram_range': (1, 2)}\n",
            "Accuracy: 82.40 Parameters: {'max_depth': 3, 'n_estimators': 150, 'ngram_range': (1, 2)}\n",
            "Accuracy: 81.50 Parameters: {'max_depth': 4, 'n_estimators': 100, 'ngram_range': (1, 2)}\n",
            "Accuracy: 83.20 Parameters: {'max_depth': 4, 'n_estimators': 150, 'ngram_range': (1, 2)}\n",
            "Accuracy: 82.24 Parameters: {'max_depth': 5, 'n_estimators': 100, 'ngram_range': (1, 2)}\n",
            "Accuracy: 83.76 Parameters: {'max_depth': 5, 'n_estimators': 150, 'ngram_range': (1, 2)}\n",
            "\n",
            "Best Pipeline found: [TfidfVectorizer(analyzer='word', binary=False, decode_error='strict',\n",
            "                dtype=<class 'numpy.float64'>, encoding='utf-8',\n",
            "                input='content', lowercase=True, max_df=1.0, max_features=None,\n",
            "                min_df=1, ngram_range=(1, 2), norm='l2', preprocessor=None,\n",
            "                smooth_idf=True, stop_words=None, strip_accents=None,\n",
            "                sublinear_tf=False, token_pattern='(?u)\\\\b\\\\w\\\\w+\\\\b',\n",
            "                tokenizer=None, use_idf=True, vocabulary=None), XGBClassifier(base_score=0.5, booster='gbtree', colsample_bylevel=1,\n",
            "              colsample_bynode=1, colsample_bytree=1, gamma=0,\n",
            "              learning_rate=0.1, max_delta_step=0, max_depth=5,\n",
            "              min_child_weight=1, missing=None, n_estimators=150, n_jobs=1,\n",
            "              nthread=None, objective='binary:logistic', random_state=0,\n",
            "              reg_alpha=0, reg_lambda=1, scale_pos_weight=1, seed=None,\n",
            "              silent=None, subsample=1, verbosity=1)] with accuracy: 83.76%\n"
          ],
          "name": "stdout"
        }
      ]
    },
    {
      "cell_type": "code",
      "metadata": {
        "id": "Uj5veHBqIBKl",
        "colab_type": "code",
        "outputId": "28c0c2c0-b830-4d18-fbf8-6ff6d484c293",
        "colab": {
          "base_uri": "https://localhost:8080/",
          "height": 383
        }
      },
      "source": [
        "get_predictions_and_accuracy(X_test)"
      ],
      "execution_count": 0,
      "outputs": [
        {
          "output_type": "stream",
          "text": [
            "Test Accuracy: 83.8920%\n",
            "                    neg           pos  accuracy     macro avg  weighted avg\n",
            "precision      0.816800      0.861040   0.83892      0.838920      0.839899\n",
            "recall         0.854608      0.824561   0.83892      0.839585      0.838920\n",
            "f1-score       0.835276      0.842406   0.83892      0.838841      0.838999\n",
            "support    11947.000000  13053.000000   0.83892  25000.000000  25000.000000\n"
          ],
          "name": "stdout"
        },
        {
          "output_type": "display_data",
          "data": {
            "image/png": "[encoded data removed]",
            "text/plain": [
              "<Figure size 432x288 with 2 Axes>"
            ]
          },
          "metadata": {
            "tags": []
          }
        }
      ]
    },
    {
      "cell_type": "markdown",
      "metadata": {
        "id": "OhVADK4Rff6E",
        "colab_type": "text"
      },
      "source": [
        "#### 6. LightGBM"
      ]
    },
    {
      "cell_type": "code",
      "metadata": {
        "id": "PTVQKRRSKEy2",
        "colab_type": "code",
        "colab": {}
      },
      "source": [
        "import lightgbm as lgbm"
      ],
      "execution_count": 0,
      "outputs": []
    },
    {
      "cell_type": "code",
      "metadata": {
        "id": "JwBdxmgffkSz",
        "colab_type": "code",
        "colab": {}
      },
      "source": [
        "parameters = {\n",
        "    'ngram_range': [(1, 2)],\n",
        "    \"objective\": [\"binary\"],\n",
        "    \"metric\": [\"binary_logloss\"],\n",
        "    \"max_depth\" : [-1, 7],\n",
        "    \"num_leaves\": [31, 70],\n",
        "    \"verbose\": [-1],\n",
        "    \"n_jobs\": [-1]\n",
        "    }\n",
        "parameters = ParameterGrid(parameters)"
      ],
      "execution_count": 0,
      "outputs": []
    },
    {
      "cell_type": "code",
      "metadata": {
        "id": "8JU4yCcYfsKv",
        "colab_type": "code",
        "outputId": "87f4d9cb-716e-4b82-99dd-a9c9f9f8bc98",
        "colab": {
          "base_uri": "https://localhost:8080/",
          "height": 375,
          "referenced_widgets": [
            "42563147fb8c4ccfb40653d46785ba09",
            "77e1ef8ab12447e8940850d4a4fca6ee",
            "ccca4da823fb47a994efe45327973016",
            "f0d665b5f0ac4d34bf4e48525ab5b029",
            "b06c54487ba24dbf8a0d0dd0d33d3c5f",
            "c35e00d3a7764200824aabb5997afa73",
            "24e464472fa34718ae6e4bb6e885b183",
            "0b8040e5f8ab4dee85cb37f82b1b61f3"
          ]
        }
      },
      "source": [
        "best_model = Model(None, None, None)\n",
        "best_accuracy = 0\n",
        "for parameter in tqdm(list(parameters)):\n",
        "    pipeline = Pipeline([('tfidf', TfidfVectorizer(ngram_range=parameter['ngram_range'])),\n",
        "        ('lgbm', lgbm.LGBMClassifier(\n",
        "            objective=parameter['objective'],\n",
        "            metric=parameter['metric'],\n",
        "            max_depth=parameter['max_depth'],\n",
        "            num_leaves=parameter['num_leaves'],\n",
        "            verbose=parameter['verbose']\n",
        "        ))])\n",
        "    pipeline.fit(X_train, y_train)\n",
        "    y_pred = pipeline.predict(X_valid)\n",
        "    accuracy = accuracy_score(y_valid, y_pred)\n",
        "    print('Accuracy: {:.2f} Parameters: {}'.format(accuracy * 100, parameter))\n",
        "    if accuracy > best_accuracy:\n",
        "        best_accuracy = accuracy\n",
        "        best_model = Model(pipeline, y_pred, accuracy)\n",
        "\n",
        "print('Best Pipeline found: {} with accuracy: {:.2f}%'.format([step[1] for step in best_model.pipeline.steps], best_model.accuracy*100))"
      ],
      "execution_count": 0,
      "outputs": [
        {
          "output_type": "display_data",
          "data": {
            "application/vnd.jupyter.widget-view+json": {
              "model_id": "42563147fb8c4ccfb40653d46785ba09",
              "version_minor": 0,
              "version_major": 2
            },
            "text/plain": [
              "HBox(children=(FloatProgress(value=0.0, max=4.0), HTML(value='')))"
            ]
          },
          "metadata": {
            "tags": []
          }
        },
        {
          "output_type": "stream",
          "text": [
            "Accuracy: 86.32 Parameters: {'max_depth': -1, 'metric': 'binary_logloss', 'n_jobs': -1, 'ngram_range': (1, 2), 'num_leaves': 31, 'objective': 'binary', 'verbose': -1}\n",
            "Accuracy: 87.46 Parameters: {'max_depth': -1, 'metric': 'binary_logloss', 'n_jobs': -1, 'ngram_range': (1, 2), 'num_leaves': 70, 'objective': 'binary', 'verbose': -1}\n",
            "Accuracy: 83.52 Parameters: {'max_depth': 7, 'metric': 'binary_logloss', 'n_jobs': -1, 'ngram_range': (1, 2), 'num_leaves': 31, 'objective': 'binary', 'verbose': -1}\n",
            "Accuracy: 83.50 Parameters: {'max_depth': 7, 'metric': 'binary_logloss', 'n_jobs': -1, 'ngram_range': (1, 2), 'num_leaves': 70, 'objective': 'binary', 'verbose': -1}\n",
            "\n",
            "Best Pipeline found: [TfidfVectorizer(analyzer='word', binary=False, decode_error='strict',\n",
            "                dtype=<class 'numpy.float64'>, encoding='utf-8',\n",
            "                input='content', lowercase=True, max_df=1.0, max_features=None,\n",
            "                min_df=1, ngram_range=(1, 2), norm='l2', preprocessor=None,\n",
            "                smooth_idf=True, stop_words=None, strip_accents=None,\n",
            "                sublinear_tf=False, token_pattern='(?u)\\\\b\\\\w\\\\w+\\\\b',\n",
            "                tokenizer=None, use_idf=True, vocabulary=None), LGBMClassifier(boosting_type='gbdt', class_weight=None, colsample_bytree=1.0,\n",
            "               importance_type='split', learning_rate=0.1, max_depth=-1,\n",
            "               metric='binary_logloss', min_child_samples=20,\n",
            "               min_child_weight=0.001, min_split_gain=0.0, n_estimators=100,\n",
            "               n_jobs=-1, num_leaves=70, objective='binary', random_state=None,\n",
            "               reg_alpha=0.0, reg_lambda=0.0, silent=True, subsample=1.0,\n",
            "               subsample_for_bin=200000, subsample_freq=0, verbose=-1)] with accuracy: 87.46%\n"
          ],
          "name": "stdout"
        }
      ]
    },
    {
      "cell_type": "code",
      "metadata": {
        "id": "vX9fwQSOgA1r",
        "colab_type": "code",
        "outputId": "d7df16c7-5f9c-43f3-c9ca-75cd7899586d",
        "colab": {
          "base_uri": "https://localhost:8080/",
          "height": 383
        }
      },
      "source": [
        "get_predictions_and_accuracy(X_test)"
      ],
      "execution_count": 0,
      "outputs": [
        {
          "output_type": "stream",
          "text": [
            "Test Accuracy: 86.9400%\n",
            "                    neg           pos  accuracy     macro avg  weighted avg\n",
            "precision      0.868640      0.870160    0.8694      0.869400      0.869401\n",
            "recall         0.869962      0.868839    0.8694      0.869401      0.869400\n",
            "f1-score       0.869301      0.869499    0.8694      0.869400      0.869400\n",
            "support    12481.000000  12519.000000    0.8694  25000.000000  25000.000000\n"
          ],
          "name": "stdout"
        },
        {
          "output_type": "display_data",
          "data": {
            "image/png": "[encoded data removed]",
            "text/plain": [
              "<Figure size 432x288 with 2 Axes>"
            ]
          },
          "metadata": {
            "tags": []
          }
        }
      ]
    },
    {
      "cell_type": "markdown",
      "metadata": {
        "id": "xuJQWZ3-6sx7",
        "colab_type": "text"
      },
      "source": [
        "#### Voting Classifier\n",
        "Merging few of major classifiers and running them on a voting basis"
      ]
    },
    {
      "cell_type": "code",
      "metadata": {
        "id": "vRSjJ04n7gEW",
        "colab_type": "code",
        "colab": {}
      },
      "source": [
        "from sklearn.ensemble import VotingClassifier"
      ],
      "execution_count": 0,
      "outputs": []
    },
    {
      "cell_type": "code",
      "metadata": {
        "id": "nZVGm3Raluue",
        "colab_type": "code",
        "colab": {}
      },
      "source": [
        "voting_classifier = VotingClassifier(estimators=[\n",
        "                        ('nb' , MultinomialNB()),\n",
        "                        ('rfc', RandomForestClassifier()),\n",
        "                        ('svc', LinearSVC(penalty='l2', C=0.2)),\n",
        "                        ('sgd', SGDClassifier(penalty='l2', alpha=0.0001))\n",
        "                    ])"
      ],
      "execution_count": 0,
      "outputs": []
    },
    {
      "cell_type": "code",
      "metadata": {
        "id": "lo8tACbN9yKL",
        "colab_type": "code",
        "outputId": "8776b4f0-5dc0-40c5-df68-3124fec49bfa",
        "colab": {
          "base_uri": "https://localhost:8080/",
          "height": 578
        }
      },
      "source": [
        "pipeline = Pipeline([\n",
        "    ('tfid', TfidfVectorizer()),\n",
        "    ('vc', voting_classifier)\n",
        "])\n",
        "pipeline.fit(X_train, y_train)"
      ],
      "execution_count": 0,
      "outputs": [
        {
          "output_type": "execute_result",
          "data": {
            "text/plain": [
              "Pipeline(memory=None,\n",
              "         steps=[('tfid',\n",
              "                 TfidfVectorizer(analyzer='word', binary=False,\n",
              "                                 decode_error='strict',\n",
              "                                 dtype=<class 'numpy.float64'>,\n",
              "                                 encoding='utf-8', input='content',\n",
              "                                 lowercase=True, max_df=1.0, max_features=None,\n",
              "                                 min_df=1, ngram_range=(1, 1), norm='l2',\n",
              "                                 preprocessor=None, smooth_idf=True,\n",
              "                                 stop_words=None, strip_accents=None,\n",
              "                                 sublinear_tf=False,\n",
              "                                 token_pattern='(...\n",
              "                                                             early_stopping=False,\n",
              "                                                             epsilon=0.1,\n",
              "                                                             eta0=0.0,\n",
              "                                                             fit_intercept=True,\n",
              "                                                             l1_ratio=0.15,\n",
              "                                                             learning_rate='optimal',\n",
              "                                                             loss='hinge',\n",
              "                                                             max_iter=1000,\n",
              "                                                             n_iter_no_change=5,\n",
              "                                                             n_jobs=None,\n",
              "                                                             penalty='l2',\n",
              "                                                             power_t=0.5,\n",
              "                                                             random_state=None,\n",
              "                                                             shuffle=True,\n",
              "                                                             tol=0.001,\n",
              "                                                             validation_fraction=0.1,\n",
              "                                                             verbose=0,\n",
              "                                                             warm_start=False))],\n",
              "                                  flatten_transform=True, n_jobs=None,\n",
              "                                  voting='hard', weights=None))],\n",
              "         verbose=False)"
            ]
          },
          "metadata": {
            "tags": []
          },
          "execution_count": 56
        }
      ]
    },
    {
      "cell_type": "code",
      "metadata": {
        "id": "Kec08MKO-JdY",
        "colab_type": "code",
        "outputId": "f42e096f-25d4-4459-dbf2-319ffe7f6ef0",
        "colab": {
          "base_uri": "https://localhost:8080/",
          "height": 34
        }
      },
      "source": [
        "y_pred = pipeline.predict(X_valid)\n",
        "accuracy = accuracy_score(y_valid, y_pred)\n",
        "print('Accuracy: {:.2f}'.format(accuracy * 100))\n",
        "best_model = Model(pipeline, y_pred, accuracy)"
      ],
      "execution_count": 0,
      "outputs": [
        {
          "output_type": "stream",
          "text": [
            "Accuracy: 89.10\n"
          ],
          "name": "stdout"
        }
      ]
    },
    {
      "cell_type": "code",
      "metadata": {
        "id": "TUWo7BJq-aZt",
        "colab_type": "code",
        "outputId": "112243fd-e4bb-4e4a-b663-bc8a6b5ba413",
        "colab": {
          "base_uri": "https://localhost:8080/",
          "height": 383
        }
      },
      "source": [
        "get_predictions_and_accuracy(X_test)"
      ],
      "execution_count": 0,
      "outputs": [
        {
          "output_type": "stream",
          "text": [
            "Test Accuracy: 87.5800%\n",
            "                    neg           pos  accuracy     macro avg  weighted avg\n",
            "precision      0.912640      0.838960    0.8758      0.875800      0.878514\n",
            "recall         0.850011      0.905691    0.8758      0.877851      0.875800\n",
            "f1-score       0.880213      0.871049    0.8758      0.875631      0.875969\n",
            "support    13421.000000  11579.000000    0.8758  25000.000000  25000.000000\n"
          ],
          "name": "stdout"
        },
        {
          "output_type": "display_data",
          "data": {
            "image/png": "[encoded data removed]",
            "text/plain": [
              "<Figure size 432x288 with 2 Axes>"
            ]
          },
          "metadata": {
            "tags": []
          }
        }
      ]
    },
    {
      "cell_type": "markdown",
      "metadata": {
        "id": "dYHDb1ZOAnl-",
        "colab_type": "text"
      },
      "source": [
        "## Deep Neural Network Models"
      ]
    },
    {
      "cell_type": "markdown",
      "metadata": {
        "id": "nmw9IZsfBstD",
        "colab_type": "text"
      },
      "source": [
        "### List of NN Models Implemented\n",
        "\n",
        "\n",
        "\n",
        "1.   Recurrent Neural Network: Will use Word Embeddings\n",
        "2.   Fast Text Based Single Pooling Sentimental Analysis\n",
        "2.   Convolutional Neural Network\n",
        "\n"
      ]
    },
    {
      "cell_type": "markdown",
      "metadata": {
        "id": "Cojtucvazm3v",
        "colab_type": "text"
      },
      "source": [
        "**TEST AREA** *IGNORE*"
      ]
    },
    {
      "cell_type": "code",
      "metadata": {
        "id": "6fnAqop-cP-a",
        "colab_type": "code",
        "colab": {}
      },
      "source": [
        "# from torchtext.data import Pipeline\n",
        "# def remove_stopwords2(text):\n",
        "#     \"\"\"Removes Stopwords from the text uses scapy tokenizer little heavy but good\"\"\"\n",
        "#     text = ' '.join([word.text for word in tokenizer(text.text) if word.text not in stopwords])\n",
        "#     return text\n",
        "# pipeline = Pipeline(remove_stopwords2)\n",
        "# TEXT_test = data.Field(preprocessing=pipeline, tokenize=tokenizer)\n",
        "# LABEL_test = data.LabelField(dtype = torch.float)\n",
        "# train_data2, test_data2 = datasets.IMDB.splits(TEXT, LABEL)\n",
        "# train_data.examples[0].text\n",
        "# [word.text for word in tokenizer(train_data2.examples[0].text.text) if word.text not in stopwords]\n",
        "# type(tokenizer(train_data2.examples[0].text))\n",
        "# TEXT_test.preprocess(train_data2.examples[0].text.text)\n",
        "# Try something like this\n",
        "# https://medium.com/@sonicboom8/sentiment-analysis-torchtext-55fb57b1fab8"
      ],
      "execution_count": 0,
      "outputs": []
    },
    {
      "cell_type": "markdown",
      "metadata": {
        "id": "L6xRHaiEkWPc",
        "colab_type": "text"
      },
      "source": [
        "#### 1. Recurrent Neural Network"
      ]
    },
    {
      "cell_type": "markdown",
      "metadata": {
        "id": "GOTg0mZEkcVh",
        "colab_type": "text"
      },
      "source": [
        "##### Building Vocabulary"
      ]
    },
    {
      "cell_type": "code",
      "metadata": {
        "id": "rNNUFNzNx3to",
        "colab_type": "code",
        "colab": {}
      },
      "source": [
        "device = torch.device('cuda' if torch.cuda.is_available() else 'cpu')"
      ],
      "execution_count": 0,
      "outputs": []
    },
    {
      "cell_type": "code",
      "metadata": {
        "id": "h67f6WPegblc",
        "colab_type": "code",
        "outputId": "87a25ba9-b430-4f74-e0fb-8e58b8a03668",
        "colab": {
          "base_uri": "https://localhost:8080/",
          "height": 51
        }
      },
      "source": [
        "MAX_VOCAB = 25000\n",
        "TEXT.build_vocab(train_data,\n",
        "                 max_size=MAX_VOCAB,\n",
        "                 vectors='glove.6B.100d',\n",
        "                 unk_init=torch.Tensor.normal_)\n",
        "\n",
        "LABEL.build_vocab(train_data)"
      ],
      "execution_count": 0,
      "outputs": [
        {
          "output_type": "stream",
          "text": [
            ".vector_cache/glove.6B.zip: 862MB [06:27, 2.22MB/s]                          \n",
            "100%|█████████▉| 398946/400000 [00:17<00:00, 23477.77it/s]"
          ],
          "name": "stderr"
        }
      ]
    },
    {
      "cell_type": "code",
      "metadata": {
        "id": "LYUZisiR0q_H",
        "colab_type": "code",
        "outputId": "2c31c85b-40e0-4d60-a7f8-a5f54495e823",
        "colab": {
          "base_uri": "https://localhost:8080/",
          "height": 34
        }
      },
      "source": [
        "len(TEXT.vocab)"
      ],
      "execution_count": 0,
      "outputs": [
        {
          "output_type": "execute_result",
          "data": {
            "text/plain": [
              "25002"
            ]
          },
          "metadata": {
            "tags": []
          },
          "execution_count": 30
        }
      ]
    },
    {
      "cell_type": "markdown",
      "metadata": {
        "id": "W8J24j-HkheW",
        "colab_type": "text"
      },
      "source": [
        "##### Initializing Iterators"
      ]
    },
    {
      "cell_type": "code",
      "metadata": {
        "id": "pMiUkPNGlmp9",
        "colab_type": "code",
        "colab": {}
      },
      "source": [
        "BATCH_SIZE = 128\n",
        "\n",
        "train_iterator, valid_iterator, test_iterator = data.BucketIterator.splits(\n",
        "    (train_data, valid_data, test_data),\n",
        "    batch_size=BATCH_SIZE,\n",
        "    sort_within_batch=True,\n",
        "    device=device\n",
        ")"
      ],
      "execution_count": 0,
      "outputs": []
    },
    {
      "cell_type": "markdown",
      "metadata": {
        "id": "KO9Wfud4kjq6",
        "colab_type": "text"
      },
      "source": [
        "##### Model Definition"
      ]
    },
    {
      "cell_type": "code",
      "metadata": {
        "id": "7q-xr-JGpG_n",
        "colab_type": "code",
        "colab": {}
      },
      "source": [
        "class RNN(nn.Module):\n",
        "\n",
        "    def __init__(self,vocab_size, embedding_dim, padding_idx, \n",
        "                 hidden_dim, n_layer, dropout, output_dim):\n",
        "        super(RNN, self).__init__()\n",
        "\n",
        "        self.embedding = nn.Embedding(vocab_size, embedding_dim, padding_idx)\n",
        "        self.rnn = nn.LSTM(embedding_dim, hidden_dim, num_layers=n_layer, bidirectional=True, dropout=dropout)\n",
        "        self.fc1 = nn.Linear(hidden_dim*2, output_dim)\n",
        "        self.dropout = nn.Dropout(dropout)\n",
        "\n",
        "    def forward(self, text, text_length):\n",
        "        embedded = self.embedding(text)\n",
        "        padded_token = nn.utils.rnn.pack_padded_sequence(embedded, text_length)\n",
        "        packed_output, (hidden, cell) = self.rnn(padded_token)\n",
        "\n",
        "        # We can unpack to see just for debug\n",
        "        output, output_length = nn.utils.rnn.pad_packed_sequence(packed_output)\n",
        "\n",
        "        hidden = torch.cat((hidden[-2, :, :], hidden[-1, :, :]), dim=1)\n",
        "\n",
        "        hidden = self.dropout(hidden)\n",
        "\n",
        "        return self.fc1(hidden) "
      ],
      "execution_count": 0,
      "outputs": []
    },
    {
      "cell_type": "markdown",
      "metadata": {
        "id": "RXCIX4SFkqoG",
        "colab_type": "text"
      },
      "source": [
        "##### Initializing Hyperparameters and Model"
      ]
    },
    {
      "cell_type": "markdown",
      "metadata": {
        "id": "DWe5RvvRlAGm",
        "colab_type": "text"
      },
      "source": [
        "###### HyperParameters"
      ]
    },
    {
      "cell_type": "code",
      "metadata": {
        "id": "OjncDdFi-rBq",
        "colab_type": "code",
        "colab": {}
      },
      "source": [
        "INPUT_DIM = len(TEXT.vocab)\n",
        "EMBEDDING_DIM = 100\n",
        "PADDING_IDX = TEXT.vocab.stoi[TEXT.pad_token]\n",
        "HIDDEN_DIM = 256\n",
        "NUM_LAYERS = 2\n",
        "DROPOUT = 0.7\n",
        "OUTPUT_DIM = 1\n",
        "\n"
      ],
      "execution_count": 0,
      "outputs": []
    },
    {
      "cell_type": "markdown",
      "metadata": {
        "id": "w1LtkV-YnqA1",
        "colab_type": "text"
      },
      "source": [
        "###### Initializing Model"
      ]
    },
    {
      "cell_type": "code",
      "metadata": {
        "id": "B9UzmovFnh5p",
        "colab_type": "code",
        "colab": {}
      },
      "source": [
        "model = RNN(INPUT_DIM, EMBEDDING_DIM, PADDING_IDX, HIDDEN_DIM, NUM_LAYERS, DROPOUT, OUTPUT_DIM)"
      ],
      "execution_count": 0,
      "outputs": []
    },
    {
      "cell_type": "code",
      "metadata": {
        "id": "-UDvACNzRBim",
        "colab_type": "code",
        "outputId": "bd5e5ba5-0231-4d8c-a29d-302edc5a93b2",
        "colab": {
          "base_uri": "https://localhost:8080/",
          "height": 34
        }
      },
      "source": [
        "# Number of Parameters\n",
        "print('Number of Trainable Parameters: {:,}'.format(sum([p.numel() for p in model.parameters() if p.requires_grad])))"
      ],
      "execution_count": 105,
      "outputs": [
        {
          "output_type": "stream",
          "text": [
            "Number of Trainable Parameters: 4,810,857\n"
          ],
          "name": "stdout"
        }
      ]
    },
    {
      "cell_type": "markdown",
      "metadata": {
        "id": "kY0kzagUoJ8m",
        "colab_type": "text"
      },
      "source": [
        "##### Adding PreTrained Embeddings\n",
        "Adding Glove Embeddings and Resetting Unk and Pad token embeddings to zero\n"
      ]
    },
    {
      "cell_type": "code",
      "metadata": {
        "id": "rSnJmFDroDic",
        "colab_type": "code",
        "outputId": "99f369ea-0867-48d9-a481-c59da048e6df",
        "colab": {
          "base_uri": "https://localhost:8080/",
          "height": 136
        }
      },
      "source": [
        "# Copy Glove Embeddings\n",
        "model.embedding.weight.data.copy_(TEXT.vocab.vectors)"
      ],
      "execution_count": 106,
      "outputs": [
        {
          "output_type": "execute_result",
          "data": {
            "text/plain": [
              "tensor([[-0.1117, -0.4966,  0.1631,  ...,  1.2647, -0.2753, -0.1325],\n",
              "        [-0.8555, -0.7208,  1.3755,  ...,  0.0825, -1.1314,  0.3997],\n",
              "        [ 0.3825,  0.1482,  0.6060,  ...,  0.0589,  0.0911,  0.4728],\n",
              "        ...,\n",
              "        [ 0.5443,  0.7859, -0.1652,  ...,  0.5248,  0.7487, -0.5032],\n",
              "        [-0.5525,  0.3798,  0.7951,  ..., -1.2334,  1.2798, -0.5894],\n",
              "        [-0.1392,  0.4282,  0.3342,  ...,  0.0850,  0.2070, -0.4701]])"
            ]
          },
          "metadata": {
            "tags": []
          },
          "execution_count": 106
        }
      ]
    },
    {
      "cell_type": "code",
      "metadata": {
        "id": "vnUzoLiPoJ3O",
        "colab_type": "code",
        "colab": {}
      },
      "source": [
        "# Set Zero\n",
        "UNK_IDX = TEXT.vocab.stoi[TEXT.unk_token]\n",
        "\n",
        "model.embedding.weight.data[UNK_IDX] = torch.zeros(EMBEDDING_DIM)\n",
        "model.embedding.weight.data[PADDING_IDX] = torch.zeros(EMBEDDING_DIM)"
      ],
      "execution_count": 0,
      "outputs": []
    },
    {
      "cell_type": "markdown",
      "metadata": {
        "id": "HIvZxcZNpStC",
        "colab_type": "text"
      },
      "source": [
        "##### Training and Evaluation Methods"
      ]
    },
    {
      "cell_type": "code",
      "metadata": {
        "id": "gy_q3C7sse5N",
        "colab_type": "code",
        "colab": {}
      },
      "source": [
        "def calc_accuracy(prediction, true_output):\n",
        "    \"\"\"Calculates accuracy\"\"\"\n",
        "    correct = (torch.round(torch.sigmoid(prediction)) == true_output).float()\n",
        "    return correct.sum() / len(correct)"
      ],
      "execution_count": 0,
      "outputs": []
    },
    {
      "cell_type": "code",
      "metadata": {
        "id": "V_Es2_TjpVsr",
        "colab_type": "code",
        "colab": {}
      },
      "source": [
        "def train(model, iterator, optimizer, criterion):\n",
        "    model.train()\n",
        "    epoch_loss = 0\n",
        "    epoch_acc = 0\n",
        "\n",
        "    for batch in iterator:\n",
        "        optimizer.zero_grad()\n",
        "        \n",
        "        text, text_length = batch.text\n",
        "        prediction = model(text, text_length).squeeze(1)\n",
        "        \n",
        "        loss = criterion(prediction, batch.label)\n",
        "        acc = calc_accuracy(prediction, batch.label)\n",
        "\n",
        "        loss.backward()\n",
        "        optimizer.step()\n",
        "\n",
        "        epoch_loss += loss\n",
        "        epoch_acc += acc\n",
        "    \n",
        "    return epoch_loss/len(iterator) , epoch_acc / len(iterator)"
      ],
      "execution_count": 0,
      "outputs": []
    },
    {
      "cell_type": "code",
      "metadata": {
        "id": "D9vOV_-FtQNj",
        "colab_type": "code",
        "colab": {}
      },
      "source": [
        "def evaluate(model, iterator, criterion):\n",
        "    model.eval()\n",
        "    epoch_loss = 0\n",
        "    epoch_acc = 0\n",
        "    with torch.no_grad():\n",
        "        for batch in iterator:\n",
        "            text, text_length = batch.text\n",
        "            prediction  = model(text, text_length).squeeze(1)\n",
        "            loss = criterion(prediction, batch.label)\n",
        "            acc = calc_accuracy(prediction, batch.label)\n",
        "\n",
        "            epoch_loss += loss\n",
        "            epoch_acc += acc\n",
        "\n",
        "    return epoch_loss/len(iterator), epoch_acc/len(iterator)\n",
        "\n"
      ],
      "execution_count": 0,
      "outputs": []
    },
    {
      "cell_type": "markdown",
      "metadata": {
        "id": "IabJd6P3vAT6",
        "colab_type": "text"
      },
      "source": [
        "##### Training and Evaluating Model"
      ]
    },
    {
      "cell_type": "code",
      "metadata": {
        "id": "hwhoYFdMvcIy",
        "colab_type": "code",
        "colab": {}
      },
      "source": [
        "optimizer = optim.Adam(model.parameters(), weight_decay=0.001)\n",
        "criterion = nn.BCEWithLogitsLoss().to(device)\n",
        "model = model.to(device)"
      ],
      "execution_count": 0,
      "outputs": []
    },
    {
      "cell_type": "code",
      "metadata": {
        "id": "uxJdrWP7u9--",
        "colab_type": "code",
        "colab": {}
      },
      "source": [
        "EPOCHS = 10"
      ],
      "execution_count": 0,
      "outputs": []
    },
    {
      "cell_type": "code",
      "metadata": {
        "id": "8kuueF70vG-O",
        "colab_type": "code",
        "colab": {
          "base_uri": "https://localhost:8080/",
          "height": 406,
          "referenced_widgets": [
            "35825555e75f49b688973f1d9667d681",
            "091a1c867c48447b9b0bd22b6f06cc51",
            "2f0273399d464cfba89fd657168b77e9",
            "86b0c9f7784e49bf8807f34283c6ee85",
            "33767acbc6b14a7b967281b8ffa4d088",
            "add254a2d610410c96f50f2b8468f17b",
            "dbc4d54d405e4af08c6076daae82f15c",
            "387728856edb4d6a9d6d96079089c15e"
          ]
        },
        "outputId": "397bc3b8-09f9-4741-8bb5-a6da786740f9"
      },
      "source": [
        "for i in tqdm(range(EPOCHS)):\n",
        "    train_loss, train_acc = train(model, train_iterator, optimizer, criterion )\n",
        "    valid_loss, valid_acc = evaluate(model, valid_iterator, criterion)\n",
        "\n",
        "    print(\"Epoch: [{:02} / {:02}]  \\tTraining Loss: {:.4f} \\t\\tTraining Accuracy: {:.4f}\".format(i+1, EPOCHS, train_loss, train_acc))\n",
        "    print(\"Epoch: [{:02} / {:02}] \\tValidation Loss: {:.4f} \\tValidation Accuracy: {:.4f}\".format(i+1, EPOCHS, valid_loss, valid_acc))"
      ],
      "execution_count": 113,
      "outputs": [
        {
          "output_type": "display_data",
          "data": {
            "application/vnd.jupyter.widget-view+json": {
              "model_id": "35825555e75f49b688973f1d9667d681",
              "version_minor": 0,
              "version_major": 2
            },
            "text/plain": [
              "HBox(children=(FloatProgress(value=0.0, max=10.0), HTML(value='')))"
            ]
          },
          "metadata": {
            "tags": []
          }
        },
        {
          "output_type": "stream",
          "text": [
            "Epoch: [01 / 10]  \tTraining Loss: 0.5093 \t\tTraining Accuracy: 0.7431\n",
            "Epoch: [01 / 10] \tValidation Loss: 0.4205 \tValidation Accuracy: 0.7984\n",
            "Epoch: [02 / 10]  \tTraining Loss: 0.3153 \t\tTraining Accuracy: 0.8690\n",
            "Epoch: [02 / 10] \tValidation Loss: 0.3157 \tValidation Accuracy: 0.8746\n",
            "Epoch: [03 / 10]  \tTraining Loss: 0.2959 \t\tTraining Accuracy: 0.8774\n",
            "Epoch: [03 / 10] \tValidation Loss: 0.4543 \tValidation Accuracy: 0.7969\n",
            "Epoch: [04 / 10]  \tTraining Loss: 0.2130 \t\tTraining Accuracy: 0.9170\n",
            "Epoch: [04 / 10] \tValidation Loss: 0.3186 \tValidation Accuracy: 0.8838\n",
            "Epoch: [05 / 10]  \tTraining Loss: 0.1302 \t\tTraining Accuracy: 0.9546\n",
            "Epoch: [05 / 10] \tValidation Loss: 0.3318 \tValidation Accuracy: 0.8828\n",
            "Epoch: [06 / 10]  \tTraining Loss: 0.0885 \t\tTraining Accuracy: 0.9700\n",
            "Epoch: [06 / 10] \tValidation Loss: 0.4079 \tValidation Accuracy: 0.8709\n",
            "Epoch: [07 / 10]  \tTraining Loss: 0.0681 \t\tTraining Accuracy: 0.9784\n",
            "Epoch: [07 / 10] \tValidation Loss: 0.4582 \tValidation Accuracy: 0.8828\n",
            "Epoch: [08 / 10]  \tTraining Loss: 0.0364 \t\tTraining Accuracy: 0.9896\n",
            "Epoch: [08 / 10] \tValidation Loss: 0.4898 \tValidation Accuracy: 0.8734\n",
            "Epoch: [09 / 10]  \tTraining Loss: 0.0260 \t\tTraining Accuracy: 0.9937\n",
            "Epoch: [09 / 10] \tValidation Loss: 0.5522 \tValidation Accuracy: 0.8777\n",
            "Epoch: [10 / 10]  \tTraining Loss: 0.0144 \t\tTraining Accuracy: 0.9973\n",
            "Epoch: [10 / 10] \tValidation Loss: 0.5847 \tValidation Accuracy: 0.8797\n",
            "\n"
          ],
          "name": "stdout"
        }
      ]
    },
    {
      "cell_type": "code",
      "metadata": {
        "id": "egrBHYrRwjch",
        "colab_type": "code",
        "colab": {
          "base_uri": "https://localhost:8080/",
          "height": 34
        },
        "outputId": "298e0d11-a219-4892-cf3b-1c95b73654bc"
      },
      "source": [
        "test_loss, test_acc = evaluate(model, test_iterator, criterion)\n",
        "print('Test Loss: {:.4f} \\tTest Accuracy: {:.2f}%'.format(valid_loss, valid_acc*100))"
      ],
      "execution_count": 117,
      "outputs": [
        {
          "output_type": "stream",
          "text": [
            "Test Loss: 0.5847 \tTest Accuracy: 87.97%\n"
          ],
          "name": "stdout"
        }
      ]
    },
    {
      "cell_type": "markdown",
      "metadata": {
        "id": "CnCAMgv_y41Z",
        "colab_type": "text"
      },
      "source": [
        "##### Adding Regularization \n",
        "L2 Norm will be added by adding weight decay in Optimizer"
      ]
    },
    {
      "cell_type": "code",
      "metadata": {
        "id": "kNPZepLPyt67",
        "colab_type": "code",
        "colab": {
          "base_uri": "https://localhost:8080/",
          "height": 406,
          "referenced_widgets": [
            "eb6deec53fe64e17ac9541c6da774f59",
            "41a114e6273a461598fc52979e36ab0e",
            "026f8a69d87d460a91f29f4c4244de5a",
            "fd49d52a022140bdb57aba9ae7b124e8",
            "e4c74f79ab9a47dea6804f3a125c51fd",
            "756d1d33d22b4fedaed1e90f5f6c938d",
            "c11563f6573e4d81981dcae031070c73",
            "27f39886871e47a99c89ecbf2ac6bf76"
          ]
        },
        "outputId": "ead946b0-a64b-44fe-9222-539ec9c462ab"
      },
      "source": [
        "model = RNN(INPUT_DIM, EMBEDDING_DIM, PADDING_IDX, HIDDEN_DIM, NUM_LAYERS, DROPOUT, OUTPUT_DIM)\n",
        "optimizer = optim.Adam(model.parameters(), weight_decay=0.0001)\n",
        "criterion = nn.BCEWithLogitsLoss().to(device)\n",
        "model = model.to(device)\n",
        "\n",
        "for i in tqdm(range(EPOCHS)):\n",
        "    train_loss, train_acc = train(model, train_iterator, optimizer, criterion )\n",
        "    valid_loss, valid_acc = evaluate(model, valid_iterator, criterion)\n",
        "\n",
        "    print(\"Epoch: [{:02} / {:02}]  \\tTraining Loss: {:.4f} \\t\\tTraining Accuracy: {:.4f}\".format(i+1, EPOCHS, train_loss, train_acc))\n",
        "    print(\"Epoch: [{:02} / {:02}] \\tValidation Loss: {:.4f} \\tValidation Accuracy: {:.4f}\".format(i+1, EPOCHS, valid_loss, valid_acc))"
      ],
      "execution_count": 120,
      "outputs": [
        {
          "output_type": "display_data",
          "data": {
            "application/vnd.jupyter.widget-view+json": {
              "model_id": "eb6deec53fe64e17ac9541c6da774f59",
              "version_minor": 0,
              "version_major": 2
            },
            "text/plain": [
              "HBox(children=(FloatProgress(value=0.0, max=10.0), HTML(value='')))"
            ]
          },
          "metadata": {
            "tags": []
          }
        },
        {
          "output_type": "stream",
          "text": [
            "Epoch: [01 / 10]  \tTraining Loss: 0.6125 \t\tTraining Accuracy: 0.6520\n",
            "Epoch: [01 / 10] \tValidation Loss: 0.5299 \tValidation Accuracy: 0.7303\n",
            "Epoch: [02 / 10]  \tTraining Loss: 0.5096 \t\tTraining Accuracy: 0.7495\n",
            "Epoch: [02 / 10] \tValidation Loss: 0.4595 \tValidation Accuracy: 0.7783\n",
            "Epoch: [03 / 10]  \tTraining Loss: 0.4296 \t\tTraining Accuracy: 0.8024\n",
            "Epoch: [03 / 10] \tValidation Loss: 0.4616 \tValidation Accuracy: 0.7785\n",
            "Epoch: [04 / 10]  \tTraining Loss: 0.4735 \t\tTraining Accuracy: 0.7781\n",
            "Epoch: [04 / 10] \tValidation Loss: 0.4263 \tValidation Accuracy: 0.8217\n",
            "Epoch: [05 / 10]  \tTraining Loss: 0.3734 \t\tTraining Accuracy: 0.8378\n",
            "Epoch: [05 / 10] \tValidation Loss: 0.3793 \tValidation Accuracy: 0.8314\n",
            "Epoch: [06 / 10]  \tTraining Loss: 0.3098 \t\tTraining Accuracy: 0.8724\n",
            "Epoch: [06 / 10] \tValidation Loss: 0.3591 \tValidation Accuracy: 0.8445\n",
            "Epoch: [07 / 10]  \tTraining Loss: 0.2950 \t\tTraining Accuracy: 0.8833\n",
            "Epoch: [07 / 10] \tValidation Loss: 0.3591 \tValidation Accuracy: 0.8434\n",
            "Epoch: [08 / 10]  \tTraining Loss: 0.3045 \t\tTraining Accuracy: 0.8751\n",
            "Epoch: [08 / 10] \tValidation Loss: 0.3360 \tValidation Accuracy: 0.8566\n",
            "Epoch: [09 / 10]  \tTraining Loss: 0.2318 \t\tTraining Accuracy: 0.9131\n",
            "Epoch: [09 / 10] \tValidation Loss: 0.3607 \tValidation Accuracy: 0.8527\n",
            "Epoch: [10 / 10]  \tTraining Loss: 0.2012 \t\tTraining Accuracy: 0.9256\n",
            "Epoch: [10 / 10] \tValidation Loss: 0.3333 \tValidation Accuracy: 0.8658\n",
            "\n"
          ],
          "name": "stdout"
        }
      ]
    },
    {
      "cell_type": "code",
      "metadata": {
        "id": "NnHvMMGTzL2H",
        "colab_type": "code",
        "colab": {
          "base_uri": "https://localhost:8080/",
          "height": 34
        },
        "outputId": "24a238d8-f7ba-4b75-ebec-434531d46af4"
      },
      "source": [
        "test_loss, test_acc = evaluate(model, test_iterator, criterion)\n",
        "print('Test Loss: {:.4f} \\tTest Accuracy: {:.2f}%'.format(test_loss, test_acc*100))"
      ],
      "execution_count": 123,
      "outputs": [
        {
          "output_type": "stream",
          "text": [
            "Test Loss: 0.3650 \tTest Accuracy: 85.47%\n"
          ],
          "name": "stdout"
        }
      ]
    },
    {
      "cell_type": "markdown",
      "metadata": {
        "id": "M4JvY5Vn29JM",
        "colab_type": "text"
      },
      "source": [
        "#### Fast Text Based Sentimental Analysis"
      ]
    },
    {
      "cell_type": "markdown",
      "metadata": {
        "id": "eqLTDaOV3q34",
        "colab_type": "text"
      },
      "source": [
        "##### Generating N-grams"
      ]
    },
    {
      "cell_type": "code",
      "metadata": {
        "id": "NKzuMQF2075I",
        "colab_type": "code",
        "colab": {}
      },
      "source": [
        "def generate_n_grams(sentence, n=2):\n",
        "    grams =  set(zip(*[x[i:] for i in range(n)]))\n",
        "    for gram in grams:\n",
        "        sentence.append(' '.join(gram))\n",
        "    return sentence"
      ],
      "execution_count": 0,
      "outputs": []
    },
    {
      "cell_type": "code",
      "metadata": {
        "id": "JT2wRPxi30j1",
        "colab_type": "code",
        "colab": {
          "base_uri": "https://localhost:8080/",
          "height": 170
        },
        "outputId": "5f47fc70-53bd-4ec3-c234-085e8d7548d6"
      },
      "source": [
        "# Testing Method\n",
        "x = ['hello', 'world', 'how', 'are', 'you']\n",
        "generate_n_grams(x, 2)"
      ],
      "execution_count": 14,
      "outputs": [
        {
          "output_type": "execute_result",
          "data": {
            "text/plain": [
              "['hello',\n",
              " 'world',\n",
              " 'how',\n",
              " 'are',\n",
              " 'you',\n",
              " 'are you',\n",
              " 'world how',\n",
              " 'how are',\n",
              " 'hello world']"
            ]
          },
          "metadata": {
            "tags": []
          },
          "execution_count": 14
        }
      ]
    },
    {
      "cell_type": "markdown",
      "metadata": {
        "id": "TI8LzkLU6ku4",
        "colab_type": "text"
      },
      "source": [
        "##### Load Data as BiGrams"
      ]
    },
    {
      "cell_type": "code",
      "metadata": {
        "id": "m_bkVVK234RR",
        "colab_type": "code",
        "colab": {}
      },
      "source": [
        "MAX_VOCAB = 25000\n",
        "\n",
        "TEXT_FT = data.Field(tokenize=tokenizer, preprocessing=generate_n_grams)\n",
        "LABEL_FT = data.LabelField(dtype=torch.float)\n",
        "\n",
        "train_data_FT, test_data_FT = datasets.IMDB.splits(TEXT_FT, LABEL_FT)\n",
        "train_data_FT, valid_data_FT = train_data_FT.split(random_state=random.seed(SEED))\n",
        "\n",
        "\n",
        "TEXT_FT.build_vocab(train_data_FT, \n",
        "                    max_size=MAX_VOCAB,\n",
        "                    vectors='glove.6B.100d',\n",
        "                    unk_init=torch.Tensor.normal_)\n",
        "LABEL_FT.build_vocab(train_data_FT)"
      ],
      "execution_count": 0,
      "outputs": []
    },
    {
      "cell_type": "markdown",
      "metadata": {
        "id": "Q_bgUdS66nzm",
        "colab_type": "text"
      },
      "source": [
        "##### Create Iterators"
      ]
    },
    {
      "cell_type": "code",
      "metadata": {
        "id": "Ot86zeHT5Un4",
        "colab_type": "code",
        "colab": {}
      },
      "source": [
        "device = torch.device('cuda' if torch.cuda.is_available() else 'cpu')\n",
        "\n",
        "BATCH_SIZE = 128\n",
        "train_iter_FT, valid_iter_FT, test_iter_FT = data.BucketIterator.splits(\n",
        "    (train_data_FT, valid_data_FT, test_data_FT),\n",
        "    batch_size=BATCH_SIZE,\n",
        "    device=device\n",
        ")"
      ],
      "execution_count": 0,
      "outputs": []
    },
    {
      "cell_type": "markdown",
      "metadata": {
        "id": "RHZbOX9xiInC",
        "colab_type": "text"
      },
      "source": [
        "##### Defining Model"
      ]
    },
    {
      "cell_type": "code",
      "metadata": {
        "id": "U4lf_ZvQ6EeL",
        "colab_type": "code",
        "colab": {}
      },
      "source": [
        "class FastText(nn.Module):\n",
        "\n",
        "    def __init__(self, vocab_size, embeddding_dim, padding_idx, output_dim):\n",
        "        super(FastText, self).__init__()\n",
        "        self.embedding = nn.Embedding(vocab_size, embeddding_dim, padding_idx)\n",
        "        self.fc = nn.Linear(embeddding_dim, output_dim)\n",
        "    \n",
        "    def forward(self, x):\n",
        "        x = self.embedding(x)\n",
        "        x = x.permute(1, 0, 2)\n",
        "        x = F.avg_pool2d(x, (x.shape[1], 1)).squeeze(1)\n",
        "        return self.fc(x)"
      ],
      "execution_count": 0,
      "outputs": []
    },
    {
      "cell_type": "markdown",
      "metadata": {
        "id": "iney6EkDm_3j",
        "colab_type": "text"
      },
      "source": [
        "##### HyperParameters"
      ]
    },
    {
      "cell_type": "code",
      "metadata": {
        "id": "Aw-jhuWEm73E",
        "colab_type": "code",
        "colab": {}
      },
      "source": [
        "INPUT_DIM_FT = len(TEXT_FT.vocab)\n",
        "EMBEDDING_DIM_FT = 100\n",
        "PADDING_IDX_FT = TEXT_FT.vocab.stoi[TEXT_FT.pad_token]\n",
        "OUTPUT_DIM_FT = 1\n"
      ],
      "execution_count": 0,
      "outputs": []
    },
    {
      "cell_type": "code",
      "metadata": {
        "id": "y7roc2uGntXX",
        "colab_type": "code",
        "colab": {}
      },
      "source": [
        "model_ft = FastText(INPUT_DIM_FT, EMBEDDING_DIM_FT, PADDING_IDX_FT, OUTPUT_DIM_FT)"
      ],
      "execution_count": 0,
      "outputs": []
    },
    {
      "cell_type": "code",
      "metadata": {
        "id": "wzEX3K1uoBP7",
        "colab_type": "code",
        "colab": {
          "base_uri": "https://localhost:8080/",
          "height": 34
        },
        "outputId": "85b4ac12-5419-46ec-ebfe-246e58aaeca5"
      },
      "source": [
        "print('Number of Parameters: {:,}'.format(sum([p.numel() for p in model_ft.parameters() if p.requires_grad])))"
      ],
      "execution_count": 68,
      "outputs": [
        {
          "output_type": "stream",
          "text": [
            "Number of Parameters: 2,500,301\n"
          ],
          "name": "stdout"
        }
      ]
    },
    {
      "cell_type": "markdown",
      "metadata": {
        "id": "OiHhcDlgohYv",
        "colab_type": "text"
      },
      "source": [
        "##### Adding PreTrained Embedding"
      ]
    },
    {
      "cell_type": "code",
      "metadata": {
        "id": "9qaPJV3-oZBW",
        "colab_type": "code",
        "colab": {
          "base_uri": "https://localhost:8080/",
          "height": 238
        },
        "outputId": "75569c7c-dbe3-411d-a9dc-6ed37f882c7c"
      },
      "source": [
        "model_ft.embedding.weight.data.copy_(TEXT_FT.vocab.vectors)"
      ],
      "execution_count": 69,
      "outputs": [
        {
          "output_type": "execute_result",
          "data": {
            "text/plain": [
              "tensor([[ 2.2200e-01,  7.3758e-02,  1.0746e+00,  ..., -7.5162e-01,\n",
              "          5.6054e-01,  8.6046e-01],\n",
              "        [ 1.4007e+00, -1.0216e+00, -5.1132e-01,  ..., -1.5382e+00,\n",
              "          8.6998e-02, -6.7848e-01],\n",
              "        [ 3.8251e-01,  1.4821e-01,  6.0601e-01,  ...,  5.8921e-02,\n",
              "          9.1112e-02,  4.7283e-01],\n",
              "        ...,\n",
              "        [-4.5144e-01,  5.4495e-01,  6.5739e-01,  ..., -8.7689e-01,\n",
              "          5.6956e-01, -7.0563e-01],\n",
              "        [ 2.3987e-01, -1.4909e-01, -4.3024e-01,  ...,  8.1191e-05,\n",
              "         -8.2991e-01,  7.1019e-01],\n",
              "        [-1.3179e-02,  9.1583e-01, -1.5579e-01,  ..., -4.9257e-01,\n",
              "          4.0668e-01,  2.0437e-01]])"
            ]
          },
          "metadata": {
            "tags": []
          },
          "execution_count": 69
        }
      ]
    },
    {
      "cell_type": "code",
      "metadata": {
        "id": "x9ox9yhro0_E",
        "colab_type": "code",
        "colab": {}
      },
      "source": [
        "# Unknown word embeddings zero\n",
        "model_ft.embedding.weight.data[TEXT_FT.vocab.stoi[TEXT_FT.unk_token]] = torch.zeros(EMBEDDING_DIM_FT)\n",
        "model_ft.embedding.weight.data[PADDING_IDX_FT] = torch.zeros(EMBEDDING_DIM_FT)"
      ],
      "execution_count": 0,
      "outputs": []
    },
    {
      "cell_type": "markdown",
      "metadata": {
        "id": "A3qejczUpUst",
        "colab_type": "text"
      },
      "source": [
        "##### Training Methods"
      ]
    },
    {
      "cell_type": "code",
      "metadata": {
        "id": "Uy-hH9gLqbxY",
        "colab_type": "code",
        "colab": {}
      },
      "source": [
        "def train(model, iterator, optimizer, criterion):\n",
        "    model.train()\n",
        "    epoch_loss = 0\n",
        "    epoch_acc = 0\n",
        "\n",
        "    for batch in iterator:\n",
        "        optimizer.zero_grad()\n",
        "        \n",
        "        text = batch.text\n",
        "        prediction = model(text).squeeze(1)\n",
        "        \n",
        "        loss = criterion(prediction, batch.label)\n",
        "        acc = calc_accuracy(prediction, batch.label)\n",
        "\n",
        "        loss.backward()\n",
        "        optimizer.step()\n",
        "\n",
        "        epoch_loss += loss\n",
        "        epoch_acc += acc\n",
        "    \n",
        "    return epoch_loss/len(iterator) , epoch_acc / len(iterator)"
      ],
      "execution_count": 0,
      "outputs": []
    },
    {
      "cell_type": "code",
      "metadata": {
        "id": "hmZ685y0qfKF",
        "colab_type": "code",
        "colab": {}
      },
      "source": [
        "def evaluate(model, iterator, criterion):\n",
        "    model.eval()\n",
        "    epoch_loss = 0\n",
        "    epoch_acc = 0\n",
        "    with torch.no_grad():\n",
        "        for batch in iterator:\n",
        "            text = batch.text\n",
        "            prediction  = model(text).squeeze(1)\n",
        "            loss = criterion(prediction, batch.label)\n",
        "            acc = calc_accuracy(prediction, batch.label)\n",
        "\n",
        "            epoch_loss += loss\n",
        "            epoch_acc += acc\n",
        "\n",
        "    return epoch_loss/len(iterator), epoch_acc/len(iterator)\n",
        "\n"
      ],
      "execution_count": 0,
      "outputs": []
    },
    {
      "cell_type": "code",
      "metadata": {
        "id": "bX-2mbZUpNpW",
        "colab_type": "code",
        "colab": {}
      },
      "source": [
        "optimizer = optim.Adam(model_ft.parameters())"
      ],
      "execution_count": 0,
      "outputs": []
    },
    {
      "cell_type": "code",
      "metadata": {
        "id": "4FSNSuH3pd1C",
        "colab_type": "code",
        "colab": {}
      },
      "source": [
        "criterion = nn.BCEWithLogitsLoss()"
      ],
      "execution_count": 0,
      "outputs": []
    },
    {
      "cell_type": "code",
      "metadata": {
        "id": "F3FZ4sncpiXZ",
        "colab_type": "code",
        "colab": {}
      },
      "source": [
        "model_ft = model_ft.to(device)\n",
        "criterion = criterion.to(device)"
      ],
      "execution_count": 0,
      "outputs": []
    },
    {
      "cell_type": "markdown",
      "metadata": {
        "id": "ImHLT5lLqzAy",
        "colab_type": "text"
      },
      "source": [
        "##### Training and Evaluating Model"
      ]
    },
    {
      "cell_type": "code",
      "metadata": {
        "id": "4-i3vkT_pofH",
        "colab_type": "code",
        "colab": {
          "base_uri": "https://localhost:8080/",
          "height": 357
        },
        "outputId": "844f7bdc-002c-4110-9537-066f14310982"
      },
      "source": [
        "EPOCHS = 10\n",
        "\n",
        "for i in range(EPOCHS):\n",
        "    train_loss, train_acc = train(model_ft, train_iter_FT, optimizer, criterion)\n",
        "    valid_loss, valid_acc = evaluate(model_ft, valid_iter_FT, criterion)\n",
        "\n",
        "    \n",
        "    print(\"Epoch: [{:02} / {:02}]  \\tTraining Loss: {:.4f} \\t\\tTraining Accuracy: {:.4f}\".format(i+1, EPOCHS, train_loss, train_acc))\n",
        "    print(\"Epoch: [{:02} / {:02}] \\tValidation Loss: {:.4f} \\tValidation Accuracy: {:.4f}\".format(i+1, EPOCHS, valid_loss, valid_acc))"
      ],
      "execution_count": 76,
      "outputs": [
        {
          "output_type": "stream",
          "text": [
            "Epoch: [01 / 10]  \tTraining Loss: 0.6873 \t\tTraining Accuracy: 0.5894\n",
            "Epoch: [01 / 10] \tValidation Loss: 0.6377 \tValidation Accuracy: 0.6963\n",
            "Epoch: [02 / 10]  \tTraining Loss: 0.6598 \t\tTraining Accuracy: 0.7337\n",
            "Epoch: [02 / 10] \tValidation Loss: 0.5136 \tValidation Accuracy: 0.8134\n",
            "Epoch: [03 / 10]  \tTraining Loss: 0.6058 \t\tTraining Accuracy: 0.8099\n",
            "Epoch: [03 / 10] \tValidation Loss: 0.4072 \tValidation Accuracy: 0.8334\n",
            "Epoch: [04 / 10]  \tTraining Loss: 0.5368 \t\tTraining Accuracy: 0.8343\n",
            "Epoch: [04 / 10] \tValidation Loss: 0.3647 \tValidation Accuracy: 0.8461\n",
            "Epoch: [05 / 10]  \tTraining Loss: 0.4736 \t\tTraining Accuracy: 0.8613\n",
            "Epoch: [05 / 10] \tValidation Loss: 0.3595 \tValidation Accuracy: 0.8599\n",
            "Epoch: [06 / 10]  \tTraining Loss: 0.4195 \t\tTraining Accuracy: 0.8773\n",
            "Epoch: [06 / 10] \tValidation Loss: 0.3636 \tValidation Accuracy: 0.8688\n",
            "Epoch: [07 / 10]  \tTraining Loss: 0.3762 \t\tTraining Accuracy: 0.8894\n",
            "Epoch: [07 / 10] \tValidation Loss: 0.3775 \tValidation Accuracy: 0.8757\n",
            "Epoch: [08 / 10]  \tTraining Loss: 0.3404 \t\tTraining Accuracy: 0.9003\n",
            "Epoch: [08 / 10] \tValidation Loss: 0.3931 \tValidation Accuracy: 0.8802\n",
            "Epoch: [09 / 10]  \tTraining Loss: 0.3120 \t\tTraining Accuracy: 0.9081\n",
            "Epoch: [09 / 10] \tValidation Loss: 0.4097 \tValidation Accuracy: 0.8835\n",
            "Epoch: [10 / 10]  \tTraining Loss: 0.2871 \t\tTraining Accuracy: 0.9129\n",
            "Epoch: [10 / 10] \tValidation Loss: 0.4256 \tValidation Accuracy: 0.8861\n"
          ],
          "name": "stdout"
        }
      ]
    },
    {
      "cell_type": "code",
      "metadata": {
        "id": "ebwDViecp9xI",
        "colab_type": "code",
        "colab": {
          "base_uri": "https://localhost:8080/",
          "height": 34
        },
        "outputId": "e8625b0c-03c9-4c6b-aaed-1bd8aeefd285"
      },
      "source": [
        "test_loss, test_acc = evaluate(model_ft, test_iter_FT, criterion)\n",
        "print('Test Loss: {:.4f} \\tTest Accuracy: {:.2f}%'.format(test_loss, test_acc*100))"
      ],
      "execution_count": 79,
      "outputs": [
        {
          "output_type": "stream",
          "text": [
            "Test Loss: 0.4635 \tTest Accuracy: 87.56%\n"
          ],
          "name": "stdout"
        }
      ]
    },
    {
      "cell_type": "code",
      "metadata": {
        "id": "0X3yo284q1F6",
        "colab_type": "code",
        "colab": {}
      },
      "source": [
        ""
      ],
      "execution_count": 0,
      "outputs": []
    }
  ]
}