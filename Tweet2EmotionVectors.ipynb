{
  "nbformat": 4,
  "nbformat_minor": 0,
  "metadata": {
    "colab": {
      "name": "Tweet2EmotionVectors.ipynb",
      "provenance": [],
      "include_colab_link": true
    },
    "kernelspec": {
      "name": "python3",
      "display_name": "Python 3"
    },
    "accelerator": "GPU"
  },
  "cells": [
    {
      "cell_type": "markdown",
      "metadata": {
        "id": "view-in-github",
        "colab_type": "text"
      },
      "source": [
        "<a href=\"https://colab.research.google.com/github/shivammehta007/NLPResearch/blob/master/Tweet2EmotionVectors.ipynb\" target=\"_parent\"><img src=\"https://colab.research.google.com/assets/colab-badge.svg\" alt=\"Open In Colab\"/></a>"
      ]
    },
    {
      "cell_type": "markdown",
      "metadata": {
        "id": "TFQBNLWiga1h",
        "colab_type": "text"
      },
      "source": [
        "# Tweet To Emotion\n",
        "#### Converting User input tweets to emotion prediction"
      ]
    },
    {
      "cell_type": "code",
      "metadata": {
        "id": "aFgoqUOrfca1",
        "colab_type": "code",
        "colab": {
          "base_uri": "https://localhost:8080/",
          "height": 51
        },
        "outputId": "60194343-b4fd-46ee-f00b-e81e4cc9b291"
      },
      "source": [
        "import random\n",
        "import os\n",
        "import re\n",
        "\n",
        "import numpy as np\n",
        "import pandas as pd\n",
        "\n",
        "import torch\n",
        "import torch.optim as optim\n",
        "import torch.nn as nn\n",
        "import torch.nn.functional as F\n",
        "\n",
        "\n",
        "from torchtext import data\n",
        "from torchtext.data import Field\n",
        "from torchtext.data import TabularDataset\n",
        "\n",
        "\n",
        "from string import punctuation\n",
        "\n",
        "import nltk\n",
        "from nltk import word_tokenize\n",
        "import spacy\n",
        "\n",
        "import tqdm\n",
        "\n",
        "nltk.download('punkt')\n",
        "nlp = spacy.load('en')\n",
        "device = torch.device('cuda' if torch.cuda.is_available() else 'cpu')"
      ],
      "execution_count": 37,
      "outputs": [
        {
          "output_type": "stream",
          "text": [
            "[nltk_data] Downloading package punkt to /root/nltk_data...\n",
            "[nltk_data]   Package punkt is already up-to-date!\n"
          ],
          "name": "stdout"
        }
      ]
    },
    {
      "cell_type": "code",
      "metadata": {
        "id": "_cXg4WABgrkS",
        "colab_type": "code",
        "colab": {}
      },
      "source": [
        "# Setting up Custom SEED\n",
        "SEED = 1234\n",
        "torch.manual_seed(SEED)\n",
        "torch.cuda.manual_seed(SEED)\n",
        "np.random.seed(SEED)\n",
        "torch.backends.cudnn.deterministic = True\n",
        "random.seed(SEED)"
      ],
      "execution_count": 0,
      "outputs": []
    },
    {
      "cell_type": "code",
      "metadata": {
        "id": "BFjxnLNfky6X",
        "colab_type": "code",
        "colab": {
          "base_uri": "https://localhost:8080/",
          "height": 122
        },
        "outputId": "0f316760-1894-4f9b-b559-0348d1ca71ae"
      },
      "source": [
        "from google.colab import drive\n",
        "drive.mount('/content/drive')"
      ],
      "execution_count": 1,
      "outputs": [
        {
          "output_type": "stream",
          "text": [
            "Go to this URL in a browser: https://accounts.google.com/o/oauth2/auth?client_id=947318989803-6bn6qk8qdgf4n4g3pfee6491hc0brc4i.apps.googleusercontent.com&redirect_uri=urn%3aietf%3awg%3aoauth%3a2.0%3aoob&response_type=code&scope=email%20https%3a%2f%2fwww.googleapis.com%2fauth%2fdocs.test%20https%3a%2f%2fwww.googleapis.com%2fauth%2fdrive%20https%3a%2f%2fwww.googleapis.com%2fauth%2fdrive.photos.readonly%20https%3a%2f%2fwww.googleapis.com%2fauth%2fpeopleapi.readonly\n",
            "\n",
            "Enter your authorization code:\n",
            "··········\n",
            "Mounted at /content/drive\n"
          ],
          "name": "stdout"
        }
      ]
    },
    {
      "cell_type": "code",
      "metadata": {
        "id": "75nXXJiyk1IF",
        "colab_type": "code",
        "colab": {}
      },
      "source": [
        "# Change if location is different\n",
        "data_location = 'drive/My Drive/Homeworks/SNARecSysProject/'"
      ],
      "execution_count": 0,
      "outputs": []
    },
    {
      "cell_type": "code",
      "metadata": {
        "id": "wdU2C6qrhpcj",
        "colab_type": "code",
        "colab": {
          "base_uri": "https://localhost:8080/",
          "height": 34
        },
        "outputId": "8964ed84-9c6a-4996-bed5-792d4992cb0e"
      },
      "source": [
        "os.listdir(data_location)"
      ],
      "execution_count": 13,
      "outputs": [
        {
          "output_type": "execute_result",
          "data": {
            "text/plain": [
              "['SemVal-Dataset']"
            ]
          },
          "metadata": {
            "tags": []
          },
          "execution_count": 13
        }
      ]
    },
    {
      "cell_type": "markdown",
      "metadata": {
        "id": "6qvsby8MmLzg",
        "colab_type": "text"
      },
      "source": [
        "## Data Loading"
      ]
    },
    {
      "cell_type": "markdown",
      "metadata": {
        "id": "Ukm6edhpxyX6",
        "colab_type": "text"
      },
      "source": [
        "### Helper Functions"
      ]
    },
    {
      "cell_type": "markdown",
      "metadata": {
        "id": "oYe5V6thx3zH",
        "colab_type": "text"
      },
      "source": [
        "#### Reading Filenames"
      ]
    },
    {
      "cell_type": "code",
      "metadata": {
        "id": "_9A7byz5nR-g",
        "colab_type": "code",
        "colab": {}
      },
      "source": [
        "def filenames(current_dataset_name, train='train.csv', val='val.csv', test='test.csv'):\n",
        "    \"\"\"\n",
        "    Loads the current dataset into memory and returns its dataframes\n",
        "    Input Parameters:\n",
        "    current_dataset_name -> string: Name of folder containing this dataset\n",
        "    \"\"\"\n",
        "    train = os.path.join(data_location, current_dataset_name, train), \n",
        "    val = os.path.join(data_location, current_dataset_name, val) if val and os.path.exists(os.path.join(data_location, current_dataset_name, val)) else None\n",
        "    test = os.path.join(data_location, current_dataset_name, test) if test and os.path.exists(os.path.join(data_location, current_dataset_name, test)) else None\n",
        "    return train, val, test"
      ],
      "execution_count": 0,
      "outputs": []
    },
    {
      "cell_type": "markdown",
      "metadata": {
        "id": "-98Fi-zooqeV",
        "colab_type": "text"
      },
      "source": [
        "### Current DataSet: SemVal"
      ]
    },
    {
      "cell_type": "markdown",
      "metadata": {
        "id": "pwA_IQ5KxwJY",
        "colab_type": "text"
      },
      "source": [
        "#### Creating Filenames"
      ]
    },
    {
      "cell_type": "code",
      "metadata": {
        "id": "eUiD242dnN0g",
        "colab_type": "code",
        "colab": {}
      },
      "source": [
        "current_dataset_name = 'SemVal-Dataset'\n",
        "filename_semval_train, filename_semval_val, filename_semval_test = filenames(current_dataset_name)"
      ],
      "execution_count": 0,
      "outputs": []
    },
    {
      "cell_type": "markdown",
      "metadata": {
        "id": "AhseKtEBxsnS",
        "colab_type": "text"
      },
      "source": [
        "#### Creating DataLoader"
      ]
    },
    {
      "cell_type": "code",
      "metadata": {
        "id": "8p82d9RFmPXE",
        "colab_type": "code",
        "colab": {}
      },
      "source": [
        "TEXT = Field(sequential=True, tokenize='spacy', lower=True)\n",
        "LABEL = Field(sequential=False, use_vocab=False, dtype=torch.long)"
      ],
      "execution_count": 0,
      "outputs": []
    },
    {
      "cell_type": "code",
      "metadata": {
        "id": "RVo58VDomn64",
        "colab_type": "code",
        "colab": {}
      },
      "source": [
        "semval_datafields = [(None, None), ('ID', None), ('Tweet', TEXT),\n",
        "                     ('anger', LABEL), ('anticipation', LABEL),\n",
        "                     ('disgust', LABEL), ('fear', LABEL),\n",
        "                     ('joy', LABEL), ('love', LABEL),\n",
        "                     ('optimism', LABEL), ('pessimism', LABEL),\n",
        "                     ('sadness', LABEL), ('surprise', LABEL)]\n",
        "trn, vld = TabularDataset.splits(\n",
        "               path=\"data\", # the root directory where the data lies\n",
        "               train='train.csv', validation=\"valid.csv\",\n",
        "               format='csv',\n",
        "               skip_header=True, # if your csv header has a header, make sure to pass this to ensure it doesn't get proceesed as data!\n",
        "               fields=tv_datafields)\n",
        "\n",
        "tst_datafields = [(\"id\", None), # we won't be needing the id, so we pass in None as the field\n",
        "                  (\"comment_text\", TEXT)]\n",
        "tst = TabularDataset(\n",
        "           path=\"data/test.csv\", # the file path\n",
        "           format='csv',\n",
        "           skip_header=True, # if your csv header has a header, make sure to pass this to ensure it doesn't get proceesed as data!\n",
        "           fields=tst_datafields)"
      ],
      "execution_count": 0,
      "outputs": []
    },
    {
      "cell_type": "code",
      "metadata": {
        "id": "wcaE89Rco1mt",
        "colab_type": "code",
        "colab": {}
      },
      "source": [
        ""
      ],
      "execution_count": 0,
      "outputs": []
    }
  ]
}