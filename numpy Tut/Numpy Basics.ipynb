{
 "cells": [
  {
   "cell_type": "markdown",
   "metadata": {
    "collapsed": true
   },
   "source": [
    "# Basics of Numpy"
   ]
  },
  {
   "cell_type": "markdown",
   "metadata": {},
   "source": [
    "## Array Attributes"
   ]
  },
  {
   "cell_type": "code",
   "execution_count": 1,
   "metadata": {},
   "outputs": [],
   "source": [
    "import numpy as np\n"
   ]
  },
  {
   "cell_type": "code",
   "execution_count": 5,
   "metadata": {},
   "outputs": [],
   "source": [
    "np.random.seed(0)\n",
    "x1 = np.random.randint(10, size=6)\n",
    "x2 = np.random.randint(10, size=(3,4))\n",
    "x3 = np.random.randint(10, size=(3,4,5))"
   ]
  },
  {
   "cell_type": "code",
   "execution_count": 13,
   "metadata": {
    "collapsed": true
   },
   "outputs": [
    {
     "name": "stdout",
     "output_type": "stream",
     "text": [
      "[5 0 3 3 7 9] [[3 5 2 4]\n [7 6 8 8]\n [1 6 7 7]] [[[8 1 5 9 8]\n  [9 4 3 0 3]\n  [5 0 2 3 8]\n  [1 3 3 3 7]]\n\n [[0 1 9 9 0]\n  [4 7 3 2 7]\n  [2 0 0 4 5]\n  [5 6 8 4 1]]\n\n [[4 9 8 1 1]\n  [7 9 9 3 6]\n  [7 2 0 3 5]\n  [9 4 4 6 4]]]\nDimension:  3\nShape:  (3, 4, 5)\nSize:  60\nDataType:  int64\nItemSize:  8\nnBytes:  480\n"
     ]
    }
   ],
   "source": [
    "print(x1, x2, x3)\n",
    "print('Dimension: ',x3.ndim)\n",
    "print('Shape: ', x3.shape)\n",
    "print('Size: ', x3.size)\n",
    "print('DataType: ', x3.dtype)\n",
    "print('ItemSize: ', x3.itemsize)\n",
    "print('nBytes: ', x3.nbytes)"
   ]
  },
  {
   "cell_type": "markdown",
   "metadata": {},
   "source": [
    "### Unlike Python List Numpy arrays are type specific"
   ]
  },
  {
   "cell_type": "code",
   "execution_count": null,
   "metadata": {},
   "outputs": [],
   "source": []
  }
 ],
 "metadata": {
  "kernelspec": {
   "display_name": "Python 2",
   "language": "python",
   "name": "python2"
  },
  "language_info": {
   "codemirror_mode": {
    "name": "ipython",
    "version": 2
   },
   "file_extension": ".py",
   "mimetype": "text/x-python",
   "name": "python",
   "nbconvert_exporter": "python",
   "pygments_lexer": "ipython2",
   "version": "2.7.6"
  }
 },
 "nbformat": 4,
 "nbformat_minor": 0
}
