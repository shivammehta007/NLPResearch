{
  "nbformat": 4,
  "nbformat_minor": 0,
  "metadata": {
    "colab": {
      "name": "RNN From Scratch.ipynb",
      "provenance": [],
      "include_colab_link": true
    },
    "kernelspec": {
      "name": "python3",
      "display_name": "Python 3"
    }
  },
  "cells": [
    {
      "cell_type": "markdown",
      "metadata": {
        "id": "view-in-github",
        "colab_type": "text"
      },
      "source": [
        "<a href=\"https://colab.research.google.com/github/shivammehta007/NLPResearch/blob/master/RNN_From_Scratch.ipynb\" target=\"_parent\"><img src=\"https://colab.research.google.com/assets/colab-badge.svg\" alt=\"Open In Colab\"/></a>"
      ]
    },
    {
      "cell_type": "code",
      "metadata": {
        "id": "cadVLGB6YpLA",
        "colab_type": "code",
        "colab": {}
      },
      "source": [
        "import numpy as np\n",
        "import torch\n",
        "import torch.nn as nn"
      ],
      "execution_count": 0,
      "outputs": []
    },
    {
      "cell_type": "code",
      "metadata": {
        "id": "5R7XuqWRY-nd",
        "colab_type": "code",
        "colab": {}
      },
      "source": [
        "text = ['It is such a beautiful weather today' , 'I feel like going for a walk', 'Trees and sky also looks very beautiful']\n",
        "\n",
        "# Create a Vocabulary of Characters\n",
        "\n",
        "vocab = set(' '.join(text))"
      ],
      "execution_count": 0,
      "outputs": []
    },
    {
      "cell_type": "code",
      "metadata": {
        "id": "c8egP0VGaeDr",
        "colab_type": "code",
        "colab": {}
      },
      "source": [
        "int2char = dict(enumerate(vocab))\n",
        "char2int = {char : index for index, char in int2char.items()}"
      ],
      "execution_count": 0,
      "outputs": []
    },
    {
      "cell_type": "code",
      "metadata": {
        "id": "DdjC5QMmae_z",
        "colab_type": "code",
        "colab": {
          "base_uri": "https://localhost:8080/",
          "height": 54
        },
        "outputId": "ce286705-946f-4b28-fa43-9a217ec83a28"
      },
      "source": [
        "print(int2char, char2int)"
      ],
      "execution_count": 37,
      "outputs": [
        {
          "output_type": "stream",
          "text": [
            "{0: 's', 1: 'y', 2: 'n', 3: 'v', 4: 'c', 5: 'w', 6: 'k', 7: 'g', 8: 'a', 9: 'l', 10: 'b', 11: 'o', 12: 'h', 13: ' ', 14: 'f', 15: 'I', 16: 'r', 17: 'i', 18: 'T', 19: 'u', 20: 't', 21: 'e', 22: 'd'} {'s': 0, 'y': 1, 'n': 2, 'v': 3, 'c': 4, 'w': 5, 'k': 6, 'g': 7, 'a': 8, 'l': 9, 'b': 10, 'o': 11, 'h': 12, ' ': 13, 'f': 14, 'I': 15, 'r': 16, 'i': 17, 'T': 18, 'u': 19, 't': 20, 'e': 21, 'd': 22}\n"
          ],
          "name": "stdout"
        }
      ]
    },
    {
      "cell_type": "code",
      "metadata": {
        "id": "vd8_MG3naySY",
        "colab_type": "code",
        "colab": {}
      },
      "source": [
        "# Padding all the text to that of maximum length\n",
        "max_length = len(max(text, key=len))"
      ],
      "execution_count": 0,
      "outputs": []
    },
    {
      "cell_type": "code",
      "metadata": {
        "id": "yxk0D1n7cCqB",
        "colab_type": "code",
        "colab": {}
      },
      "source": [
        "for i in range(len(text)):\n",
        "    while len(text[i]) < max_length:\n",
        "        text[i] += ' '"
      ],
      "execution_count": 0,
      "outputs": []
    },
    {
      "cell_type": "markdown",
      "metadata": {
        "id": "MluJQybzdVHx",
        "colab_type": "text"
      },
      "source": [
        "As we will predict next character in sequence , we will deveide the data into \n",
        "* Input\n",
        "* Ground Truth/ Target"
      ]
    },
    {
      "cell_type": "code",
      "metadata": {
        "id": "2-Hh9nlJcUbS",
        "colab_type": "code",
        "colab": {}
      },
      "source": [
        "input_sequence = [text[i][:-1] for i in range(len(text))]\n",
        "target_sequence = [text[i][1:] for i in range(len(text))]"
      ],
      "execution_count": 0,
      "outputs": []
    },
    {
      "cell_type": "code",
      "metadata": {
        "id": "Roc3UOoLeDdG",
        "colab_type": "code",
        "colab": {
          "base_uri": "https://localhost:8080/",
          "height": 51
        },
        "outputId": "8ef746f4-ce95-4816-afb5-aefc93d3cc15"
      },
      "source": [
        "print('Input_Sentence : {} \\nOutput_Sentence: {}'.format(input_sequence[2], target_sequence[2]))"
      ],
      "execution_count": 41,
      "outputs": [
        {
          "output_type": "stream",
          "text": [
            "Input_Sentence : Trees and sky also looks very beautifu \n",
            "Output_Sentence: rees and sky also looks very beautiful\n"
          ],
          "name": "stdout"
        }
      ]
    },
    {
      "cell_type": "markdown",
      "metadata": {
        "id": "V1Tpddx4fFWg",
        "colab_type": "text"
      },
      "source": [
        "Lets Convert all the Text to sequence of integers from the vocabulary, since computers understand numbers better than text anyday"
      ]
    },
    {
      "cell_type": "code",
      "metadata": {
        "id": "Ul_oMgTleFgn",
        "colab_type": "code",
        "colab": {}
      },
      "source": [
        "for i in range(len(text)):\n",
        "    input_sequence[i] = [char2int[x] for x in input_sequence[i]]\n",
        "    target_sequence[i] = [char2int[x] for x in target_sequence[i]]"
      ],
      "execution_count": 0,
      "outputs": []
    },
    {
      "cell_type": "code",
      "metadata": {
        "id": "1rUBUS5XfbT1",
        "colab_type": "code",
        "colab": {
          "base_uri": "https://localhost:8080/",
          "height": 51
        },
        "outputId": "cda51cb8-36d7-47f1-b7de-26d3602b4a6d"
      },
      "source": [
        "print('Input_Sentence : {} \\nOutput_Sentence: {}'.format(input_sequence[2], target_sequence[2]))"
      ],
      "execution_count": 43,
      "outputs": [
        {
          "output_type": "stream",
          "text": [
            "Input_Sentence : [18, 16, 21, 21, 0, 13, 8, 2, 22, 13, 0, 6, 1, 13, 8, 9, 0, 11, 13, 9, 11, 11, 6, 0, 13, 3, 21, 16, 1, 13, 10, 21, 8, 19, 20, 17, 14, 19] \n",
            "Output_Sentence: [16, 21, 21, 0, 13, 8, 2, 22, 13, 0, 6, 1, 13, 8, 9, 0, 11, 13, 9, 11, 11, 6, 0, 13, 3, 21, 16, 1, 13, 10, 21, 8, 19, 20, 17, 14, 19, 9]\n"
          ],
          "name": "stdout"
        }
      ]
    },
    {
      "cell_type": "code",
      "metadata": {
        "id": "Hn1HkdBWfcg1",
        "colab_type": "code",
        "colab": {}
      },
      "source": [
        "dict_size = len(char2int)\n",
        "seq_len = len(input_sequence[0])\n",
        "batch_size = len(text)"
      ],
      "execution_count": 0,
      "outputs": []
    },
    {
      "cell_type": "code",
      "metadata": {
        "id": "EDDXOYtmgaof",
        "colab_type": "code",
        "colab": {}
      },
      "source": [
        "# Create One Hot representation of it on dict size\n",
        "def one_hot_representation(sequence, dict_size, seq_len, batch_size):\n",
        "    features = np.zeros((batch_size, seq_len, dict_size), dtype=np.float32)\n",
        "    for i in range(batch_size):\n",
        "        for u in range(seq_len):\n",
        "            features[i, u, sequence[i][u]] = 1\n",
        "    return features"
      ],
      "execution_count": 0,
      "outputs": []
    },
    {
      "cell_type": "code",
      "metadata": {
        "id": "amECX0fIgb3h",
        "colab_type": "code",
        "colab": {
          "base_uri": "https://localhost:8080/",
          "height": 68
        },
        "outputId": "bb59ce89-e4c7-42c9-958f-38f9ae353c74"
      },
      "source": [
        "input_sequence = one_hot_representation(input_sequence, dict_size, seq_len, batch_size)\n",
        "print(input_sequence.shape)\n",
        "print(input_sequence[0,0])"
      ],
      "execution_count": 47,
      "outputs": [
        {
          "output_type": "stream",
          "text": [
            "(3, 38, 23)\n",
            "(3, 38, 23)\n",
            "[0. 0. 0. 0. 0. 0. 0. 0. 0. 0. 0. 0. 0. 0. 0. 1. 0. 0. 0. 0. 0. 0. 0.]\n"
          ],
          "name": "stdout"
        }
      ]
    },
    {
      "cell_type": "code",
      "metadata": {
        "id": "FeB8WQ3CiwNm",
        "colab_type": "code",
        "colab": {}
      },
      "source": [
        "device = torch.device('cuda') if torch.cuda.is_available else torch.device('cpu')"
      ],
      "execution_count": 0,
      "outputs": []
    },
    {
      "cell_type": "code",
      "metadata": {
        "id": "bOxYvySLjixd",
        "colab_type": "code",
        "colab": {}
      },
      "source": [
        "#Putting the input and output to Tensors \n",
        "input_sequence = torch.from_numpy(input_sequence)\n",
        "target_sequence = torch.Tensor(target_sequence)\n"
      ],
      "execution_count": 0,
      "outputs": []
    },
    {
      "cell_type": "code",
      "metadata": {
        "id": "OPdsNZURjjXA",
        "colab_type": "code",
        "colab": {}
      },
      "source": [
        "class Model(nn.Module):\n",
        "    def __init__(self,  input_size, output_size, hidden_dim, n_layers):\n",
        "        super(Model, self).__init__()\n",
        "        self.hidden_dim = hidden_dim\n",
        "        self.n_layers = n_layers\n",
        "\n",
        "        self.rnn = nn.RNN(iinput_size, hidden_dim, n_layers, batch_first=True)\n",
        "        self.fc = nn.Linear(hidden_dim, output_size) \n"
      ],
      "execution_count": 0,
      "outputs": []
    }
  ]
}