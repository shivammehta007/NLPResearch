{
 "cells": [
  {
   "cell_type": "code",
   "execution_count": 1,
   "metadata": {},
   "outputs": [
    {
     "name": "stderr",
     "output_type": "stream",
     "text": [
      "Using TensorFlow backend.\n"
     ]
    }
   ],
   "source": [
    "import keras.datasets.mnist as mnist\n",
    "from keras.layers.core import Dense, Dropout, Activation\n",
    "from keras.utils import np_utils\n",
    "from keras.models import Sequential\n",
    "import matplotlib.pyplot as plt\n",
    "import os\n",
    "os.environ['KMP_DUPLICATE_LIB_OK']='True'"
   ]
  },
  {
   "cell_type": "code",
   "execution_count": 2,
   "metadata": {},
   "outputs": [],
   "source": [
    "# importing the dataset :D\n",
    "(X_train, y_train) , (X_test, y_test) = mnist.load_data()"
   ]
  },
  {
   "cell_type": "code",
   "execution_count": 3,
   "metadata": {},
   "outputs": [
    {
     "data": {
      "image/png": "[encoded data removed]",
      "text/plain": [
       "<Figure size 432x288 with 1 Axes>"
      ]
     },
     "metadata": {},
     "output_type": "display_data"
    },
    {
     "data": {
      "image/png": "[encoded data removed]",
      "text/plain": [
       "<Figure size 432x288 with 1 Axes>"
      ]
     },
     "metadata": {},
     "output_type": "display_data"
    },
    {
     "data": {
      "image/png": "[encoded data removed]",
      "text/plain": [
       "<Figure size 432x288 with 1 Axes>"
      ]
     },
     "metadata": {},
     "output_type": "display_data"
    },
    {
     "data": {
      "image/png": "[encoded data removed]",
      "text/plain": [
       "<Figure size 432x288 with 1 Axes>"
      ]
     },
     "metadata": {},
     "output_type": "display_data"
    },
    {
     "data": {
      "image/png": "[encoded data removed]",
      "text/plain": [
       "<Figure size 432x288 with 1 Axes>"
      ]
     },
     "metadata": {},
     "output_type": "display_data"
    },
    {
     "data": {
      "image/png": "[encoded data removed]",
      "text/plain": [
       "<Figure size 432x288 with 1 Axes>"
      ]
     },
     "metadata": {},
     "output_type": "display_data"
    },
    {
     "data": {
      "image/png": "[encoded data removed]",
      "text/plain": [
       "<Figure size 432x288 with 1 Axes>"
      ]
     },
     "metadata": {},
     "output_type": "display_data"
    },
    {
     "data": {
      "image/png": "[encoded data removed]",
      "text/plain": [
       "<Figure size 432x288 with 1 Axes>"
      ]
     },
     "metadata": {},
     "output_type": "display_data"
    },
    {
     "data": {
      "image/png": "[encoded data removed]",
      "text/plain": [
       "<Figure size 432x288 with 1 Axes>"
      ]
     },
     "metadata": {},
     "output_type": "display_data"
    }
   ],
   "source": [
    "plt.figure()\n",
    "for i in range(9): \n",
    "    plt.subplot(3,3,i+1) \n",
    "    plt.tight_layout()\n",
    "    plt.imshow(X_train[i], cmap='gray', interpolation='none') \n",
    "    plt.title(\"Digit: {}\".format(y_train[i]))\n",
    "    plt.xticks([])\n",
    "    plt.yticks([]) \n",
    "    plt.show()\n",
    "\n"
   ]
  },
  {
   "cell_type": "code",
   "execution_count": 4,
   "metadata": {},
   "outputs": [],
   "source": [
    "# putting data into 784 because : 28X28\n",
    "X_train = X_train.reshape(60000, 784) \n",
    "X_test = X_test.reshape(10000, 784) \n",
    "X_train = X_train.astype('float32') \n",
    "X_test = X_test.astype('float32')"
   ]
  },
  {
   "cell_type": "code",
   "execution_count": 5,
   "metadata": {},
   "outputs": [
    {
     "name": "stdout",
     "output_type": "stream",
     "text": [
      "X Train : (60000, 784)\n",
      "X Test : (10000, 784)\n"
     ]
    }
   ],
   "source": [
    "# Normalizing the Data\n",
    "X_train /= 255\n",
    "X_test /= 255\n",
    "\n",
    "print('X Train : {}'.format(X_train.shape))\n",
    "print('X Test : {}'.format(X_test.shape))"
   ]
  },
  {
   "cell_type": "code",
   "execution_count": 6,
   "metadata": {},
   "outputs": [
    {
     "name": "stdout",
     "output_type": "stream",
     "text": [
      "Shape After hot encode : (60000, 10)\n"
     ]
    }
   ],
   "source": [
    "# One hot encode the outputs \n",
    "number_of_digits = 10\n",
    "Y_train = np_utils.to_categorical(y_train, number_of_digits)\n",
    "Y_test = np_utils.to_categorical(y_test, number_of_digits)\n",
    "print('Shape After hot encode : {}'.format(Y_train.shape))"
   ]
  },
  {
   "cell_type": "code",
   "execution_count": 7,
   "metadata": {},
   "outputs": [],
   "source": [
    "# Creating Kera's Layers\n",
    "model = Sequential()\n",
    "model.add(Dense(512, input_shape=(784,), activation='relu'))\n",
    "model.add(Dropout(0.2))\n",
    "model.add(Dense(512, activation='relu'))\n",
    "model.add(Dropout(0.2))\n",
    "model.add(Dense(10, activation='softmax'))\n",
    "model.compile(loss='categorical_crossentropy', metrics=['accuracy'], optimizer='adam')"
   ]
  },
  {
   "cell_type": "code",
   "execution_count": 8,
   "metadata": {},
   "outputs": [
    {
     "name": "stdout",
     "output_type": "stream",
     "text": [
      "Train on 60000 samples, validate on 10000 samples\n",
      "Epoch 1/20\n",
      " - 28s - loss: 0.2546 - acc: 0.9225 - val_loss: 0.1110 - val_acc: 0.9650\n",
      "Epoch 2/20\n",
      " - 24s - loss: 0.1016 - acc: 0.9690 - val_loss: 0.0744 - val_acc: 0.9769\n",
      "Epoch 3/20\n",
      " - 22s - loss: 0.0714 - acc: 0.9780 - val_loss: 0.0773 - val_acc: 0.9759\n",
      "Epoch 4/20\n",
      " - 22s - loss: 0.0552 - acc: 0.9818 - val_loss: 0.0770 - val_acc: 0.9762\n",
      "Epoch 5/20\n",
      " - 20s - loss: 0.0453 - acc: 0.9851 - val_loss: 0.0614 - val_acc: 0.9808\n",
      "Epoch 6/20\n",
      " - 17s - loss: 0.0384 - acc: 0.9878 - val_loss: 0.0658 - val_acc: 0.9800\n",
      "Epoch 7/20\n",
      " - 21s - loss: 0.0323 - acc: 0.9891 - val_loss: 0.0641 - val_acc: 0.9801\n",
      "Epoch 8/20\n",
      " - 19s - loss: 0.0298 - acc: 0.9904 - val_loss: 0.0639 - val_acc: 0.9824\n",
      "Epoch 9/20\n",
      " - 23s - loss: 0.0278 - acc: 0.9911 - val_loss: 0.0663 - val_acc: 0.9815\n",
      "Epoch 10/20\n",
      " - 18s - loss: 0.0232 - acc: 0.9922 - val_loss: 0.0670 - val_acc: 0.9823\n",
      "Epoch 11/20\n",
      " - 17s - loss: 0.0235 - acc: 0.9920 - val_loss: 0.0666 - val_acc: 0.9830\n",
      "Epoch 12/20\n",
      " - 17s - loss: 0.0222 - acc: 0.9927 - val_loss: 0.0729 - val_acc: 0.9806\n",
      "Epoch 13/20\n",
      " - 17s - loss: 0.0209 - acc: 0.9929 - val_loss: 0.0738 - val_acc: 0.9819\n",
      "Epoch 14/20\n",
      " - 19s - loss: 0.0198 - acc: 0.9936 - val_loss: 0.0693 - val_acc: 0.9825\n",
      "Epoch 15/20\n",
      " - 17s - loss: 0.0179 - acc: 0.9938 - val_loss: 0.0772 - val_acc: 0.9816\n",
      "Epoch 16/20\n",
      " - 17s - loss: 0.0197 - acc: 0.9938 - val_loss: 0.0723 - val_acc: 0.9838\n",
      "Epoch 17/20\n",
      " - 17s - loss: 0.0167 - acc: 0.9946 - val_loss: 0.0711 - val_acc: 0.9824\n",
      "Epoch 18/20\n",
      " - 17s - loss: 0.0164 - acc: 0.9945 - val_loss: 0.0570 - val_acc: 0.9862\n",
      "Epoch 19/20\n",
      " - 17s - loss: 0.0145 - acc: 0.9952 - val_loss: 0.0708 - val_acc: 0.9842\n",
      "Epoch 20/20\n",
      " - 17s - loss: 0.0152 - acc: 0.9950 - val_loss: 0.0696 - val_acc: 0.9838\n"
     ]
    }
   ],
   "source": [
    "history = model.fit(X_train, Y_train, batch_size=128, epochs=20, verbose=2, validation_data=(X_test, Y_test))\n"
   ]
  },
  {
   "cell_type": "code",
   "execution_count": 11,
   "metadata": {},
   "outputs": [],
   "source": [
    "# Saving the model\n",
    "model.save(os.path.join(os.getcwd(), 'model.h5'))"
   ]
  },
  {
   "cell_type": "code",
   "execution_count": null,
   "metadata": {},
   "outputs": [],
   "source": []
  }
 ],
 "metadata": {
  "kernelspec": {
   "display_name": "Python 3",
   "language": "python",
   "name": "python3"
  },
  "language_info": {
   "codemirror_mode": {
    "name": "ipython",
    "version": 3
   },
   "file_extension": ".py",
   "mimetype": "text/x-python",
   "name": "python",
   "nbconvert_exporter": "python",
   "pygments_lexer": "ipython3",
   "version": "3.6.7"
  }
 },
 "nbformat": 4,
 "nbformat_minor": 2
}
