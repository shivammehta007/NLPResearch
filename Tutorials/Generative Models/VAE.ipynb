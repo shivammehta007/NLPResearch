{
  "nbformat": 4,
  "nbformat_minor": 0,
  "metadata": {
    "colab": {
      "name": "Variational Encoder",
      "provenance": []
    },
    "kernelspec": {
      "name": "python3",
      "display_name": "Python 3"
    },
    "accelerator": "GPU"
  },
  "cells": [
    {
      "cell_type": "markdown",
      "metadata": {
        "id": "MgFXyBYV_fQ8",
        "colab_type": "text"
      },
      "source": [
        "Writing A Variational Encoder in PyTorch\n",
        "First Lets Import all the libraries needed"
      ]
    },
    {
      "cell_type": "code",
      "metadata": {
        "id": "MCes9olUqAB7",
        "colab_type": "code",
        "colab": {}
      },
      "source": [
        "import torch\n",
        "import torch.nn as nn\n",
        "import torch.nn.functional as F\n",
        "import torch.optim as optim\n",
        "from torch.utils.data import DataLoader\n",
        "from torchvision import datasets, transforms\n",
        "import matplotlib.pyplot as plt"
      ],
      "execution_count": 0,
      "outputs": []
    },
    {
      "cell_type": "code",
      "metadata": {
        "id": "npKjzI_U_Sha",
        "colab_type": "code",
        "colab": {}
      },
      "source": [
        "device = torch.device('cuda' if torch.cuda.is_available() else 'cpu')"
      ],
      "execution_count": 0,
      "outputs": []
    },
    {
      "cell_type": "markdown",
      "metadata": {
        "id": "q-Be36ahBdEm",
        "colab_type": "text"
      },
      "source": [
        "Loading the Data, Lets use our favourite dataset MNIST"
      ]
    },
    {
      "cell_type": "code",
      "metadata": {
        "id": "wGSPu3yj_24H",
        "colab_type": "code",
        "colab": {
          "base_uri": "https://localhost:8080/",
          "height": 255
        },
        "outputId": "2a39e54b-11d9-4d56-aaef-70874afce90b"
      },
      "source": [
        "transformer = transforms.Compose(transforms.ToTensor())\n",
        "\n",
        "train_data = datasets.MNIST(root='.data/', train=True, download=True, transform=transformer)\n",
        "test_data = datasets.MNIST(root='.data/',train=False, download=True, transform=transformer)"
      ],
      "execution_count": 7,
      "outputs": [
        {
          "output_type": "stream",
          "text": [
            "\r0it [00:00, ?it/s]"
          ],
          "name": "stderr"
        },
        {
          "output_type": "stream",
          "text": [
            "Downloading http://yann.lecun.com/exdb/mnist/train-images-idx3-ubyte.gz to .data/MNIST/raw/train-images-idx3-ubyte.gz\n"
          ],
          "name": "stdout"
        },
        {
          "output_type": "stream",
          "text": [
            "9920512it [00:06, 1609323.87it/s]                             \n"
          ],
          "name": "stderr"
        },
        {
          "output_type": "stream",
          "text": [
            "Extracting .data/MNIST/raw/train-images-idx3-ubyte.gz to .data/MNIST/raw\n"
          ],
          "name": "stdout"
        },
        {
          "output_type": "stream",
          "text": [
            "  0%|          | 0/28881 [00:00<?, ?it/s]"
          ],
          "name": "stderr"
        },
        {
          "output_type": "stream",
          "text": [
            "Downloading http://yann.lecun.com/exdb/mnist/train-labels-idx1-ubyte.gz to .data/MNIST/raw/train-labels-idx1-ubyte.gz\n"
          ],
          "name": "stdout"
        },
        {
          "output_type": "stream",
          "text": [
            "32768it [00:00, 136521.66it/s]           \n",
            "  0%|          | 0/1648877 [00:00<?, ?it/s]"
          ],
          "name": "stderr"
        },
        {
          "output_type": "stream",
          "text": [
            "Extracting .data/MNIST/raw/train-labels-idx1-ubyte.gz to .data/MNIST/raw\n",
            "Downloading http://yann.lecun.com/exdb/mnist/t10k-images-idx3-ubyte.gz to .data/MNIST/raw/t10k-images-idx3-ubyte.gz\n"
          ],
          "name": "stdout"
        },
        {
          "output_type": "stream",
          "text": [
            "1654784it [00:00, 2328553.93it/s]                           \n",
            "0it [00:00, ?it/s]"
          ],
          "name": "stderr"
        },
        {
          "output_type": "stream",
          "text": [
            "Extracting .data/MNIST/raw/t10k-images-idx3-ubyte.gz to .data/MNIST/raw\n",
            "Downloading http://yann.lecun.com/exdb/mnist/t10k-labels-idx1-ubyte.gz to .data/MNIST/raw/t10k-labels-idx1-ubyte.gz\n"
          ],
          "name": "stdout"
        },
        {
          "output_type": "stream",
          "text": [
            "8192it [00:00, 51434.58it/s]            "
          ],
          "name": "stderr"
        },
        {
          "output_type": "stream",
          "text": [
            "Extracting .data/MNIST/raw/t10k-labels-idx1-ubyte.gz to .data/MNIST/raw\n",
            "Processing...\n",
            "Done!\n"
          ],
          "name": "stdout"
        },
        {
          "output_type": "stream",
          "text": [
            "\n"
          ],
          "name": "stderr"
        }
      ]
    },
    {
      "cell_type": "markdown",
      "metadata": {
        "id": "a7oxrcFBCC0e",
        "colab_type": "text"
      },
      "source": [
        "Initializing Data Set Iterators for easy and batched access"
      ]
    },
    {
      "cell_type": "code",
      "metadata": {
        "id": "rdX2pq8m_3UI",
        "colab_type": "code",
        "colab": {}
      },
      "source": [
        "BATCH_SIZE = 64\n",
        "\n",
        "train_iterator = DataLoader(train_data, batch_size=BATCH_SIZE, shuffle=True)\n",
        "test_iterator = DataLoader(test_data, batch_size=BATCH_SIZE)\n"
      ],
      "execution_count": 0,
      "outputs": []
    },
    {
      "cell_type": "markdown",
      "metadata": {
        "id": "wQilDVmVCZfr",
        "colab_type": "text"
      },
      "source": [
        "Now Lets Define the HyperParameters of our VAE \n",
        "Since, VAE is nothing but a combination of Autoencoders, lets define how our architecture will look like\n",
        "\n",
        "* size of each input\n",
        "* hidden dimension\n",
        "* latent vector dimension\n",
        "* learning rate      "
      ]
    },
    {
      "cell_type": "code",
      "metadata": {
        "id": "UML4-G9dCYWT",
        "colab_type": "code",
        "colab": {}
      },
      "source": [
        "INPUT_DIM = 28 * 28\n",
        "HIDDEN_DIM = 256\n",
        "LATENT_DIM = 20\n",
        "lr = 1e-3"
      ],
      "execution_count": 0,
      "outputs": []
    },
    {
      "cell_type": "markdown",
      "metadata": {
        "id": "fik7ixbEC87K",
        "colab_type": "text"
      },
      "source": [
        "In VAE we have one Encoder $ q_\\phi (z | x) $ , Lets first define that"
      ]
    },
    {
      "cell_type": "code",
      "metadata": {
        "id": "dT0tAcVGC6UO",
        "colab_type": "code",
        "colab": {}
      },
      "source": [
        "class Encoder(nn.Module):\n",
        "    '''\n",
        "        This is the Encoder of VAE\n",
        "    '''\n",
        "    def __init__(self, input_dim, hidden_dim, latent_dim):\n",
        "        super(Encoder, self).__init__()\n",
        "\n",
        "        self.linear = nn.Linear(input_dim, hidden_dim)\n",
        "        self.mu = nn.Linear(hidden_dim, latent_dim)\n",
        "        self.var = nn.Linear(hidden_dim, latent_dim)\n",
        "\n",
        "    def forward(self, x):\n",
        "\n",
        "        hidden = F.relu(self.linear(x))\n",
        "        mu_z = self.mu(hidden)\n",
        "        var_z = self.var(hidden)\n",
        "\n",
        "        return mu_z, var_z\n"
      ],
      "execution_count": 0,
      "outputs": []
    },
    {
      "cell_type": "markdown",
      "metadata": {
        "id": "nkWgoLamFEGT",
        "colab_type": "text"
      },
      "source": [
        "Now, Lets Code Decoder $ p_\\theta (x | z) $  which will take latent as input and give generated image as output "
      ]
    },
    {
      "cell_type": "code",
      "metadata": {
        "id": "91f-NqqTFBlB",
        "colab_type": "code",
        "colab": {}
      },
      "source": [
        "class Decoder(nn.Module):\n",
        "    '''\n",
        "        This is the Decoder part of VAE\n",
        "    '''\n",
        "    def __init__(self, latent_dim, hidden_dim, output_dim):\n",
        "        super(Decoder, self).__init__()\n",
        "        self.linear = nn.Linear(latent_dim, hidden_dim)\n",
        "        self.out = nn.Linear(hidden_dim, output_dim)\n",
        "\n",
        "    def forward(self, x):\n",
        "        hidden = F.relu(self.linear(x))\n",
        "        output = torch.sigmoid(self.out(hidden))\n",
        "    \n",
        "        return output"
      ],
      "execution_count": 0,
      "outputs": []
    },
    {
      "cell_type": "markdown",
      "metadata": {
        "id": "Wnre8DJNIkqw",
        "colab_type": "text"
      },
      "source": [
        "Now we have both our encoder and decoder, Lets write the final architecture of our VAE\n"
      ]
    },
    {
      "cell_type": "code",
      "metadata": {
        "id": "lQafQcZ0Ijb6",
        "colab_type": "code",
        "colab": {}
      },
      "source": [
        "class VAE(nn.Module):\n",
        "    def __init__(self, enc, dec):\n",
        "        self.encoder = enc\n",
        "        self.decoder = dec\n",
        "    \n",
        "    def sampling(self, mu, var):\n",
        "        std = torch.exp(var / 2)\n",
        "        eps = torch.randn_like(std)\n",
        "        return eps.mul(std).add_(mu)\n",
        "\n",
        "    def forward(self, x):\n",
        "\n",
        "        mu_z, var_z = self.enc(x)\n",
        "\n",
        "        x_sample = sampling(mu_z, var_z)\n",
        "    \n",
        "        prediction = self.decoder(x_sample)\n",
        "\n",
        "        return prediction, mu_z, var_z\n",
        "        "
      ],
      "execution_count": 0,
      "outputs": []
    },
    {
      "cell_type": "code",
      "metadata": {
        "id": "2MbIwR-wJdVT",
        "colab_type": "code",
        "colab": {}
      },
      "source": [
        ""
      ],
      "execution_count": 0,
      "outputs": []
    }
  ]
}