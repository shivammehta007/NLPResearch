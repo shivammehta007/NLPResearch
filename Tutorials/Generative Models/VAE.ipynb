{
  "nbformat": 4,
  "nbformat_minor": 0,
  "metadata": {
    "colab": {
      "name": "Variational Encoder",
      "provenance": [],
      "include_colab_link": true
    },
    "kernelspec": {
      "name": "python3",
      "display_name": "Python 3"
    },
    "accelerator": "GPU",
    "widgets": {
      "application/vnd.jupyter.widget-state+json": {
        "8328eae8a2644d47b7346fab9f81a003": {
          "model_module": "@jupyter-widgets/controls",
          "model_name": "HBoxModel",
          "state": {
            "_view_name": "HBoxView",
            "_dom_classes": [],
            "_model_name": "HBoxModel",
            "_view_module": "@jupyter-widgets/controls",
            "_model_module_version": "1.5.0",
            "_view_count": null,
            "_view_module_version": "1.5.0",
            "box_style": "",
            "layout": "IPY_MODEL_ac6f5d8221e144aaa2a52e55bf363cd1",
            "_model_module": "@jupyter-widgets/controls",
            "children": [
              "IPY_MODEL_6cd73f13c77140448e95af1f7c672c42",
              "IPY_MODEL_7ec2b84742d645fc83f4ec698e7c46ba"
            ]
          }
        },
        "ac6f5d8221e144aaa2a52e55bf363cd1": {
          "model_module": "@jupyter-widgets/base",
          "model_name": "LayoutModel",
          "state": {
            "_view_name": "LayoutView",
            "grid_template_rows": null,
            "right": null,
            "justify_content": null,
            "_view_module": "@jupyter-widgets/base",
            "overflow": null,
            "_model_module_version": "1.2.0",
            "_view_count": null,
            "flex_flow": null,
            "width": null,
            "min_width": null,
            "border": null,
            "align_items": null,
            "bottom": null,
            "_model_module": "@jupyter-widgets/base",
            "top": null,
            "grid_column": null,
            "overflow_y": null,
            "overflow_x": null,
            "grid_auto_flow": null,
            "grid_area": null,
            "grid_template_columns": null,
            "flex": null,
            "_model_name": "LayoutModel",
            "justify_items": null,
            "grid_row": null,
            "max_height": null,
            "align_content": null,
            "visibility": null,
            "align_self": null,
            "height": null,
            "min_height": null,
            "padding": null,
            "grid_auto_rows": null,
            "grid_gap": null,
            "max_width": null,
            "order": null,
            "_view_module_version": "1.2.0",
            "grid_template_areas": null,
            "object_position": null,
            "object_fit": null,
            "grid_auto_columns": null,
            "margin": null,
            "display": null,
            "left": null
          }
        },
        "6cd73f13c77140448e95af1f7c672c42": {
          "model_module": "@jupyter-widgets/controls",
          "model_name": "FloatProgressModel",
          "state": {
            "_view_name": "ProgressView",
            "style": "IPY_MODEL_009c9c8fb7494e039c5b49dd40db43b3",
            "_dom_classes": [],
            "description": "100%",
            "_model_name": "FloatProgressModel",
            "bar_style": "success",
            "max": 10,
            "_view_module": "@jupyter-widgets/controls",
            "_model_module_version": "1.5.0",
            "value": 10,
            "_view_count": null,
            "_view_module_version": "1.5.0",
            "orientation": "horizontal",
            "min": 0,
            "description_tooltip": null,
            "_model_module": "@jupyter-widgets/controls",
            "layout": "IPY_MODEL_4c45754051f64e1c948dc5473efecc51"
          }
        },
        "7ec2b84742d645fc83f4ec698e7c46ba": {
          "model_module": "@jupyter-widgets/controls",
          "model_name": "HTMLModel",
          "state": {
            "_view_name": "HTMLView",
            "style": "IPY_MODEL_28fb03e96d6c40ca984c3be4b78293c5",
            "_dom_classes": [],
            "description": "",
            "_model_name": "HTMLModel",
            "placeholder": "​",
            "_view_module": "@jupyter-widgets/controls",
            "_model_module_version": "1.5.0",
            "value": " 10/10 [01:49&lt;00:00, 10.93s/it]",
            "_view_count": null,
            "_view_module_version": "1.5.0",
            "description_tooltip": null,
            "_model_module": "@jupyter-widgets/controls",
            "layout": "IPY_MODEL_730edfa09d1c42dc99426e9f9469d979"
          }
        },
        "009c9c8fb7494e039c5b49dd40db43b3": {
          "model_module": "@jupyter-widgets/controls",
          "model_name": "ProgressStyleModel",
          "state": {
            "_view_name": "StyleView",
            "_model_name": "ProgressStyleModel",
            "description_width": "initial",
            "_view_module": "@jupyter-widgets/base",
            "_model_module_version": "1.5.0",
            "_view_count": null,
            "_view_module_version": "1.2.0",
            "bar_color": null,
            "_model_module": "@jupyter-widgets/controls"
          }
        },
        "4c45754051f64e1c948dc5473efecc51": {
          "model_module": "@jupyter-widgets/base",
          "model_name": "LayoutModel",
          "state": {
            "_view_name": "LayoutView",
            "grid_template_rows": null,
            "right": null,
            "justify_content": null,
            "_view_module": "@jupyter-widgets/base",
            "overflow": null,
            "_model_module_version": "1.2.0",
            "_view_count": null,
            "flex_flow": null,
            "width": null,
            "min_width": null,
            "border": null,
            "align_items": null,
            "bottom": null,
            "_model_module": "@jupyter-widgets/base",
            "top": null,
            "grid_column": null,
            "overflow_y": null,
            "overflow_x": null,
            "grid_auto_flow": null,
            "grid_area": null,
            "grid_template_columns": null,
            "flex": null,
            "_model_name": "LayoutModel",
            "justify_items": null,
            "grid_row": null,
            "max_height": null,
            "align_content": null,
            "visibility": null,
            "align_self": null,
            "height": null,
            "min_height": null,
            "padding": null,
            "grid_auto_rows": null,
            "grid_gap": null,
            "max_width": null,
            "order": null,
            "_view_module_version": "1.2.0",
            "grid_template_areas": null,
            "object_position": null,
            "object_fit": null,
            "grid_auto_columns": null,
            "margin": null,
            "display": null,
            "left": null
          }
        },
        "28fb03e96d6c40ca984c3be4b78293c5": {
          "model_module": "@jupyter-widgets/controls",
          "model_name": "DescriptionStyleModel",
          "state": {
            "_view_name": "StyleView",
            "_model_name": "DescriptionStyleModel",
            "description_width": "",
            "_view_module": "@jupyter-widgets/base",
            "_model_module_version": "1.5.0",
            "_view_count": null,
            "_view_module_version": "1.2.0",
            "_model_module": "@jupyter-widgets/controls"
          }
        },
        "730edfa09d1c42dc99426e9f9469d979": {
          "model_module": "@jupyter-widgets/base",
          "model_name": "LayoutModel",
          "state": {
            "_view_name": "LayoutView",
            "grid_template_rows": null,
            "right": null,
            "justify_content": null,
            "_view_module": "@jupyter-widgets/base",
            "overflow": null,
            "_model_module_version": "1.2.0",
            "_view_count": null,
            "flex_flow": null,
            "width": null,
            "min_width": null,
            "border": null,
            "align_items": null,
            "bottom": null,
            "_model_module": "@jupyter-widgets/base",
            "top": null,
            "grid_column": null,
            "overflow_y": null,
            "overflow_x": null,
            "grid_auto_flow": null,
            "grid_area": null,
            "grid_template_columns": null,
            "flex": null,
            "_model_name": "LayoutModel",
            "justify_items": null,
            "grid_row": null,
            "max_height": null,
            "align_content": null,
            "visibility": null,
            "align_self": null,
            "height": null,
            "min_height": null,
            "padding": null,
            "grid_auto_rows": null,
            "grid_gap": null,
            "max_width": null,
            "order": null,
            "_view_module_version": "1.2.0",
            "grid_template_areas": null,
            "object_position": null,
            "object_fit": null,
            "grid_auto_columns": null,
            "margin": null,
            "display": null,
            "left": null
          }
        }
      }
    }
  },
  "cells": [
    {
      "cell_type": "markdown",
      "metadata": {
        "id": "view-in-github",
        "colab_type": "text"
      },
      "source": [
        "<a href=\"https://colab.research.google.com/github/shivammehta007/NLPResearch/blob/master/Tutorials/Generative%20Models/VAE.ipynb\" target=\"_parent\"><img src=\"https://colab.research.google.com/assets/colab-badge.svg\" alt=\"Open In Colab\"/></a>"
      ]
    },
    {
      "cell_type": "markdown",
      "metadata": {
        "id": "MgFXyBYV_fQ8",
        "colab_type": "text"
      },
      "source": [
        "Writing A Variational Encoder in PyTorch\n",
        "First Lets Import all the libraries needed"
      ]
    },
    {
      "cell_type": "code",
      "metadata": {
        "id": "MCes9olUqAB7",
        "colab_type": "code",
        "outputId": "006ab583-6eae-4ed4-ce19-3a206d4b66d0",
        "colab": {
          "base_uri": "https://localhost:8080/",
          "height": 34
        }
      },
      "source": [
        "! pip install -U tqdm\n",
        "import torch\n",
        "import torch.nn as nn\n",
        "import torch.nn.functional as F\n",
        "import torch.optim as optim\n",
        "from torch.utils.data import DataLoader\n",
        "from torchvision import datasets, transforms\n",
        "import matplotlib.pyplot as plt\n",
        "from tqdm.notebook import tqdm"
      ],
      "execution_count": 1,
      "outputs": [
        {
          "output_type": "stream",
          "text": [
            "Requirement already up-to-date: tqdm in /usr/local/lib/python3.6/dist-packages (4.41.1)\n"
          ],
          "name": "stdout"
        }
      ]
    },
    {
      "cell_type": "code",
      "metadata": {
        "id": "npKjzI_U_Sha",
        "colab_type": "code",
        "colab": {}
      },
      "source": [
        "device = torch.device('cuda' if torch.cuda.is_available() else 'cpu')"
      ],
      "execution_count": 0,
      "outputs": []
    },
    {
      "cell_type": "markdown",
      "metadata": {
        "id": "q-Be36ahBdEm",
        "colab_type": "text"
      },
      "source": [
        "Loading the Data, Lets use our favourite dataset MNIST"
      ]
    },
    {
      "cell_type": "code",
      "metadata": {
        "id": "wGSPu3yj_24H",
        "colab_type": "code",
        "colab": {}
      },
      "source": [
        "transformer = transforms.Compose([transforms.ToTensor()])\n",
        "\n",
        "train_data = datasets.MNIST(root='.data/', train=True, download=True, transform=transformer)\n",
        "test_data = datasets.MNIST(root='.data/',train=False, download=True, transform=transformer)"
      ],
      "execution_count": 0,
      "outputs": []
    },
    {
      "cell_type": "markdown",
      "metadata": {
        "id": "a7oxrcFBCC0e",
        "colab_type": "text"
      },
      "source": [
        "Initializing Data Set Iterators for easy and batched access"
      ]
    },
    {
      "cell_type": "code",
      "metadata": {
        "id": "rdX2pq8m_3UI",
        "colab_type": "code",
        "colab": {}
      },
      "source": [
        "BATCH_SIZE = 64\n",
        "\n",
        "train_iterator = DataLoader(train_data, batch_size=BATCH_SIZE, shuffle=True)\n",
        "test_iterator = DataLoader(test_data, batch_size=BATCH_SIZE)\n"
      ],
      "execution_count": 0,
      "outputs": []
    },
    {
      "cell_type": "code",
      "metadata": {
        "id": "SI42X7RtZoNH",
        "colab_type": "code",
        "outputId": "5a3705f7-d394-407b-a7d9-93f4ce0cf3c9",
        "colab": {
          "base_uri": "https://localhost:8080/",
          "height": 85
        }
      },
      "source": [
        "tmpx, tmpy = iter(train_iterator).next()\n",
        "tmpx.shape, tmpy"
      ],
      "execution_count": 5,
      "outputs": [
        {
          "output_type": "execute_result",
          "data": {
            "text/plain": [
              "(torch.Size([64, 1, 28, 28]),\n",
              " tensor([2, 5, 9, 4, 8, 3, 2, 6, 8, 1, 1, 2, 7, 1, 6, 7, 4, 5, 3, 2, 7, 4, 1, 5,\n",
              "         3, 1, 6, 2, 2, 1, 0, 0, 8, 0, 1, 4, 3, 2, 8, 7, 1, 7, 7, 7, 3, 8, 9, 6,\n",
              "         7, 9, 1, 6, 0, 3, 4, 0, 1, 6, 3, 3, 3, 1, 3, 3]))"
            ]
          },
          "metadata": {
            "tags": []
          },
          "execution_count": 5
        }
      ]
    },
    {
      "cell_type": "markdown",
      "metadata": {
        "id": "wQilDVmVCZfr",
        "colab_type": "text"
      },
      "source": [
        "Now Lets Define the HyperParameters of our VAE \n",
        "Since, VAE is nothing but a combination of Autoencoders, lets define how our architecture will look like\n",
        "\n",
        "* size of each input\n",
        "* hidden dimension\n",
        "* latent vector dimension\n",
        "* learning rate      "
      ]
    },
    {
      "cell_type": "code",
      "metadata": {
        "id": "UML4-G9dCYWT",
        "colab_type": "code",
        "colab": {}
      },
      "source": [
        "INPUT_DIM = 28 * 28\n",
        "HIDDEN_DIM = 256\n",
        "LATENT_DIM = 20\n",
        "lr = 1e-3\n",
        "CHANNELS = 32\n",
        "DROPOUT = 0.7"
      ],
      "execution_count": 0,
      "outputs": []
    },
    {
      "cell_type": "markdown",
      "metadata": {
        "id": "fik7ixbEC87K",
        "colab_type": "text"
      },
      "source": [
        "In VAE we have one Encoder $ q_\\phi (z | x) $ , Lets first define that\n",
        "\n",
        "Quick Note: Size of next convolutional layer : \n",
        "$$ OW = \\dfrac{W - f_ + 2P}{S} + 1 $$\n",
        "where W is the width, f is the filter, p is the padding and S is the Stride"
      ]
    },
    {
      "cell_type": "code",
      "metadata": {
        "id": "dT0tAcVGC6UO",
        "colab_type": "code",
        "colab": {}
      },
      "source": [
        "class Encoder(nn.Module):\n",
        "    '''\n",
        "        This is the Encoder of VAE\n",
        "    '''\n",
        "    def __init__(self, channels, input_dim, hidden_dim, latent_dim, dropout):\n",
        "        super(Encoder, self).__init__()\n",
        "        # Image size : (1, 28, 28)\n",
        "        self.conv1 = nn.Conv2d(1, channels, 4, 2, 1)\n",
        "        # 32, 14, 14\n",
        "        self.conv2 = nn.Conv2d(channels, channels * 4, 4, 2, 1)\n",
        "        # 128, 7, 7\n",
        "        self.linear = nn.Linear(128 * 7* 7, hidden_dim)\n",
        "        self.dropout = nn.Dropout(dropout)\n",
        "        self.mu = nn.Linear(hidden_dim, latent_dim)\n",
        "        self.var = nn.Linear(hidden_dim, latent_dim)\n",
        "\n",
        "    def forward(self, x):\n",
        "        x = F.relu(self.conv1(x))\n",
        "        x = F.relu(self.conv2(x))\n",
        "        x = x.view(-1, 128*7*7)\n",
        "        x = self.dropout(F.relu(self.linear(x)))\n",
        "        \n",
        "        mu_z = self.mu(x)\n",
        "        var_z = self.var(x)\n",
        "\n",
        "        return mu_z, var_z\n"
      ],
      "execution_count": 0,
      "outputs": []
    },
    {
      "cell_type": "markdown",
      "metadata": {
        "id": "nkWgoLamFEGT",
        "colab_type": "text"
      },
      "source": [
        "Now, Lets Code Decoder $ p_\\theta (x | z) $  which will take latent as input and give generated image as output "
      ]
    },
    {
      "cell_type": "markdown",
      "metadata": {
        "id": "8rsinkgncx64",
        "colab_type": "text"
      },
      "source": [
        "De Conv Formula will just be opposite\n",
        "$$ \\left(OW - 1 \\right) S + F - 2P = W $$"
      ]
    },
    {
      "cell_type": "code",
      "metadata": {
        "id": "91f-NqqTFBlB",
        "colab_type": "code",
        "colab": {}
      },
      "source": [
        "class Decoder(nn.Module):\n",
        "    '''\n",
        "        This is the Decoder part of VAE\n",
        "    '''\n",
        "    def __init__(self, channel, latent_dim, hidden_dim, output_dim):\n",
        "        super(Decoder, self).__init__()\n",
        "        self.upsampling_linear = nn.Linear(latent_dim, 128 * 7 * 7)     \n",
        "        # 128, 7, 7\n",
        "        self.upconv = nn.ConvTranspose2d(channel * 4, channel, 4, 2, 1) \n",
        "        # 32, 14, 14 \n",
        "        self.upconv2 = nn.ConvTranspose2d(channel, 1, 4, 2, 1)\n",
        "        # 1, 28, 28\n",
        "        self.out = nn.Linear(1 * 28 * 28, output_dim)\n",
        "\n",
        "    def forward(self, x):\n",
        "        x = F.relu(self.upsampling_linear(x))\n",
        "        x = x.view(-1, 128, 7, 7)\n",
        "        x = F.relu(self.upconv(x))\n",
        "        x = F.relu(self.upconv2(x))\n",
        "        x = x.view(-1, 1 * 28 * 28)\n",
        "        output = torch.sigmoid(self.out(x))\n",
        "    \n",
        "        return output"
      ],
      "execution_count": 0,
      "outputs": []
    },
    {
      "cell_type": "markdown",
      "metadata": {
        "id": "Wnre8DJNIkqw",
        "colab_type": "text"
      },
      "source": [
        "Now we have both our encoder and decoder, Lets write the final architecture of our VAE\n"
      ]
    },
    {
      "cell_type": "code",
      "metadata": {
        "id": "lQafQcZ0Ijb6",
        "colab_type": "code",
        "colab": {}
      },
      "source": [
        "class VAE(nn.Module):\n",
        "    def __init__(self, enc, dec):\n",
        "        super(VAE, self).__init__()\n",
        "        self.encoder = enc\n",
        "        self.decoder = dec\n",
        "    \n",
        "    def reparameterization_sampling(self, mu, var):\n",
        "        std = torch.exp(var / 2)\n",
        "        eps = torch.randn_like(std)\n",
        "        return eps.mul(std).add_(mu)\n",
        "\n",
        "    def forward(self, x):\n",
        "        mu_z, var_z = self.encoder(x)\n",
        "        x_sample = self.reparameterization_sampling(mu_z, var_z)\n",
        "        prediction = self.decoder(x_sample)\n",
        "        return prediction, mu_z, var_z\n",
        "        "
      ],
      "execution_count": 0,
      "outputs": []
    },
    {
      "cell_type": "markdown",
      "metadata": {
        "id": "qWoRBbI7JrLV",
        "colab_type": "text"
      },
      "source": [
        "Lets, Initialize the Model"
      ]
    },
    {
      "cell_type": "code",
      "metadata": {
        "id": "2MbIwR-wJdVT",
        "colab_type": "code",
        "colab": {}
      },
      "source": [
        "encoder = Encoder(CHANNELS, INPUT_DIM, HIDDEN_DIM, LATENT_DIM, DROPOUT)\n",
        "decoder = Decoder(CHANNELS, LATENT_DIM, HIDDEN_DIM, INPUT_DIM)\n",
        "\n",
        "model = VAE(encoder, decoder).to(device)\n",
        "\n",
        "optimizer = optim.Adam(model.parameters(), lr=lr)"
      ],
      "execution_count": 0,
      "outputs": []
    },
    {
      "cell_type": "code",
      "metadata": {
        "id": "inY6G00qfwgl",
        "colab_type": "code",
        "outputId": "88adedf7-6190-4c74-d859-3a3009ca9f7e",
        "colab": {
          "base_uri": "https://localhost:8080/",
          "height": 34
        }
      },
      "source": [
        "print('{:,}'.format(sum([p.numel() for p in model.parameters() if p.requires_grad])))"
      ],
      "execution_count": 11,
      "outputs": [
        {
          "output_type": "stream",
          "text": [
            "2,495,609\n"
          ],
          "name": "stdout"
        }
      ]
    },
    {
      "cell_type": "markdown",
      "metadata": {
        "id": "uBwj7K2QKJLc",
        "colab_type": "text"
      },
      "source": [
        "So we know that the LOSS of VAE is the Reconstruction loss and KL Divergence\n",
        "So final loss function will give be = RL + KL\n"
      ]
    },
    {
      "cell_type": "code",
      "metadata": {
        "id": "xb0Sj0oCKCp5",
        "colab_type": "code",
        "colab": {}
      },
      "source": [
        "def reconstruction_loss(sampled_input, original_input):\n",
        "    return F.binary_cross_entropy(sampled_input, original_input, reduction='sum')\n",
        "\n",
        "def kl_divergence(mu_z, var_z):\n",
        "    return 0.5 * torch.sum(torch.exp(var_z) + mu_z**2 - 1.0 - var_z)"
      ],
      "execution_count": 0,
      "outputs": []
    },
    {
      "cell_type": "markdown",
      "metadata": {
        "id": "S1qqHBUqLETr",
        "colab_type": "text"
      },
      "source": [
        "Lets now Train the Model "
      ]
    },
    {
      "cell_type": "code",
      "metadata": {
        "id": "vJETAdHJnany",
        "colab_type": "code",
        "colab": {}
      },
      "source": [
        ""
      ],
      "execution_count": 0,
      "outputs": []
    },
    {
      "cell_type": "code",
      "metadata": {
        "id": "_8v09-bFK65E",
        "colab_type": "code",
        "colab": {}
      },
      "source": [
        "def train(model, iterator, optimizer):\n",
        "    model.train()\n",
        "\n",
        "    train_loss = 0\n",
        "\n",
        "    for i, (x, _) in enumerate(iterator):\n",
        "        optimizer.zero_grad()\n",
        "        # Update the size of array\n",
        "        x = x.to(device)\n",
        "\n",
        "        # Forward Prop\n",
        "        x_sample, mu_z, var_z = model(x)\n",
        "        x_sample = x_sample.view(-1, 1, 28, 28)\n",
        "        # Calculating Loss\n",
        "        loss = reconstruction_loss(x_sample, x) + kl_divergence(mu_z, var_z)\n",
        "\n",
        "        # Backpropagate\n",
        "        loss.backward()\n",
        "        # Update Train_loss\n",
        "        train_loss += loss.item()\n",
        "\n",
        "        optimizer.step()\n",
        "    \n",
        "    return train_loss\n",
        "\n"
      ],
      "execution_count": 0,
      "outputs": []
    },
    {
      "cell_type": "code",
      "metadata": {
        "id": "5NtTH-pAMh94",
        "colab_type": "code",
        "colab": {}
      },
      "source": [
        "def test(model, iterator, optimizer):\n",
        "    model.eval()\n",
        "\n",
        "    test_loss = 0\n",
        "\n",
        "    with torch.no_grad():\n",
        "        for i, (x, _) in enumerate(iterator):\n",
        "            x = x.to(device)\n",
        "\n",
        "            x_sample, mu_z, var_z = model(x)\n",
        "            x_sample = x_sample.view(-1, 1, 28, 28)\n",
        "\n",
        "            loss = reconstruction_loss(x_sample, x) + kl_divergence(mu_z, var_z)\n",
        "\n",
        "            test_loss += loss.item()\n",
        "    \n",
        "    return test_loss\n",
        "\n",
        "        "
      ],
      "execution_count": 0,
      "outputs": []
    },
    {
      "cell_type": "code",
      "metadata": {
        "id": "3jCzWj1VNduI",
        "colab_type": "code",
        "colab": {}
      },
      "source": [
        "N_EPOCHS = 10"
      ],
      "execution_count": 0,
      "outputs": []
    },
    {
      "cell_type": "markdown",
      "metadata": {
        "id": "7tdBnvU5NFue",
        "colab_type": "text"
      },
      "source": [
        "Finally Training the Model with iterators and dataset"
      ]
    },
    {
      "cell_type": "code",
      "metadata": {
        "id": "3xSMQGdsmxDS",
        "colab_type": "code",
        "colab": {}
      },
      "source": [
        ""
      ],
      "execution_count": 0,
      "outputs": []
    },
    {
      "cell_type": "code",
      "metadata": {
        "id": "XyIyJBc6NAvR",
        "colab_type": "code",
        "outputId": "d00f6759-f796-4fb1-a513-144a6a6bc6d9",
        "colab": {
          "base_uri": "https://localhost:8080/",
          "height": 1000,
          "referenced_widgets": [
            "8328eae8a2644d47b7346fab9f81a003",
            "ac6f5d8221e144aaa2a52e55bf363cd1",
            "6cd73f13c77140448e95af1f7c672c42",
            "7ec2b84742d645fc83f4ec698e7c46ba",
            "009c9c8fb7494e039c5b49dd40db43b3",
            "4c45754051f64e1c948dc5473efecc51",
            "28fb03e96d6c40ca984c3be4b78293c5",
            "730edfa09d1c42dc99426e9f9469d979"
          ]
        }
      },
      "source": [
        " for epoch in tqdm(range(N_EPOCHS)):\n",
        "        train_loss = train(model, train_iterator, optimizer)\n",
        "        test_loss = test(model, test_iterator, optimizer)\n",
        "\n",
        "        train_loss /= len(train_data)\n",
        "        test_loss /= len(test_data)\n",
        "        print('Epoch :{:02d}, Train_loss : {:.4f} Test_loss: {:.4f}'.format(epoch + 1, train_loss, test_loss))\n",
        "        model.eval()\n",
        "        recon_img, _, _ = model(tmpx[:1].to(device))\n",
        "        img = recon_img.view(28, 28).detach().cpu().numpy()\n",
        "        \n",
        "        plt.imshow(img, cmap='gray')\n",
        "        plt.show()"
      ],
      "execution_count": 16,
      "outputs": [
        {
          "output_type": "display_data",
          "data": {
            "application/vnd.jupyter.widget-view+json": {
              "model_id": "8328eae8a2644d47b7346fab9f81a003",
              "version_minor": 0,
              "version_major": 2
            },
            "text/plain": [
              "HBox(children=(FloatProgress(value=0.0, max=10.0), HTML(value='')))"
            ]
          },
          "metadata": {
            "tags": []
          }
        },
        {
          "output_type": "stream",
          "text": [
            "Epoch :01, Train_loss : 194.5490 Test_loss: 170.1744\n"
          ],
          "name": "stdout"
        },
        {
          "output_type": "display_data",
          "data": {
            "image/png": "[encoded data removed]",
            "text/plain": [
              "<Figure size 432x288 with 1 Axes>"
            ]
          },
          "metadata": {
            "tags": []
          }
        },
        {
          "output_type": "stream",
          "text": [
            "Epoch :02, Train_loss : 171.1885 Test_loss: 150.6153\n"
          ],
          "name": "stdout"
        },
        {
          "output_type": "display_data",
          "data": {
            "image/png": "[encoded data removed]",
            "text/plain": [
              "<Figure size 432x288 with 1 Axes>"
            ]
          },
          "metadata": {
            "tags": []
          }
        },
        {
          "output_type": "stream",
          "text": [
            "Epoch :03, Train_loss : 163.1308 Test_loss: 145.9887\n"
          ],
          "name": "stdout"
        },
        {
          "output_type": "display_data",
          "data": {
            "image/png": "[encoded data removed]",
            "text/plain": [
              "<Figure size 432x288 with 1 Axes>"
            ]
          },
          "metadata": {
            "tags": []
          }
        },
        {
          "output_type": "stream",
          "text": [
            "Epoch :04, Train_loss : 159.7944 Test_loss: 143.1132\n"
          ],
          "name": "stdout"
        },
        {
          "output_type": "display_data",
          "data": {
            "image/png": "[encoded data removed]",
            "text/plain": [
              "<Figure size 432x288 with 1 Axes>"
            ]
          },
          "metadata": {
            "tags": []
          }
        },
        {
          "output_type": "stream",
          "text": [
            "Epoch :05, Train_loss : 157.4741 Test_loss: 141.9096\n"
          ],
          "name": "stdout"
        },
        {
          "output_type": "display_data",
          "data": {
            "image/png": "[encoded data removed]",
            "text/plain": [
              "<Figure size 432x288 with 1 Axes>"
            ]
          },
          "metadata": {
            "tags": []
          }
        },
        {
          "output_type": "stream",
          "text": [
            "Epoch :06, Train_loss : 155.7818 Test_loss: 140.7628\n"
          ],
          "name": "stdout"
        },
        {
          "output_type": "display_data",
          "data": {
            "image/png": "[encoded data removed]",
            "text/plain": [
              "<Figure size 432x288 with 1 Axes>"
            ]
          },
          "metadata": {
            "tags": []
          }
        },
        {
          "output_type": "stream",
          "text": [
            "Epoch :07, Train_loss : 154.6098 Test_loss: 139.9183\n"
          ],
          "name": "stdout"
        },
        {
          "output_type": "display_data",
          "data": {
            "image/png": "[encoded data removed]",
            "text/plain": [
              "<Figure size 432x288 with 1 Axes>"
            ]
          },
          "metadata": {
            "tags": []
          }
        },
        {
          "output_type": "stream",
          "text": [
            "Epoch :08, Train_loss : 153.7204 Test_loss: 139.9661\n"
          ],
          "name": "stdout"
        },
        {
          "output_type": "display_data",
          "data": {
            "image/png": "[encoded data removed]",
            "text/plain": [
              "<Figure size 432x288 with 1 Axes>"
            ]
          },
          "metadata": {
            "tags": []
          }
        },
        {
          "output_type": "stream",
          "text": [
            "Epoch :09, Train_loss : 152.8705 Test_loss: 138.7795\n"
          ],
          "name": "stdout"
        },
        {
          "output_type": "display_data",
          "data": {
            "image/png": "[encoded data removed]",
            "text/plain": [
              "<Figure size 432x288 with 1 Axes>"
            ]
          },
          "metadata": {
            "tags": []
          }
        },
        {
          "output_type": "stream",
          "text": [
            "Epoch :10, Train_loss : 152.1315 Test_loss: 138.8611\n"
          ],
          "name": "stdout"
        },
        {
          "output_type": "display_data",
          "data": {
            "image/png": "[encoded data removed]",
            "text/plain": [
              "<Figure size 432x288 with 1 Axes>"
            ]
          },
          "metadata": {
            "tags": []
          }
        },
        {
          "output_type": "stream",
          "text": [
            "\n"
          ],
          "name": "stdout"
        }
      ]
    },
    {
      "cell_type": "code",
      "metadata": {
        "id": "tUCuItrXNbGq",
        "colab_type": "code",
        "outputId": "8545ef45-1f87-4996-a5b0-84331f28f60d",
        "colab": {
          "base_uri": "https://localhost:8080/",
          "height": 299
        }
      },
      "source": [
        "z = torch.randn(1, LATENT_DIM).to(device)\n",
        "# run only the decoder\n",
        "reconstructed_img = model.decoder(z)\n",
        "img = reconstructed_img.view(28, 28).data\n",
        "\n",
        "print(z.shape)\n",
        "print(img.shape)\n",
        "plt.imshow(img.cpu(), cmap='gray')\n",
        "plt.show()"
      ],
      "execution_count": 25,
      "outputs": [
        {
          "output_type": "stream",
          "text": [
            "torch.Size([1, 20])\n",
            "torch.Size([28, 28])\n"
          ],
          "name": "stdout"
        },
        {
          "output_type": "display_data",
          "data": {
            "image/png": "[encoded data removed]",
            "text/plain": [
              "<Figure size 432x288 with 1 Axes>"
            ]
          },
          "metadata": {
            "tags": []
          }
        }
      ]
    },
    {
      "cell_type": "code",
      "metadata": {
        "id": "LBnjlardPYVR",
        "colab_type": "code",
        "colab": {}
      },
      "source": [
        ""
      ],
      "execution_count": 0,
      "outputs": []
    }
  ]
}