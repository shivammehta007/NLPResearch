{
  "nbformat": 4,
  "nbformat_minor": 0,
  "metadata": {
    "colab": {
      "name": "Variational Encoder",
      "provenance": [],
      "include_colab_link": true
    },
    "kernelspec": {
      "name": "python3",
      "display_name": "Python 3"
    },
    "accelerator": "GPU",
    "widgets": {
      "application/vnd.jupyter.widget-state+json": {
        "c52d059b50514bccb58cd9adcd7b709e": {
          "model_module": "@jupyter-widgets/controls",
          "model_name": "HBoxModel",
          "state": {
            "_view_name": "HBoxView",
            "_dom_classes": [],
            "_model_name": "HBoxModel",
            "_view_module": "@jupyter-widgets/controls",
            "_model_module_version": "1.5.0",
            "_view_count": null,
            "_view_module_version": "1.5.0",
            "box_style": "",
            "layout": "IPY_MODEL_2e4ff376581f4d1e9d5052e4d7fb8016",
            "_model_module": "@jupyter-widgets/controls",
            "children": [
              "IPY_MODEL_4adb95fd5ea1492ab9be3689cd630480",
              "IPY_MODEL_22ddabb8a5354e559bb8695f1804664e"
            ]
          }
        },
        "2e4ff376581f4d1e9d5052e4d7fb8016": {
          "model_module": "@jupyter-widgets/base",
          "model_name": "LayoutModel",
          "state": {
            "_view_name": "LayoutView",
            "grid_template_rows": null,
            "right": null,
            "justify_content": null,
            "_view_module": "@jupyter-widgets/base",
            "overflow": null,
            "_model_module_version": "1.2.0",
            "_view_count": null,
            "flex_flow": null,
            "width": null,
            "min_width": null,
            "border": null,
            "align_items": null,
            "bottom": null,
            "_model_module": "@jupyter-widgets/base",
            "top": null,
            "grid_column": null,
            "overflow_y": null,
            "overflow_x": null,
            "grid_auto_flow": null,
            "grid_area": null,
            "grid_template_columns": null,
            "flex": null,
            "_model_name": "LayoutModel",
            "justify_items": null,
            "grid_row": null,
            "max_height": null,
            "align_content": null,
            "visibility": null,
            "align_self": null,
            "height": null,
            "min_height": null,
            "padding": null,
            "grid_auto_rows": null,
            "grid_gap": null,
            "max_width": null,
            "order": null,
            "_view_module_version": "1.2.0",
            "grid_template_areas": null,
            "object_position": null,
            "object_fit": null,
            "grid_auto_columns": null,
            "margin": null,
            "display": null,
            "left": null
          }
        },
        "4adb95fd5ea1492ab9be3689cd630480": {
          "model_module": "@jupyter-widgets/controls",
          "model_name": "FloatProgressModel",
          "state": {
            "_view_name": "ProgressView",
            "style": "IPY_MODEL_fb3d3c0cc9084c2dbd7417f5a573ba1c",
            "_dom_classes": [],
            "description": "100%",
            "_model_name": "FloatProgressModel",
            "bar_style": "success",
            "max": 5,
            "_view_module": "@jupyter-widgets/controls",
            "_model_module_version": "1.5.0",
            "value": 5,
            "_view_count": null,
            "_view_module_version": "1.5.0",
            "orientation": "horizontal",
            "min": 0,
            "description_tooltip": null,
            "_model_module": "@jupyter-widgets/controls",
            "layout": "IPY_MODEL_94def53e3a7c46dab1fcdba82dce174e"
          }
        },
        "22ddabb8a5354e559bb8695f1804664e": {
          "model_module": "@jupyter-widgets/controls",
          "model_name": "HTMLModel",
          "state": {
            "_view_name": "HTMLView",
            "style": "IPY_MODEL_0928f942118249bd9489d99e87b2bfbd",
            "_dom_classes": [],
            "description": "",
            "_model_name": "HTMLModel",
            "placeholder": "​",
            "_view_module": "@jupyter-widgets/controls",
            "_model_module_version": "1.5.0",
            "value": " 5/5 [00:52&lt;00:00, 10.44s/it]",
            "_view_count": null,
            "_view_module_version": "1.5.0",
            "description_tooltip": null,
            "_model_module": "@jupyter-widgets/controls",
            "layout": "IPY_MODEL_f8464de2bac1430a83e4931e67553b60"
          }
        },
        "fb3d3c0cc9084c2dbd7417f5a573ba1c": {
          "model_module": "@jupyter-widgets/controls",
          "model_name": "ProgressStyleModel",
          "state": {
            "_view_name": "StyleView",
            "_model_name": "ProgressStyleModel",
            "description_width": "initial",
            "_view_module": "@jupyter-widgets/base",
            "_model_module_version": "1.5.0",
            "_view_count": null,
            "_view_module_version": "1.2.0",
            "bar_color": null,
            "_model_module": "@jupyter-widgets/controls"
          }
        },
        "94def53e3a7c46dab1fcdba82dce174e": {
          "model_module": "@jupyter-widgets/base",
          "model_name": "LayoutModel",
          "state": {
            "_view_name": "LayoutView",
            "grid_template_rows": null,
            "right": null,
            "justify_content": null,
            "_view_module": "@jupyter-widgets/base",
            "overflow": null,
            "_model_module_version": "1.2.0",
            "_view_count": null,
            "flex_flow": null,
            "width": null,
            "min_width": null,
            "border": null,
            "align_items": null,
            "bottom": null,
            "_model_module": "@jupyter-widgets/base",
            "top": null,
            "grid_column": null,
            "overflow_y": null,
            "overflow_x": null,
            "grid_auto_flow": null,
            "grid_area": null,
            "grid_template_columns": null,
            "flex": null,
            "_model_name": "LayoutModel",
            "justify_items": null,
            "grid_row": null,
            "max_height": null,
            "align_content": null,
            "visibility": null,
            "align_self": null,
            "height": null,
            "min_height": null,
            "padding": null,
            "grid_auto_rows": null,
            "grid_gap": null,
            "max_width": null,
            "order": null,
            "_view_module_version": "1.2.0",
            "grid_template_areas": null,
            "object_position": null,
            "object_fit": null,
            "grid_auto_columns": null,
            "margin": null,
            "display": null,
            "left": null
          }
        },
        "0928f942118249bd9489d99e87b2bfbd": {
          "model_module": "@jupyter-widgets/controls",
          "model_name": "DescriptionStyleModel",
          "state": {
            "_view_name": "StyleView",
            "_model_name": "DescriptionStyleModel",
            "description_width": "",
            "_view_module": "@jupyter-widgets/base",
            "_model_module_version": "1.5.0",
            "_view_count": null,
            "_view_module_version": "1.2.0",
            "_model_module": "@jupyter-widgets/controls"
          }
        },
        "f8464de2bac1430a83e4931e67553b60": {
          "model_module": "@jupyter-widgets/base",
          "model_name": "LayoutModel",
          "state": {
            "_view_name": "LayoutView",
            "grid_template_rows": null,
            "right": null,
            "justify_content": null,
            "_view_module": "@jupyter-widgets/base",
            "overflow": null,
            "_model_module_version": "1.2.0",
            "_view_count": null,
            "flex_flow": null,
            "width": null,
            "min_width": null,
            "border": null,
            "align_items": null,
            "bottom": null,
            "_model_module": "@jupyter-widgets/base",
            "top": null,
            "grid_column": null,
            "overflow_y": null,
            "overflow_x": null,
            "grid_auto_flow": null,
            "grid_area": null,
            "grid_template_columns": null,
            "flex": null,
            "_model_name": "LayoutModel",
            "justify_items": null,
            "grid_row": null,
            "max_height": null,
            "align_content": null,
            "visibility": null,
            "align_self": null,
            "height": null,
            "min_height": null,
            "padding": null,
            "grid_auto_rows": null,
            "grid_gap": null,
            "max_width": null,
            "order": null,
            "_view_module_version": "1.2.0",
            "grid_template_areas": null,
            "object_position": null,
            "object_fit": null,
            "grid_auto_columns": null,
            "margin": null,
            "display": null,
            "left": null
          }
        }
      }
    }
  },
  "cells": [
    {
      "cell_type": "markdown",
      "metadata": {
        "id": "view-in-github",
        "colab_type": "text"
      },
      "source": [
        "<a href=\"https://colab.research.google.com/github/shivammehta007/NLPResearch/blob/master/Tutorials/Generative%20Models/VAE.ipynb\" target=\"_parent\"><img src=\"https://colab.research.google.com/assets/colab-badge.svg\" alt=\"Open In Colab\"/></a>"
      ]
    },
    {
      "cell_type": "markdown",
      "metadata": {
        "id": "MgFXyBYV_fQ8",
        "colab_type": "text"
      },
      "source": [
        "Writing A Variational Encoder in PyTorch\n",
        "First Lets Import all the libraries needed"
      ]
    },
    {
      "cell_type": "code",
      "metadata": {
        "id": "MCes9olUqAB7",
        "colab_type": "code",
        "colab": {
          "base_uri": "https://localhost:8080/",
          "height": 34
        },
        "outputId": "0597738c-adc7-4ef7-e140-9aedc1c2860a"
      },
      "source": [
        "! pip install -U tqdm\n",
        "import torch\n",
        "import torch.nn as nn\n",
        "import torch.nn.functional as F\n",
        "import torch.optim as optim\n",
        "from torch.utils.data import DataLoader\n",
        "from torchvision import datasets, transforms\n",
        "import matplotlib.pyplot as plt\n",
        "from tqdm.notebook import tqdm"
      ],
      "execution_count": 1,
      "outputs": [
        {
          "output_type": "stream",
          "text": [
            "Requirement already up-to-date: tqdm in /usr/local/lib/python3.6/dist-packages (4.41.1)\n"
          ],
          "name": "stdout"
        }
      ]
    },
    {
      "cell_type": "code",
      "metadata": {
        "id": "npKjzI_U_Sha",
        "colab_type": "code",
        "colab": {}
      },
      "source": [
        "device = torch.device('cuda' if torch.cuda.is_available() else 'cpu')"
      ],
      "execution_count": 0,
      "outputs": []
    },
    {
      "cell_type": "markdown",
      "metadata": {
        "id": "q-Be36ahBdEm",
        "colab_type": "text"
      },
      "source": [
        "Loading the Data, Lets use our favourite dataset MNIST"
      ]
    },
    {
      "cell_type": "code",
      "metadata": {
        "id": "wGSPu3yj_24H",
        "colab_type": "code",
        "colab": {}
      },
      "source": [
        "transformer = transforms.Compose([transforms.ToTensor()])\n",
        "\n",
        "train_data = datasets.MNIST(root='.data/', train=True, download=True, transform=transformer)\n",
        "test_data = datasets.MNIST(root='.data/',train=False, download=True, transform=transformer)"
      ],
      "execution_count": 0,
      "outputs": []
    },
    {
      "cell_type": "markdown",
      "metadata": {
        "id": "a7oxrcFBCC0e",
        "colab_type": "text"
      },
      "source": [
        "Initializing Data Set Iterators for easy and batched access"
      ]
    },
    {
      "cell_type": "code",
      "metadata": {
        "id": "rdX2pq8m_3UI",
        "colab_type": "code",
        "colab": {}
      },
      "source": [
        "BATCH_SIZE = 64\n",
        "\n",
        "train_iterator = DataLoader(train_data, batch_size=BATCH_SIZE, shuffle=True)\n",
        "test_iterator = DataLoader(test_data, batch_size=BATCH_SIZE)\n"
      ],
      "execution_count": 0,
      "outputs": []
    },
    {
      "cell_type": "code",
      "metadata": {
        "id": "SI42X7RtZoNH",
        "colab_type": "code",
        "colab": {
          "base_uri": "https://localhost:8080/",
          "height": 85
        },
        "outputId": "be5dfad2-d84f-419d-ca9f-2c2bb493ba2d"
      },
      "source": [
        "tmpx, tmpy = iter(train_iterator).next()\n",
        "tmpx.shape, tmpy"
      ],
      "execution_count": 5,
      "outputs": [
        {
          "output_type": "execute_result",
          "data": {
            "text/plain": [
              "(torch.Size([64, 1, 28, 28]),\n",
              " tensor([0, 6, 0, 2, 1, 7, 7, 3, 9, 5, 4, 7, 3, 7, 7, 9, 2, 3, 5, 1, 0, 6, 1, 8,\n",
              "         6, 3, 3, 8, 0, 2, 8, 5, 1, 1, 0, 6, 4, 2, 8, 2, 3, 7, 9, 9, 4, 8, 5, 6,\n",
              "         0, 4, 9, 3, 6, 7, 0, 1, 5, 4, 4, 5, 4, 6, 1, 1]))"
            ]
          },
          "metadata": {
            "tags": []
          },
          "execution_count": 5
        }
      ]
    },
    {
      "cell_type": "markdown",
      "metadata": {
        "id": "wQilDVmVCZfr",
        "colab_type": "text"
      },
      "source": [
        "Now Lets Define the HyperParameters of our VAE \n",
        "Since, VAE is nothing but a combination of Autoencoders, lets define how our architecture will look like\n",
        "\n",
        "* size of each input\n",
        "* hidden dimension\n",
        "* latent vector dimension\n",
        "* learning rate      "
      ]
    },
    {
      "cell_type": "code",
      "metadata": {
        "id": "UML4-G9dCYWT",
        "colab_type": "code",
        "colab": {}
      },
      "source": [
        "INPUT_DIM = 28 * 28\n",
        "HIDDEN_DIM = 256\n",
        "LATENT_DIM = 20\n",
        "lr = 1e-3\n",
        "CHANNELS = 32\n",
        "DROPOUT = 0.7"
      ],
      "execution_count": 0,
      "outputs": []
    },
    {
      "cell_type": "markdown",
      "metadata": {
        "id": "fik7ixbEC87K",
        "colab_type": "text"
      },
      "source": [
        "In VAE we have one Encoder $ q_\\phi (z | x) $ , Lets first define that\n",
        "\n",
        "Quick Note: Size of next convolutional layer : \n",
        "$$ OW = \\dfrac{W - f_ + 2P}{S} + 1 $$\n",
        "where W is the width, f is the filter, p is the padding and S is the Stride"
      ]
    },
    {
      "cell_type": "code",
      "metadata": {
        "id": "dT0tAcVGC6UO",
        "colab_type": "code",
        "colab": {}
      },
      "source": [
        "class Encoder(nn.Module):\n",
        "    '''\n",
        "        This is the Encoder of VAE\n",
        "    '''\n",
        "    def __init__(self, channels, input_dim, hidden_dim, latent_dim, dropout):\n",
        "        super(Encoder, self).__init__()\n",
        "        # Image size : (1, 28, 28)\n",
        "        self.conv1 = nn.Conv2d(1, channels, 4, 2, 1)\n",
        "        # 32, 14, 14\n",
        "        self.conv2 = nn.Conv2d(channels, channels * 4, 4, 2, 1)\n",
        "        # 128, 7, 7\n",
        "        self.linear = nn.Linear(128 * 7* 7, hidden_dim)\n",
        "        self.dropout = nn.Dropout(dropout)\n",
        "        self.mu = nn.Linear(hidden_dim, latent_dim)\n",
        "        self.var = nn.Linear(hidden_dim, latent_dim)\n",
        "\n",
        "    def forward(self, x):\n",
        "        x = F.relu(self.conv1(x))\n",
        "        x = F.relu(self.conv2(x))\n",
        "        x = x.view(-1, 128*7*7)\n",
        "        x = self.dropout(F.relu(self.linear(x)))\n",
        "        \n",
        "        mu_z = self.mu(x)\n",
        "        var_z = self.var(x)\n",
        "\n",
        "        return mu_z, var_z\n"
      ],
      "execution_count": 0,
      "outputs": []
    },
    {
      "cell_type": "markdown",
      "metadata": {
        "id": "nkWgoLamFEGT",
        "colab_type": "text"
      },
      "source": [
        "Now, Lets Code Decoder $ p_\\theta (x | z) $  which will take latent as input and give generated image as output "
      ]
    },
    {
      "cell_type": "markdown",
      "metadata": {
        "id": "8rsinkgncx64",
        "colab_type": "text"
      },
      "source": [
        "De Conv Formula will just be opposite\n",
        "$$ \\left(OW - 1 \\right) S + F - 2P = W $$"
      ]
    },
    {
      "cell_type": "code",
      "metadata": {
        "id": "91f-NqqTFBlB",
        "colab_type": "code",
        "colab": {}
      },
      "source": [
        "class Decoder(nn.Module):\n",
        "    '''\n",
        "        This is the Decoder part of VAE\n",
        "    '''\n",
        "    def __init__(self, channel, latent_dim, hidden_dim, output_dim):\n",
        "        super(Decoder, self).__init__()\n",
        "        self.upsampling_linear = nn.Linear(latent_dim, 128 * 7 * 7)     \n",
        "        # 128, 7, 7\n",
        "        self.upconv = nn.ConvTranspose2d(channel * 4, channel, 4, 2, 1) \n",
        "        # 32, 14, 14 \n",
        "        self.upconv2 = nn.ConvTranspose2d(channel, 1, 4, 2, 1)\n",
        "        # 1, 28, 28\n",
        "        self.out = nn.Linear(1 * 28 * 28, output_dim)\n",
        "\n",
        "    def forward(self, x):\n",
        "        x = F.relu(self.upsampling_linear(x))\n",
        "        x = x.view(-1, 128, 7, 7)\n",
        "        x = F.relu(self.upconv(x))\n",
        "        x = F.relu(self.upconv2(x))\n",
        "        x = x.view(-1, 1 * 28 * 28)\n",
        "        output = torch.sigmoid(self.out(x))\n",
        "    \n",
        "        return output"
      ],
      "execution_count": 0,
      "outputs": []
    },
    {
      "cell_type": "markdown",
      "metadata": {
        "id": "Wnre8DJNIkqw",
        "colab_type": "text"
      },
      "source": [
        "Now we have both our encoder and decoder, Lets write the final architecture of our VAE\n"
      ]
    },
    {
      "cell_type": "code",
      "metadata": {
        "id": "lQafQcZ0Ijb6",
        "colab_type": "code",
        "colab": {}
      },
      "source": [
        "class VAE(nn.Module):\n",
        "    def __init__(self, enc, dec):\n",
        "        super(VAE, self).__init__()\n",
        "        self.encoder = enc\n",
        "        self.decoder = dec\n",
        "    \n",
        "    def reparameterization_sampling(self, mu, var):\n",
        "        std = torch.exp(var / 2)\n",
        "        eps = torch.randn_like(std)\n",
        "        return eps.mul(std).add_(mu)\n",
        "\n",
        "    def forward(self, x):\n",
        "        mu_z, var_z = self.encoder(x)\n",
        "        x_sample = self.reparameterization_sampling(mu_z, var_z)\n",
        "        prediction = self.decoder(x_sample)\n",
        "        return prediction, mu_z, var_z\n",
        "        "
      ],
      "execution_count": 0,
      "outputs": []
    },
    {
      "cell_type": "markdown",
      "metadata": {
        "id": "qWoRBbI7JrLV",
        "colab_type": "text"
      },
      "source": [
        "Lets, Initialize the Model"
      ]
    },
    {
      "cell_type": "code",
      "metadata": {
        "id": "2MbIwR-wJdVT",
        "colab_type": "code",
        "colab": {}
      },
      "source": [
        "encoder = Encoder(CHANNELS, INPUT_DIM, HIDDEN_DIM, LATENT_DIM, DROPOUT)\n",
        "decoder = Decoder(CHANNELS, LATENT_DIM, HIDDEN_DIM, INPUT_DIM)\n",
        "\n",
        "model = VAE(encoder, decoder).to(device)\n",
        "\n",
        "optimizer = optim.Adam(model.parameters(), lr=lr)"
      ],
      "execution_count": 0,
      "outputs": []
    },
    {
      "cell_type": "code",
      "metadata": {
        "id": "inY6G00qfwgl",
        "colab_type": "code",
        "colab": {
          "base_uri": "https://localhost:8080/",
          "height": 34
        },
        "outputId": "65a5c92a-7b93-401a-c6fc-e0a405c075b5"
      },
      "source": [
        "print('{:,}'.format(sum([p.numel() for p in model.parameters() if p.requires_grad])))"
      ],
      "execution_count": 11,
      "outputs": [
        {
          "output_type": "stream",
          "text": [
            "2,495,609\n"
          ],
          "name": "stdout"
        }
      ]
    },
    {
      "cell_type": "markdown",
      "metadata": {
        "id": "uBwj7K2QKJLc",
        "colab_type": "text"
      },
      "source": [
        "So we know that the LOSS of VAE is the Reconstruction loss and KL Divergence\n",
        "So final loss function will give be = RL + KL\n"
      ]
    },
    {
      "cell_type": "code",
      "metadata": {
        "id": "xb0Sj0oCKCp5",
        "colab_type": "code",
        "colab": {}
      },
      "source": [
        "def reconstruction_loss(sampled_input, original_input):\n",
        "    return F.binary_cross_entropy(sampled_input, original_input, reduction='sum')\n",
        "\n",
        "def kl_divergence(mu_z, var_z):\n",
        "    return 0.5 * torch.sum(torch.exp(var_z) + mu_z**2 - 1.0 - var_z)"
      ],
      "execution_count": 0,
      "outputs": []
    },
    {
      "cell_type": "markdown",
      "metadata": {
        "id": "S1qqHBUqLETr",
        "colab_type": "text"
      },
      "source": [
        "Lets now Train the Model "
      ]
    },
    {
      "cell_type": "code",
      "metadata": {
        "id": "_8v09-bFK65E",
        "colab_type": "code",
        "colab": {}
      },
      "source": [
        "def train(model, iterator, optimizer):\n",
        "    model.train()\n",
        "\n",
        "    train_loss = 0\n",
        "\n",
        "    for i, (x, _) in enumerate(iterator):\n",
        "        # Update the size of array\n",
        "        x = x.to(device)\n",
        "\n",
        "        # Forward Prop\n",
        "        x_sample, mu_z, var_z = model(x)\n",
        "        x_sample = x_sample.view(-1, 1, 28, 28)\n",
        "        # Calculating Loss\n",
        "        loss = reconstruction_loss(x_sample, x) + kl_divergence(mu_z, var_z)\n",
        "\n",
        "        # Backpropagate\n",
        "        loss.backward()\n",
        "\n",
        "        # Update Train_loss\n",
        "        train_loss += loss.item()\n",
        "\n",
        "        optimizer.step()\n",
        "    \n",
        "    return train_loss\n",
        "\n"
      ],
      "execution_count": 0,
      "outputs": []
    },
    {
      "cell_type": "code",
      "metadata": {
        "id": "5NtTH-pAMh94",
        "colab_type": "code",
        "colab": {}
      },
      "source": [
        "def test(model, iterator, optimizer):\n",
        "    model.eval()\n",
        "\n",
        "    test_loss = 0\n",
        "\n",
        "    with torch.no_grad():\n",
        "        for i, (x, _) in enumerate(iterator):\n",
        "            x = x.to(device)\n",
        "\n",
        "            x_sample, mu_z, var_z = model(x)\n",
        "            x_sample = x_sample.view(-1, 1, 28, 28)\n",
        "\n",
        "            loss = reconstruction_loss(x_sample, x) + kl_divergence(mu_z, var_z)\n",
        "\n",
        "            test_loss += loss.item()\n",
        "    \n",
        "    return test_loss\n",
        "\n",
        "        "
      ],
      "execution_count": 0,
      "outputs": []
    },
    {
      "cell_type": "code",
      "metadata": {
        "id": "3jCzWj1VNduI",
        "colab_type": "code",
        "colab": {}
      },
      "source": [
        "N_EPOCHS = 5"
      ],
      "execution_count": 0,
      "outputs": []
    },
    {
      "cell_type": "markdown",
      "metadata": {
        "id": "7tdBnvU5NFue",
        "colab_type": "text"
      },
      "source": [
        "Finally Training the Model with iterators and dataset"
      ]
    },
    {
      "cell_type": "code",
      "metadata": {
        "id": "XyIyJBc6NAvR",
        "colab_type": "code",
        "outputId": "79c798f8-1b85-4bc2-d7ca-7bad00865322",
        "colab": {
          "base_uri": "https://localhost:8080/",
          "height": 1000,
          "referenced_widgets": [
            "c52d059b50514bccb58cd9adcd7b709e",
            "2e4ff376581f4d1e9d5052e4d7fb8016",
            "4adb95fd5ea1492ab9be3689cd630480",
            "22ddabb8a5354e559bb8695f1804664e",
            "fb3d3c0cc9084c2dbd7417f5a573ba1c",
            "94def53e3a7c46dab1fcdba82dce174e",
            "0928f942118249bd9489d99e87b2bfbd",
            "f8464de2bac1430a83e4931e67553b60"
          ]
        }
      },
      "source": [
        " for epoch in tqdm(range(N_EPOCHS)):\n",
        "\n",
        "        train_loss = train(model, train_iterator, optimizer)\n",
        "        test_loss = test(model, test_iterator, optimizer)\n",
        "\n",
        "        train_loss /= len(train_data)\n",
        "        test_loss /= len(test_data)\n",
        "\n",
        "        print('Epoch :{:02d}, Train_loss : {:.4f} Test_loss: {:.4f}'.format(epoch + 1, train_loss, test_loss))\n",
        "        model.eval()\n",
        "        recon_img, _, _ = model(tmpx[:1].to(device))\n",
        "        img = recon_img.view(28, 28).detach().cpu().numpy()\n",
        "        \n",
        "        plt.imshow(img)\n",
        "        plt.show()"
      ],
      "execution_count": 16,
      "outputs": [
        {
          "output_type": "display_data",
          "data": {
            "application/vnd.jupyter.widget-view+json": {
              "model_id": "c52d059b50514bccb58cd9adcd7b709e",
              "version_minor": 0,
              "version_major": 2
            },
            "text/plain": [
              "HBox(children=(FloatProgress(value=0.0, max=5.0), HTML(value='')))"
            ]
          },
          "metadata": {
            "tags": []
          }
        },
        {
          "output_type": "stream",
          "text": [
            "Epoch :01, Train_loss : 275.1119 Test_loss: 243.6090\n"
          ],
          "name": "stdout"
        },
        {
          "output_type": "display_data",
          "data": {
            "image/png": "[encoded data removed]",
            "text/plain": [
              "<Figure size 432x288 with 1 Axes>"
            ]
          },
          "metadata": {
            "tags": []
          }
        },
        {
          "output_type": "stream",
          "text": [
            "Epoch :02, Train_loss : 256.4329 Test_loss: 235.3201\n"
          ],
          "name": "stdout"
        },
        {
          "output_type": "display_data",
          "data": {
            "image/png": "[encoded data removed]",
            "text/plain": [
              "<Figure size 432x288 with 1 Axes>"
            ]
          },
          "metadata": {
            "tags": []
          }
        },
        {
          "output_type": "stream",
          "text": [
            "Epoch :03, Train_loss : 227.9344 Test_loss: 218.8517\n"
          ],
          "name": "stdout"
        },
        {
          "output_type": "display_data",
          "data": {
            "image/png": "[encoded data removed]",
            "text/plain": [
              "<Figure size 432x288 with 1 Axes>"
            ]
          },
          "metadata": {
            "tags": []
          }
        },
        {
          "output_type": "stream",
          "text": [
            "Epoch :04, Train_loss : 218.6350 Test_loss: 220.1565\n"
          ],
          "name": "stdout"
        },
        {
          "output_type": "display_data",
          "data": {
            "image/png": "[encoded data removed]",
            "text/plain": [
              "<Figure size 432x288 with 1 Axes>"
            ]
          },
          "metadata": {
            "tags": []
          }
        },
        {
          "output_type": "stream",
          "text": [
            "Epoch :05, Train_loss : 221.1676 Test_loss: 218.9861\n"
          ],
          "name": "stdout"
        },
        {
          "output_type": "display_data",
          "data": {
            "image/png": "[encoded data removed]",
            "text/plain": [
              "<Figure size 432x288 with 1 Axes>"
            ]
          },
          "metadata": {
            "tags": []
          }
        },
        {
          "output_type": "stream",
          "text": [
            "\n"
          ],
          "name": "stdout"
        }
      ]
    },
    {
      "cell_type": "code",
      "metadata": {
        "id": "tUCuItrXNbGq",
        "colab_type": "code",
        "outputId": "0f6ba7bb-8f49-4910-fb92-3a6ed8ff98e4",
        "colab": {
          "base_uri": "https://localhost:8080/",
          "height": 299
        }
      },
      "source": [
        "z = torch.randn(1, LATENT_DIM).to(device)\n",
        "# run only the decoder\n",
        "reconstructed_img = model.decoder(z)\n",
        "img = reconstructed_img.view(28, 28).data\n",
        "\n",
        "print(z.shape)\n",
        "print(img.shape)\n",
        "plt.imshow(img.cpu(), cmap='gray')\n",
        "plt.show()"
      ],
      "execution_count": 19,
      "outputs": [
        {
          "output_type": "stream",
          "text": [
            "torch.Size([1, 20])\n",
            "torch.Size([28, 28])\n"
          ],
          "name": "stdout"
        },
        {
          "output_type": "display_data",
          "data": {
            "image/png": "[encoded data removed]",
            "text/plain": [
              "<Figure size 432x288 with 1 Axes>"
            ]
          },
          "metadata": {
            "tags": []
          }
        }
      ]
    },
    {
      "cell_type": "code",
      "metadata": {
        "id": "LBnjlardPYVR",
        "colab_type": "code",
        "colab": {}
      },
      "source": [
        ""
      ],
      "execution_count": 0,
      "outputs": []
    }
  ]
}