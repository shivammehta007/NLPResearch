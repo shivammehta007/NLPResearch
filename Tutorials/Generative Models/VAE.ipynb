{
  "nbformat": 4,
  "nbformat_minor": 0,
  "metadata": {
    "colab": {
      "name": "Variational Encoder",
      "provenance": [],
      "include_colab_link": true
    },
    "kernelspec": {
      "name": "python3",
      "display_name": "Python 3"
    },
    "accelerator": "GPU"
  },
  "cells": [
    {
      "cell_type": "markdown",
      "metadata": {
        "id": "view-in-github",
        "colab_type": "text"
      },
      "source": [
        "<a href=\"https://colab.research.google.com/github/shivammehta007/NLPResearch/blob/master/Tutorials/Generative%20Models/VAE.ipynb\" target=\"_parent\"><img src=\"https://colab.research.google.com/assets/colab-badge.svg\" alt=\"Open In Colab\"/></a>"
      ]
    },
    {
      "cell_type": "markdown",
      "metadata": {
        "id": "MgFXyBYV_fQ8",
        "colab_type": "text"
      },
      "source": [
        "Writing A Variational Encoder in PyTorch\n",
        "First Lets Import all the libraries needed"
      ]
    },
    {
      "cell_type": "code",
      "metadata": {
        "id": "MCes9olUqAB7",
        "colab_type": "code",
        "colab": {}
      },
      "source": [
        "import torch\n",
        "import torch.nn as nn\n",
        "import torch.nn.functional as F\n",
        "import torch.optim as optim\n",
        "from torch.utils.data import DataLoader\n",
        "from torchvision import datasets, transforms\n",
        "import matplotlib.pyplot as plt"
      ],
      "execution_count": 0,
      "outputs": []
    },
    {
      "cell_type": "code",
      "metadata": {
        "id": "npKjzI_U_Sha",
        "colab_type": "code",
        "colab": {}
      },
      "source": [
        "device = torch.device('cuda' if torch.cuda.is_available() else 'cpu')"
      ],
      "execution_count": 0,
      "outputs": []
    },
    {
      "cell_type": "markdown",
      "metadata": {
        "id": "q-Be36ahBdEm",
        "colab_type": "text"
      },
      "source": [
        "Loading the Data, Lets use our favourite dataset MNIST"
      ]
    },
    {
      "cell_type": "code",
      "metadata": {
        "id": "wGSPu3yj_24H",
        "colab_type": "code",
        "colab": {}
      },
      "source": [
        "transformer = transforms.Compose([transforms.ToTensor()])\n",
        "\n",
        "train_data = datasets.MNIST(root='.data/', train=True, download=True, transform=transformer)\n",
        "test_data = datasets.MNIST(root='.data/',train=False, download=True, transform=transformer)"
      ],
      "execution_count": 0,
      "outputs": []
    },
    {
      "cell_type": "markdown",
      "metadata": {
        "id": "a7oxrcFBCC0e",
        "colab_type": "text"
      },
      "source": [
        "Initializing Data Set Iterators for easy and batched access"
      ]
    },
    {
      "cell_type": "code",
      "metadata": {
        "id": "rdX2pq8m_3UI",
        "colab_type": "code",
        "colab": {}
      },
      "source": [
        "BATCH_SIZE = 64\n",
        "\n",
        "train_iterator = DataLoader(train_data, batch_size=BATCH_SIZE, shuffle=True)\n",
        "test_iterator = DataLoader(test_data, batch_size=BATCH_SIZE)\n"
      ],
      "execution_count": 0,
      "outputs": []
    },
    {
      "cell_type": "markdown",
      "metadata": {
        "id": "wQilDVmVCZfr",
        "colab_type": "text"
      },
      "source": [
        "Now Lets Define the HyperParameters of our VAE \n",
        "Since, VAE is nothing but a combination of Autoencoders, lets define how our architecture will look like\n",
        "\n",
        "* size of each input\n",
        "* hidden dimension\n",
        "* latent vector dimension\n",
        "* learning rate      "
      ]
    },
    {
      "cell_type": "code",
      "metadata": {
        "id": "UML4-G9dCYWT",
        "colab_type": "code",
        "colab": {}
      },
      "source": [
        "INPUT_DIM = 28 * 28\n",
        "HIDDEN_DIM = 256\n",
        "LATENT_DIM = 20\n",
        "lr = 1e-3"
      ],
      "execution_count": 0,
      "outputs": []
    },
    {
      "cell_type": "markdown",
      "metadata": {
        "id": "fik7ixbEC87K",
        "colab_type": "text"
      },
      "source": [
        "In VAE we have one Encoder $ q_\\phi (z | x) $ , Lets first define that"
      ]
    },
    {
      "cell_type": "code",
      "metadata": {
        "id": "dT0tAcVGC6UO",
        "colab_type": "code",
        "colab": {}
      },
      "source": [
        "class Encoder(nn.Module):\n",
        "    '''\n",
        "        This is the Encoder of VAE\n",
        "    '''\n",
        "    def __init__(self, input_dim, hidden_dim, latent_dim):\n",
        "        super(Encoder, self).__init__()\n",
        "\n",
        "        self.linear = nn.Linear(input_dim, hidden_dim)\n",
        "        self.mu = nn.Linear(hidden_dim, latent_dim)\n",
        "        self.var = nn.Linear(hidden_dim, latent_dim)\n",
        "\n",
        "    def forward(self, x):\n",
        "\n",
        "        hidden = F.relu(self.linear(x))\n",
        "        mu_z = self.mu(hidden)\n",
        "        var_z = self.var(hidden)\n",
        "\n",
        "        return mu_z, var_z\n"
      ],
      "execution_count": 0,
      "outputs": []
    },
    {
      "cell_type": "markdown",
      "metadata": {
        "id": "nkWgoLamFEGT",
        "colab_type": "text"
      },
      "source": [
        "Now, Lets Code Decoder $ p_\\theta (x | z) $  which will take latent as input and give generated image as output "
      ]
    },
    {
      "cell_type": "code",
      "metadata": {
        "id": "91f-NqqTFBlB",
        "colab_type": "code",
        "colab": {}
      },
      "source": [
        "class Decoder(nn.Module):\n",
        "    '''\n",
        "        This is the Decoder part of VAE\n",
        "    '''\n",
        "    def __init__(self, latent_dim, hidden_dim, output_dim):\n",
        "        super(Decoder, self).__init__()\n",
        "        self.linear = nn.Linear(latent_dim, hidden_dim)\n",
        "        self.out = nn.Linear(hidden_dim, output_dim)\n",
        "\n",
        "    def forward(self, x):\n",
        "        hidden = F.relu(self.linear(x))\n",
        "        output = torch.sigmoid(self.out(hidden))\n",
        "    \n",
        "        return output"
      ],
      "execution_count": 0,
      "outputs": []
    },
    {
      "cell_type": "markdown",
      "metadata": {
        "id": "Wnre8DJNIkqw",
        "colab_type": "text"
      },
      "source": [
        "Now we have both our encoder and decoder, Lets write the final architecture of our VAE\n"
      ]
    },
    {
      "cell_type": "code",
      "metadata": {
        "id": "lQafQcZ0Ijb6",
        "colab_type": "code",
        "colab": {}
      },
      "source": [
        "class VAE(nn.Module):\n",
        "    def __init__(self, enc, dec):\n",
        "        super(VAE, self).__init__()\n",
        "        self.encoder = enc\n",
        "        self.decoder = dec\n",
        "    \n",
        "    def sampling(self, mu, var):\n",
        "        std = torch.exp(var / 2)\n",
        "        eps = torch.randn_like(std)\n",
        "        return eps.mul(std).add_(mu)\n",
        "\n",
        "    def forward(self, x):\n",
        "\n",
        "\n",
        "        mu_z, var_z = self.encoder(x)\n",
        "\n",
        "        x_sample = self.sampling(mu_z, var_z)\n",
        "    \n",
        "        prediction = self.decoder(x_sample)\n",
        "\n",
        "        return prediction, mu_z, var_z\n",
        "        "
      ],
      "execution_count": 0,
      "outputs": []
    },
    {
      "cell_type": "markdown",
      "metadata": {
        "id": "qWoRBbI7JrLV",
        "colab_type": "text"
      },
      "source": [
        "Lets, Initialize the Model"
      ]
    },
    {
      "cell_type": "code",
      "metadata": {
        "id": "2MbIwR-wJdVT",
        "colab_type": "code",
        "colab": {}
      },
      "source": [
        "encoder = Encoder(INPUT_DIM, HIDDEN_DIM, LATENT_DIM)\n",
        "decoder = Decoder(LATENT_DIM, HIDDEN_DIM, INPUT_DIM)\n",
        "\n",
        "model = VAE(encoder, decoder).to(device)\n",
        "\n",
        "optimizer = optim.Adam(model.parameters(), lr=lr)"
      ],
      "execution_count": 0,
      "outputs": []
    },
    {
      "cell_type": "markdown",
      "metadata": {
        "id": "uBwj7K2QKJLc",
        "colab_type": "text"
      },
      "source": [
        "So we know that the LOSS of VAE is the Reconstruction loss and KL Divergence\n",
        "So final loss function will give be = RL + KL\n"
      ]
    },
    {
      "cell_type": "code",
      "metadata": {
        "id": "xb0Sj0oCKCp5",
        "colab_type": "code",
        "colab": {}
      },
      "source": [
        "def reconstruction_loss(sampled_input, original_input):\n",
        "    return F.binary_cross_entropy(sampled_input, original_input, size_average=False)\n",
        "\n",
        "def kl_divergence(mu_z, var_z):\n",
        "    return 0.5 * torch.sum(torch.exp(var_z) + mu_z**2 - 1.0 - var_z)"
      ],
      "execution_count": 0,
      "outputs": []
    },
    {
      "cell_type": "markdown",
      "metadata": {
        "id": "S1qqHBUqLETr",
        "colab_type": "text"
      },
      "source": [
        "Lets now Train the Model "
      ]
    },
    {
      "cell_type": "code",
      "metadata": {
        "id": "_8v09-bFK65E",
        "colab_type": "code",
        "colab": {}
      },
      "source": [
        "def train(model, iterator, optimizer):\n",
        "    model.train()\n",
        "\n",
        "    train_loss = 0\n",
        "\n",
        "    for i, (x, _) in enumerate(iterator):\n",
        "        # Update the size of array\n",
        "        x = x.view(-1, INPUT_DIM).to(device)\n",
        "\n",
        "        # Forward Prop\n",
        "        x_sample, mu_z, var_z = model(x)\n",
        "\n",
        "        # Calculating Loss\n",
        "        loss = reconstruction_loss(x_sample, x) + kl_divergence(mu_z, var_z)\n",
        "\n",
        "        # Backpropagate\n",
        "        loss.backward()\n",
        "\n",
        "        # Update Train_loss\n",
        "        train_loss += loss.item()\n",
        "\n",
        "        optimizer.step()\n",
        "    \n",
        "    return train_loss\n",
        "\n"
      ],
      "execution_count": 0,
      "outputs": []
    },
    {
      "cell_type": "code",
      "metadata": {
        "id": "5NtTH-pAMh94",
        "colab_type": "code",
        "colab": {}
      },
      "source": [
        "def test(model, iterator, optimizer):\n",
        "    model.eval()\n",
        "\n",
        "    test_loss = 0\n",
        "\n",
        "    with torch.no_grad():\n",
        "        for i, (x, _) in enumerate(iterator):\n",
        "            x = x.view(-1, INPUT_DIM).to(device)\n",
        "\n",
        "            x_sample, mu_z, var_z = model(x)\n",
        "\n",
        "            loss = reconstruction_loss(x_sample, x) + kl_divergence(mu_z, var_z)\n",
        "\n",
        "            test_loss += loss.item()\n",
        "    \n",
        "    return test_loss\n",
        "\n",
        "        "
      ],
      "execution_count": 0,
      "outputs": []
    },
    {
      "cell_type": "code",
      "metadata": {
        "id": "3jCzWj1VNduI",
        "colab_type": "code",
        "colab": {}
      },
      "source": [
        "N_EPOCHS = 20"
      ],
      "execution_count": 0,
      "outputs": []
    },
    {
      "cell_type": "markdown",
      "metadata": {
        "id": "7tdBnvU5NFue",
        "colab_type": "text"
      },
      "source": [
        "Finally Training the Model with iterators and dataset"
      ]
    },
    {
      "cell_type": "code",
      "metadata": {
        "id": "XyIyJBc6NAvR",
        "colab_type": "code",
        "colab": {
          "base_uri": "https://localhost:8080/",
          "height": 391
        },
        "outputId": "32bc7355-1b6b-4346-e0ce-1ff1b8d4e505"
      },
      "source": [
        " for epoch in range(N_EPOCHS):\n",
        "\n",
        "        train_loss = train(model, train_iterator, optimizer)\n",
        "        test_loss = test(model, test_iterator, optimizer)\n",
        "\n",
        "        train_loss /= len(train_data)\n",
        "        test_loss /= len(test_data)\n",
        "\n",
        "        print('Epoch :{}, Train_loss : {} Test_loss: {}'.format(epoch + 1, train_loss, test_loss))"
      ],
      "execution_count": 14,
      "outputs": [
        {
          "output_type": "stream",
          "text": [
            "/usr/local/lib/python3.6/dist-packages/torch/nn/_reduction.py:43: UserWarning: size_average and reduce args will be deprecated, please use reduction='sum' instead.\n",
            "  warnings.warn(warning.format(ret))\n"
          ],
          "name": "stderr"
        },
        {
          "output_type": "stream",
          "text": [
            "Epoch :1, Train_loss : 247.691322648112 Test_loss: 225.584222265625\n",
            "Epoch :2, Train_loss : 227.8959071126302 Test_loss: 230.0393634765625\n",
            "Epoch :3, Train_loss : 235.24255581054686 Test_loss: 242.44127458496095\n",
            "Epoch :4, Train_loss : 239.46109811197917 Test_loss: 238.11618540039063\n",
            "Epoch :5, Train_loss : 232.37769921061198 Test_loss: 227.071475390625\n",
            "Epoch :6, Train_loss : 224.911977734375 Test_loss: 224.69393198242187\n",
            "Epoch :7, Train_loss : 227.88393933105468 Test_loss: 230.19263952636717\n",
            "Epoch :8, Train_loss : 230.1887731282552 Test_loss: 230.05522958984375\n",
            "Epoch :9, Train_loss : 228.1150557779948 Test_loss: 226.16292204589843\n",
            "Epoch :10, Train_loss : 227.5982838297526 Test_loss: 228.75995822753907\n",
            "Epoch :11, Train_loss : 230.84038704427084 Test_loss: 233.88991337890624\n",
            "Epoch :12, Train_loss : 234.70716589355467 Test_loss: 234.54342807617186\n",
            "Epoch :13, Train_loss : 233.82448494466146 Test_loss: 231.7353688232422\n",
            "Epoch :14, Train_loss : 231.02353225097656 Test_loss: 231.79360141601563\n",
            "Epoch :15, Train_loss : 236.57211967773438 Test_loss: 244.07409685058593\n",
            "Epoch :16, Train_loss : 240.12448011067707 Test_loss: 235.4799810546875\n",
            "Epoch :17, Train_loss : 234.9132526204427 Test_loss: 234.27324177246095\n",
            "Epoch :18, Train_loss : 237.69882096354166 Test_loss: 242.8841795410156\n",
            "Epoch :19, Train_loss : 250.41395009765625 Test_loss: 252.30067392578124\n",
            "Epoch :20, Train_loss : 247.81758415527344 Test_loss: 242.09741994628905\n"
          ],
          "name": "stdout"
        }
      ]
    },
    {
      "cell_type": "code",
      "metadata": {
        "id": "tUCuItrXNbGq",
        "colab_type": "code",
        "colab": {
          "base_uri": "https://localhost:8080/",
          "height": 320
        },
        "outputId": "695ba6ce-7e36-47ac-9fab-da234c493a48"
      },
      "source": [
        "z = torch.randn(1, LATENT_DIM).to(device)\n",
        "\n",
        "# run only the decoder\n",
        "reconstructed_img = model.decoder(z)\n",
        "img = reconstructed_img.view(28, 28).data\n",
        "\n",
        "print(z.shape)\n",
        "print(img.shape)\n",
        "plt.imshow(img.cpu(), cmap='gray')"
      ],
      "execution_count": 15,
      "outputs": [
        {
          "output_type": "stream",
          "text": [
            "torch.Size([1, 20])\n",
            "torch.Size([28, 28])\n"
          ],
          "name": "stdout"
        },
        {
          "output_type": "execute_result",
          "data": {
            "text/plain": [
              "<matplotlib.image.AxesImage at 0x7f360c445f98>"
            ]
          },
          "metadata": {
            "tags": []
          },
          "execution_count": 15
        },
        {
          "output_type": "display_data",
          "data": {
            "image/png": "[encoded data removed]",
            "text/plain": [
              "<Figure size 432x288 with 1 Axes>"
            ]
          },
          "metadata": {
            "tags": []
          }
        }
      ]
    },
    {
      "cell_type": "code",
      "metadata": {
        "id": "LBnjlardPYVR",
        "colab_type": "code",
        "colab": {}
      },
      "source": [
        ""
      ],
      "execution_count": 0,
      "outputs": []
    }
  ]
}