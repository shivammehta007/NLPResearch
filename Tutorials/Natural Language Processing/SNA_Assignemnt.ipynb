{
  "nbformat": 4,
  "nbformat_minor": 0,
  "metadata": {
    "colab": {
      "name": "SNA_Assignemnt.ipynb",
      "provenance": [],
      "collapsed_sections": [],
      "include_colab_link": true
    },
    "kernelspec": {
      "name": "python3",
      "display_name": "Python 3"
    },
    "accelerator": "GPU"
  },
  "cells": [
    {
      "cell_type": "markdown",
      "metadata": {
        "id": "view-in-github",
        "colab_type": "text"
      },
      "source": [
        "<a href=\"https://colab.research.google.com/github/shivammehta007/NLPResearch/blob/master/Tutorials/Natural%20Language%20Processing/SNA_Assignemnt.ipynb\" target=\"_parent\"><img src=\"https://colab.research.google.com/assets/colab-badge.svg\" alt=\"Open In Colab\"/></a>"
      ]
    },
    {
      "cell_type": "code",
      "metadata": {
        "id": "57Tw_B6KncpD",
        "colab_type": "code",
        "colab": {
          "base_uri": "https://localhost:8080/",
          "height": 68
        },
        "outputId": "e10ed4d2-7163-4f32-ba86-0b010aa27596"
      },
      "source": [
        "import random\n",
        "import os\n",
        "import re\n",
        "\n",
        "import torch\n",
        "import torch.nn.functional as F\n",
        "import torch.optim as optim\n",
        "import torch.nn as nn\n",
        "import numpy as np\n",
        "import pandas as pd\n",
        "from torchtext import data\n",
        "\n",
        "from string import punctuation\n",
        "from sklearn.metrics import accuracy_score, f1_score, classification_report\n",
        "from sklearn.ensemble import RandomForestClassifier\n",
        "from sklearn.feature_extraction.text import CountVectorizer\n",
        "from sklearn.feature_extraction.text import TfidfTransformer\n",
        "import pickle\n",
        "import nltk\n",
        "nltk.download('punkt')\n",
        "from nltk.tokenize import word_tokenize\n",
        "\n",
        "import spacy\n",
        "nlp = spacy.load('en')\n",
        "\n",
        "! pip install revtok"
      ],
      "execution_count": 1,
      "outputs": [
        {
          "output_type": "stream",
          "text": [
            "[nltk_data] Downloading package punkt to /root/nltk_data...\n",
            "[nltk_data]   Package punkt is already up-to-date!\n",
            "Requirement already satisfied: revtok in /usr/local/lib/python3.6/dist-packages (0.0.3)\n"
          ],
          "name": "stdout"
        }
      ]
    },
    {
      "cell_type": "markdown",
      "metadata": {
        "id": "-3pQ4RBv-YKs",
        "colab_type": "text"
      },
      "source": [
        "#### Setting Up SEED's to keep up consistent values"
      ]
    },
    {
      "cell_type": "code",
      "metadata": {
        "id": "3K9c6TV_nqL5",
        "colab_type": "code",
        "colab": {}
      },
      "source": [
        "# Setting up custom random seeds,\n",
        "SEED = 1234\n",
        "torch.manual_seed(SEED)\n",
        "torch.cuda.manual_seed(SEED)\n",
        "np.random.seed(SEED)\n",
        "torch.backends.cudnn.deterministic = True\n",
        "random.seed(SEED)"
      ],
      "execution_count": 0,
      "outputs": []
    },
    {
      "cell_type": "code",
      "metadata": {
        "id": "aANq27LCpqJZ",
        "colab_type": "code",
        "outputId": "783e9c08-7ce9-4c5d-d5fc-a129a7d444c4",
        "colab": {
          "base_uri": "https://localhost:8080/",
          "height": 34
        }
      },
      "source": [
        "# Mounting Google Drive\n",
        "from google.colab import drive\n",
        "drive.mount('/content/gdrive')"
      ],
      "execution_count": 3,
      "outputs": [
        {
          "output_type": "stream",
          "text": [
            "Drive already mounted at /content/gdrive; to attempt to forcibly remount, call drive.mount(\"/content/gdrive\", force_remount=True).\n"
          ],
          "name": "stdout"
        }
      ]
    },
    {
      "cell_type": "code",
      "metadata": {
        "id": "gdSY5X2SsrvF",
        "colab_type": "code",
        "outputId": "5765f591-b6d9-4212-d165-3bba1a376bb7",
        "colab": {
          "base_uri": "https://localhost:8080/",
          "height": 34
        }
      },
      "source": [
        "device = torch.device('cuda' if torch.cuda.is_available() else 'cpu')\n",
        "device"
      ],
      "execution_count": 4,
      "outputs": [
        {
          "output_type": "execute_result",
          "data": {
            "text/plain": [
              "device(type='cuda')"
            ]
          },
          "metadata": {
            "tags": []
          },
          "execution_count": 4
        }
      ]
    },
    {
      "cell_type": "code",
      "metadata": {
        "id": "pqU1NatosMLB",
        "colab_type": "code",
        "colab": {}
      },
      "source": [
        "data_location = 'gdrive/My Drive/Colab Notebooks/SNA Lab'\n",
        "train_file = os.path.join(data_location, 'Train.csv')\n",
        "test_file = os.path.join(data_location, 'Test.csv')\n",
        "train_data_pd = pd.read_csv(train_file)\n",
        "test_data_pd = pd.read_csv(test_file)"
      ],
      "execution_count": 0,
      "outputs": []
    },
    {
      "cell_type": "code",
      "metadata": {
        "id": "_yK8F5cZsbn2",
        "colab_type": "code",
        "outputId": "1fba1df0-1a58-4816-9d40-5963f7c02e47",
        "colab": {
          "base_uri": "https://localhost:8080/",
          "height": 204
        }
      },
      "source": [
        "train_data_pd.head()"
      ],
      "execution_count": 6,
      "outputs": [
        {
          "output_type": "execute_result",
          "data": {
            "text/html": [
              "<div>\n",
              "<style scoped>\n",
              "    .dataframe tbody tr th:only-of-type {\n",
              "        vertical-align: middle;\n",
              "    }\n",
              "\n",
              "    .dataframe tbody tr th {\n",
              "        vertical-align: top;\n",
              "    }\n",
              "\n",
              "    .dataframe thead th {\n",
              "        text-align: right;\n",
              "    }\n",
              "</style>\n",
              "<table border=\"1\" class=\"dataframe\">\n",
              "  <thead>\n",
              "    <tr style=\"text-align: right;\">\n",
              "      <th></th>\n",
              "      <th>Topic</th>\n",
              "      <th>Sentiment</th>\n",
              "      <th>TweetDate</th>\n",
              "      <th>TweetText</th>\n",
              "    </tr>\n",
              "  </thead>\n",
              "  <tbody>\n",
              "    <tr>\n",
              "      <th>0</th>\n",
              "      <td>apple</td>\n",
              "      <td>positive</td>\n",
              "      <td>Tue Oct 18 21:53:25 +0000 2011</td>\n",
              "      <td>Now all @Apple has to do is get swype on the i...</td>\n",
              "    </tr>\n",
              "    <tr>\n",
              "      <th>1</th>\n",
              "      <td>apple</td>\n",
              "      <td>positive</td>\n",
              "      <td>Tue Oct 18 21:09:33 +0000 2011</td>\n",
              "      <td>@Apple will be adding more carrier support to ...</td>\n",
              "    </tr>\n",
              "    <tr>\n",
              "      <th>2</th>\n",
              "      <td>apple</td>\n",
              "      <td>positive</td>\n",
              "      <td>Tue Oct 18 21:02:20 +0000 2011</td>\n",
              "      <td>Hilarious @youtube video - guy does a duet wit...</td>\n",
              "    </tr>\n",
              "    <tr>\n",
              "      <th>3</th>\n",
              "      <td>apple</td>\n",
              "      <td>positive</td>\n",
              "      <td>Tue Oct 18 20:40:10 +0000 2011</td>\n",
              "      <td>@RIM you made it too easy for me to switch to ...</td>\n",
              "    </tr>\n",
              "    <tr>\n",
              "      <th>4</th>\n",
              "      <td>apple</td>\n",
              "      <td>positive</td>\n",
              "      <td>Tue Oct 18 20:34:00 +0000 2011</td>\n",
              "      <td>I just realized that the reason I got into twi...</td>\n",
              "    </tr>\n",
              "  </tbody>\n",
              "</table>\n",
              "</div>"
            ],
            "text/plain": [
              "   Topic  ...                                          TweetText\n",
              "0  apple  ...  Now all @Apple has to do is get swype on the i...\n",
              "1  apple  ...  @Apple will be adding more carrier support to ...\n",
              "2  apple  ...  Hilarious @youtube video - guy does a duet wit...\n",
              "3  apple  ...  @RIM you made it too easy for me to switch to ...\n",
              "4  apple  ...  I just realized that the reason I got into twi...\n",
              "\n",
              "[5 rows x 4 columns]"
            ]
          },
          "metadata": {
            "tags": []
          },
          "execution_count": 6
        }
      ]
    },
    {
      "cell_type": "markdown",
      "metadata": {
        "id": "qVRtGghe-ipn",
        "colab_type": "text"
      },
      "source": [
        "### Preprocess Data"
      ]
    },
    {
      "cell_type": "code",
      "metadata": {
        "id": "SR1kVgq2Rilx",
        "colab_type": "code",
        "colab": {}
      },
      "source": [
        "class PreprocessingTweet:\n",
        "    \n",
        "    def __init__(self, task='Sentiment'):\n",
        "        self.task = task\n",
        "        self.sentiment_dict = {'positive' : 0,\n",
        "                 'negative' : 1,\n",
        "                 'neutral' : 2,\n",
        "                 'irrelevant' : 9}\n",
        "\n",
        "        self.company_dict = {'apple' : 1,\n",
        "             'google' : 2,\n",
        "             'microsoft': 3,\n",
        "             'twitter': 4 }\n",
        "\n",
        "    def __process_tweets__(self, tweets):\n",
        "        tweets_ = []\n",
        "        for tweet in tweets:\n",
        "            tweet = tweet.lower() # convert text to lower-case\n",
        "            tweet = re.sub('((www\\.[^\\s]+)|(https?://[^\\s]+))', 'URL', tweet) # remove URLs\n",
        "            if self.task == 'Sentiment':\n",
        "                tweet = re.sub('@[^\\s]+', 'AT_USER', tweet) # remove usernames\n",
        "            tweet = re.sub(r'#([^\\s]+)', r'\\1', tweet) # remove the # in #hashtag\n",
        "            tweet = ''.join([i for i in tweet if i not in punctuation])\n",
        "            tweet = ' '.join(word_tokenize(tweet))\n",
        "            tweets_.append(tweet)\n",
        "        return pd.Series(tweets_)\n",
        "    \n",
        "    def __process_sentiment__(self, sentiments):\n",
        "        return sentiments.replace(self.sentiment_dict)\n",
        "\n",
        "    def __process_companies__(self, companies):\n",
        "        return companies.replace(self.company_dict)\n",
        "\n",
        "    def fit(self, dataframe):\n",
        "        dataframe['TweetText'] = self.__process_tweets__(dataframe['TweetText'])\n",
        "        dataframe['Topic'] = self.__process_companies__(dataframe['Topic'])\n",
        "        dataframe['Sentiment'] = self.__process_sentiment__(dataframe['Sentiment'])\n",
        "        return dataframe\n",
        "\n"
      ],
      "execution_count": 0,
      "outputs": []
    },
    {
      "cell_type": "markdown",
      "metadata": {
        "id": "QuJfxWoIO9EC",
        "colab_type": "text"
      },
      "source": [
        "# For Sentimental Analysis"
      ]
    },
    {
      "cell_type": "code",
      "metadata": {
        "id": "x9IG9mlHt5q3",
        "colab_type": "code",
        "colab": {}
      },
      "source": [
        "preprocessor_sentiment = PreprocessingTweet(task='Sentiment')"
      ],
      "execution_count": 0,
      "outputs": []
    },
    {
      "cell_type": "code",
      "metadata": {
        "id": "nGbjQ1ImtSB0",
        "colab_type": "code",
        "colab": {}
      },
      "source": [
        "train_data_sentiment_pd = preprocessor_sentiment.fit(train_data_pd)\n",
        "test_data_sentiment_pd = preprocessor_sentiment.fit(test_data_pd)"
      ],
      "execution_count": 0,
      "outputs": []
    },
    {
      "cell_type": "code",
      "metadata": {
        "id": "U97gsfDpmes5",
        "colab_type": "code",
        "colab": {
          "base_uri": "https://localhost:8080/",
          "height": 204
        },
        "outputId": "8b2efe64-80f2-4471-b6ce-276be871749c"
      },
      "source": [
        "train_data_sentiment_pd.head()"
      ],
      "execution_count": 10,
      "outputs": [
        {
          "output_type": "execute_result",
          "data": {
            "text/html": [
              "<div>\n",
              "<style scoped>\n",
              "    .dataframe tbody tr th:only-of-type {\n",
              "        vertical-align: middle;\n",
              "    }\n",
              "\n",
              "    .dataframe tbody tr th {\n",
              "        vertical-align: top;\n",
              "    }\n",
              "\n",
              "    .dataframe thead th {\n",
              "        text-align: right;\n",
              "    }\n",
              "</style>\n",
              "<table border=\"1\" class=\"dataframe\">\n",
              "  <thead>\n",
              "    <tr style=\"text-align: right;\">\n",
              "      <th></th>\n",
              "      <th>Topic</th>\n",
              "      <th>Sentiment</th>\n",
              "      <th>TweetDate</th>\n",
              "      <th>TweetText</th>\n",
              "    </tr>\n",
              "  </thead>\n",
              "  <tbody>\n",
              "    <tr>\n",
              "      <th>0</th>\n",
              "      <td>1</td>\n",
              "      <td>0</td>\n",
              "      <td>Tue Oct 18 21:53:25 +0000 2011</td>\n",
              "      <td>now all ATUSER has to do is get swype on the i...</td>\n",
              "    </tr>\n",
              "    <tr>\n",
              "      <th>1</th>\n",
              "      <td>1</td>\n",
              "      <td>0</td>\n",
              "      <td>Tue Oct 18 21:09:33 +0000 2011</td>\n",
              "      <td>ATUSER will be adding more carrier support to ...</td>\n",
              "    </tr>\n",
              "    <tr>\n",
              "      <th>2</th>\n",
              "      <td>1</td>\n",
              "      <td>0</td>\n",
              "      <td>Tue Oct 18 21:02:20 +0000 2011</td>\n",
              "      <td>hilarious ATUSER video guy does a duet with AT...</td>\n",
              "    </tr>\n",
              "    <tr>\n",
              "      <th>3</th>\n",
              "      <td>1</td>\n",
              "      <td>0</td>\n",
              "      <td>Tue Oct 18 20:40:10 +0000 2011</td>\n",
              "      <td>ATUSER you made it too easy for me to switch t...</td>\n",
              "    </tr>\n",
              "    <tr>\n",
              "      <th>4</th>\n",
              "      <td>1</td>\n",
              "      <td>0</td>\n",
              "      <td>Tue Oct 18 20:34:00 +0000 2011</td>\n",
              "      <td>i just realized that the reason i got into twi...</td>\n",
              "    </tr>\n",
              "  </tbody>\n",
              "</table>\n",
              "</div>"
            ],
            "text/plain": [
              "   Topic  ...                                          TweetText\n",
              "0      1  ...  now all ATUSER has to do is get swype on the i...\n",
              "1      1  ...  ATUSER will be adding more carrier support to ...\n",
              "2      1  ...  hilarious ATUSER video guy does a duet with AT...\n",
              "3      1  ...  ATUSER you made it too easy for me to switch t...\n",
              "4      1  ...  i just realized that the reason i got into twi...\n",
              "\n",
              "[5 rows x 4 columns]"
            ]
          },
          "metadata": {
            "tags": []
          },
          "execution_count": 10
        }
      ]
    },
    {
      "cell_type": "code",
      "metadata": {
        "id": "AjWFpqtkpUgV",
        "colab_type": "code",
        "colab": {}
      },
      "source": [
        "TWEET_TEXT = data.Field(tokenize='spacy', include_lengths = True)\n",
        "SENTIMENT_LABEL = data.LabelField(dtype=torch.long)\n",
        "TWEET_REVERSE = data.ReversibleField(sequential=True, lower=True, include_lengths=True)"
      ],
      "execution_count": 0,
      "outputs": []
    },
    {
      "cell_type": "code",
      "metadata": {
        "id": "A0HxgvNNJqv6",
        "colab_type": "code",
        "colab": {}
      },
      "source": [
        "sa_train_data_pd = train_data_sentiment_pd[train_data_sentiment_pd['Sentiment'] != 9].loc[:, ['TweetText', 'Sentiment']]\n",
        "sa_test_data_pd = test_data_sentiment_pd.loc[:, ['TweetText', 'Sentiment']]"
      ],
      "execution_count": 0,
      "outputs": []
    },
    {
      "cell_type": "code",
      "metadata": {
        "id": "Jz8YKH_4M-s3",
        "colab_type": "code",
        "outputId": "1afe3e24-a08a-4107-f0ab-9fa41f0726f2",
        "colab": {
          "base_uri": "https://localhost:8080/",
          "height": 204
        }
      },
      "source": [
        "sa_train_data_pd.head()"
      ],
      "execution_count": 13,
      "outputs": [
        {
          "output_type": "execute_result",
          "data": {
            "text/html": [
              "<div>\n",
              "<style scoped>\n",
              "    .dataframe tbody tr th:only-of-type {\n",
              "        vertical-align: middle;\n",
              "    }\n",
              "\n",
              "    .dataframe tbody tr th {\n",
              "        vertical-align: top;\n",
              "    }\n",
              "\n",
              "    .dataframe thead th {\n",
              "        text-align: right;\n",
              "    }\n",
              "</style>\n",
              "<table border=\"1\" class=\"dataframe\">\n",
              "  <thead>\n",
              "    <tr style=\"text-align: right;\">\n",
              "      <th></th>\n",
              "      <th>TweetText</th>\n",
              "      <th>Sentiment</th>\n",
              "    </tr>\n",
              "  </thead>\n",
              "  <tbody>\n",
              "    <tr>\n",
              "      <th>0</th>\n",
              "      <td>now all ATUSER has to do is get swype on the i...</td>\n",
              "      <td>0</td>\n",
              "    </tr>\n",
              "    <tr>\n",
              "      <th>1</th>\n",
              "      <td>ATUSER will be adding more carrier support to ...</td>\n",
              "      <td>0</td>\n",
              "    </tr>\n",
              "    <tr>\n",
              "      <th>2</th>\n",
              "      <td>hilarious ATUSER video guy does a duet with AT...</td>\n",
              "      <td>0</td>\n",
              "    </tr>\n",
              "    <tr>\n",
              "      <th>3</th>\n",
              "      <td>ATUSER you made it too easy for me to switch t...</td>\n",
              "      <td>0</td>\n",
              "    </tr>\n",
              "    <tr>\n",
              "      <th>4</th>\n",
              "      <td>i just realized that the reason i got into twi...</td>\n",
              "      <td>0</td>\n",
              "    </tr>\n",
              "  </tbody>\n",
              "</table>\n",
              "</div>"
            ],
            "text/plain": [
              "                                           TweetText  Sentiment\n",
              "0  now all ATUSER has to do is get swype on the i...          0\n",
              "1  ATUSER will be adding more carrier support to ...          0\n",
              "2  hilarious ATUSER video guy does a duet with AT...          0\n",
              "3  ATUSER you made it too easy for me to switch t...          0\n",
              "4  i just realized that the reason i got into twi...          0"
            ]
          },
          "metadata": {
            "tags": []
          },
          "execution_count": 13
        }
      ]
    },
    {
      "cell_type": "code",
      "metadata": {
        "id": "4S997MSaxiJz",
        "colab_type": "code",
        "colab": {}
      },
      "source": [
        "sa_train_data_pd.to_csv('Train_sa.csv', index=False)\n",
        "sa_test_data_pd.to_csv('Test_sa.csv', index=False)"
      ],
      "execution_count": 0,
      "outputs": []
    },
    {
      "cell_type": "code",
      "metadata": {
        "id": "TNiTG1SIv8VZ",
        "colab_type": "code",
        "colab": {}
      },
      "source": [
        "sa_data_fields = [  ('TweetText', TWEET_TEXT),  ('Sentiment', SENTIMENT_LABEL)]\n",
        "\n",
        "sa_train_data, sa_test_data = data.TabularDataset.splits(\n",
        "                                        path = '.',\n",
        "                                        train = 'Train_sa.csv',\n",
        "                                        test = 'Test_sa.csv',\n",
        "                                        format = 'csv',\n",
        "                                        fields = sa_data_fields,\n",
        "                                        skip_header = True\n",
        "                                        )"
      ],
      "execution_count": 0,
      "outputs": []
    },
    {
      "cell_type": "code",
      "metadata": {
        "id": "NOg1G_0qzBBo",
        "colab_type": "code",
        "colab": {}
      },
      "source": [
        "MAX_VOCAB_SIZE = 25000\n",
        "TWEET_TEXT.build_vocab(sa_train_data.TweetText, max_size=MAX_VOCAB_SIZE) \n",
        "SENTIMENT_LABEL.build_vocab(sa_train_data.Sentiment)\n",
        "TWEET_REVERSE.build_vocab(sa_train_data.TweetText, max_size=MAX_VOCAB_SIZE)\n"
      ],
      "execution_count": 0,
      "outputs": []
    },
    {
      "cell_type": "code",
      "metadata": {
        "id": "13Erj2kBAhg_",
        "colab_type": "code",
        "outputId": "eac10e66-2d53-4e90-eb2c-e0984c5529d6",
        "colab": {
          "base_uri": "https://localhost:8080/",
          "height": 187
        }
      },
      "source": [
        "TWEET_TEXT.vocab.freqs.most_common(10)"
      ],
      "execution_count": 17,
      "outputs": [
        {
          "output_type": "execute_result",
          "data": {
            "text/plain": [
              "[('ATUSER', 1840),\n",
              " ('the', 707),\n",
              " ('to', 586),\n",
              " ('URL', 565),\n",
              " ('i', 516),\n",
              " ('a', 344),\n",
              " ('on', 340),\n",
              " ('rt', 333),\n",
              " ('is', 326),\n",
              " ('for', 325)]"
            ]
          },
          "metadata": {
            "tags": []
          },
          "execution_count": 17
        }
      ]
    },
    {
      "cell_type": "code",
      "metadata": {
        "id": "OlJgc8V7O4Cm",
        "colab_type": "code",
        "colab": {}
      },
      "source": [
        "# Create Iterator\n",
        "\n",
        "BATCH_SIZE = 64\n",
        "\n",
        "train_iterator_sa, test_iterator_sa = data.BucketIterator.splits(\n",
        "    (sa_train_data, sa_test_data),\n",
        "    batch_size=BATCH_SIZE,\n",
        "    sort_key=lambda x: len(x.TweetText),\n",
        "    sort_within_batch=True,\n",
        "    device=device\n",
        ")"
      ],
      "execution_count": 0,
      "outputs": []
    },
    {
      "cell_type": "markdown",
      "metadata": {
        "id": "Tib51cpcOvKk",
        "colab_type": "text"
      },
      "source": [
        "# Defining the Model"
      ]
    },
    {
      "cell_type": "code",
      "metadata": {
        "id": "5uRxt_UlO0aO",
        "colab_type": "code",
        "colab": {}
      },
      "source": [
        "class RNN(nn.Module):\n",
        "\n",
        "    def __init__(self, vocab_size, embedded_dimensions, hidden_dimension,\n",
        "                 output_dimension, n_layers, bidirectional, dropout, pad_index):\n",
        "        super(RNN, self).__init__()\n",
        "\n",
        "        self.embedded = nn.Embedding(vocab_size, embedded_dimensions, padding_idx=pad_index)\n",
        "        self.lstm = nn.LSTM(embedded_dimensions,\n",
        "                            hidden_dimension,\n",
        "                            num_layers=n_layers,\n",
        "                            bidirectional=bidirectional,\n",
        "                            dropout=dropout)\n",
        "        self.linear1 = nn.Linear(hidden_dimension * 2, output_dimension)\n",
        "        self.dropout = nn.Dropout(dropout)\n",
        "    \n",
        "    def forward(self, text, text_length):\n",
        "        \n",
        "        embedded = self.embedded(text)\n",
        "        packed_sequence = nn.utils.rnn.pack_padded_sequence(embedded, text_length)\n",
        "\n",
        "        packed_output, (hidden, output) = self.lstm(packed_sequence)\n",
        "\n",
        "        output, output_length = nn.utils.rnn.pad_packed_sequence(packed_output)\n",
        "\n",
        "        hidden = self.dropout(torch.cat((hidden[-2, :, :], hidden[-1, :, :]), dim = 1))\n",
        "        fc1 = self.dropout(self.linear1(hidden.squeeze(0)))\n",
        "        return fc1"
      ],
      "execution_count": 0,
      "outputs": []
    },
    {
      "cell_type": "markdown",
      "metadata": {
        "id": "X3Y0_ja-vlAn",
        "colab_type": "text"
      },
      "source": [
        "## Training Sentimental Analyser"
      ]
    },
    {
      "cell_type": "code",
      "metadata": {
        "id": "BuF5LrjvHJuZ",
        "colab_type": "code",
        "colab": {}
      },
      "source": [
        "# HyperParamters \n",
        "\n",
        "VOCAB_SIZE = len(TWEET_TEXT.vocab)\n",
        "EMBEDDING_DIMENSIONS = 100\n",
        "HIDDEN_DIMENSIONS = 256\n",
        "OUTPUT_DIMENSIONS = 3\n",
        "N_LAYERS = 2\n",
        "BIDIRECTIONAL = True\n",
        "DROPOUT = 0.7\n",
        "PAD_IDX = TWEET_TEXT.vocab.stoi[TWEET_TEXT.pad_token]\n",
        "\n",
        "\n",
        "model = RNN(VOCAB_SIZE, EMBEDDING_DIMENSIONS, HIDDEN_DIMENSIONS,  OUTPUT_DIMENSIONS\n",
        "            , N_LAYERS, BIDIRECTIONAL,DROPOUT, PAD_IDX)"
      ],
      "execution_count": 0,
      "outputs": []
    },
    {
      "cell_type": "code",
      "metadata": {
        "id": "xPnKjjpYMYc4",
        "colab_type": "code",
        "outputId": "558202c0-b8f2-4882-8593-59ea5266aa3a",
        "colab": {
          "base_uri": "https://localhost:8080/",
          "height": 34
        }
      },
      "source": [
        "total_parameters = sum(l.numel() for l in model.parameters() if l.requires_grad)\n",
        "print('Total Paramters : {:,}'.format(total_parameters))"
      ],
      "execution_count": 21,
      "outputs": [
        {
          "output_type": "stream",
          "text": [
            "Total Paramters : 2,742,383\n"
          ],
          "name": "stdout"
        }
      ]
    },
    {
      "cell_type": "code",
      "metadata": {
        "id": "vRM7IS83RzQR",
        "colab_type": "code",
        "outputId": "1f36d8bf-83e1-42e7-8c28-433bb1e61976",
        "colab": {
          "base_uri": "https://localhost:8080/",
          "height": 238
        }
      },
      "source": [
        "# Setting Padding indexes to zero to not to determine sentiment\n",
        "model.embedded.weight.data[PAD_IDX] = torch.zeros(EMBEDDING_DIMENSIONS)\n",
        "print(model.embedded.weight.data)\n"
      ],
      "execution_count": 22,
      "outputs": [
        {
          "output_type": "stream",
          "text": [
            "tensor([[-1.1172e-01, -4.9659e-01,  1.6307e-01,  ...,  1.5903e+00,\n",
            "         -1.9474e-01, -2.4149e-01],\n",
            "        [ 0.0000e+00,  0.0000e+00,  0.0000e+00,  ...,  0.0000e+00,\n",
            "          0.0000e+00,  0.0000e+00],\n",
            "        [ 7.2888e-01, -7.3363e-01,  1.5624e+00,  ..., -5.5922e-01,\n",
            "         -4.4799e-01, -6.4758e-01],\n",
            "        ...,\n",
            "        [ 9.9998e-01,  1.4538e+00,  3.5335e-02,  ..., -1.6285e+00,\n",
            "          4.8843e-01,  4.1236e-01],\n",
            "        [-1.0366e+00, -2.5958e+00, -1.5447e+00,  ...,  2.0455e-03,\n",
            "          1.1170e+00, -4.3080e-01],\n",
            "        [ 1.7727e+00,  9.4144e-01,  8.9142e-01,  ...,  1.6193e+00,\n",
            "          1.6658e+00, -1.3113e+00]])\n"
          ],
          "name": "stdout"
        }
      ]
    },
    {
      "cell_type": "markdown",
      "metadata": {
        "id": "QvJ6LYEWSjY3",
        "colab_type": "text"
      },
      "source": [
        "## Training the model"
      ]
    },
    {
      "cell_type": "code",
      "metadata": {
        "id": "En6yWULOSTUs",
        "colab_type": "code",
        "colab": {}
      },
      "source": [
        "optimizer = optim.Adam(model.parameters())\n",
        "criterion = nn.CrossEntropyLoss()\n",
        "model = model.to(device)\n",
        "criterion = criterion.to(device)"
      ],
      "execution_count": 0,
      "outputs": []
    },
    {
      "cell_type": "code",
      "metadata": {
        "id": "ZCFckk3rX6nH",
        "colab_type": "code",
        "colab": {}
      },
      "source": [
        "def classification_accuracy(predictions, label):\n",
        "    value, index = torch.max(torch.softmax(predictions,1), 1)\n",
        "    correct = (index == label).float()\n",
        "    acc =   correct.sum() / len(correct)\n",
        "    return acc"
      ],
      "execution_count": 0,
      "outputs": []
    },
    {
      "cell_type": "code",
      "metadata": {
        "id": "bHHuobL_TPmc",
        "colab_type": "code",
        "colab": {}
      },
      "source": [
        "def train(model, iterator, optimizer, criterion):\n",
        "    epoch_loss = 0\n",
        "    epoch_accuracy = 0\n",
        "    f_score = 0\n",
        "    model.train()\n",
        "    for batch in iterator:\n",
        "        optimizer.zero_grad()\n",
        "        text, text_length = batch.TweetText\n",
        "        predictions = model(text, text_length).squeeze(1)\n",
        "        loss = criterion(predictions, batch.Sentiment)\n",
        "        acc = classification_accuracy(predictions, batch.Sentiment)\n",
        "        loss.backward()\n",
        "        optimizer.step()\n",
        "        f_score += f1_score(torch.max(predictions, dim=1)[1].cpu().numpy(), batch.Sentiment.cpu().numpy(), average='weighted')\n",
        "        epoch_loss += loss.item()\n",
        "        epoch_accuracy += acc.item()\n",
        "\n",
        "    return epoch_loss / len(iterator), epoch_accuracy / len(iterator), f_score/ len(iterator)"
      ],
      "execution_count": 0,
      "outputs": []
    },
    {
      "cell_type": "code",
      "metadata": {
        "id": "RZYU78yQx2_c",
        "colab_type": "code",
        "colab": {}
      },
      "source": [
        "def evaluate(model, iterator, criterion):\n",
        "    epoch_loss = 0\n",
        "    epoch_accuracy = 0\n",
        "    model.eval()\n",
        "    f_score = 0\n",
        "    with torch.no_grad():\n",
        "        for batch in iterator:\n",
        "            text, text_length = batch.TweetText\n",
        "            # (x, x_lengths), y = batch.TweetText, batch.Sentiment\n",
        "            # orig_text = TWEET_REVERSE.reverse(x.data)\n",
        "            # print(orig_text)          \n",
        "            predictions = model(text, text_length).squeeze(1)\n",
        "            loss = criterion(predictions, batch.Sentiment)\n",
        "            acc = classification_accuracy(predictions, batch.Sentiment)\n",
        "            f_score += f1_score(np.argmax(predictions.cpu().numpy(), axis=1), batch.Sentiment.cpu().numpy(), average='weighted')\n",
        "            epoch_loss += loss.item()\n",
        "            epoch_accuracy += acc.item()\n",
        "    \n",
        "    return epoch_loss / len(iterator), epoch_accuracy / len(iterator), f_score/ len(iterator)"
      ],
      "execution_count": 0,
      "outputs": []
    },
    {
      "cell_type": "code",
      "metadata": {
        "id": "JWCIS-UKd4Pq",
        "colab_type": "code",
        "colab": {}
      },
      "source": [
        "import time\n",
        "\n",
        "def epoch_time(start_time, end_time):\n",
        "    elapsed_time = end_time - start_time\n",
        "    elapsed_mins = int(elapsed_time / 60)\n",
        "    elapsed_secs = int(elapsed_time - (elapsed_mins * 60))\n",
        "    return elapsed_mins, elapsed_secs"
      ],
      "execution_count": 0,
      "outputs": []
    },
    {
      "cell_type": "code",
      "metadata": {
        "id": "Litdgs0td9WG",
        "colab_type": "code",
        "outputId": "7d605271-a40a-41e7-e219-54979e22ffdd",
        "colab": {
          "base_uri": "https://localhost:8080/",
          "height": 1000
        }
      },
      "source": [
        "N_EPOCHS = 30\n",
        "\n",
        "\n",
        "for epoch in range(N_EPOCHS):\n",
        "    start_time = time.time()\n",
        "    train_loss, train_acc, train_f_score = train(model, train_iterator_sa, optimizer, criterion)\n",
        "    end_time = time.time()\n",
        "    epoch_mins, epoch_secs = epoch_time(start_time, end_time)\n",
        "    print(f'Epoch: {epoch+1:02} | Epoch Time: {epoch_mins}m {epoch_secs}s')\n",
        "    print(f'\\tTrain Loss: {train_loss:.3f} | Train Acc: {train_acc*100:.2f}%')\n"
      ],
      "execution_count": 28,
      "outputs": [
        {
          "output_type": "stream",
          "text": [
            "/usr/local/lib/python3.6/dist-packages/sklearn/metrics/classification.py:1439: UndefinedMetricWarning: F-score is ill-defined and being set to 0.0 in labels with no true samples.\n",
            "  'recall', 'true', average, warn_for)\n"
          ],
          "name": "stderr"
        },
        {
          "output_type": "stream",
          "text": [
            "Epoch: 01 | Epoch Time: 0m 0s\n",
            "\tTrain Loss: 1.035 | Train Acc: 62.28%\n",
            "Epoch: 02 | Epoch Time: 0m 0s\n",
            "\tTrain Loss: 0.988 | Train Acc: 64.71%\n",
            "Epoch: 03 | Epoch Time: 0m 0s\n",
            "\tTrain Loss: 0.963 | Train Acc: 65.93%\n"
          ],
          "name": "stdout"
        },
        {
          "output_type": "stream",
          "text": [
            "/usr/local/lib/python3.6/dist-packages/sklearn/metrics/classification.py:1437: UndefinedMetricWarning: F-score is ill-defined and being set to 0.0 in labels with no predicted samples.\n",
            "  'precision', 'predicted', average, warn_for)\n"
          ],
          "name": "stderr"
        },
        {
          "output_type": "stream",
          "text": [
            "Epoch: 04 | Epoch Time: 0m 0s\n",
            "\tTrain Loss: 0.934 | Train Acc: 65.89%\n",
            "Epoch: 05 | Epoch Time: 0m 0s\n",
            "\tTrain Loss: 0.938 | Train Acc: 66.93%\n",
            "Epoch: 06 | Epoch Time: 0m 0s\n",
            "\tTrain Loss: 0.902 | Train Acc: 68.62%\n",
            "Epoch: 07 | Epoch Time: 0m 0s\n",
            "\tTrain Loss: 0.889 | Train Acc: 68.62%\n",
            "Epoch: 08 | Epoch Time: 0m 0s\n",
            "\tTrain Loss: 0.859 | Train Acc: 70.27%\n",
            "Epoch: 09 | Epoch Time: 0m 0s\n",
            "\tTrain Loss: 0.837 | Train Acc: 71.61%\n",
            "Epoch: 10 | Epoch Time: 0m 0s\n",
            "\tTrain Loss: 0.810 | Train Acc: 72.70%\n",
            "Epoch: 11 | Epoch Time: 0m 0s\n",
            "\tTrain Loss: 0.770 | Train Acc: 72.57%\n",
            "Epoch: 12 | Epoch Time: 0m 0s\n",
            "\tTrain Loss: 0.765 | Train Acc: 74.05%\n",
            "Epoch: 13 | Epoch Time: 0m 0s\n",
            "\tTrain Loss: 0.743 | Train Acc: 73.78%\n",
            "Epoch: 14 | Epoch Time: 0m 0s\n",
            "\tTrain Loss: 0.727 | Train Acc: 74.96%\n",
            "Epoch: 15 | Epoch Time: 0m 0s\n",
            "\tTrain Loss: 0.678 | Train Acc: 75.65%\n",
            "Epoch: 16 | Epoch Time: 0m 0s\n",
            "\tTrain Loss: 0.682 | Train Acc: 77.78%\n",
            "Epoch: 17 | Epoch Time: 0m 0s\n",
            "\tTrain Loss: 0.672 | Train Acc: 76.52%\n",
            "Epoch: 18 | Epoch Time: 0m 0s\n",
            "\tTrain Loss: 0.665 | Train Acc: 75.17%\n",
            "Epoch: 19 | Epoch Time: 0m 0s\n",
            "\tTrain Loss: 0.649 | Train Acc: 78.21%\n",
            "Epoch: 20 | Epoch Time: 0m 0s\n",
            "\tTrain Loss: 0.668 | Train Acc: 77.34%\n",
            "Epoch: 21 | Epoch Time: 0m 0s\n",
            "\tTrain Loss: 0.652 | Train Acc: 77.56%\n",
            "Epoch: 22 | Epoch Time: 0m 0s\n",
            "\tTrain Loss: 0.640 | Train Acc: 77.43%\n",
            "Epoch: 23 | Epoch Time: 0m 0s\n",
            "\tTrain Loss: 0.637 | Train Acc: 78.04%\n",
            "Epoch: 24 | Epoch Time: 0m 0s\n",
            "\tTrain Loss: 0.633 | Train Acc: 78.08%\n",
            "Epoch: 25 | Epoch Time: 0m 0s\n",
            "\tTrain Loss: 0.654 | Train Acc: 77.30%\n",
            "Epoch: 26 | Epoch Time: 0m 0s\n",
            "\tTrain Loss: 0.637 | Train Acc: 77.69%\n",
            "Epoch: 27 | Epoch Time: 0m 0s\n",
            "\tTrain Loss: 0.619 | Train Acc: 77.95%\n",
            "Epoch: 28 | Epoch Time: 0m 0s\n",
            "\tTrain Loss: 0.635 | Train Acc: 77.39%\n",
            "Epoch: 29 | Epoch Time: 0m 0s\n",
            "\tTrain Loss: 0.614 | Train Acc: 78.43%\n",
            "Epoch: 30 | Epoch Time: 0m 0s\n",
            "\tTrain Loss: 0.611 | Train Acc: 78.21%\n"
          ],
          "name": "stdout"
        }
      ]
    },
    {
      "cell_type": "code",
      "metadata": {
        "id": "pWVJAwgorIUc",
        "colab_type": "code",
        "colab": {
          "base_uri": "https://localhost:8080/",
          "height": 34
        },
        "outputId": "c74ccb8e-e0c2-4dc5-bd33-4ec813504f87"
      },
      "source": [
        "print(f'Training F-Score: {train_f_score:.4f}')"
      ],
      "execution_count": 29,
      "outputs": [
        {
          "output_type": "stream",
          "text": [
            "Training F-Score: 0.8168\n"
          ],
          "name": "stdout"
        }
      ]
    },
    {
      "cell_type": "code",
      "metadata": {
        "id": "y1exlhjmeBFK",
        "colab_type": "code",
        "outputId": "02a3ee83-dab1-47d7-b49a-85001860c751",
        "colab": {
          "base_uri": "https://localhost:8080/",
          "height": 68
        }
      },
      "source": [
        "test_loss, test_acc, f_score = evaluate(model, test_iterator_sa, criterion)\n",
        "\n",
        "print(f'Test Loss: {test_loss:.3f} | Test Acc: {test_acc*100:.2f}%, F-fscore: {f_score:.4f}')"
      ],
      "execution_count": 30,
      "outputs": [
        {
          "output_type": "stream",
          "text": [
            "Test Loss: 0.878 | Test Acc: 75.52%, F-fscore: 0.7616\n"
          ],
          "name": "stdout"
        },
        {
          "output_type": "stream",
          "text": [
            "/usr/local/lib/python3.6/dist-packages/sklearn/metrics/classification.py:1439: UndefinedMetricWarning: F-score is ill-defined and being set to 0.0 in labels with no true samples.\n",
            "  'recall', 'true', average, warn_for)\n"
          ],
          "name": "stderr"
        }
      ]
    },
    {
      "cell_type": "code",
      "metadata": {
        "id": "ZQ8V3a8FzyC1",
        "colab_type": "code",
        "colab": {}
      },
      "source": [
        "def predict_sentiment(model, sentence):\n",
        "    model.eval()\n",
        "    tokenized = [tok.text for tok in nlp.tokenizer(sentence.lower())]\n",
        "    indexed = [TWEET_TEXT.vocab.stoi[t] for t in tokenized]\n",
        "    length = [len(indexed)]\n",
        "    tensor = torch.LongTensor(indexed).to(device)\n",
        "    tensor = tensor.unsqueeze(1)\n",
        "    length_tensor = torch.LongTensor(length)\n",
        "    value, prediction = torch.max(model(tensor, length_tensor), 0)\n",
        "    reverse_key = { 0: 'Positive', 1: 'Negative', 2: 'Neutral', 3: 'Irrelevant'}\n",
        "    return prediction.item() , reverse_key[prediction.item()]"
      ],
      "execution_count": 0,
      "outputs": []
    },
    {
      "cell_type": "code",
      "metadata": {
        "id": "3Y4J08pa49hN",
        "colab_type": "code",
        "outputId": "62e9a5cf-fdb9-4931-d045-ba6000bfb4ec",
        "colab": {
          "base_uri": "https://localhost:8080/",
          "height": 34
        }
      },
      "source": [
        "predict_sentiment(model, \"@apple  why don't you guys test your upgrades before you put them out. 15 1/2 hrs u guys wasted of my time yesterday. Thanks.\")"
      ],
      "execution_count": 32,
      "outputs": [
        {
          "output_type": "execute_result",
          "data": {
            "text/plain": [
              "(1, 'Negative')"
            ]
          },
          "metadata": {
            "tags": []
          },
          "execution_count": 32
        }
      ]
    },
    {
      "cell_type": "code",
      "metadata": {
        "id": "Z4_z6ibm5BSX",
        "colab_type": "code",
        "outputId": "0e7ab808-c91d-427a-e066-58f61238ee72",
        "colab": {
          "base_uri": "https://localhost:8080/",
          "height": 34
        }
      },
      "source": [
        "predict_sentiment(model, \"google sucha brilliant way, sleek design\")"
      ],
      "execution_count": 33,
      "outputs": [
        {
          "output_type": "execute_result",
          "data": {
            "text/plain": [
              "(0, 'Positive')"
            ]
          },
          "metadata": {
            "tags": []
          },
          "execution_count": 33
        }
      ]
    },
    {
      "cell_type": "code",
      "metadata": {
        "id": "m4vym2IT6wOY",
        "colab_type": "code",
        "colab": {}
      },
      "source": [
        "torch.save(model.state_dict(), 'Sentimental_Analysis.pt')"
      ],
      "execution_count": 0,
      "outputs": []
    },
    {
      "cell_type": "markdown",
      "metadata": {
        "id": "4vOyyl4HjVgI",
        "colab_type": "text"
      },
      "source": [
        "# Predicting the Company"
      ]
    },
    {
      "cell_type": "markdown",
      "metadata": {
        "id": "762hTKq1AfQS",
        "colab_type": "text"
      },
      "source": [
        "## Preprocessing for company Prediction"
      ]
    },
    {
      "cell_type": "code",
      "metadata": {
        "id": "rzIyq9jBBUTi",
        "colab_type": "code",
        "colab": {}
      },
      "source": [
        "train_data_pd = pd.read_csv(train_file)\n",
        "test_data_pd = pd.read_csv(test_file)"
      ],
      "execution_count": 0,
      "outputs": []
    },
    {
      "cell_type": "code",
      "metadata": {
        "id": "5DcK_jn9AeYV",
        "colab_type": "code",
        "colab": {}
      },
      "source": [
        "preprocessor_company_prediction = PreprocessingTweet(task='Company')\n",
        "train_data_company_pd = preprocessor_company_prediction.fit(train_data_pd)\n",
        "test_data_company_pd = preprocessor_company_prediction.fit(test_data_pd)"
      ],
      "execution_count": 0,
      "outputs": []
    },
    {
      "cell_type": "code",
      "metadata": {
        "id": "CXiuD1WAjYdT",
        "colab_type": "code",
        "outputId": "f92cba4b-5120-4e7a-fb80-358e3dab15cf",
        "colab": {
          "base_uri": "https://localhost:8080/",
          "height": 204
        }
      },
      "source": [
        "train_data_company_pd.head()"
      ],
      "execution_count": 37,
      "outputs": [
        {
          "output_type": "execute_result",
          "data": {
            "text/html": [
              "<div>\n",
              "<style scoped>\n",
              "    .dataframe tbody tr th:only-of-type {\n",
              "        vertical-align: middle;\n",
              "    }\n",
              "\n",
              "    .dataframe tbody tr th {\n",
              "        vertical-align: top;\n",
              "    }\n",
              "\n",
              "    .dataframe thead th {\n",
              "        text-align: right;\n",
              "    }\n",
              "</style>\n",
              "<table border=\"1\" class=\"dataframe\">\n",
              "  <thead>\n",
              "    <tr style=\"text-align: right;\">\n",
              "      <th></th>\n",
              "      <th>Topic</th>\n",
              "      <th>Sentiment</th>\n",
              "      <th>TweetDate</th>\n",
              "      <th>TweetText</th>\n",
              "    </tr>\n",
              "  </thead>\n",
              "  <tbody>\n",
              "    <tr>\n",
              "      <th>0</th>\n",
              "      <td>1</td>\n",
              "      <td>0</td>\n",
              "      <td>Tue Oct 18 21:53:25 +0000 2011</td>\n",
              "      <td>now all apple has to do is get swype on the ip...</td>\n",
              "    </tr>\n",
              "    <tr>\n",
              "      <th>1</th>\n",
              "      <td>1</td>\n",
              "      <td>0</td>\n",
              "      <td>Tue Oct 18 21:09:33 +0000 2011</td>\n",
              "      <td>apple will be adding more carrier support to t...</td>\n",
              "    </tr>\n",
              "    <tr>\n",
              "      <th>2</th>\n",
              "      <td>1</td>\n",
              "      <td>0</td>\n",
              "      <td>Tue Oct 18 21:02:20 +0000 2011</td>\n",
              "      <td>hilarious youtube video guy does a duet with a...</td>\n",
              "    </tr>\n",
              "    <tr>\n",
              "      <th>3</th>\n",
              "      <td>1</td>\n",
              "      <td>0</td>\n",
              "      <td>Tue Oct 18 20:40:10 +0000 2011</td>\n",
              "      <td>rim you made it too easy for me to switch to a...</td>\n",
              "    </tr>\n",
              "    <tr>\n",
              "      <th>4</th>\n",
              "      <td>1</td>\n",
              "      <td>0</td>\n",
              "      <td>Tue Oct 18 20:34:00 +0000 2011</td>\n",
              "      <td>i just realized that the reason i got into twi...</td>\n",
              "    </tr>\n",
              "  </tbody>\n",
              "</table>\n",
              "</div>"
            ],
            "text/plain": [
              "   Topic  ...                                          TweetText\n",
              "0      1  ...  now all apple has to do is get swype on the ip...\n",
              "1      1  ...  apple will be adding more carrier support to t...\n",
              "2      1  ...  hilarious youtube video guy does a duet with a...\n",
              "3      1  ...  rim you made it too easy for me to switch to a...\n",
              "4      1  ...  i just realized that the reason i got into twi...\n",
              "\n",
              "[5 rows x 4 columns]"
            ]
          },
          "metadata": {
            "tags": []
          },
          "execution_count": 37
        }
      ]
    },
    {
      "cell_type": "code",
      "metadata": {
        "id": "81GaBxWEjdYH",
        "colab_type": "code",
        "colab": {}
      },
      "source": [
        "vectorizer = CountVectorizer(max_features=MAX_VOCAB_SIZE, min_df=5, max_df=0.7)\n",
        "X_train = vectorizer.fit_transform(train_data_company_pd['TweetText']).toarray()\n",
        "X_test = vectorizer.transform(test_data_company_pd['TweetText']).toarray()"
      ],
      "execution_count": 0,
      "outputs": []
    },
    {
      "cell_type": "code",
      "metadata": {
        "id": "mn74ooLXt1a1",
        "colab_type": "code",
        "colab": {}
      },
      "source": [
        "tfidfconverter = TfidfTransformer()\n",
        "X_train = tfidfconverter.fit_transform(X_train).toarray()\n",
        "X_test = tfidfconverter.transform(X_test).toarray()"
      ],
      "execution_count": 0,
      "outputs": []
    },
    {
      "cell_type": "code",
      "metadata": {
        "id": "69mmGPRGuDrb",
        "colab_type": "code",
        "colab": {}
      },
      "source": [
        "y_train = np.array(train_data_company_pd['Topic'])\n",
        "y_test = np.array(test_data_company_pd['Topic'])"
      ],
      "execution_count": 0,
      "outputs": []
    },
    {
      "cell_type": "code",
      "metadata": {
        "id": "3L0xTqsSvLLY",
        "colab_type": "code",
        "colab": {}
      },
      "source": [
        "rfc = RandomForestClassifier(n_estimators=1000, random_state=SEED)\n",
        "rfc.fit(X_train, y_train)\n",
        "prediction_rfc = rfc.predict(X_test)"
      ],
      "execution_count": 0,
      "outputs": []
    },
    {
      "cell_type": "code",
      "metadata": {
        "id": "G-jjaqnS2ppr",
        "colab_type": "code",
        "outputId": "e5519a28-2bfa-4a7d-d92a-f33140a0d727",
        "colab": {
          "base_uri": "https://localhost:8080/",
          "height": 51
        }
      },
      "source": [
        "print(accuracy_score(prediction_rfc, y_test)*100)\n",
        "print(f1_score(prediction_rfc, y_test, average='macro'))"
      ],
      "execution_count": 42,
      "outputs": [
        {
          "output_type": "stream",
          "text": [
            "81.87134502923976\n",
            "0.8140346938028314\n"
          ],
          "name": "stdout"
        }
      ]
    },
    {
      "cell_type": "code",
      "metadata": {
        "id": "j7Uey_abwPtE",
        "colab_type": "code",
        "colab": {}
      },
      "source": [
        "def predict_company(tweet):\n",
        "    tweet = ''.join([i for i in tweet if i not in punctuation])\n",
        "    tweet = vectorizer.transform([tweet.lower()]).toarray()\n",
        "    tweet = tfidfconverter.transform(tweet).toarray()\n",
        "    prediction = rfc.predict(tweet)\n",
        "    reverse_company_dict = {1: 'apple',\n",
        "                            2: 'google',\n",
        "                            3: 'microsoft',\n",
        "                            4: 'twitter'}\n",
        "    \n",
        "    return reverse_company_dict[int(prediction)]"
      ],
      "execution_count": 0,
      "outputs": []
    },
    {
      "cell_type": "code",
      "metadata": {
        "id": "pue6G1XhD_18",
        "colab_type": "code",
        "colab": {}
      },
      "source": [
        "pickle.dump(rfc, open('Company_classifier.h5', 'wb'))"
      ],
      "execution_count": 0,
      "outputs": []
    },
    {
      "cell_type": "code",
      "metadata": {
        "id": "mCnAfY9j1Bhm",
        "colab_type": "code",
        "outputId": "a0d8ddb9-fba3-4bde-8a53-19b611fe2e8d",
        "colab": {
          "base_uri": "https://localhost:8080/",
          "height": 34
        }
      },
      "source": [
        "predict_company(\"RT @techinciter: Suppose Microsoft Had Bought Siri? \")"
      ],
      "execution_count": 45,
      "outputs": [
        {
          "output_type": "execute_result",
          "data": {
            "text/plain": [
              "'microsoft'"
            ]
          },
          "metadata": {
            "tags": []
          },
          "execution_count": 45
        }
      ]
    },
    {
      "cell_type": "markdown",
      "metadata": {
        "id": "5jxfDnQh29J9",
        "colab_type": "text"
      },
      "source": [
        "# Getting Custom Information"
      ]
    },
    {
      "cell_type": "markdown",
      "metadata": {
        "id": "S2CKwQrU3BcL",
        "colab_type": "text"
      },
      "source": [
        "## Using a Sentence"
      ]
    },
    {
      "cell_type": "code",
      "metadata": {
        "id": "GJ3KVqZG3IDN",
        "colab_type": "code",
        "colab": {}
      },
      "source": [
        "def get_sentiment_and_company(text):\n",
        "    company = predict_company(text)\n",
        "    value, sentiment = predict_sentiment(model, text)\n",
        "    print(f'The Text: {text}')\n",
        "    print(f'Sentiment: {sentiment}')\n",
        "    print(f'Company: {company}')\n",
        "    return"
      ],
      "execution_count": 0,
      "outputs": []
    },
    {
      "cell_type": "code",
      "metadata": {
        "id": "fTqXZG7T5Ogf",
        "colab_type": "code",
        "colab": {
          "base_uri": "https://localhost:8080/",
          "height": 68
        },
        "outputId": "ff4bd6e6-a81a-4c00-a49b-80dafca5add9"
      },
      "source": [
        "get_sentiment_and_company(\"RT @techinciter: Suppose Microsoft Had Bought Siri? \")"
      ],
      "execution_count": 47,
      "outputs": [
        {
          "output_type": "stream",
          "text": [
            "The Text: RT @techinciter: Suppose Microsoft Had Bought Siri? \n",
            "Sentiment: Positive\n",
            "Company: microsoft\n"
          ],
          "name": "stdout"
        }
      ]
    },
    {
      "cell_type": "markdown",
      "metadata": {
        "id": "TZo5iEWe4GRV",
        "colab_type": "text"
      },
      "source": [
        "## Using a file"
      ]
    },
    {
      "cell_type": "code",
      "metadata": {
        "id": "Hu2xU0Py4LQ_",
        "colab_type": "code",
        "colab": {}
      },
      "source": [
        "name_of_file = test_file"
      ],
      "execution_count": 0,
      "outputs": []
    },
    {
      "cell_type": "markdown",
      "metadata": {
        "id": "QxuYQLJtTAu0",
        "colab_type": "text"
      },
      "source": [
        "## Getting Sentiment"
      ]
    },
    {
      "cell_type": "code",
      "metadata": {
        "id": "1G6Ypl0rQfng",
        "colab_type": "code",
        "colab": {
          "base_uri": "https://localhost:8080/",
          "height": 204
        },
        "outputId": "768f72ab-7c2f-4035-9f7c-70dafaf1e009"
      },
      "source": [
        "test_frame = pd.read_csv(name_of_file)\n",
        "test_frame.head()"
      ],
      "execution_count": 49,
      "outputs": [
        {
          "output_type": "execute_result",
          "data": {
            "text/html": [
              "<div>\n",
              "<style scoped>\n",
              "    .dataframe tbody tr th:only-of-type {\n",
              "        vertical-align: middle;\n",
              "    }\n",
              "\n",
              "    .dataframe tbody tr th {\n",
              "        vertical-align: top;\n",
              "    }\n",
              "\n",
              "    .dataframe thead th {\n",
              "        text-align: right;\n",
              "    }\n",
              "</style>\n",
              "<table border=\"1\" class=\"dataframe\">\n",
              "  <thead>\n",
              "    <tr style=\"text-align: right;\">\n",
              "      <th></th>\n",
              "      <th>Topic</th>\n",
              "      <th>Sentiment</th>\n",
              "      <th>TweetDate</th>\n",
              "      <th>TweetText</th>\n",
              "    </tr>\n",
              "  </thead>\n",
              "  <tbody>\n",
              "    <tr>\n",
              "      <th>0</th>\n",
              "      <td>apple</td>\n",
              "      <td>positive</td>\n",
              "      <td>Tue Oct 18 18:36:46 +0000 2011</td>\n",
              "      <td>RT @JamaicanIdler: Lmao I think @apple is onto...</td>\n",
              "    </tr>\n",
              "    <tr>\n",
              "      <th>1</th>\n",
              "      <td>apple</td>\n",
              "      <td>positive</td>\n",
              "      <td>Mon Oct 17 14:36:34 +0000 2011</td>\n",
              "      <td>Bravo, @Apple! http://t.co/BgoTzj7K</td>\n",
              "    </tr>\n",
              "    <tr>\n",
              "      <th>2</th>\n",
              "      <td>apple</td>\n",
              "      <td>positive</td>\n",
              "      <td>Mon Oct 17 00:23:56 +0000 2011</td>\n",
              "      <td>Day305, I'm thankful for the great customer se...</td>\n",
              "    </tr>\n",
              "    <tr>\n",
              "      <th>3</th>\n",
              "      <td>apple</td>\n",
              "      <td>positive</td>\n",
              "      <td>Sun Oct 16 22:56:54 +0000 2011</td>\n",
              "      <td>i love this. so much. thank you @apple.  http:...</td>\n",
              "    </tr>\n",
              "    <tr>\n",
              "      <th>4</th>\n",
              "      <td>apple</td>\n",
              "      <td>positive</td>\n",
              "      <td>Sun Oct 16 16:25:47 +0000 2011</td>\n",
              "      <td>I &amp;lt;3 @apple http://t.co/ondXWpEr</td>\n",
              "    </tr>\n",
              "  </tbody>\n",
              "</table>\n",
              "</div>"
            ],
            "text/plain": [
              "   Topic  ...                                          TweetText\n",
              "0  apple  ...  RT @JamaicanIdler: Lmao I think @apple is onto...\n",
              "1  apple  ...                Bravo, @Apple! http://t.co/BgoTzj7K\n",
              "2  apple  ...  Day305, I'm thankful for the great customer se...\n",
              "3  apple  ...  i love this. so much. thank you @apple.  http:...\n",
              "4  apple  ...                I &lt;3 @apple http://t.co/ondXWpEr\n",
              "\n",
              "[5 rows x 4 columns]"
            ]
          },
          "metadata": {
            "tags": []
          },
          "execution_count": 49
        }
      ]
    },
    {
      "cell_type": "code",
      "metadata": {
        "id": "QUtMIhDZQ0TW",
        "colab_type": "code",
        "colab": {
          "base_uri": "https://localhost:8080/",
          "height": 204
        },
        "outputId": "32295926-2d32-4bc5-b599-eb4f7e96c9af"
      },
      "source": [
        "test_frame = preprocessor_sentiment.fit(test_frame)\n",
        "test_frame.head()"
      ],
      "execution_count": 50,
      "outputs": [
        {
          "output_type": "execute_result",
          "data": {
            "text/html": [
              "<div>\n",
              "<style scoped>\n",
              "    .dataframe tbody tr th:only-of-type {\n",
              "        vertical-align: middle;\n",
              "    }\n",
              "\n",
              "    .dataframe tbody tr th {\n",
              "        vertical-align: top;\n",
              "    }\n",
              "\n",
              "    .dataframe thead th {\n",
              "        text-align: right;\n",
              "    }\n",
              "</style>\n",
              "<table border=\"1\" class=\"dataframe\">\n",
              "  <thead>\n",
              "    <tr style=\"text-align: right;\">\n",
              "      <th></th>\n",
              "      <th>Topic</th>\n",
              "      <th>Sentiment</th>\n",
              "      <th>TweetDate</th>\n",
              "      <th>TweetText</th>\n",
              "    </tr>\n",
              "  </thead>\n",
              "  <tbody>\n",
              "    <tr>\n",
              "      <th>0</th>\n",
              "      <td>1</td>\n",
              "      <td>0</td>\n",
              "      <td>Tue Oct 18 18:36:46 +0000 2011</td>\n",
              "      <td>rt ATUSER lmao i think ATUSER is onto somethin...</td>\n",
              "    </tr>\n",
              "    <tr>\n",
              "      <th>1</th>\n",
              "      <td>1</td>\n",
              "      <td>0</td>\n",
              "      <td>Mon Oct 17 14:36:34 +0000 2011</td>\n",
              "      <td>bravo ATUSER URL</td>\n",
              "    </tr>\n",
              "    <tr>\n",
              "      <th>2</th>\n",
              "      <td>1</td>\n",
              "      <td>0</td>\n",
              "      <td>Mon Oct 17 00:23:56 +0000 2011</td>\n",
              "      <td>day305 im thankful for the great customer serv...</td>\n",
              "    </tr>\n",
              "    <tr>\n",
              "      <th>3</th>\n",
              "      <td>1</td>\n",
              "      <td>0</td>\n",
              "      <td>Sun Oct 16 22:56:54 +0000 2011</td>\n",
              "      <td>i love this so much thank you ATUSER URL</td>\n",
              "    </tr>\n",
              "    <tr>\n",
              "      <th>4</th>\n",
              "      <td>1</td>\n",
              "      <td>0</td>\n",
              "      <td>Sun Oct 16 16:25:47 +0000 2011</td>\n",
              "      <td>i lt3 ATUSER URL</td>\n",
              "    </tr>\n",
              "  </tbody>\n",
              "</table>\n",
              "</div>"
            ],
            "text/plain": [
              "   Topic  ...                                          TweetText\n",
              "0      1  ...  rt ATUSER lmao i think ATUSER is onto somethin...\n",
              "1      1  ...                                   bravo ATUSER URL\n",
              "2      1  ...  day305 im thankful for the great customer serv...\n",
              "3      1  ...           i love this so much thank you ATUSER URL\n",
              "4      1  ...                                   i lt3 ATUSER URL\n",
              "\n",
              "[5 rows x 4 columns]"
            ]
          },
          "metadata": {
            "tags": []
          },
          "execution_count": 50
        }
      ]
    },
    {
      "cell_type": "code",
      "metadata": {
        "id": "VCgh-3Gl5nk5",
        "colab_type": "code",
        "colab": {}
      },
      "source": [
        "test_frame.to_csv('temp.csv')"
      ],
      "execution_count": 0,
      "outputs": []
    },
    {
      "cell_type": "code",
      "metadata": {
        "id": "JyR9AP3NtdcI",
        "colab_type": "code",
        "colab": {}
      },
      "source": [
        "INPUT_TWEET_TEXT = data.Field(tokenize='spacy', include_lengths = True)\n",
        "INPUT_SENTIMENTAL_LABEL = data.LabelField(dtype=torch.long)"
      ],
      "execution_count": 0,
      "outputs": []
    },
    {
      "cell_type": "code",
      "metadata": {
        "id": "rHqVOYwa0n0o",
        "colab_type": "code",
        "colab": {}
      },
      "source": [
        "INPUT_TWEET_TEXT.build_vocab(sa_train_data.TweetText, max_size=MAX_VOCAB_SIZE)\n",
        "INPUT_SENTIMENTAL_LABEL.build_vocab(sa_train_data.Sentiment)"
      ],
      "execution_count": 0,
      "outputs": []
    },
    {
      "cell_type": "code",
      "metadata": {
        "id": "vyQtZlZAtdqJ",
        "colab_type": "code",
        "colab": {}
      },
      "source": [
        "input_data_field = [  ('TweetText', INPUT_TWEET_TEXT),  ('Sentiment', INPUT_SENTIMENTAL_LABEL)]\n",
        "\n",
        "input_data = data.TabularDataset(path='./temp.csv',\n",
        "                            format = 'csv',\n",
        "                            fields = input_data_field,\n",
        "                            skip_header = True)"
      ],
      "execution_count": 0,
      "outputs": []
    },
    {
      "cell_type": "code",
      "metadata": {
        "id": "VCIfC4TrwF4e",
        "colab_type": "code",
        "colab": {}
      },
      "source": [
        "input_data_iterator = data.BucketIterator(input_data,\n",
        "                                          batch_size=BATCH_SIZE,\n",
        "                                          sort_key=lambda x: len(x.TweetText),\n",
        "                                          sort_within_batch=True,\n",
        "                                          device=device)"
      ],
      "execution_count": 0,
      "outputs": []
    },
    {
      "cell_type": "code",
      "metadata": {
        "id": "uHB-7Przxi1u",
        "colab_type": "code",
        "colab": {
          "base_uri": "https://localhost:8080/",
          "height": 102
        },
        "outputId": "e7c9efbb-4c9f-4027-dc7e-7f4d14640282"
      },
      "source": [
        "input_loss, input_acc, input_f_score = evaluate(model, input_data_iterator, criterion)\n",
        "\n",
        "print(f'Input Loss: {input_loss:.3f} | Input Acc: {input_acc*100:.2f}%, Input F-fscore: {input_f_score:.4f}')"
      ],
      "execution_count": 56,
      "outputs": [
        {
          "output_type": "stream",
          "text": [
            "Input Loss: 0.896 | Input Acc: 73.01%, Input F-fscore: 0.8139\n"
          ],
          "name": "stdout"
        },
        {
          "output_type": "stream",
          "text": [
            "/usr/local/lib/python3.6/dist-packages/sklearn/metrics/classification.py:1437: UndefinedMetricWarning: F-score is ill-defined and being set to 0.0 in labels with no predicted samples.\n",
            "  'precision', 'predicted', average, warn_for)\n",
            "/usr/local/lib/python3.6/dist-packages/sklearn/metrics/classification.py:1439: UndefinedMetricWarning: F-score is ill-defined and being set to 0.0 in labels with no true samples.\n",
            "  'recall', 'true', average, warn_for)\n"
          ],
          "name": "stderr"
        }
      ]
    },
    {
      "cell_type": "markdown",
      "metadata": {
        "id": "tGNHhdmvS6fW",
        "colab_type": "text"
      },
      "source": [
        "## Getting Company Information"
      ]
    },
    {
      "cell_type": "code",
      "metadata": {
        "id": "UEPjn6ANDcjY",
        "colab_type": "code",
        "colab": {
          "base_uri": "https://localhost:8080/",
          "height": 204
        },
        "outputId": "82c58142-33e0-4ef0-9500-3b3cc216ee71"
      },
      "source": [
        "test_frame = pd.read_csv(name_of_file)\n",
        "test_frame.head()"
      ],
      "execution_count": 57,
      "outputs": [
        {
          "output_type": "execute_result",
          "data": {
            "text/html": [
              "<div>\n",
              "<style scoped>\n",
              "    .dataframe tbody tr th:only-of-type {\n",
              "        vertical-align: middle;\n",
              "    }\n",
              "\n",
              "    .dataframe tbody tr th {\n",
              "        vertical-align: top;\n",
              "    }\n",
              "\n",
              "    .dataframe thead th {\n",
              "        text-align: right;\n",
              "    }\n",
              "</style>\n",
              "<table border=\"1\" class=\"dataframe\">\n",
              "  <thead>\n",
              "    <tr style=\"text-align: right;\">\n",
              "      <th></th>\n",
              "      <th>Topic</th>\n",
              "      <th>Sentiment</th>\n",
              "      <th>TweetDate</th>\n",
              "      <th>TweetText</th>\n",
              "    </tr>\n",
              "  </thead>\n",
              "  <tbody>\n",
              "    <tr>\n",
              "      <th>0</th>\n",
              "      <td>apple</td>\n",
              "      <td>positive</td>\n",
              "      <td>Tue Oct 18 18:36:46 +0000 2011</td>\n",
              "      <td>RT @JamaicanIdler: Lmao I think @apple is onto...</td>\n",
              "    </tr>\n",
              "    <tr>\n",
              "      <th>1</th>\n",
              "      <td>apple</td>\n",
              "      <td>positive</td>\n",
              "      <td>Mon Oct 17 14:36:34 +0000 2011</td>\n",
              "      <td>Bravo, @Apple! http://t.co/BgoTzj7K</td>\n",
              "    </tr>\n",
              "    <tr>\n",
              "      <th>2</th>\n",
              "      <td>apple</td>\n",
              "      <td>positive</td>\n",
              "      <td>Mon Oct 17 00:23:56 +0000 2011</td>\n",
              "      <td>Day305, I'm thankful for the great customer se...</td>\n",
              "    </tr>\n",
              "    <tr>\n",
              "      <th>3</th>\n",
              "      <td>apple</td>\n",
              "      <td>positive</td>\n",
              "      <td>Sun Oct 16 22:56:54 +0000 2011</td>\n",
              "      <td>i love this. so much. thank you @apple.  http:...</td>\n",
              "    </tr>\n",
              "    <tr>\n",
              "      <th>4</th>\n",
              "      <td>apple</td>\n",
              "      <td>positive</td>\n",
              "      <td>Sun Oct 16 16:25:47 +0000 2011</td>\n",
              "      <td>I &amp;lt;3 @apple http://t.co/ondXWpEr</td>\n",
              "    </tr>\n",
              "  </tbody>\n",
              "</table>\n",
              "</div>"
            ],
            "text/plain": [
              "   Topic  ...                                          TweetText\n",
              "0  apple  ...  RT @JamaicanIdler: Lmao I think @apple is onto...\n",
              "1  apple  ...                Bravo, @Apple! http://t.co/BgoTzj7K\n",
              "2  apple  ...  Day305, I'm thankful for the great customer se...\n",
              "3  apple  ...  i love this. so much. thank you @apple.  http:...\n",
              "4  apple  ...                I &lt;3 @apple http://t.co/ondXWpEr\n",
              "\n",
              "[5 rows x 4 columns]"
            ]
          },
          "metadata": {
            "tags": []
          },
          "execution_count": 57
        }
      ]
    },
    {
      "cell_type": "code",
      "metadata": {
        "id": "ShDQKHNYDgDF",
        "colab_type": "code",
        "colab": {
          "base_uri": "https://localhost:8080/",
          "height": 204
        },
        "outputId": "763aec2b-5958-4ebb-fde4-33322d15661c"
      },
      "source": [
        "test_frame = preprocessor_company_prediction.fit(test_frame)\n",
        "test_frame.head()"
      ],
      "execution_count": 58,
      "outputs": [
        {
          "output_type": "execute_result",
          "data": {
            "text/html": [
              "<div>\n",
              "<style scoped>\n",
              "    .dataframe tbody tr th:only-of-type {\n",
              "        vertical-align: middle;\n",
              "    }\n",
              "\n",
              "    .dataframe tbody tr th {\n",
              "        vertical-align: top;\n",
              "    }\n",
              "\n",
              "    .dataframe thead th {\n",
              "        text-align: right;\n",
              "    }\n",
              "</style>\n",
              "<table border=\"1\" class=\"dataframe\">\n",
              "  <thead>\n",
              "    <tr style=\"text-align: right;\">\n",
              "      <th></th>\n",
              "      <th>Topic</th>\n",
              "      <th>Sentiment</th>\n",
              "      <th>TweetDate</th>\n",
              "      <th>TweetText</th>\n",
              "    </tr>\n",
              "  </thead>\n",
              "  <tbody>\n",
              "    <tr>\n",
              "      <th>0</th>\n",
              "      <td>1</td>\n",
              "      <td>0</td>\n",
              "      <td>Tue Oct 18 18:36:46 +0000 2011</td>\n",
              "      <td>rt jamaicanidler lmao i think apple is onto so...</td>\n",
              "    </tr>\n",
              "    <tr>\n",
              "      <th>1</th>\n",
              "      <td>1</td>\n",
              "      <td>0</td>\n",
              "      <td>Mon Oct 17 14:36:34 +0000 2011</td>\n",
              "      <td>bravo apple URL</td>\n",
              "    </tr>\n",
              "    <tr>\n",
              "      <th>2</th>\n",
              "      <td>1</td>\n",
              "      <td>0</td>\n",
              "      <td>Mon Oct 17 00:23:56 +0000 2011</td>\n",
              "      <td>day305 im thankful for the great customer serv...</td>\n",
              "    </tr>\n",
              "    <tr>\n",
              "      <th>3</th>\n",
              "      <td>1</td>\n",
              "      <td>0</td>\n",
              "      <td>Sun Oct 16 22:56:54 +0000 2011</td>\n",
              "      <td>i love this so much thank you apple URL</td>\n",
              "    </tr>\n",
              "    <tr>\n",
              "      <th>4</th>\n",
              "      <td>1</td>\n",
              "      <td>0</td>\n",
              "      <td>Sun Oct 16 16:25:47 +0000 2011</td>\n",
              "      <td>i lt3 apple URL</td>\n",
              "    </tr>\n",
              "  </tbody>\n",
              "</table>\n",
              "</div>"
            ],
            "text/plain": [
              "   Topic  ...                                          TweetText\n",
              "0      1  ...  rt jamaicanidler lmao i think apple is onto so...\n",
              "1      1  ...                                    bravo apple URL\n",
              "2      1  ...  day305 im thankful for the great customer serv...\n",
              "3      1  ...            i love this so much thank you apple URL\n",
              "4      1  ...                                    i lt3 apple URL\n",
              "\n",
              "[5 rows x 4 columns]"
            ]
          },
          "metadata": {
            "tags": []
          },
          "execution_count": 58
        }
      ]
    },
    {
      "cell_type": "code",
      "metadata": {
        "id": "sWSkbr3bQ6kz",
        "colab_type": "code",
        "colab": {
          "base_uri": "https://localhost:8080/",
          "height": 51
        },
        "outputId": "ab703e53-b165-499b-b1c9-46e5c019a447"
      },
      "source": [
        "test_data_x = vectorizer.transform(test_frame['TweetText']).toarray()\n",
        "test_data_x = tfidfconverter.transform(test_data_x).toarray()\n",
        "test_data_y = test_frame['Topic']\n",
        "prediction_test_data = rfc.predict(X_test)\n",
        "\n",
        "accuracy_company = accuracy_score(prediction_test_data, test_data_y)\n",
        "f1_company = f1_score(prediction_test_data, test_data_y, average='macro')\n",
        "print(accuracy_company)\n",
        "print(f1_company)"
      ],
      "execution_count": 59,
      "outputs": [
        {
          "output_type": "stream",
          "text": [
            "0.8187134502923976\n",
            "0.8140346938028314\n"
          ],
          "name": "stdout"
        }
      ]
    },
    {
      "cell_type": "markdown",
      "metadata": {
        "id": "YqVY_kf06E63",
        "colab_type": "text"
      },
      "source": [
        "# Results"
      ]
    },
    {
      "cell_type": "markdown",
      "metadata": {
        "id": "iSSB-qR_rVPw",
        "colab_type": "text"
      },
      "source": [
        "## Results from Data Files: "
      ]
    },
    {
      "cell_type": "code",
      "metadata": {
        "id": "6xVYjaU5raHU",
        "colab_type": "code",
        "colab": {}
      },
      "source": [
        "results = { 'Source' : ['Training File', 'Test File'], 'Accuracy' : [f'{train_acc*100: .2f}%', f'{test_acc*100: .2f}%'], 'F-Score' : [f'{train_f_score: .4f}', f'{f_score: .4f}']}"
      ],
      "execution_count": 0,
      "outputs": []
    },
    {
      "cell_type": "code",
      "metadata": {
        "id": "Mbb1ZqKhr-k8",
        "colab_type": "code",
        "colab": {
          "base_uri": "https://localhost:8080/",
          "height": 111
        },
        "outputId": "c4f60e93-6a34-431d-f9c2-fe523eebc8ea"
      },
      "source": [
        "results_pd = pd.DataFrame(results)\n",
        "results_pd"
      ],
      "execution_count": 61,
      "outputs": [
        {
          "output_type": "execute_result",
          "data": {
            "text/html": [
              "<div>\n",
              "<style scoped>\n",
              "    .dataframe tbody tr th:only-of-type {\n",
              "        vertical-align: middle;\n",
              "    }\n",
              "\n",
              "    .dataframe tbody tr th {\n",
              "        vertical-align: top;\n",
              "    }\n",
              "\n",
              "    .dataframe thead th {\n",
              "        text-align: right;\n",
              "    }\n",
              "</style>\n",
              "<table border=\"1\" class=\"dataframe\">\n",
              "  <thead>\n",
              "    <tr style=\"text-align: right;\">\n",
              "      <th></th>\n",
              "      <th>Source</th>\n",
              "      <th>Accuracy</th>\n",
              "      <th>F-Score</th>\n",
              "    </tr>\n",
              "  </thead>\n",
              "  <tbody>\n",
              "    <tr>\n",
              "      <th>0</th>\n",
              "      <td>Training File</td>\n",
              "      <td>78.21%</td>\n",
              "      <td>0.8168</td>\n",
              "    </tr>\n",
              "    <tr>\n",
              "      <th>1</th>\n",
              "      <td>Test File</td>\n",
              "      <td>75.52%</td>\n",
              "      <td>0.7616</td>\n",
              "    </tr>\n",
              "  </tbody>\n",
              "</table>\n",
              "</div>"
            ],
            "text/plain": [
              "          Source Accuracy  F-Score\n",
              "0  Training File   78.21%   0.8168\n",
              "1      Test File   75.52%   0.7616"
            ]
          },
          "metadata": {
            "tags": []
          },
          "execution_count": 61
        }
      ]
    },
    {
      "cell_type": "markdown",
      "metadata": {
        "id": "ugpABAJEra1e",
        "colab_type": "text"
      },
      "source": [
        "## Results from Input Files"
      ]
    },
    {
      "cell_type": "code",
      "metadata": {
        "id": "slu4BCfK6HgO",
        "colab_type": "code",
        "colab": {
          "base_uri": "https://localhost:8080/",
          "height": 136
        },
        "outputId": "5a0cdedb-5b74-40ef-be5f-92cbdf13f082"
      },
      "source": [
        "print(f'File: {name_of_file}')\n",
        "print(f'Sentiment Analysis \\nAccuracy: {input_acc*100:.2f}%')\n",
        "print(f'F-Score: {input_f_score:.4f}')\n",
        "print(f'Company Detection:')\n",
        "print(f'Accuracy: {accuracy_company*100:.2f}%')\n",
        "print(f'F-Score: {f1_company:.4f}')\n"
      ],
      "execution_count": 62,
      "outputs": [
        {
          "output_type": "stream",
          "text": [
            "File: gdrive/My Drive/Colab Notebooks/SNA Lab/Test.csv\n",
            "Sentiment Analysis \n",
            "Accuracy: 73.01%\n",
            "F-Score: 0.8139\n",
            "Company Detection:\n",
            "Accuracy: 81.87%\n",
            "F-Score: 0.8140\n"
          ],
          "name": "stdout"
        }
      ]
    },
    {
      "cell_type": "code",
      "metadata": {
        "id": "BkLo6Dge6dLx",
        "colab_type": "code",
        "colab": {}
      },
      "source": [
        ""
      ],
      "execution_count": 0,
      "outputs": []
    },
    {
      "cell_type": "code",
      "metadata": {
        "id": "W6a-Oba98L4U",
        "colab_type": "code",
        "colab": {}
      },
      "source": [
        ""
      ],
      "execution_count": 0,
      "outputs": []
    }
  ]
}