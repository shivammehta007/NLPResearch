{
  "nbformat": 4,
  "nbformat_minor": 0,
  "metadata": {
    "colab": {
      "name": "SNA_Assignemnt.ipynb",
      "provenance": [],
      "collapsed_sections": [],
      "include_colab_link": true
    },
    "kernelspec": {
      "name": "python3",
      "display_name": "Python 3"
    },
    "accelerator": "GPU"
  },
  "cells": [
    {
      "cell_type": "markdown",
      "metadata": {
        "id": "view-in-github",
        "colab_type": "text"
      },
      "source": [
        "<a href=\"https://colab.research.google.com/github/shivammehta007/NLPResearch/blob/master/Tutorials/Natural%20Language%20Processing/SNA_Assignemnt.ipynb\" target=\"_parent\"><img src=\"https://colab.research.google.com/assets/colab-badge.svg\" alt=\"Open In Colab\"/></a>"
      ]
    },
    {
      "cell_type": "code",
      "metadata": {
        "id": "57Tw_B6KncpD",
        "colab_type": "code",
        "colab": {
          "base_uri": "https://localhost:8080/",
          "height": 51
        },
        "outputId": "6f239a27-4ff3-4d70-b7ec-29dd072e0bb8"
      },
      "source": [
        "import random\n",
        "import os\n",
        "import re\n",
        "\n",
        "import torch\n",
        "import torch.nn.functional as F\n",
        "import torch.optim as optim\n",
        "import torch.nn as nn\n",
        "import numpy as np\n",
        "import pandas as pd\n",
        "from torchtext import data\n",
        "\n",
        "from string import punctuation\n",
        "from sklearn.metrics import accuracy_score, f1_score, classification_report\n",
        "from sklearn.ensemble import RandomForestClassifier\n",
        "from sklearn.feature_extraction.text import CountVectorizer\n",
        "from sklearn.feature_extraction.text import TfidfTransformer\n",
        "import nltk\n",
        "nltk.download('punkt')\n",
        "from nltk.tokenize import word_tokenize\n",
        "\n",
        "import spacy\n",
        "nlp = spacy.load('en')\n",
        "\n",
        "! pip install revtok"
      ],
      "execution_count": 194,
      "outputs": [
        {
          "output_type": "stream",
          "text": [
            "[nltk_data] Downloading package punkt to /root/nltk_data...\n",
            "[nltk_data]   Package punkt is already up-to-date!\n"
          ],
          "name": "stdout"
        }
      ]
    },
    {
      "cell_type": "code",
      "metadata": {
        "id": "3K9c6TV_nqL5",
        "colab_type": "code",
        "colab": {}
      },
      "source": [
        "# Setting up custom random seeds,\n",
        "SEED = 1234\n",
        "torch.manual_seed(SEED)\n",
        "torch.cuda.manual_seed(SEED)\n",
        "np.random.seed(SEED)\n",
        "torch.backends.cudnn.deterministic = True\n",
        "random.seed(SEED)"
      ],
      "execution_count": 0,
      "outputs": []
    },
    {
      "cell_type": "code",
      "metadata": {
        "id": "aANq27LCpqJZ",
        "colab_type": "code",
        "outputId": "03e54af0-e40e-4d7d-87f6-0cd1f7c7e73d",
        "colab": {
          "base_uri": "https://localhost:8080/",
          "height": 34
        }
      },
      "source": [
        "# Mounting Google Drive\n",
        "from google.colab import drive\n",
        "drive.mount('/content/gdrive')"
      ],
      "execution_count": 196,
      "outputs": [
        {
          "output_type": "stream",
          "text": [
            "Drive already mounted at /content/gdrive; to attempt to forcibly remount, call drive.mount(\"/content/gdrive\", force_remount=True).\n"
          ],
          "name": "stdout"
        }
      ]
    },
    {
      "cell_type": "code",
      "metadata": {
        "id": "gdSY5X2SsrvF",
        "colab_type": "code",
        "outputId": "3ec33112-3a4f-4daf-c46f-9171ad7f5d6f",
        "colab": {
          "base_uri": "https://localhost:8080/",
          "height": 34
        }
      },
      "source": [
        "device = torch.device('cuda' if torch.cuda.is_available() else 'cpu')\n",
        "device"
      ],
      "execution_count": 197,
      "outputs": [
        {
          "output_type": "execute_result",
          "data": {
            "text/plain": [
              "device(type='cuda')"
            ]
          },
          "metadata": {
            "tags": []
          },
          "execution_count": 197
        }
      ]
    },
    {
      "cell_type": "code",
      "metadata": {
        "id": "pqU1NatosMLB",
        "colab_type": "code",
        "colab": {}
      },
      "source": [
        "data_location = 'gdrive/My Drive/Colab Notebooks/SNA Lab'\n",
        "train_file = os.path.join(data_location, 'Train.csv')\n",
        "test_file = os.path.join(data_location, 'Test.csv')\n",
        "train_data_pd = pd.read_csv(train_file)\n",
        "test_data_pd = pd.read_csv(test_file)"
      ],
      "execution_count": 0,
      "outputs": []
    },
    {
      "cell_type": "code",
      "metadata": {
        "id": "_yK8F5cZsbn2",
        "colab_type": "code",
        "outputId": "8dc20b67-24c8-4854-a067-e7ce6b6dbaf1",
        "colab": {
          "base_uri": "https://localhost:8080/",
          "height": 204
        }
      },
      "source": [
        "train_data_pd.head()"
      ],
      "execution_count": 223,
      "outputs": [
        {
          "output_type": "execute_result",
          "data": {
            "text/html": [
              "<div>\n",
              "<style scoped>\n",
              "    .dataframe tbody tr th:only-of-type {\n",
              "        vertical-align: middle;\n",
              "    }\n",
              "\n",
              "    .dataframe tbody tr th {\n",
              "        vertical-align: top;\n",
              "    }\n",
              "\n",
              "    .dataframe thead th {\n",
              "        text-align: right;\n",
              "    }\n",
              "</style>\n",
              "<table border=\"1\" class=\"dataframe\">\n",
              "  <thead>\n",
              "    <tr style=\"text-align: right;\">\n",
              "      <th></th>\n",
              "      <th>Topic</th>\n",
              "      <th>Sentiment</th>\n",
              "      <th>TweetDate</th>\n",
              "      <th>TweetText</th>\n",
              "    </tr>\n",
              "  </thead>\n",
              "  <tbody>\n",
              "    <tr>\n",
              "      <th>0</th>\n",
              "      <td>apple</td>\n",
              "      <td>positive</td>\n",
              "      <td>Tue Oct 18 21:53:25 +0000 2011</td>\n",
              "      <td>Now all @Apple has to do is get swype on the i...</td>\n",
              "    </tr>\n",
              "    <tr>\n",
              "      <th>1</th>\n",
              "      <td>apple</td>\n",
              "      <td>positive</td>\n",
              "      <td>Tue Oct 18 21:09:33 +0000 2011</td>\n",
              "      <td>@Apple will be adding more carrier support to ...</td>\n",
              "    </tr>\n",
              "    <tr>\n",
              "      <th>2</th>\n",
              "      <td>apple</td>\n",
              "      <td>positive</td>\n",
              "      <td>Tue Oct 18 21:02:20 +0000 2011</td>\n",
              "      <td>Hilarious @youtube video - guy does a duet wit...</td>\n",
              "    </tr>\n",
              "    <tr>\n",
              "      <th>3</th>\n",
              "      <td>apple</td>\n",
              "      <td>positive</td>\n",
              "      <td>Tue Oct 18 20:40:10 +0000 2011</td>\n",
              "      <td>@RIM you made it too easy for me to switch to ...</td>\n",
              "    </tr>\n",
              "    <tr>\n",
              "      <th>4</th>\n",
              "      <td>apple</td>\n",
              "      <td>positive</td>\n",
              "      <td>Tue Oct 18 20:34:00 +0000 2011</td>\n",
              "      <td>I just realized that the reason I got into twi...</td>\n",
              "    </tr>\n",
              "  </tbody>\n",
              "</table>\n",
              "</div>"
            ],
            "text/plain": [
              "   Topic  ...                                          TweetText\n",
              "0  apple  ...  Now all @Apple has to do is get swype on the i...\n",
              "1  apple  ...  @Apple will be adding more carrier support to ...\n",
              "2  apple  ...  Hilarious @youtube video - guy does a duet wit...\n",
              "3  apple  ...  @RIM you made it too easy for me to switch to ...\n",
              "4  apple  ...  I just realized that the reason I got into twi...\n",
              "\n",
              "[5 rows x 4 columns]"
            ]
          },
          "metadata": {
            "tags": []
          },
          "execution_count": 223
        }
      ]
    },
    {
      "cell_type": "code",
      "metadata": {
        "id": "UgTivwJRuElv",
        "colab_type": "code",
        "outputId": "9c2be50c-ac8f-4f17-957c-20bee18a7b3d",
        "colab": {
          "base_uri": "https://localhost:8080/",
          "height": 34
        }
      },
      "source": [
        "train_data_pd['Sentiment'].unique()"
      ],
      "execution_count": 224,
      "outputs": [
        {
          "output_type": "execute_result",
          "data": {
            "text/plain": [
              "array(['positive', 'negative', 'neutral', 'irrelevant'], dtype=object)"
            ]
          },
          "metadata": {
            "tags": []
          },
          "execution_count": 224
        }
      ]
    },
    {
      "cell_type": "code",
      "metadata": {
        "id": "SN5XqAGcB6Dy",
        "colab_type": "code",
        "colab": {}
      },
      "source": [
        "# punc = punctuation.replace('@', '') \n",
        "# punc"
      ],
      "execution_count": 0,
      "outputs": []
    },
    {
      "cell_type": "code",
      "metadata": {
        "id": "SR1kVgq2Rilx",
        "colab_type": "code",
        "colab": {}
      },
      "source": [
        "class PreprocessingTweet:\n",
        "    \n",
        "    def __init__(self):\n",
        "        self.sentiment_dict = {'positive' : 0,\n",
        "                 'negative' : 1,\n",
        "                 'neutral' : 2,\n",
        "                 'irrelevant' : 9}\n",
        "\n",
        "        self.company_dict = {'apple' : 1,\n",
        "             'google' : 2,\n",
        "             'microsoft': 3,\n",
        "             'twitter': 4 }\n",
        "\n",
        "    def __process_tweets__(self, tweets):\n",
        "        tweets_ = []\n",
        "        for tweet in tweets:\n",
        "            tweet = tweet.lower() # convert text to lower-case\n",
        "            tweet = re.sub('((www\\.[^\\s]+)|(https?://[^\\s]+))', 'URL', tweet) # remove URLs\n",
        "            # tweet = re.sub('@[^\\s]+', 'AT_USER', tweet) # remove usernames\n",
        "            tweet = re.sub(r'#([^\\s]+)', r'\\1', tweet) # remove the # in #hashtag\n",
        "            tweet = ''.join([i for i in tweet if i not in punctuation])\n",
        "            tweet = ' '.join(word_tokenize(tweet))\n",
        "            tweets_.append(tweet)\n",
        "        return pd.Series(tweets_)\n",
        "    \n",
        "    def __process_sentiment__(self, sentiments):\n",
        "        return sentiments.replace(self.sentiment_dict)\n",
        "\n",
        "    def __process_companies__(self, companies):\n",
        "        return companies.replace(self.company_dict)\n",
        "\n",
        "    def fit(self, dataframe):\n",
        "        dataframe['TweetText'] = self.__process_tweets__(dataframe['TweetText'])\n",
        "        dataframe['Topic'] = self.__process_companies__(dataframe['Topic'])\n",
        "        dataframe['Sentiment'] = self.__process_sentiment__(dataframe['Sentiment'])\n",
        "        return dataframe\n",
        "\n"
      ],
      "execution_count": 0,
      "outputs": []
    },
    {
      "cell_type": "code",
      "metadata": {
        "id": "x9IG9mlHt5q3",
        "colab_type": "code",
        "colab": {}
      },
      "source": [
        "preprocessor = PreprocessingTweet()"
      ],
      "execution_count": 0,
      "outputs": []
    },
    {
      "cell_type": "code",
      "metadata": {
        "id": "nGbjQ1ImtSB0",
        "colab_type": "code",
        "colab": {}
      },
      "source": [
        "train_data_pd = preprocessor.fit(train_data_pd)\n",
        "test_data_pd = preprocessor.fit(test_data_pd)"
      ],
      "execution_count": 0,
      "outputs": []
    },
    {
      "cell_type": "code",
      "metadata": {
        "id": "U97gsfDpmes5",
        "colab_type": "code",
        "colab": {
          "base_uri": "https://localhost:8080/",
          "height": 204
        },
        "outputId": "2cb69bcd-2ee9-4a78-b82b-2900d2bf72dd"
      },
      "source": [
        "train_data_pd.head()"
      ],
      "execution_count": 228,
      "outputs": [
        {
          "output_type": "execute_result",
          "data": {
            "text/html": [
              "<div>\n",
              "<style scoped>\n",
              "    .dataframe tbody tr th:only-of-type {\n",
              "        vertical-align: middle;\n",
              "    }\n",
              "\n",
              "    .dataframe tbody tr th {\n",
              "        vertical-align: top;\n",
              "    }\n",
              "\n",
              "    .dataframe thead th {\n",
              "        text-align: right;\n",
              "    }\n",
              "</style>\n",
              "<table border=\"1\" class=\"dataframe\">\n",
              "  <thead>\n",
              "    <tr style=\"text-align: right;\">\n",
              "      <th></th>\n",
              "      <th>Topic</th>\n",
              "      <th>Sentiment</th>\n",
              "      <th>TweetDate</th>\n",
              "      <th>TweetText</th>\n",
              "    </tr>\n",
              "  </thead>\n",
              "  <tbody>\n",
              "    <tr>\n",
              "      <th>0</th>\n",
              "      <td>1</td>\n",
              "      <td>0</td>\n",
              "      <td>Tue Oct 18 21:53:25 +0000 2011</td>\n",
              "      <td>now all apple has to do is get swype on the ip...</td>\n",
              "    </tr>\n",
              "    <tr>\n",
              "      <th>1</th>\n",
              "      <td>1</td>\n",
              "      <td>0</td>\n",
              "      <td>Tue Oct 18 21:09:33 +0000 2011</td>\n",
              "      <td>apple will be adding more carrier support to t...</td>\n",
              "    </tr>\n",
              "    <tr>\n",
              "      <th>2</th>\n",
              "      <td>1</td>\n",
              "      <td>0</td>\n",
              "      <td>Tue Oct 18 21:02:20 +0000 2011</td>\n",
              "      <td>hilarious youtube video guy does a duet with a...</td>\n",
              "    </tr>\n",
              "    <tr>\n",
              "      <th>3</th>\n",
              "      <td>1</td>\n",
              "      <td>0</td>\n",
              "      <td>Tue Oct 18 20:40:10 +0000 2011</td>\n",
              "      <td>rim you made it too easy for me to switch to a...</td>\n",
              "    </tr>\n",
              "    <tr>\n",
              "      <th>4</th>\n",
              "      <td>1</td>\n",
              "      <td>0</td>\n",
              "      <td>Tue Oct 18 20:34:00 +0000 2011</td>\n",
              "      <td>i just realized that the reason i got into twi...</td>\n",
              "    </tr>\n",
              "  </tbody>\n",
              "</table>\n",
              "</div>"
            ],
            "text/plain": [
              "   Topic  ...                                          TweetText\n",
              "0      1  ...  now all apple has to do is get swype on the ip...\n",
              "1      1  ...  apple will be adding more carrier support to t...\n",
              "2      1  ...  hilarious youtube video guy does a duet with a...\n",
              "3      1  ...  rim you made it too easy for me to switch to a...\n",
              "4      1  ...  i just realized that the reason i got into twi...\n",
              "\n",
              "[5 rows x 4 columns]"
            ]
          },
          "metadata": {
            "tags": []
          },
          "execution_count": 228
        }
      ]
    },
    {
      "cell_type": "code",
      "metadata": {
        "id": "AjWFpqtkpUgV",
        "colab_type": "code",
        "colab": {}
      },
      "source": [
        "TWEET_TEXT = data.Field(tokenize='spacy', include_lengths = True)\n",
        "TWEET_COMPANY = data.LabelField(dtype=torch.long)\n",
        "SENTIMENT_LABEL = data.LabelField(dtype=torch.long)\n",
        "TWEET_REVERSE = data.ReversibleField(sequential=True, lower=True, include_lengths=True)"
      ],
      "execution_count": 0,
      "outputs": []
    },
    {
      "cell_type": "markdown",
      "metadata": {
        "id": "QuJfxWoIO9EC",
        "colab_type": "text"
      },
      "source": [
        "# For Sentimental Analysis"
      ]
    },
    {
      "cell_type": "code",
      "metadata": {
        "id": "A0HxgvNNJqv6",
        "colab_type": "code",
        "colab": {}
      },
      "source": [
        "sa_train_data_pd = train_data_pd[train_data_pd['Sentiment'] != 9].loc[:, ['TweetText', 'Sentiment']]\n",
        "sa_test_data_pd = test_data_pd.loc[:, ['TweetText', 'Sentiment']]"
      ],
      "execution_count": 0,
      "outputs": []
    },
    {
      "cell_type": "code",
      "metadata": {
        "id": "Jz8YKH_4M-s3",
        "colab_type": "code",
        "outputId": "4443d1f5-28ca-4284-d1c9-74671272eb2f",
        "colab": {
          "base_uri": "https://localhost:8080/",
          "height": 204
        }
      },
      "source": [
        "sa_train_data_pd.head()"
      ],
      "execution_count": 231,
      "outputs": [
        {
          "output_type": "execute_result",
          "data": {
            "text/html": [
              "<div>\n",
              "<style scoped>\n",
              "    .dataframe tbody tr th:only-of-type {\n",
              "        vertical-align: middle;\n",
              "    }\n",
              "\n",
              "    .dataframe tbody tr th {\n",
              "        vertical-align: top;\n",
              "    }\n",
              "\n",
              "    .dataframe thead th {\n",
              "        text-align: right;\n",
              "    }\n",
              "</style>\n",
              "<table border=\"1\" class=\"dataframe\">\n",
              "  <thead>\n",
              "    <tr style=\"text-align: right;\">\n",
              "      <th></th>\n",
              "      <th>TweetText</th>\n",
              "      <th>Sentiment</th>\n",
              "    </tr>\n",
              "  </thead>\n",
              "  <tbody>\n",
              "    <tr>\n",
              "      <th>0</th>\n",
              "      <td>now all apple has to do is get swype on the ip...</td>\n",
              "      <td>0</td>\n",
              "    </tr>\n",
              "    <tr>\n",
              "      <th>1</th>\n",
              "      <td>apple will be adding more carrier support to t...</td>\n",
              "      <td>0</td>\n",
              "    </tr>\n",
              "    <tr>\n",
              "      <th>2</th>\n",
              "      <td>hilarious youtube video guy does a duet with a...</td>\n",
              "      <td>0</td>\n",
              "    </tr>\n",
              "    <tr>\n",
              "      <th>3</th>\n",
              "      <td>rim you made it too easy for me to switch to a...</td>\n",
              "      <td>0</td>\n",
              "    </tr>\n",
              "    <tr>\n",
              "      <th>4</th>\n",
              "      <td>i just realized that the reason i got into twi...</td>\n",
              "      <td>0</td>\n",
              "    </tr>\n",
              "  </tbody>\n",
              "</table>\n",
              "</div>"
            ],
            "text/plain": [
              "                                           TweetText  Sentiment\n",
              "0  now all apple has to do is get swype on the ip...          0\n",
              "1  apple will be adding more carrier support to t...          0\n",
              "2  hilarious youtube video guy does a duet with a...          0\n",
              "3  rim you made it too easy for me to switch to a...          0\n",
              "4  i just realized that the reason i got into twi...          0"
            ]
          },
          "metadata": {
            "tags": []
          },
          "execution_count": 231
        }
      ]
    },
    {
      "cell_type": "code",
      "metadata": {
        "id": "4S997MSaxiJz",
        "colab_type": "code",
        "colab": {}
      },
      "source": [
        "sa_train_data_pd.to_csv('Train_sa.csv', index=False)\n",
        "sa_test_data_pd.to_csv('Test_sa.csv', index=False)"
      ],
      "execution_count": 0,
      "outputs": []
    },
    {
      "cell_type": "code",
      "metadata": {
        "id": "TNiTG1SIv8VZ",
        "colab_type": "code",
        "colab": {}
      },
      "source": [
        "sa_data_fields = [  ('TweetText', TWEET_TEXT),  ('Sentiment', SENTIMENT_LABEL)]\n",
        "\n",
        "sa_train_data, sa_test_data = data.TabularDataset.splits(\n",
        "                                        path = '.',\n",
        "                                        train = 'Train_sa.csv',\n",
        "                                        test = 'Test_sa.csv',\n",
        "                                        format = 'csv',\n",
        "                                        fields = sa_data_fields,\n",
        "                                        skip_header = True\n",
        "                                        )"
      ],
      "execution_count": 0,
      "outputs": []
    },
    {
      "cell_type": "code",
      "metadata": {
        "id": "wDMrMRD_xOGO",
        "colab_type": "code",
        "colab": {}
      },
      "source": [
        ""
      ],
      "execution_count": 0,
      "outputs": []
    },
    {
      "cell_type": "code",
      "metadata": {
        "id": "NOg1G_0qzBBo",
        "colab_type": "code",
        "colab": {}
      },
      "source": [
        "MAX_VOCAB_SIZE = 25000\n",
        "TWEET_TEXT.build_vocab(sa_train_data.TweetText, max_size=MAX_VOCAB_SIZE)\n",
        "                       #vectors='glove.twitter.27B.100d',\n",
        "                       #unk_init=torch.Tensor.normal_)\n",
        "SENTIMENT_LABEL.build_vocab(sa_train_data.Sentiment)\n",
        "TWEET_REVERSE.build_vocab(sa_train_data.TweetText, max_size=MAX_VOCAB_SIZE)\n"
      ],
      "execution_count": 0,
      "outputs": []
    },
    {
      "cell_type": "code",
      "metadata": {
        "id": "13Erj2kBAhg_",
        "colab_type": "code",
        "outputId": "35fa5ff4-c54c-47f0-a9b2-822cb8e9b146",
        "colab": {
          "base_uri": "https://localhost:8080/",
          "height": 187
        }
      },
      "source": [
        "TWEET_TEXT.vocab.freqs.most_common(10)"
      ],
      "execution_count": 237,
      "outputs": [
        {
          "output_type": "execute_result",
          "data": {
            "text/plain": [
              "[('apple', 838),\n",
              " ('the', 707),\n",
              " ('to', 586),\n",
              " ('URL', 566),\n",
              " ('i', 516),\n",
              " ('a', 344),\n",
              " ('on', 340),\n",
              " ('rt', 333),\n",
              " ('is', 326),\n",
              " ('for', 325)]"
            ]
          },
          "metadata": {
            "tags": []
          },
          "execution_count": 237
        }
      ]
    },
    {
      "cell_type": "code",
      "metadata": {
        "id": "OlJgc8V7O4Cm",
        "colab_type": "code",
        "colab": {}
      },
      "source": [
        "# Create Iterator\n",
        "\n",
        "BATCH_SIZE = 64\n",
        "\n",
        "train_iterator_sa, test_iterator_sa = data.BucketIterator.splits(\n",
        "    (sa_train_data, sa_test_data),\n",
        "    batch_size=BATCH_SIZE,\n",
        "    sort_key=lambda x: len(x.TweetText),\n",
        "    sort_within_batch=True,\n",
        "    device=device\n",
        ")"
      ],
      "execution_count": 0,
      "outputs": []
    },
    {
      "cell_type": "markdown",
      "metadata": {
        "id": "Tib51cpcOvKk",
        "colab_type": "text"
      },
      "source": [
        "# Defining the Model"
      ]
    },
    {
      "cell_type": "code",
      "metadata": {
        "id": "5uRxt_UlO0aO",
        "colab_type": "code",
        "colab": {}
      },
      "source": [
        "class RNN(nn.Module):\n",
        "\n",
        "    def __init__(self, vocab_size, embedded_dimensions, hidden_dimension,\n",
        "                 output_dimension, n_layers, bidirectional, dropout, pad_index):\n",
        "        super(RNN, self).__init__()\n",
        "\n",
        "        self.embedded = nn.Embedding(vocab_size, embedded_dimensions, padding_idx=pad_index)\n",
        "        self.lstm = nn.LSTM(embedded_dimensions,\n",
        "                            hidden_dimension,\n",
        "                            num_layers=n_layers,\n",
        "                            bidirectional=bidirectional,\n",
        "                            dropout=dropout)\n",
        "        self.linear1 = nn.Linear(hidden_dimension * 2, output_dimension)\n",
        "        self.dropout = nn.Dropout(dropout)\n",
        "    \n",
        "    def forward(self, text, text_length):\n",
        "        \n",
        "        embedded = self.embedded(text)\n",
        "        packed_sequence = nn.utils.rnn.pack_padded_sequence(embedded, text_length)\n",
        "\n",
        "        packed_output, (hidden, output) = self.lstm(packed_sequence)\n",
        "\n",
        "        output, output_length = nn.utils.rnn.pad_packed_sequence(packed_output)\n",
        "\n",
        "        hidden = self.dropout(torch.cat((hidden[-2, :, :], hidden[-1, :, :]), dim = 1))\n",
        "        fc1 = self.dropout(self.linear1(hidden.squeeze(0)))\n",
        "        return fc1\n",
        "\n"
      ],
      "execution_count": 0,
      "outputs": []
    },
    {
      "cell_type": "markdown",
      "metadata": {
        "id": "X3Y0_ja-vlAn",
        "colab_type": "text"
      },
      "source": [
        "# Part: 1 Training Sentimental Analyser"
      ]
    },
    {
      "cell_type": "code",
      "metadata": {
        "id": "BuF5LrjvHJuZ",
        "colab_type": "code",
        "colab": {}
      },
      "source": [
        "# HyperParamters \n",
        "\n",
        "VOCAB_SIZE = len(TWEET_TEXT.vocab)\n",
        "EMBEDDING_DIMENSIONS = 100\n",
        "HIDDEN_DIMENSIONS = 256\n",
        "OUTPUT_DIMENSIONS = 3\n",
        "N_LAYERS = 2\n",
        "BIDIRECTIONAL = True\n",
        "DROPOUT = 0.7\n",
        "PAD_IDX = TWEET_TEXT.vocab.stoi[TWEET_TEXT.pad_token]\n",
        "\n",
        "\n",
        "model = RNN(VOCAB_SIZE, EMBEDDING_DIMENSIONS, HIDDEN_DIMENSIONS,  OUTPUT_DIMENSIONS\n",
        "            , N_LAYERS, BIDIRECTIONAL,DROPOUT, PAD_IDX)"
      ],
      "execution_count": 0,
      "outputs": []
    },
    {
      "cell_type": "code",
      "metadata": {
        "id": "xPnKjjpYMYc4",
        "colab_type": "code",
        "outputId": "c6fb1559-d941-412f-cdfd-d4c101e4f008",
        "colab": {
          "base_uri": "https://localhost:8080/",
          "height": 34
        }
      },
      "source": [
        "# Parameter count : \n",
        "total_parameters = sum(l.numel() for l in model.parameters() if l.requires_grad)\n",
        "print('Total Paramters : {:,}'.format(total_parameters))"
      ],
      "execution_count": 258,
      "outputs": [
        {
          "output_type": "stream",
          "text": [
            "Total Paramters : 2,810,783\n"
          ],
          "name": "stdout"
        }
      ]
    },
    {
      "cell_type": "code",
      "metadata": {
        "id": "AEfMgq3UOvXH",
        "colab_type": "code",
        "colab": {}
      },
      "source": [
        "# # Update initial weight of embedding Layers\n",
        "# pretrained_embeddings = TWEET_TEXT.vocab.vectors\n",
        "# print(pretrained_embeddings)\n",
        "# # model.embedded.weight.data.copy_(pretrained_embeddings)"
      ],
      "execution_count": 0,
      "outputs": []
    },
    {
      "cell_type": "code",
      "metadata": {
        "id": "vRM7IS83RzQR",
        "colab_type": "code",
        "outputId": "be7b6cc3-b738-4956-af3e-9f6dccfc233f",
        "colab": {
          "base_uri": "https://localhost:8080/",
          "height": 136
        }
      },
      "source": [
        "# Setting Padding indexes to zero to not to determine sentiment\n",
        "model.embedded.weight.data[PAD_IDX] = torch.zeros(EMBEDDING_DIMENSIONS)\n",
        "print(model.embedded.weight.data)\n"
      ],
      "execution_count": 260,
      "outputs": [
        {
          "output_type": "stream",
          "text": [
            "tensor([[ 0.1044, -0.8876,  0.0635,  ..., -0.4982, -0.3775, -0.3877],\n",
            "        [ 0.0000,  0.0000,  0.0000,  ...,  0.0000,  0.0000,  0.0000],\n",
            "        [-1.4714,  0.5284,  0.1526,  ...,  0.6863, -1.0461,  0.3615],\n",
            "        ...,\n",
            "        [-1.1001,  0.2496,  0.0566,  ...,  0.9288, -0.5557, -0.0671],\n",
            "        [-0.4051,  2.2133,  0.3324,  ..., -0.5168,  0.2595,  0.3480],\n",
            "        [-0.3920,  0.0077,  0.0081,  ...,  0.0091, -0.8764, -2.8003]])\n"
          ],
          "name": "stdout"
        }
      ]
    },
    {
      "cell_type": "markdown",
      "metadata": {
        "id": "QvJ6LYEWSjY3",
        "colab_type": "text"
      },
      "source": [
        "## Training the model"
      ]
    },
    {
      "cell_type": "code",
      "metadata": {
        "id": "En6yWULOSTUs",
        "colab_type": "code",
        "colab": {}
      },
      "source": [
        "optimizer = optim.Adam(model.parameters())\n",
        "criterion = nn.CrossEntropyLoss()\n",
        "model = model.to(device)\n",
        "criterion = criterion.to(device)"
      ],
      "execution_count": 0,
      "outputs": []
    },
    {
      "cell_type": "code",
      "metadata": {
        "id": "Qh_WQmGqceCG",
        "colab_type": "code",
        "colab": {}
      },
      "source": [
        "# value, index = torch.max(torch.softmax(torch.Tensor([1,2,3,4]), dim=0), 0)\n",
        "# index.item()"
      ],
      "execution_count": 0,
      "outputs": []
    },
    {
      "cell_type": "code",
      "metadata": {
        "id": "ZCFckk3rX6nH",
        "colab_type": "code",
        "colab": {}
      },
      "source": [
        "def classification_accuracy(predictions, label):\n",
        "    # rounded_preds = torch.round(torch.tanh(predictions))\n",
        "    # correct = (rounded_preds == label).float() #convert into float for division \n",
        "    # acc = correct.sum() / len(correct)\n",
        "    # return acc\n",
        "\n",
        "    value, index = torch.max(torch.softmax(predictions,1), 1)\n",
        "\n",
        "    correct = (index == label).float()\n",
        "    acc =   correct.sum() / len(correct)\n",
        "    return acc"
      ],
      "execution_count": 0,
      "outputs": []
    },
    {
      "cell_type": "code",
      "metadata": {
        "id": "bHHuobL_TPmc",
        "colab_type": "code",
        "colab": {}
      },
      "source": [
        "def train(model, iterator, optimizer, criterion):\n",
        "    epoch_loss = 0\n",
        "    epoch_accuracy = 0\n",
        "\n",
        "    model.train()\n",
        "\n",
        "    for batch in iterator:\n",
        "\n",
        "        optimizer.zero_grad()\n",
        "        text, text_length = batch.TweetText\n",
        "        predictions = model(text, text_length).squeeze(1)\n",
        "        loss = criterion(predictions, batch.Sentiment)\n",
        "        acc = classification_accuracy(predictions, batch.Sentiment)\n",
        "        loss.backward()\n",
        "        optimizer.step()\n",
        "        epoch_loss += loss.item()\n",
        "        epoch_accuracy += acc.item()\n",
        "\n",
        "    return epoch_loss / len(iterator), epoch_accuracy / len(iterator)\n",
        "\n",
        "\n",
        "\n",
        "\n"
      ],
      "execution_count": 0,
      "outputs": []
    },
    {
      "cell_type": "code",
      "metadata": {
        "id": "RZYU78yQx2_c",
        "colab_type": "code",
        "colab": {}
      },
      "source": [
        "def evaluate(model, iterator, criterion):\n",
        "    epoch_loss = 0\n",
        "    epoch_accuracy = 0\n",
        "    model.eval()\n",
        "    f_score = 0\n",
        "    with torch.no_grad():\n",
        "        for batch in iterator:\n",
        "            text, text_length = batch.TweetText\n",
        "            # (x, x_lengths), y = batch.TweetText, batch.Sentiment\n",
        "            # orig_text = TWEET_REVERSE.reverse(x.data)\n",
        "            # print(orig_text)          \n",
        "            predictions = model(text, text_length).squeeze(1)\n",
        "            # print(predictions, batch.Sentiment)\n",
        "            loss = criterion(predictions, batch.Sentiment)\n",
        "            acc = classification_accuracy(predictions, batch.Sentiment)\n",
        "            f_score += f1_score(np.argmax(predictions.cpu().numpy(), axis=1), batch.Sentiment.cpu().numpy(), average='weighted' )\n",
        "            epoch_loss += loss.item()\n",
        "            epoch_accuracy += acc.item()\n",
        "    \n",
        "    return epoch_loss / len(iterator), epoch_accuracy / len(iterator), f_score/ len(iterator)"
      ],
      "execution_count": 0,
      "outputs": []
    },
    {
      "cell_type": "code",
      "metadata": {
        "id": "JWCIS-UKd4Pq",
        "colab_type": "code",
        "colab": {}
      },
      "source": [
        "import time\n",
        "\n",
        "def epoch_time(start_time, end_time):\n",
        "    elapsed_time = end_time - start_time\n",
        "    elapsed_mins = int(elapsed_time / 60)\n",
        "    elapsed_secs = int(elapsed_time - (elapsed_mins * 60))\n",
        "    return elapsed_mins, elapsed_secs"
      ],
      "execution_count": 0,
      "outputs": []
    },
    {
      "cell_type": "code",
      "metadata": {
        "id": "Litdgs0td9WG",
        "colab_type": "code",
        "outputId": "7ba19537-972b-4c87-891c-dc568bf6b41b",
        "colab": {
          "base_uri": "https://localhost:8080/",
          "height": 867
        }
      },
      "source": [
        "N_EPOCHS = 25\n",
        "\n",
        "best_valid_loss = float('inf')\n",
        "\n",
        "for epoch in range(N_EPOCHS):\n",
        "\n",
        "    start_time = time.time()\n",
        "    \n",
        "    train_loss, train_acc = train(model, train_iterator_sa, optimizer, criterion)\n",
        "    # valid_loss, valid_acc = evaluate(model, valid_iterator_sa, criterion)\n",
        "    \n",
        "    end_time = time.time()\n",
        "\n",
        "    epoch_mins, epoch_secs = epoch_time(start_time, end_time)\n",
        "    \n",
        "    # if valid_loss < best_valid_loss:\n",
        "    #     best_valid_loss = valid_loss\n",
        "    #     torch.save(model.state_dict(), 'tut2-model.pt')\n",
        "    \n",
        "    print(f'Epoch: {epoch+1:02} | Epoch Time: {epoch_mins}m {epoch_secs}s')\n",
        "    print(f'\\tTrain Loss: {train_loss:.3f} | Train Acc: {train_acc*100:.2f}%')\n",
        "    # print(f'\\t Val. Loss: {valid_loss:.3f} |  Val. Acc: {valid_acc*100:.2f}%')"
      ],
      "execution_count": 267,
      "outputs": [
        {
          "output_type": "stream",
          "text": [
            "Epoch: 01 | Epoch Time: 0m 0s\n",
            "\tTrain Loss: 1.029 | Train Acc: 64.02%\n",
            "Epoch: 02 | Epoch Time: 0m 0s\n",
            "\tTrain Loss: 0.986 | Train Acc: 64.71%\n",
            "Epoch: 03 | Epoch Time: 0m 0s\n",
            "\tTrain Loss: 0.958 | Train Acc: 65.19%\n",
            "Epoch: 04 | Epoch Time: 0m 0s\n",
            "\tTrain Loss: 0.943 | Train Acc: 66.49%\n",
            "Epoch: 05 | Epoch Time: 0m 0s\n",
            "\tTrain Loss: 0.911 | Train Acc: 67.23%\n",
            "Epoch: 06 | Epoch Time: 0m 0s\n",
            "\tTrain Loss: 0.887 | Train Acc: 69.05%\n",
            "Epoch: 07 | Epoch Time: 0m 0s\n",
            "\tTrain Loss: 0.857 | Train Acc: 70.18%\n",
            "Epoch: 08 | Epoch Time: 0m 0s\n",
            "\tTrain Loss: 0.820 | Train Acc: 72.09%\n",
            "Epoch: 09 | Epoch Time: 0m 0s\n",
            "\tTrain Loss: 0.800 | Train Acc: 72.14%\n",
            "Epoch: 10 | Epoch Time: 0m 0s\n",
            "\tTrain Loss: 0.784 | Train Acc: 73.09%\n",
            "Epoch: 11 | Epoch Time: 0m 0s\n",
            "\tTrain Loss: 0.748 | Train Acc: 75.04%\n",
            "Epoch: 12 | Epoch Time: 0m 0s\n",
            "\tTrain Loss: 0.723 | Train Acc: 74.83%\n",
            "Epoch: 13 | Epoch Time: 0m 0s\n",
            "\tTrain Loss: 0.743 | Train Acc: 74.44%\n",
            "Epoch: 14 | Epoch Time: 0m 0s\n",
            "\tTrain Loss: 0.706 | Train Acc: 74.78%\n",
            "Epoch: 15 | Epoch Time: 0m 0s\n",
            "\tTrain Loss: 0.690 | Train Acc: 76.52%\n",
            "Epoch: 16 | Epoch Time: 0m 0s\n",
            "\tTrain Loss: 0.693 | Train Acc: 75.65%\n",
            "Epoch: 17 | Epoch Time: 0m 0s\n",
            "\tTrain Loss: 0.669 | Train Acc: 77.82%\n",
            "Epoch: 18 | Epoch Time: 0m 0s\n",
            "\tTrain Loss: 0.628 | Train Acc: 77.39%\n",
            "Epoch: 19 | Epoch Time: 0m 0s\n",
            "\tTrain Loss: 0.644 | Train Acc: 78.34%\n",
            "Epoch: 20 | Epoch Time: 0m 0s\n",
            "\tTrain Loss: 0.646 | Train Acc: 77.78%\n",
            "Epoch: 21 | Epoch Time: 0m 0s\n",
            "\tTrain Loss: 0.632 | Train Acc: 79.64%\n",
            "Epoch: 22 | Epoch Time: 0m 0s\n",
            "\tTrain Loss: 0.636 | Train Acc: 78.82%\n",
            "Epoch: 23 | Epoch Time: 0m 0s\n",
            "\tTrain Loss: 0.648 | Train Acc: 77.86%\n",
            "Epoch: 24 | Epoch Time: 0m 0s\n",
            "\tTrain Loss: 0.639 | Train Acc: 77.69%\n",
            "Epoch: 25 | Epoch Time: 0m 0s\n",
            "\tTrain Loss: 0.649 | Train Acc: 77.17%\n"
          ],
          "name": "stdout"
        }
      ]
    },
    {
      "cell_type": "code",
      "metadata": {
        "id": "y1exlhjmeBFK",
        "colab_type": "code",
        "outputId": "67fcad0c-4df0-41e3-99b5-7f7f9736db83",
        "colab": {
          "base_uri": "https://localhost:8080/",
          "height": 34
        }
      },
      "source": [
        "test_loss, test_acc, f_score = evaluate(model, test_iterator_sa, criterion)\n",
        "\n",
        "print(f'Test Loss: {test_loss:.3f} | Test Acc: {test_acc*100:.2f}%, F-fscore: {f_score:.4f}')"
      ],
      "execution_count": 268,
      "outputs": [
        {
          "output_type": "stream",
          "text": [
            "Test Loss: 0.700 | Test Acc: 78.05%, F-fscore: 0.7859\n"
          ],
          "name": "stdout"
        }
      ]
    },
    {
      "cell_type": "code",
      "metadata": {
        "id": "ZQ8V3a8FzyC1",
        "colab_type": "code",
        "colab": {}
      },
      "source": [
        "\n",
        "def predict_sentiment(model, sentence):\n",
        "    model.eval()\n",
        "    tokenized = [tok.text for tok in nlp.tokenizer(sentence.lower())]\n",
        "    indexed = [TWEET_TEXT.vocab.stoi[t] for t in tokenized]\n",
        "    length = [len(indexed)]\n",
        "    tensor = torch.LongTensor(indexed).to(device)\n",
        "    tensor = tensor.unsqueeze(1)\n",
        "    length_tensor = torch.LongTensor(length)\n",
        "    value, prediction = torch.max(model(tensor, length_tensor), 0)\n",
        "    # prediction = model(tensor, length_tensor)\n",
        "    reverse_key = { 0: 'Positive', 1: 'Negative', 2: 'Neutral'}\n",
        "    return prediction.item() , reverse_key[prediction.item()]\n",
        "    # return prediction"
      ],
      "execution_count": 0,
      "outputs": []
    },
    {
      "cell_type": "code",
      "metadata": {
        "id": "3Y4J08pa49hN",
        "colab_type": "code",
        "outputId": "8d4febf9-1bd4-49bf-f982-65d62082688b",
        "colab": {
          "base_uri": "https://localhost:8080/",
          "height": 34
        }
      },
      "source": [
        "predict_sentiment(model, \"@apple  why don't you guys test your upgrades before you put them out. 15 1/2 hrs u guys wasted of my time yesterday. Thanks.\")"
      ],
      "execution_count": 270,
      "outputs": [
        {
          "output_type": "execute_result",
          "data": {
            "text/plain": [
              "(1, 'Negative')"
            ]
          },
          "metadata": {
            "tags": []
          },
          "execution_count": 270
        }
      ]
    },
    {
      "cell_type": "code",
      "metadata": {
        "id": "Z4_z6ibm5BSX",
        "colab_type": "code",
        "outputId": "8f0af8f7-9f41-4a46-b36c-d68be2ae86b0",
        "colab": {
          "base_uri": "https://localhost:8080/",
          "height": 34
        }
      },
      "source": [
        "predict_sentiment(model, \"google sucha brilliant way, sleek design\")"
      ],
      "execution_count": 271,
      "outputs": [
        {
          "output_type": "execute_result",
          "data": {
            "text/plain": [
              "(0, 'Positive')"
            ]
          },
          "metadata": {
            "tags": []
          },
          "execution_count": 271
        }
      ]
    },
    {
      "cell_type": "code",
      "metadata": {
        "id": "EH3GDbAh6VOK",
        "colab_type": "code",
        "outputId": "c8ac5923-1a6d-4c1a-fc94-4e331b983d34",
        "colab": {
          "base_uri": "https://localhost:8080/",
          "height": 34
        }
      },
      "source": [
        "TWEET_TEXT.vocab.itos[4712]"
      ],
      "execution_count": 274,
      "outputs": [
        {
          "output_type": "execute_result",
          "data": {
            "text/plain": [
              "'transferred'"
            ]
          },
          "metadata": {
            "tags": []
          },
          "execution_count": 274
        }
      ]
    },
    {
      "cell_type": "code",
      "metadata": {
        "id": "m4vym2IT6wOY",
        "colab_type": "code",
        "colab": {}
      },
      "source": [
        "torch.save(model.state_dict(), '78_percent.pt')"
      ],
      "execution_count": 0,
      "outputs": []
    },
    {
      "cell_type": "markdown",
      "metadata": {
        "id": "4vOyyl4HjVgI",
        "colab_type": "text"
      },
      "source": [
        "# Predicting the Company"
      ]
    },
    {
      "cell_type": "code",
      "metadata": {
        "id": "CXiuD1WAjYdT",
        "colab_type": "code",
        "outputId": "10a39d7e-46bf-4756-da62-c958fa257d1f",
        "colab": {
          "base_uri": "https://localhost:8080/",
          "height": 204
        }
      },
      "source": [
        "train_data_pd.head()"
      ],
      "execution_count": 276,
      "outputs": [
        {
          "output_type": "execute_result",
          "data": {
            "text/html": [
              "<div>\n",
              "<style scoped>\n",
              "    .dataframe tbody tr th:only-of-type {\n",
              "        vertical-align: middle;\n",
              "    }\n",
              "\n",
              "    .dataframe tbody tr th {\n",
              "        vertical-align: top;\n",
              "    }\n",
              "\n",
              "    .dataframe thead th {\n",
              "        text-align: right;\n",
              "    }\n",
              "</style>\n",
              "<table border=\"1\" class=\"dataframe\">\n",
              "  <thead>\n",
              "    <tr style=\"text-align: right;\">\n",
              "      <th></th>\n",
              "      <th>Topic</th>\n",
              "      <th>Sentiment</th>\n",
              "      <th>TweetDate</th>\n",
              "      <th>TweetText</th>\n",
              "    </tr>\n",
              "  </thead>\n",
              "  <tbody>\n",
              "    <tr>\n",
              "      <th>0</th>\n",
              "      <td>1</td>\n",
              "      <td>0</td>\n",
              "      <td>Tue Oct 18 21:53:25 +0000 2011</td>\n",
              "      <td>now all apple has to do is get swype on the ip...</td>\n",
              "    </tr>\n",
              "    <tr>\n",
              "      <th>1</th>\n",
              "      <td>1</td>\n",
              "      <td>0</td>\n",
              "      <td>Tue Oct 18 21:09:33 +0000 2011</td>\n",
              "      <td>apple will be adding more carrier support to t...</td>\n",
              "    </tr>\n",
              "    <tr>\n",
              "      <th>2</th>\n",
              "      <td>1</td>\n",
              "      <td>0</td>\n",
              "      <td>Tue Oct 18 21:02:20 +0000 2011</td>\n",
              "      <td>hilarious youtube video guy does a duet with a...</td>\n",
              "    </tr>\n",
              "    <tr>\n",
              "      <th>3</th>\n",
              "      <td>1</td>\n",
              "      <td>0</td>\n",
              "      <td>Tue Oct 18 20:40:10 +0000 2011</td>\n",
              "      <td>rim you made it too easy for me to switch to a...</td>\n",
              "    </tr>\n",
              "    <tr>\n",
              "      <th>4</th>\n",
              "      <td>1</td>\n",
              "      <td>0</td>\n",
              "      <td>Tue Oct 18 20:34:00 +0000 2011</td>\n",
              "      <td>i just realized that the reason i got into twi...</td>\n",
              "    </tr>\n",
              "  </tbody>\n",
              "</table>\n",
              "</div>"
            ],
            "text/plain": [
              "   Topic  ...                                          TweetText\n",
              "0      1  ...  now all apple has to do is get swype on the ip...\n",
              "1      1  ...  apple will be adding more carrier support to t...\n",
              "2      1  ...  hilarious youtube video guy does a duet with a...\n",
              "3      1  ...  rim you made it too easy for me to switch to a...\n",
              "4      1  ...  i just realized that the reason i got into twi...\n",
              "\n",
              "[5 rows x 4 columns]"
            ]
          },
          "metadata": {
            "tags": []
          },
          "execution_count": 276
        }
      ]
    },
    {
      "cell_type": "code",
      "metadata": {
        "id": "81GaBxWEjdYH",
        "colab_type": "code",
        "colab": {}
      },
      "source": [
        "vectorizer = CountVectorizer(max_features=MAX_VOCAB_SIZE, min_df=5, max_df=0.7)\n",
        "X_train = vectorizer.fit_transform(train_data_pd['TweetText']).toarray()\n",
        "X_test = vectorizer.transform(test_data_pd['TweetText']).toarray()"
      ],
      "execution_count": 0,
      "outputs": []
    },
    {
      "cell_type": "code",
      "metadata": {
        "id": "mn74ooLXt1a1",
        "colab_type": "code",
        "colab": {}
      },
      "source": [
        "tfidfconverter = TfidfTransformer()\n",
        "X_train = tfidfconverter.fit_transform(X_train).toarray()\n",
        "X_test = tfidfconverter.transform(X_test).toarray()"
      ],
      "execution_count": 0,
      "outputs": []
    },
    {
      "cell_type": "code",
      "metadata": {
        "id": "69mmGPRGuDrb",
        "colab_type": "code",
        "colab": {}
      },
      "source": [
        "y_train = np.array(train_data_pd['Topic'])\n",
        "y_test = np.array(test_data_pd['Topic'])"
      ],
      "execution_count": 0,
      "outputs": []
    },
    {
      "cell_type": "code",
      "metadata": {
        "id": "K9rfeghluL52",
        "colab_type": "code",
        "colab": {}
      },
      "source": [
        ""
      ],
      "execution_count": 0,
      "outputs": []
    },
    {
      "cell_type": "code",
      "metadata": {
        "id": "3L0xTqsSvLLY",
        "colab_type": "code",
        "colab": {}
      },
      "source": [
        "rfc = RandomForestClassifier(n_estimators=1000, random_state=SEED)\n",
        "rfc.fit(X_train, y_train)\n",
        "prediction_rfc = rfc.predict(X_test)"
      ],
      "execution_count": 0,
      "outputs": []
    },
    {
      "cell_type": "code",
      "metadata": {
        "id": "G-jjaqnS2ppr",
        "colab_type": "code",
        "outputId": "a93da30e-273e-46c2-e5f8-ff0c606b4d18",
        "colab": {
          "base_uri": "https://localhost:8080/",
          "height": 51
        }
      },
      "source": [
        "print(accuracy_score(prediction_rfc, y_test)*100)\n",
        "print(f1_score(prediction_rfc, y_test, average='macro'))"
      ],
      "execution_count": 281,
      "outputs": [
        {
          "output_type": "stream",
          "text": [
            "81.87134502923976\n",
            "0.8140346938028314\n"
          ],
          "name": "stdout"
        }
      ]
    },
    {
      "cell_type": "code",
      "metadata": {
        "id": "j7Uey_abwPtE",
        "colab_type": "code",
        "colab": {}
      },
      "source": [
        "def predict_company(tweet):\n",
        "    tweet = ''.join([i for i in tweet if i not in punctuation])\n",
        "    tweet = vectorizer.transform([tweet.lower()]).toarray()\n",
        "    tweet = tfidfconverter.transform(tweet).toarray()\n",
        "    prediction = rfc.predict(tweet)\n",
        "    reverse_company_dict = {1: 'apple',\n",
        "                            2: 'google',\n",
        "                            3: 'microsoft',\n",
        "                            4: 'twitter'}\n",
        "    \n",
        "    return reverse_company_dict[int(prediction)]"
      ],
      "execution_count": 0,
      "outputs": []
    },
    {
      "cell_type": "code",
      "metadata": {
        "id": "mCnAfY9j1Bhm",
        "colab_type": "code",
        "outputId": "fcf81611-fd00-49a8-8f53-1f277144b9e9",
        "colab": {
          "base_uri": "https://localhost:8080/",
          "height": 34
        }
      },
      "source": [
        "predict_company(\"RT @techinciter: Suppose Microsoft Had Bought Siri? \")"
      ],
      "execution_count": 283,
      "outputs": [
        {
          "output_type": "execute_result",
          "data": {
            "text/plain": [
              "'microsoft'"
            ]
          },
          "metadata": {
            "tags": []
          },
          "execution_count": 283
        }
      ]
    },
    {
      "cell_type": "code",
      "metadata": {
        "id": "DkD0b_Fw1OEl",
        "colab_type": "code",
        "colab": {}
      },
      "source": [
        ""
      ],
      "execution_count": 0,
      "outputs": []
    },
    {
      "cell_type": "markdown",
      "metadata": {
        "id": "H9qoGuhcQcax",
        "colab_type": "text"
      },
      "source": [
        "# Testing with a file"
      ]
    },
    {
      "cell_type": "markdown",
      "metadata": {
        "id": "QxuYQLJtTAu0",
        "colab_type": "text"
      },
      "source": [
        "## Getting Sentiment"
      ]
    },
    {
      "cell_type": "code",
      "metadata": {
        "id": "1G6Ypl0rQfng",
        "colab_type": "code",
        "colab": {
          "base_uri": "https://localhost:8080/",
          "height": 204
        },
        "outputId": "908a7d75-b9fa-4f91-c47e-22289df289dc"
      },
      "source": [
        "name_of_file = test_file\n",
        "test_frame = pd.read_csv(name_of_file)\n",
        "test_frame.head()"
      ],
      "execution_count": 293,
      "outputs": [
        {
          "output_type": "execute_result",
          "data": {
            "text/html": [
              "<div>\n",
              "<style scoped>\n",
              "    .dataframe tbody tr th:only-of-type {\n",
              "        vertical-align: middle;\n",
              "    }\n",
              "\n",
              "    .dataframe tbody tr th {\n",
              "        vertical-align: top;\n",
              "    }\n",
              "\n",
              "    .dataframe thead th {\n",
              "        text-align: right;\n",
              "    }\n",
              "</style>\n",
              "<table border=\"1\" class=\"dataframe\">\n",
              "  <thead>\n",
              "    <tr style=\"text-align: right;\">\n",
              "      <th></th>\n",
              "      <th>Topic</th>\n",
              "      <th>Sentiment</th>\n",
              "      <th>TweetDate</th>\n",
              "      <th>TweetText</th>\n",
              "    </tr>\n",
              "  </thead>\n",
              "  <tbody>\n",
              "    <tr>\n",
              "      <th>0</th>\n",
              "      <td>apple</td>\n",
              "      <td>positive</td>\n",
              "      <td>Tue Oct 18 18:36:46 +0000 2011</td>\n",
              "      <td>RT @JamaicanIdler: Lmao I think @apple is onto...</td>\n",
              "    </tr>\n",
              "    <tr>\n",
              "      <th>1</th>\n",
              "      <td>apple</td>\n",
              "      <td>positive</td>\n",
              "      <td>Mon Oct 17 14:36:34 +0000 2011</td>\n",
              "      <td>Bravo, @Apple! http://t.co/BgoTzj7K</td>\n",
              "    </tr>\n",
              "    <tr>\n",
              "      <th>2</th>\n",
              "      <td>apple</td>\n",
              "      <td>positive</td>\n",
              "      <td>Mon Oct 17 00:23:56 +0000 2011</td>\n",
              "      <td>Day305, I'm thankful for the great customer se...</td>\n",
              "    </tr>\n",
              "    <tr>\n",
              "      <th>3</th>\n",
              "      <td>apple</td>\n",
              "      <td>positive</td>\n",
              "      <td>Sun Oct 16 22:56:54 +0000 2011</td>\n",
              "      <td>i love this. so much. thank you @apple.  http:...</td>\n",
              "    </tr>\n",
              "    <tr>\n",
              "      <th>4</th>\n",
              "      <td>apple</td>\n",
              "      <td>positive</td>\n",
              "      <td>Sun Oct 16 16:25:47 +0000 2011</td>\n",
              "      <td>I &amp;lt;3 @apple http://t.co/ondXWpEr</td>\n",
              "    </tr>\n",
              "  </tbody>\n",
              "</table>\n",
              "</div>"
            ],
            "text/plain": [
              "   Topic  ...                                          TweetText\n",
              "0  apple  ...  RT @JamaicanIdler: Lmao I think @apple is onto...\n",
              "1  apple  ...                Bravo, @Apple! http://t.co/BgoTzj7K\n",
              "2  apple  ...  Day305, I'm thankful for the great customer se...\n",
              "3  apple  ...  i love this. so much. thank you @apple.  http:...\n",
              "4  apple  ...                I &lt;3 @apple http://t.co/ondXWpEr\n",
              "\n",
              "[5 rows x 4 columns]"
            ]
          },
          "metadata": {
            "tags": []
          },
          "execution_count": 293
        }
      ]
    },
    {
      "cell_type": "code",
      "metadata": {
        "id": "QUtMIhDZQ0TW",
        "colab_type": "code",
        "colab": {
          "base_uri": "https://localhost:8080/",
          "height": 204
        },
        "outputId": "5dbed535-0d35-4011-dad2-d924b335fcb7"
      },
      "source": [
        "test_frame = preprocessor.fit(test_frame)\n",
        "test_frame.head()"
      ],
      "execution_count": 294,
      "outputs": [
        {
          "output_type": "execute_result",
          "data": {
            "text/html": [
              "<div>\n",
              "<style scoped>\n",
              "    .dataframe tbody tr th:only-of-type {\n",
              "        vertical-align: middle;\n",
              "    }\n",
              "\n",
              "    .dataframe tbody tr th {\n",
              "        vertical-align: top;\n",
              "    }\n",
              "\n",
              "    .dataframe thead th {\n",
              "        text-align: right;\n",
              "    }\n",
              "</style>\n",
              "<table border=\"1\" class=\"dataframe\">\n",
              "  <thead>\n",
              "    <tr style=\"text-align: right;\">\n",
              "      <th></th>\n",
              "      <th>Topic</th>\n",
              "      <th>Sentiment</th>\n",
              "      <th>TweetDate</th>\n",
              "      <th>TweetText</th>\n",
              "    </tr>\n",
              "  </thead>\n",
              "  <tbody>\n",
              "    <tr>\n",
              "      <th>0</th>\n",
              "      <td>1</td>\n",
              "      <td>0</td>\n",
              "      <td>Tue Oct 18 18:36:46 +0000 2011</td>\n",
              "      <td>rt jamaicanidler lmao i think apple is onto so...</td>\n",
              "    </tr>\n",
              "    <tr>\n",
              "      <th>1</th>\n",
              "      <td>1</td>\n",
              "      <td>0</td>\n",
              "      <td>Mon Oct 17 14:36:34 +0000 2011</td>\n",
              "      <td>bravo apple URL</td>\n",
              "    </tr>\n",
              "    <tr>\n",
              "      <th>2</th>\n",
              "      <td>1</td>\n",
              "      <td>0</td>\n",
              "      <td>Mon Oct 17 00:23:56 +0000 2011</td>\n",
              "      <td>day305 im thankful for the great customer serv...</td>\n",
              "    </tr>\n",
              "    <tr>\n",
              "      <th>3</th>\n",
              "      <td>1</td>\n",
              "      <td>0</td>\n",
              "      <td>Sun Oct 16 22:56:54 +0000 2011</td>\n",
              "      <td>i love this so much thank you apple URL</td>\n",
              "    </tr>\n",
              "    <tr>\n",
              "      <th>4</th>\n",
              "      <td>1</td>\n",
              "      <td>0</td>\n",
              "      <td>Sun Oct 16 16:25:47 +0000 2011</td>\n",
              "      <td>i lt3 apple URL</td>\n",
              "    </tr>\n",
              "  </tbody>\n",
              "</table>\n",
              "</div>"
            ],
            "text/plain": [
              "   Topic  ...                                          TweetText\n",
              "0      1  ...  rt jamaicanidler lmao i think apple is onto so...\n",
              "1      1  ...                                    bravo apple URL\n",
              "2      1  ...  day305 im thankful for the great customer serv...\n",
              "3      1  ...            i love this so much thank you apple URL\n",
              "4      1  ...                                    i lt3 apple URL\n",
              "\n",
              "[5 rows x 4 columns]"
            ]
          },
          "metadata": {
            "tags": []
          },
          "execution_count": 294
        }
      ]
    },
    {
      "cell_type": "code",
      "metadata": {
        "id": "JyR9AP3NtdcI",
        "colab_type": "code",
        "colab": {}
      },
      "source": [
        "INPUT_TWEET_TEXT = data.Field(tokenize='spacy', include_lengths = True)\n",
        "INPUT_SENTIMENTAL_LABEL = data.LabelField(dtype=torch.long)"
      ],
      "execution_count": 0,
      "outputs": []
    },
    {
      "cell_type": "code",
      "metadata": {
        "id": "rHqVOYwa0n0o",
        "colab_type": "code",
        "colab": {}
      },
      "source": [
        "INPUT_TWEET_TEXT.build_vocab(sa_train_data.TweetText, max_size=MAX_VOCAB_SIZE)\n",
        "INPUT_SENTIMENTAL_LABEL.build_vocab(sa_train_data.Sentiment)"
      ],
      "execution_count": 0,
      "outputs": []
    },
    {
      "cell_type": "code",
      "metadata": {
        "id": "vyQtZlZAtdqJ",
        "colab_type": "code",
        "colab": {}
      },
      "source": [
        "input_data_field = [  ('TweetText', INPUT_TWEET_TEXT),  ('Sentiment', INPUT_SENTIMENTAL_LABEL)]\n",
        "\n",
        "input_data = data.TabularDataset(path='./Test.csv',\n",
        "                            format = 'csv',\n",
        "                            fields = input_data_field,\n",
        "                            skip_header = True)"
      ],
      "execution_count": 0,
      "outputs": []
    },
    {
      "cell_type": "code",
      "metadata": {
        "id": "VCIfC4TrwF4e",
        "colab_type": "code",
        "colab": {}
      },
      "source": [
        "input_data_iterator = data.BucketIterator(input_data,\n",
        "                                          batch_size=BATCH_SIZE,\n",
        "                                          sort_key=lambda x: len(x.TweetText),\n",
        "                                          sort_within_batch=True,\n",
        "                                          device=device)"
      ],
      "execution_count": 0,
      "outputs": []
    },
    {
      "cell_type": "code",
      "metadata": {
        "id": "uHB-7Przxi1u",
        "colab_type": "code",
        "colab": {
          "base_uri": "https://localhost:8080/",
          "height": 68
        },
        "outputId": "cba1bae5-2ee8-4495-91df-28c49b31e586"
      },
      "source": [
        "input_loss, input_acc, input_f_score = evaluate(model, input_data_iterator, criterion)\n",
        "\n",
        "print(f'Input Loss: {input_loss:.3f} | Input Acc: {input_acc*100:.2f}%, Input F-fscore: {input_f_score:.4f}')"
      ],
      "execution_count": 325,
      "outputs": [
        {
          "output_type": "stream",
          "text": [
            "Input Loss: 0.810 | Input Acc: 77.70%, Input F-fscore: 0.6805\n"
          ],
          "name": "stdout"
        },
        {
          "output_type": "stream",
          "text": [
            "/usr/local/lib/python3.6/dist-packages/sklearn/metrics/classification.py:1437: UndefinedMetricWarning: F-score is ill-defined and being set to 0.0 in labels with no predicted samples.\n",
            "  'precision', 'predicted', average, warn_for)\n"
          ],
          "name": "stderr"
        }
      ]
    },
    {
      "cell_type": "markdown",
      "metadata": {
        "id": "tGNHhdmvS6fW",
        "colab_type": "text"
      },
      "source": [
        "## Getting Company Information"
      ]
    },
    {
      "cell_type": "code",
      "metadata": {
        "id": "sWSkbr3bQ6kz",
        "colab_type": "code",
        "colab": {
          "base_uri": "https://localhost:8080/",
          "height": 51
        },
        "outputId": "c17d9d63-1185-42a3-ba45-9a62b94564f5"
      },
      "source": [
        "test_data_x = vectorizer.transform(test_frame['TweetText']).toarray()\n",
        "test_data_x = tfidfconverter.transform(test_data_x).toarray()\n",
        "test_data_y = test_frame['Topic']\n",
        "prediction_test_data = rfc.predict(X_test)\n",
        "\n",
        "print(accuracy_score(prediction_test_data, test_data_y)*100)\n",
        "print(f1_score(prediction_test_data, test_data_y, average='macro'))"
      ],
      "execution_count": 50,
      "outputs": [
        {
          "output_type": "stream",
          "text": [
            "82.45614035087719\n",
            "0.8192035152581152\n"
          ],
          "name": "stdout"
        }
      ]
    }
  ]
}