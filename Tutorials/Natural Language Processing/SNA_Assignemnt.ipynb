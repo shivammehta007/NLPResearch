{
  "nbformat": 4,
  "nbformat_minor": 0,
  "metadata": {
    "colab": {
      "name": "SNA_Assignemnt.ipynb",
      "provenance": [],
      "collapsed_sections": []
    },
    "kernelspec": {
      "name": "python3",
      "display_name": "Python 3"
    },
    "accelerator": "GPU"
  },
  "cells": [
    {
      "cell_type": "code",
      "metadata": {
        "id": "57Tw_B6KncpD",
        "colab_type": "code",
        "colab": {}
      },
      "source": [
        "import torch\n",
        "import torch.nn.functional as F\n",
        "import torch.optim as optim\n",
        "import torch.nn as nn\n",
        "import numpy as np\n",
        "import pandas as pd\n",
        "from torchtext import data\n",
        "import random\n",
        "import os\n",
        "from string import punctuation\n",
        "import spacy\n",
        "from sklearn.metrics import accuracy_score, f1_score, classification_report"
      ],
      "execution_count": 0,
      "outputs": []
    },
    {
      "cell_type": "code",
      "metadata": {
        "id": "3K9c6TV_nqL5",
        "colab_type": "code",
        "colab": {}
      },
      "source": [
        "# Setting up custom random seeds,\n",
        "SEED = 1234\n",
        "torch.manual_seed(SEED)\n",
        "torch.cuda.manual_seed(SEED)\n",
        "np.random.seed(SEED)\n",
        "torch.backends.cudnn.deterministic = True\n",
        "random.seed(SEED)"
      ],
      "execution_count": 0,
      "outputs": []
    },
    {
      "cell_type": "code",
      "metadata": {
        "id": "aANq27LCpqJZ",
        "colab_type": "code",
        "outputId": "fb63bfd7-aecc-4be3-d64b-8e6f2d49cba5",
        "colab": {
          "base_uri": "https://localhost:8080/",
          "height": 34
        }
      },
      "source": [
        "# Mounting Google Drive\n",
        "from google.colab import drive\n",
        "drive.mount('/content/gdrive')"
      ],
      "execution_count": 3,
      "outputs": [
        {
          "output_type": "stream",
          "text": [
            "Drive already mounted at /content/gdrive; to attempt to forcibly remount, call drive.mount(\"/content/gdrive\", force_remount=True).\n"
          ],
          "name": "stdout"
        }
      ]
    },
    {
      "cell_type": "code",
      "metadata": {
        "id": "gdSY5X2SsrvF",
        "colab_type": "code",
        "outputId": "0a926254-e931-4c10-f779-109d949db56d",
        "colab": {
          "base_uri": "https://localhost:8080/",
          "height": 34
        }
      },
      "source": [
        "device = torch.device('cuda' if torch.cuda.is_available() else 'cpu')\n",
        "device"
      ],
      "execution_count": 4,
      "outputs": [
        {
          "output_type": "execute_result",
          "data": {
            "text/plain": [
              "device(type='cuda')"
            ]
          },
          "metadata": {
            "tags": []
          },
          "execution_count": 4
        }
      ]
    },
    {
      "cell_type": "code",
      "metadata": {
        "id": "pqU1NatosMLB",
        "colab_type": "code",
        "colab": {}
      },
      "source": [
        "data_location = 'gdrive/My Drive/Colab Notebooks/SNA Lab'\n",
        "train_file = os.path.join(data_location, 'Train.csv')\n",
        "test_file = os.path.join(data_location, 'Test.csv')\n",
        "train_data_pd = pd.read_csv(train_file)\n",
        "test_data_pd = pd.read_csv(test_file)"
      ],
      "execution_count": 0,
      "outputs": []
    },
    {
      "cell_type": "code",
      "metadata": {
        "id": "_yK8F5cZsbn2",
        "colab_type": "code",
        "outputId": "c752582e-e3ca-4cb4-bc90-42ae460c2281",
        "colab": {
          "base_uri": "https://localhost:8080/",
          "height": 204
        }
      },
      "source": [
        "train_data_pd.head()"
      ],
      "execution_count": 6,
      "outputs": [
        {
          "output_type": "execute_result",
          "data": {
            "text/html": [
              "<div>\n",
              "<style scoped>\n",
              "    .dataframe tbody tr th:only-of-type {\n",
              "        vertical-align: middle;\n",
              "    }\n",
              "\n",
              "    .dataframe tbody tr th {\n",
              "        vertical-align: top;\n",
              "    }\n",
              "\n",
              "    .dataframe thead th {\n",
              "        text-align: right;\n",
              "    }\n",
              "</style>\n",
              "<table border=\"1\" class=\"dataframe\">\n",
              "  <thead>\n",
              "    <tr style=\"text-align: right;\">\n",
              "      <th></th>\n",
              "      <th>Topic</th>\n",
              "      <th>Sentiment</th>\n",
              "      <th>TweetDate</th>\n",
              "      <th>TweetText</th>\n",
              "    </tr>\n",
              "  </thead>\n",
              "  <tbody>\n",
              "    <tr>\n",
              "      <th>0</th>\n",
              "      <td>apple</td>\n",
              "      <td>positive</td>\n",
              "      <td>Tue Oct 18 21:53:25 +0000 2011</td>\n",
              "      <td>Now all @Apple has to do is get swype on the i...</td>\n",
              "    </tr>\n",
              "    <tr>\n",
              "      <th>1</th>\n",
              "      <td>apple</td>\n",
              "      <td>positive</td>\n",
              "      <td>Tue Oct 18 21:09:33 +0000 2011</td>\n",
              "      <td>@Apple will be adding more carrier support to ...</td>\n",
              "    </tr>\n",
              "    <tr>\n",
              "      <th>2</th>\n",
              "      <td>apple</td>\n",
              "      <td>positive</td>\n",
              "      <td>Tue Oct 18 21:02:20 +0000 2011</td>\n",
              "      <td>Hilarious @youtube video - guy does a duet wit...</td>\n",
              "    </tr>\n",
              "    <tr>\n",
              "      <th>3</th>\n",
              "      <td>apple</td>\n",
              "      <td>positive</td>\n",
              "      <td>Tue Oct 18 20:40:10 +0000 2011</td>\n",
              "      <td>@RIM you made it too easy for me to switch to ...</td>\n",
              "    </tr>\n",
              "    <tr>\n",
              "      <th>4</th>\n",
              "      <td>apple</td>\n",
              "      <td>positive</td>\n",
              "      <td>Tue Oct 18 20:34:00 +0000 2011</td>\n",
              "      <td>I just realized that the reason I got into twi...</td>\n",
              "    </tr>\n",
              "  </tbody>\n",
              "</table>\n",
              "</div>"
            ],
            "text/plain": [
              "   Topic  ...                                          TweetText\n",
              "0  apple  ...  Now all @Apple has to do is get swype on the i...\n",
              "1  apple  ...  @Apple will be adding more carrier support to ...\n",
              "2  apple  ...  Hilarious @youtube video - guy does a duet wit...\n",
              "3  apple  ...  @RIM you made it too easy for me to switch to ...\n",
              "4  apple  ...  I just realized that the reason I got into twi...\n",
              "\n",
              "[5 rows x 4 columns]"
            ]
          },
          "metadata": {
            "tags": []
          },
          "execution_count": 6
        }
      ]
    },
    {
      "cell_type": "code",
      "metadata": {
        "id": "UgTivwJRuElv",
        "colab_type": "code",
        "outputId": "9006a41b-f1a9-4b48-f069-aeaa9233232e",
        "colab": {
          "base_uri": "https://localhost:8080/",
          "height": 34
        }
      },
      "source": [
        "train_data_pd['Sentiment'].unique()"
      ],
      "execution_count": 7,
      "outputs": [
        {
          "output_type": "execute_result",
          "data": {
            "text/plain": [
              "array(['positive', 'negative', 'neutral', 'irrelevant'], dtype=object)"
            ]
          },
          "metadata": {
            "tags": []
          },
          "execution_count": 7
        }
      ]
    },
    {
      "cell_type": "code",
      "metadata": {
        "id": "SN5XqAGcB6Dy",
        "colab_type": "code",
        "outputId": "a0ed7e1e-b8b8-46f0-fd67-fbe6818d460a",
        "colab": {
          "base_uri": "https://localhost:8080/",
          "height": 34
        }
      },
      "source": [
        "punc = punctuation.replace('@', '') \n",
        "punc"
      ],
      "execution_count": 8,
      "outputs": [
        {
          "output_type": "execute_result",
          "data": {
            "text/plain": [
              "'!\"#$%&\\'()*+,-./:;<=>?[\\\\]^_`{|}~'"
            ]
          },
          "metadata": {
            "tags": []
          },
          "execution_count": 8
        }
      ]
    },
    {
      "cell_type": "code",
      "metadata": {
        "id": "x9IG9mlHt5q3",
        "colab_type": "code",
        "outputId": "541b45b7-aa95-4007-be7e-86de8cc68890",
        "colab": {
          "base_uri": "https://localhost:8080/",
          "height": 204
        }
      },
      "source": [
        "# Change sentiments and Topics to numbers \n",
        "company_dict = {'apple' : 1,\n",
        "             'google' : 2,\n",
        "             'microsoft': 3,\n",
        "             'twitter': 4 }\n",
        "sentiment_dict = {'positive' : 0,\n",
        "                 'negative' : 1,\n",
        "                 'neutral' : 2,\n",
        "                 'irrelevant' : 9}\n",
        "\n",
        "\n",
        "\n",
        "\n",
        "def pre_process(dataframe):\n",
        "    dataframe['Topic'] = dataframe['Topic'].replace(company_dict)\n",
        "    dataframe['Sentiment'] = dataframe['Sentiment'].replace(sentiment_dict)\n",
        "\n",
        "    dataframe['TweetText'] = dataframe['TweetText'].apply(lambda x: x.lower())\n",
        "    dataframe['TweetText'] = dataframe['TweetText'].apply(lambda x:''.join([i for i in x \n",
        "                                                  if i not in punc]))\n",
        "\n",
        "\n",
        "    return dataframe\n",
        "\n",
        "\n",
        "train_data_pd = pre_process(train_data_pd)\n",
        "test_data_pd = pre_process(test_data_pd)\n",
        "\n",
        "train_data_pd.head()"
      ],
      "execution_count": 9,
      "outputs": [
        {
          "output_type": "execute_result",
          "data": {
            "text/html": [
              "<div>\n",
              "<style scoped>\n",
              "    .dataframe tbody tr th:only-of-type {\n",
              "        vertical-align: middle;\n",
              "    }\n",
              "\n",
              "    .dataframe tbody tr th {\n",
              "        vertical-align: top;\n",
              "    }\n",
              "\n",
              "    .dataframe thead th {\n",
              "        text-align: right;\n",
              "    }\n",
              "</style>\n",
              "<table border=\"1\" class=\"dataframe\">\n",
              "  <thead>\n",
              "    <tr style=\"text-align: right;\">\n",
              "      <th></th>\n",
              "      <th>Topic</th>\n",
              "      <th>Sentiment</th>\n",
              "      <th>TweetDate</th>\n",
              "      <th>TweetText</th>\n",
              "    </tr>\n",
              "  </thead>\n",
              "  <tbody>\n",
              "    <tr>\n",
              "      <th>0</th>\n",
              "      <td>1</td>\n",
              "      <td>0</td>\n",
              "      <td>Tue Oct 18 21:53:25 +0000 2011</td>\n",
              "      <td>now all @apple has to do is get swype on the i...</td>\n",
              "    </tr>\n",
              "    <tr>\n",
              "      <th>1</th>\n",
              "      <td>1</td>\n",
              "      <td>0</td>\n",
              "      <td>Tue Oct 18 21:09:33 +0000 2011</td>\n",
              "      <td>@apple will be adding more carrier support to ...</td>\n",
              "    </tr>\n",
              "    <tr>\n",
              "      <th>2</th>\n",
              "      <td>1</td>\n",
              "      <td>0</td>\n",
              "      <td>Tue Oct 18 21:02:20 +0000 2011</td>\n",
              "      <td>hilarious @youtube video  guy does a duet with...</td>\n",
              "    </tr>\n",
              "    <tr>\n",
              "      <th>3</th>\n",
              "      <td>1</td>\n",
              "      <td>0</td>\n",
              "      <td>Tue Oct 18 20:40:10 +0000 2011</td>\n",
              "      <td>@rim you made it too easy for me to switch to ...</td>\n",
              "    </tr>\n",
              "    <tr>\n",
              "      <th>4</th>\n",
              "      <td>1</td>\n",
              "      <td>0</td>\n",
              "      <td>Tue Oct 18 20:34:00 +0000 2011</td>\n",
              "      <td>i just realized that the reason i got into twi...</td>\n",
              "    </tr>\n",
              "  </tbody>\n",
              "</table>\n",
              "</div>"
            ],
            "text/plain": [
              "   Topic  ...                                          TweetText\n",
              "0      1  ...  now all @apple has to do is get swype on the i...\n",
              "1      1  ...  @apple will be adding more carrier support to ...\n",
              "2      1  ...  hilarious @youtube video  guy does a duet with...\n",
              "3      1  ...  @rim you made it too easy for me to switch to ...\n",
              "4      1  ...  i just realized that the reason i got into twi...\n",
              "\n",
              "[5 rows x 4 columns]"
            ]
          },
          "metadata": {
            "tags": []
          },
          "execution_count": 9
        }
      ]
    },
    {
      "cell_type": "code",
      "metadata": {
        "id": "EKmJIv0Vz3e0",
        "colab_type": "code",
        "outputId": "89f4216d-0db3-467b-e361-89246b717dc2",
        "colab": {
          "base_uri": "https://localhost:8080/",
          "height": 204
        }
      },
      "source": [
        "train_data_pd['TweetText'][20:30]"
      ],
      "execution_count": 10,
      "outputs": [
        {
          "output_type": "execute_result",
          "data": {
            "text/plain": [
              "20    ipads replace bound playbooks on some nfl team...\n",
              "21                                      @applegood ipad\n",
              "22                      @apple @siri is efffing amazing\n",
              "23    amazing new @apple ios 5 feature  httptcojatfvfpm\n",
              "24    were one of a few featured education apps on t...\n",
              "25    when you want something done right you do it y...\n",
              "26               we did an unexpected workshop for the \n",
              "27                                                 lt3 \n",
              "28    » rt @apple no question bro rt @ainteeentrippi...\n",
              "29    rt @imightbewrong im over people bitching abou...\n",
              "Name: TweetText, dtype: object"
            ]
          },
          "metadata": {
            "tags": []
          },
          "execution_count": 10
        }
      ]
    },
    {
      "cell_type": "code",
      "metadata": {
        "id": "AjWFpqtkpUgV",
        "colab_type": "code",
        "colab": {}
      },
      "source": [
        "TWEET_TEXT = data.Field(tokenize='spacy', include_lengths = True)\n",
        "TWEET_COMPANY = data.LabelField(dtype=torch.long)\n",
        "SENTIMENT_LABEL = data.LabelField(dtype=torch.long)"
      ],
      "execution_count": 0,
      "outputs": []
    },
    {
      "cell_type": "markdown",
      "metadata": {
        "id": "QuJfxWoIO9EC",
        "colab_type": "text"
      },
      "source": [
        "# For Sentimental Analysis"
      ]
    },
    {
      "cell_type": "code",
      "metadata": {
        "id": "A0HxgvNNJqv6",
        "colab_type": "code",
        "colab": {}
      },
      "source": [
        "sa_train_data_pd = train_data_pd[train_data_pd['Sentiment'] != 9].loc[:, ['TweetText', 'Sentiment']]\n",
        "sa_test_data_pd = test_data_pd[test_data_pd['Sentiment'] != 9].loc[:, ['TweetText', 'Sentiment']]"
      ],
      "execution_count": 0,
      "outputs": []
    },
    {
      "cell_type": "code",
      "metadata": {
        "id": "Jz8YKH_4M-s3",
        "colab_type": "code",
        "outputId": "25dbd496-3ada-4c92-82bc-c89211b2463a",
        "colab": {
          "base_uri": "https://localhost:8080/",
          "height": 204
        }
      },
      "source": [
        "sa_train_data_pd.head()"
      ],
      "execution_count": 104,
      "outputs": [
        {
          "output_type": "execute_result",
          "data": {
            "text/html": [
              "<div>\n",
              "<style scoped>\n",
              "    .dataframe tbody tr th:only-of-type {\n",
              "        vertical-align: middle;\n",
              "    }\n",
              "\n",
              "    .dataframe tbody tr th {\n",
              "        vertical-align: top;\n",
              "    }\n",
              "\n",
              "    .dataframe thead th {\n",
              "        text-align: right;\n",
              "    }\n",
              "</style>\n",
              "<table border=\"1\" class=\"dataframe\">\n",
              "  <thead>\n",
              "    <tr style=\"text-align: right;\">\n",
              "      <th></th>\n",
              "      <th>TweetText</th>\n",
              "      <th>Sentiment</th>\n",
              "    </tr>\n",
              "  </thead>\n",
              "  <tbody>\n",
              "    <tr>\n",
              "      <th>0</th>\n",
              "      <td>now all @apple has to do is get swype on the i...</td>\n",
              "      <td>0</td>\n",
              "    </tr>\n",
              "    <tr>\n",
              "      <th>1</th>\n",
              "      <td>@apple will be adding more carrier support to ...</td>\n",
              "      <td>0</td>\n",
              "    </tr>\n",
              "    <tr>\n",
              "      <th>2</th>\n",
              "      <td>hilarious @youtube video  guy does a duet with...</td>\n",
              "      <td>0</td>\n",
              "    </tr>\n",
              "    <tr>\n",
              "      <th>3</th>\n",
              "      <td>@rim you made it too easy for me to switch to ...</td>\n",
              "      <td>0</td>\n",
              "    </tr>\n",
              "    <tr>\n",
              "      <th>4</th>\n",
              "      <td>i just realized that the reason i got into twi...</td>\n",
              "      <td>0</td>\n",
              "    </tr>\n",
              "  </tbody>\n",
              "</table>\n",
              "</div>"
            ],
            "text/plain": [
              "                                           TweetText  Sentiment\n",
              "0  now all @apple has to do is get swype on the i...          0\n",
              "1  @apple will be adding more carrier support to ...          0\n",
              "2  hilarious @youtube video  guy does a duet with...          0\n",
              "3  @rim you made it too easy for me to switch to ...          0\n",
              "4  i just realized that the reason i got into twi...          0"
            ]
          },
          "metadata": {
            "tags": []
          },
          "execution_count": 104
        }
      ]
    },
    {
      "cell_type": "code",
      "metadata": {
        "id": "4S997MSaxiJz",
        "colab_type": "code",
        "colab": {}
      },
      "source": [
        "sa_train_data_pd.to_csv('Train_sa.csv', index=False)\n",
        "sa_test_data_pd.to_csv('Test_sa.csv', index=False)"
      ],
      "execution_count": 0,
      "outputs": []
    },
    {
      "cell_type": "code",
      "metadata": {
        "id": "TNiTG1SIv8VZ",
        "colab_type": "code",
        "colab": {}
      },
      "source": [
        "sa_data_fields = [  ('TweetText', TWEET_TEXT),  ('Sentiment', SENTIMENT_LABEL)]\n",
        "\n",
        "sa_train_data, sa_test_data = data.TabularDataset.splits(\n",
        "                                        path = '.',\n",
        "                                        train = 'Train_sa.csv',\n",
        "                                        test = 'Test_sa.csv',\n",
        "                                        format = 'csv',\n",
        "                                        fields = sa_data_fields,\n",
        "                                        skip_header = True\n",
        "                                        )"
      ],
      "execution_count": 0,
      "outputs": []
    },
    {
      "cell_type": "code",
      "metadata": {
        "id": "NOg1G_0qzBBo",
        "colab_type": "code",
        "colab": {}
      },
      "source": [
        "MAX_VOCAB_SIZE = 25000\n",
        "TWEET_TEXT.build_vocab(sa_train_data.TweetText, max_size=MAX_VOCAB_SIZE)\n",
        "                       #vectors='glove.twitter.27B.100d',\n",
        "                       #unk_init=torch.Tensor.normal_)\n",
        "SENTIMENT_LABEL.build_vocab(sa_train_data.Sentiment)"
      ],
      "execution_count": 0,
      "outputs": []
    },
    {
      "cell_type": "code",
      "metadata": {
        "id": "13Erj2kBAhg_",
        "colab_type": "code",
        "outputId": "308ddeb4-47cf-4246-d45e-c82c6c784f62",
        "colab": {
          "base_uri": "https://localhost:8080/",
          "height": 187
        }
      },
      "source": [
        "TWEET_TEXT.vocab.freqs.most_common(10)"
      ],
      "execution_count": 17,
      "outputs": [
        {
          "output_type": "execute_result",
          "data": {
            "text/plain": [
              "[('@apple', 771),\n",
              " ('the', 707),\n",
              " (' ', 592),\n",
              " ('to', 586),\n",
              " ('i', 516),\n",
              " ('a', 344),\n",
              " ('on', 340),\n",
              " ('rt', 333),\n",
              " ('is', 326),\n",
              " ('for', 325)]"
            ]
          },
          "metadata": {
            "tags": []
          },
          "execution_count": 17
        }
      ]
    },
    {
      "cell_type": "code",
      "metadata": {
        "id": "OlJgc8V7O4Cm",
        "colab_type": "code",
        "colab": {}
      },
      "source": [
        "# Create Iterator\n",
        "\n",
        "BATCH_SIZE = 64\n",
        "\n",
        "train_iterator_sa, test_iterator_sa = data.BucketIterator.splits(\n",
        "    (sa_train_data, sa_test_data),\n",
        "    batch_size=BATCH_SIZE,\n",
        "    sort_key=lambda x: len(x.TweetText),\n",
        "    sort_within_batch=True,\n",
        "    device=device\n",
        ")"
      ],
      "execution_count": 0,
      "outputs": []
    },
    {
      "cell_type": "markdown",
      "metadata": {
        "id": "Tib51cpcOvKk",
        "colab_type": "text"
      },
      "source": [
        "# Defining the Model"
      ]
    },
    {
      "cell_type": "code",
      "metadata": {
        "id": "5uRxt_UlO0aO",
        "colab_type": "code",
        "colab": {}
      },
      "source": [
        "class RNN(nn.Module):\n",
        "\n",
        "    def __init__(self, vocab_size, embedded_dimensions, hidden_dimension,\n",
        "                 output_dimension, n_layers, bidirectional, dropout, pad_index):\n",
        "        super(RNN, self).__init__()\n",
        "\n",
        "        self.embedded = nn.Embedding(vocab_size, embedded_dimensions, padding_idx=pad_index)\n",
        "        self.lstm = nn.LSTM(embedded_dimensions,\n",
        "                            hidden_dimension,\n",
        "                            num_layers=n_layers,\n",
        "                            bidirectional=bidirectional,\n",
        "                            dropout=dropout)\n",
        "        self.linear1 = nn.Linear(hidden_dimension * 2, output_dimension)\n",
        "        self.dropout = nn.Dropout(dropout)\n",
        "    \n",
        "    def forward(self, text, text_length):\n",
        "        \n",
        "        embedded = self.embedded(text)\n",
        "        packed_sequence = nn.utils.rnn.pack_padded_sequence(embedded, text_length)\n",
        "\n",
        "        packed_output, (hidden, output) = self.lstm(packed_sequence)\n",
        "\n",
        "        output, output_length = nn.utils.rnn.pad_packed_sequence(packed_output)\n",
        "\n",
        "        hidden = self.dropout(torch.cat((hidden[-2, :, :], hidden[-1, :, :]), dim = 1))\n",
        "        fc1 = self.dropout(self.linear1(hidden.squeeze(0)))\n",
        "        return fc1\n",
        "\n"
      ],
      "execution_count": 0,
      "outputs": []
    },
    {
      "cell_type": "markdown",
      "metadata": {
        "id": "X3Y0_ja-vlAn",
        "colab_type": "text"
      },
      "source": [
        "# Part: 1 Training Sentimental Analyser"
      ]
    },
    {
      "cell_type": "code",
      "metadata": {
        "id": "BuF5LrjvHJuZ",
        "colab_type": "code",
        "colab": {}
      },
      "source": [
        "# HyperParamters \n",
        "\n",
        "VOCAB_SIZE = len(TWEET_TEXT.vocab)\n",
        "EMBEDDING_DIMENSIONS = 100\n",
        "HIDDEN_DIMENSIONS = 256\n",
        "OUTPUT_DIMENSIONS = 3\n",
        "N_LAYERS = 2\n",
        "BIDIRECTIONAL = True\n",
        "DROPOUT = 0.7\n",
        "PAD_IDX = TWEET_TEXT.vocab.stoi[TWEET_TEXT.pad_token]\n",
        "\n",
        "\n",
        "model = RNN(VOCAB_SIZE, EMBEDDING_DIMENSIONS, HIDDEN_DIMENSIONS,  OUTPUT_DIMENSIONS\n",
        "            , N_LAYERS, BIDIRECTIONAL,DROPOUT, PAD_IDX)"
      ],
      "execution_count": 0,
      "outputs": []
    },
    {
      "cell_type": "code",
      "metadata": {
        "id": "xPnKjjpYMYc4",
        "colab_type": "code",
        "outputId": "796fdfb7-9276-437f-8975-d14802359947",
        "colab": {
          "base_uri": "https://localhost:8080/",
          "height": 34
        }
      },
      "source": [
        "# Parameter count : \n",
        "total_parameters = sum(l.numel() for l in model.parameters() if l.requires_grad)\n",
        "print('Total Paramters : {:,}'.format(total_parameters))"
      ],
      "execution_count": 21,
      "outputs": [
        {
          "output_type": "stream",
          "text": [
            "Total Paramters : 2,869,883\n"
          ],
          "name": "stdout"
        }
      ]
    },
    {
      "cell_type": "code",
      "metadata": {
        "id": "AEfMgq3UOvXH",
        "colab_type": "code",
        "colab": {}
      },
      "source": [
        "# # Update initial weight of embedding Layers\n",
        "# pretrained_embeddings = TWEET_TEXT.vocab.vectors\n",
        "# print(pretrained_embeddings)\n",
        "# # model.embedded.weight.data.copy_(pretrained_embeddings)"
      ],
      "execution_count": 0,
      "outputs": []
    },
    {
      "cell_type": "code",
      "metadata": {
        "id": "vRM7IS83RzQR",
        "colab_type": "code",
        "outputId": "852263cd-29ca-44aa-d13e-66a7a2cad442",
        "colab": {
          "base_uri": "https://localhost:8080/",
          "height": 136
        }
      },
      "source": [
        "# Setting Padding indexes to zero to not to determine sentiment\n",
        "model.embedded.weight.data[PAD_IDX] = torch.zeros(EMBEDDING_DIMENSIONS)\n",
        "print(model.embedded.weight.data)\n"
      ],
      "execution_count": 23,
      "outputs": [
        {
          "output_type": "stream",
          "text": [
            "tensor([[-0.1117, -0.4966,  0.1631,  ...,  1.5903, -0.1947, -0.2415],\n",
            "        [ 0.0000,  0.0000,  0.0000,  ...,  0.0000,  0.0000,  0.0000],\n",
            "        [ 0.7289, -0.7336,  1.5624,  ..., -0.5592, -0.4480, -0.6476],\n",
            "        ...,\n",
            "        [-1.2337,  0.5082,  1.6095,  ..., -0.2820,  0.7624,  0.0363],\n",
            "        [ 1.3951, -0.1898,  1.2610,  ..., -1.4310,  0.4310,  0.4169],\n",
            "        [-1.4680,  1.7992,  0.4500,  ..., -1.1899,  1.0843, -1.6378]])\n"
          ],
          "name": "stdout"
        }
      ]
    },
    {
      "cell_type": "markdown",
      "metadata": {
        "id": "QvJ6LYEWSjY3",
        "colab_type": "text"
      },
      "source": [
        "## Training the model"
      ]
    },
    {
      "cell_type": "code",
      "metadata": {
        "id": "En6yWULOSTUs",
        "colab_type": "code",
        "colab": {}
      },
      "source": [
        "optimizer = optim.Adam(model.parameters())\n",
        "criterion = nn.CrossEntropyLoss()\n",
        "model = model.to(device)\n",
        "criterion = criterion.to(device)"
      ],
      "execution_count": 0,
      "outputs": []
    },
    {
      "cell_type": "code",
      "metadata": {
        "id": "Qh_WQmGqceCG",
        "colab_type": "code",
        "colab": {}
      },
      "source": [
        "# value, index = torch.max(torch.softmax(torch.Tensor([1,2,3,4]), dim=0), 0)\n",
        "# index.item()"
      ],
      "execution_count": 0,
      "outputs": []
    },
    {
      "cell_type": "code",
      "metadata": {
        "id": "ZCFckk3rX6nH",
        "colab_type": "code",
        "colab": {}
      },
      "source": [
        "def classification_accuracy(predictions, label):\n",
        "    # rounded_preds = torch.round(torch.tanh(predictions))\n",
        "    # correct = (rounded_preds == label).float() #convert into float for division \n",
        "    # acc = correct.sum() / len(correct)\n",
        "    # return acc\n",
        "\n",
        "    value, index = torch.max(torch.softmax(predictions,1), 1)\n",
        "\n",
        "    correct = (index == label).float()\n",
        "    acc =   correct.sum() / len(correct)\n",
        "    return acc"
      ],
      "execution_count": 0,
      "outputs": []
    },
    {
      "cell_type": "code",
      "metadata": {
        "id": "bHHuobL_TPmc",
        "colab_type": "code",
        "colab": {}
      },
      "source": [
        "def train(model, iterator, optimizer, criterion):\n",
        "    epoch_loss = 0\n",
        "    epoch_accuracy = 0\n",
        "\n",
        "    model.train()\n",
        "\n",
        "    for batch in iterator:\n",
        "\n",
        "        optimizer.zero_grad()\n",
        "        text, text_length = batch.TweetText\n",
        "        predictions = model(text, text_length).squeeze(1)\n",
        "        loss = criterion(predictions, batch.Sentiment)\n",
        "        acc = classification_accuracy(predictions, batch.Sentiment)\n",
        "        loss.backward()\n",
        "        optimizer.step()\n",
        "        epoch_loss += loss.item()\n",
        "        epoch_accuracy += acc.item()\n",
        "\n",
        "    return epoch_loss / len(iterator), epoch_accuracy / len(iterator)\n",
        "\n",
        "\n",
        "\n",
        "\n"
      ],
      "execution_count": 0,
      "outputs": []
    },
    {
      "cell_type": "code",
      "metadata": {
        "id": "RZYU78yQx2_c",
        "colab_type": "code",
        "colab": {}
      },
      "source": [
        "def evaluate(model, iterator, criterion):\n",
        "    epoch_loss = 0\n",
        "    epoch_accuracy = 0\n",
        "    model.eval()\n",
        "    f_score = 0\n",
        "    with torch.no_grad():\n",
        "        for batch in iterator:\n",
        "            text, text_length = batch.TweetText\n",
        "            predictions = model(text, text_length).squeeze(1)\n",
        "            # print(predictions, batch.Sentiment)\n",
        "            loss = criterion(predictions, batch.Sentiment)\n",
        "            acc = classification_accuracy(predictions, batch.Sentiment)\n",
        "            f_score += f1_score(np.argmax(predictions.cpu().numpy(), axis=1), batch.Sentiment.cpu().numpy(),average='weighted' )\n",
        "            epoch_loss += loss.item()\n",
        "            epoch_accuracy += acc.item()\n",
        "    \n",
        "    return epoch_loss / len(iterator), epoch_accuracy / len(iterator), f_score/ len(iterator)"
      ],
      "execution_count": 0,
      "outputs": []
    },
    {
      "cell_type": "code",
      "metadata": {
        "id": "JWCIS-UKd4Pq",
        "colab_type": "code",
        "colab": {}
      },
      "source": [
        "import time\n",
        "\n",
        "def epoch_time(start_time, end_time):\n",
        "    elapsed_time = end_time - start_time\n",
        "    elapsed_mins = int(elapsed_time / 60)\n",
        "    elapsed_secs = int(elapsed_time - (elapsed_mins * 60))\n",
        "    return elapsed_mins, elapsed_secs"
      ],
      "execution_count": 0,
      "outputs": []
    },
    {
      "cell_type": "code",
      "metadata": {
        "id": "Litdgs0td9WG",
        "colab_type": "code",
        "colab": {
          "base_uri": "https://localhost:8080/",
          "height": 867
        },
        "outputId": "87361aed-dca8-465e-8a4f-56a26da4ea8f"
      },
      "source": [
        "N_EPOCHS = 25\n",
        "\n",
        "best_valid_loss = float('inf')\n",
        "\n",
        "for epoch in range(N_EPOCHS):\n",
        "\n",
        "    start_time = time.time()\n",
        "    \n",
        "    train_loss, train_acc = train(model, train_iterator_sa, optimizer, criterion)\n",
        "    # valid_loss, valid_acc = evaluate(model, valid_iterator_sa, criterion)\n",
        "    \n",
        "    end_time = time.time()\n",
        "\n",
        "    epoch_mins, epoch_secs = epoch_time(start_time, end_time)\n",
        "    \n",
        "    # if valid_loss < best_valid_loss:\n",
        "    #     best_valid_loss = valid_loss\n",
        "    #     torch.save(model.state_dict(), 'tut2-model.pt')\n",
        "    \n",
        "    print(f'Epoch: {epoch+1:02} | Epoch Time: {epoch_mins}m {epoch_secs}s')\n",
        "    print(f'\\tTrain Loss: {train_loss:.3f} | Train Acc: {train_acc*100:.2f}%')\n",
        "    # print(f'\\t Val. Loss: {valid_loss:.3f} |  Val. Acc: {valid_acc*100:.2f}%')"
      ],
      "execution_count": 30,
      "outputs": [
        {
          "output_type": "stream",
          "text": [
            "Epoch: 01 | Epoch Time: 0m 0s\n",
            "\tTrain Loss: 1.042 | Train Acc: 63.32%\n",
            "Epoch: 02 | Epoch Time: 0m 0s\n",
            "\tTrain Loss: 0.999 | Train Acc: 64.67%\n",
            "Epoch: 03 | Epoch Time: 0m 0s\n",
            "\tTrain Loss: 0.969 | Train Acc: 65.36%\n",
            "Epoch: 04 | Epoch Time: 0m 0s\n",
            "\tTrain Loss: 0.941 | Train Acc: 66.19%\n",
            "Epoch: 05 | Epoch Time: 0m 0s\n",
            "\tTrain Loss: 0.919 | Train Acc: 67.71%\n",
            "Epoch: 06 | Epoch Time: 0m 0s\n",
            "\tTrain Loss: 0.886 | Train Acc: 68.71%\n",
            "Epoch: 07 | Epoch Time: 0m 0s\n",
            "\tTrain Loss: 0.863 | Train Acc: 69.97%\n",
            "Epoch: 08 | Epoch Time: 0m 0s\n",
            "\tTrain Loss: 0.839 | Train Acc: 70.83%\n",
            "Epoch: 09 | Epoch Time: 0m 0s\n",
            "\tTrain Loss: 0.804 | Train Acc: 71.18%\n",
            "Epoch: 10 | Epoch Time: 0m 0s\n",
            "\tTrain Loss: 0.798 | Train Acc: 72.57%\n",
            "Epoch: 11 | Epoch Time: 0m 0s\n",
            "\tTrain Loss: 0.766 | Train Acc: 73.35%\n",
            "Epoch: 12 | Epoch Time: 0m 0s\n",
            "\tTrain Loss: 0.731 | Train Acc: 75.22%\n",
            "Epoch: 13 | Epoch Time: 0m 0s\n",
            "\tTrain Loss: 0.713 | Train Acc: 75.35%\n",
            "Epoch: 14 | Epoch Time: 0m 0s\n",
            "\tTrain Loss: 0.690 | Train Acc: 76.95%\n",
            "Epoch: 15 | Epoch Time: 0m 0s\n",
            "\tTrain Loss: 0.678 | Train Acc: 76.74%\n",
            "Epoch: 16 | Epoch Time: 0m 0s\n",
            "\tTrain Loss: 0.668 | Train Acc: 77.47%\n",
            "Epoch: 17 | Epoch Time: 0m 0s\n",
            "\tTrain Loss: 0.658 | Train Acc: 77.43%\n",
            "Epoch: 18 | Epoch Time: 0m 0s\n",
            "\tTrain Loss: 0.649 | Train Acc: 77.13%\n",
            "Epoch: 19 | Epoch Time: 0m 0s\n",
            "\tTrain Loss: 0.640 | Train Acc: 78.12%\n",
            "Epoch: 20 | Epoch Time: 0m 0s\n",
            "\tTrain Loss: 0.647 | Train Acc: 77.65%\n",
            "Epoch: 21 | Epoch Time: 0m 0s\n",
            "\tTrain Loss: 0.636 | Train Acc: 77.82%\n",
            "Epoch: 22 | Epoch Time: 0m 0s\n",
            "\tTrain Loss: 0.619 | Train Acc: 79.30%\n",
            "Epoch: 23 | Epoch Time: 0m 0s\n",
            "\tTrain Loss: 0.629 | Train Acc: 78.73%\n",
            "Epoch: 24 | Epoch Time: 0m 0s\n",
            "\tTrain Loss: 0.608 | Train Acc: 79.60%\n",
            "Epoch: 25 | Epoch Time: 0m 0s\n",
            "\tTrain Loss: 0.603 | Train Acc: 79.17%\n"
          ],
          "name": "stdout"
        }
      ]
    },
    {
      "cell_type": "code",
      "metadata": {
        "id": "y1exlhjmeBFK",
        "colab_type": "code",
        "colab": {
          "base_uri": "https://localhost:8080/",
          "height": 68
        },
        "outputId": "131853a6-3761-41c2-9ae5-f6448466966d"
      },
      "source": [
        "test_loss, test_acc, f_score = evaluate(model, test_iterator_sa, criterion)\n",
        "\n",
        "print(f'Test Loss: {test_loss:.3f} | Test Acc: {test_acc*100:.2f}%, F-fscore {f_score:.4f}')"
      ],
      "execution_count": 37,
      "outputs": [
        {
          "output_type": "stream",
          "text": [
            "Test Loss: 1.051 | Test Acc: 72.20%, F-fscore 0.7466\n"
          ],
          "name": "stdout"
        },
        {
          "output_type": "stream",
          "text": [
            "/usr/local/lib/python3.6/dist-packages/sklearn/metrics/classification.py:1439: UndefinedMetricWarning: F-score is ill-defined and being set to 0.0 in labels with no true samples.\n",
            "  'recall', 'true', average, warn_for)\n"
          ],
          "name": "stderr"
        }
      ]
    },
    {
      "cell_type": "code",
      "metadata": {
        "id": "ZQ8V3a8FzyC1",
        "colab_type": "code",
        "colab": {}
      },
      "source": [
        "nlp = spacy.load('en')\n",
        "\n",
        "def predict_sentiment(model, sentence):\n",
        "    model.eval()\n",
        "    tokenized = [tok.text for tok in nlp.tokenizer(sentence.lower())]\n",
        "    indexed = [TWEET_TEXT.vocab.stoi[t] for t in tokenized]\n",
        "    print(indexed)\n",
        "    length = [len(indexed)]\n",
        "    tensor = torch.LongTensor(indexed).to(device)\n",
        "    tensor = tensor.unsqueeze(1)\n",
        "    length_tensor = torch.LongTensor(length)\n",
        "    value, prediction = torch.max(model(tensor, length_tensor), 0)\n",
        "    # prediction = model(tensor, length_tensor)\n",
        "    reverse_key = { 0: 'Positive', 1: 'Negative', 2: 'Neutral'}\n",
        "    return reverse_key[prediction.item()]\n",
        "    # return prediction"
      ],
      "execution_count": 0,
      "outputs": []
    },
    {
      "cell_type": "code",
      "metadata": {
        "id": "3Y4J08pa49hN",
        "colab_type": "code",
        "colab": {
          "base_uri": "https://localhost:8080/",
          "height": 34
        },
        "outputId": "abfb5308-bdfa-4237-b5cd-785375e9113f"
      },
      "source": [
        "predict_sentiment(model, \"@apple  why don't you guys test your upgrades before you put them out. 15 1/2 hrs u guys wasted of my time yesterday. Thanks.\")"
      ],
      "execution_count": 33,
      "outputs": [
        {
          "output_type": "execute_result",
          "data": {
            "text/plain": [
              "'Negative'"
            ]
          },
          "metadata": {
            "tags": []
          },
          "execution_count": 33
        }
      ]
    },
    {
      "cell_type": "code",
      "metadata": {
        "id": "Z4_z6ibm5BSX",
        "colab_type": "code",
        "colab": {
          "base_uri": "https://localhost:8080/",
          "height": 34
        },
        "outputId": "5c6edf0b-5972-4907-e8c2-abdfefc73c9f"
      },
      "source": [
        "predict_sentiment(model, \"google sucha brilliant way, sleek design\")"
      ],
      "execution_count": 34,
      "outputs": [
        {
          "output_type": "execute_result",
          "data": {
            "text/plain": [
              "'Positive'"
            ]
          },
          "metadata": {
            "tags": []
          },
          "execution_count": 34
        }
      ]
    },
    {
      "cell_type": "code",
      "metadata": {
        "id": "KfnTlp3F6L8H",
        "colab_type": "code",
        "colab": {
          "base_uri": "https://localhost:8080/",
          "height": 51
        },
        "outputId": "c63d40fb-d009-4242-fa7a-f41338d2ef3d"
      },
      "source": [
        "predict_sentiment(model, \"Saludoss pa To' L@s Twitter@s Nocturn@s.. Jeje.. @elBellacoMusic Nose pero Ahoritaa me Sumbo Mas pal\")"
      ],
      "execution_count": 99,
      "outputs": [
        {
          "output_type": "stream",
          "text": [
            "[0, 0, 5, 0, 0, 0, 0, 0, 0, 0, 0, 0, 4730, 0, 28, 0, 0, 0]\n"
          ],
          "name": "stdout"
        },
        {
          "output_type": "execute_result",
          "data": {
            "text/plain": [
              "'Positive'"
            ]
          },
          "metadata": {
            "tags": []
          },
          "execution_count": 99
        }
      ]
    },
    {
      "cell_type": "code",
      "metadata": {
        "id": "EH3GDbAh6VOK",
        "colab_type": "code",
        "colab": {
          "base_uri": "https://localhost:8080/",
          "height": 34
        },
        "outputId": "ab62e63b-130d-4464-8a92-de016921659a"
      },
      "source": [
        "TWEET_TEXT.vocab.itos[4712]"
      ],
      "execution_count": 98,
      "outputs": [
        {
          "output_type": "execute_result",
          "data": {
            "text/plain": [
              "'para'"
            ]
          },
          "metadata": {
            "tags": []
          },
          "execution_count": 98
        }
      ]
    },
    {
      "cell_type": "code",
      "metadata": {
        "id": "m4vym2IT6wOY",
        "colab_type": "code",
        "colab": {}
      },
      "source": [
        "torch.save(model.state_dict(), '72_percent.pt')"
      ],
      "execution_count": 0,
      "outputs": []
    },
    {
      "cell_type": "markdown",
      "metadata": {
        "id": "4vOyyl4HjVgI",
        "colab_type": "text"
      },
      "source": [
        "# Predicting the Company"
      ]
    },
    {
      "cell_type": "code",
      "metadata": {
        "id": "CXiuD1WAjYdT",
        "colab_type": "code",
        "colab": {
          "base_uri": "https://localhost:8080/",
          "height": 204
        },
        "outputId": "934e376a-b3ab-4582-de1b-ff52f7c0fd74"
      },
      "source": [
        "train_data_pd.head()"
      ],
      "execution_count": 40,
      "outputs": [
        {
          "output_type": "execute_result",
          "data": {
            "text/html": [
              "<div>\n",
              "<style scoped>\n",
              "    .dataframe tbody tr th:only-of-type {\n",
              "        vertical-align: middle;\n",
              "    }\n",
              "\n",
              "    .dataframe tbody tr th {\n",
              "        vertical-align: top;\n",
              "    }\n",
              "\n",
              "    .dataframe thead th {\n",
              "        text-align: right;\n",
              "    }\n",
              "</style>\n",
              "<table border=\"1\" class=\"dataframe\">\n",
              "  <thead>\n",
              "    <tr style=\"text-align: right;\">\n",
              "      <th></th>\n",
              "      <th>Topic</th>\n",
              "      <th>Sentiment</th>\n",
              "      <th>TweetDate</th>\n",
              "      <th>TweetText</th>\n",
              "    </tr>\n",
              "  </thead>\n",
              "  <tbody>\n",
              "    <tr>\n",
              "      <th>0</th>\n",
              "      <td>1</td>\n",
              "      <td>0</td>\n",
              "      <td>Tue Oct 18 21:53:25 +0000 2011</td>\n",
              "      <td>now all @apple has to do is get swype on the i...</td>\n",
              "    </tr>\n",
              "    <tr>\n",
              "      <th>1</th>\n",
              "      <td>1</td>\n",
              "      <td>0</td>\n",
              "      <td>Tue Oct 18 21:09:33 +0000 2011</td>\n",
              "      <td>@apple will be adding more carrier support to ...</td>\n",
              "    </tr>\n",
              "    <tr>\n",
              "      <th>2</th>\n",
              "      <td>1</td>\n",
              "      <td>0</td>\n",
              "      <td>Tue Oct 18 21:02:20 +0000 2011</td>\n",
              "      <td>hilarious @youtube video  guy does a duet with...</td>\n",
              "    </tr>\n",
              "    <tr>\n",
              "      <th>3</th>\n",
              "      <td>1</td>\n",
              "      <td>0</td>\n",
              "      <td>Tue Oct 18 20:40:10 +0000 2011</td>\n",
              "      <td>@rim you made it too easy for me to switch to ...</td>\n",
              "    </tr>\n",
              "    <tr>\n",
              "      <th>4</th>\n",
              "      <td>1</td>\n",
              "      <td>0</td>\n",
              "      <td>Tue Oct 18 20:34:00 +0000 2011</td>\n",
              "      <td>i just realized that the reason i got into twi...</td>\n",
              "    </tr>\n",
              "  </tbody>\n",
              "</table>\n",
              "</div>"
            ],
            "text/plain": [
              "   Topic  ...                                          TweetText\n",
              "0      1  ...  now all @apple has to do is get swype on the i...\n",
              "1      1  ...  @apple will be adding more carrier support to ...\n",
              "2      1  ...  hilarious @youtube video  guy does a duet with...\n",
              "3      1  ...  @rim you made it too easy for me to switch to ...\n",
              "4      1  ...  i just realized that the reason i got into twi...\n",
              "\n",
              "[5 rows x 4 columns]"
            ]
          },
          "metadata": {
            "tags": []
          },
          "execution_count": 40
        }
      ]
    },
    {
      "cell_type": "code",
      "metadata": {
        "id": "81GaBxWEjdYH",
        "colab_type": "code",
        "colab": {}
      },
      "source": [
        "from sklearn.feature_extraction.text import CountVectorizer\n",
        "from sklearn.feature_extraction.text import TfidfTransformer\n",
        "\n",
        "vectorizer = CountVectorizer(max_features=MAX_VOCAB_SIZE, min_df=5, max_df=0.7)\n",
        "X_train = vectorizer.fit_transform(train_data_pd['TweetText']).toarray()\n",
        "X_test = vectorizer.transform(test_data_pd['TweetText']).toarray()"
      ],
      "execution_count": 0,
      "outputs": []
    },
    {
      "cell_type": "code",
      "metadata": {
        "id": "IwxY_f4mssB5",
        "colab_type": "code",
        "colab": {
          "base_uri": "https://localhost:8080/",
          "height": 34
        },
        "outputId": "6023df8c-2d37-4631-96c7-bdca94495fde"
      },
      "source": [
        "X.shape"
      ],
      "execution_count": 46,
      "outputs": [
        {
          "output_type": "execute_result",
          "data": {
            "text/plain": [
              "(3413, 982)"
            ]
          },
          "metadata": {
            "tags": []
          },
          "execution_count": 46
        }
      ]
    },
    {
      "cell_type": "code",
      "metadata": {
        "id": "mn74ooLXt1a1",
        "colab_type": "code",
        "colab": {}
      },
      "source": [
        "tfidfconverter = TfidfTransformer()\n",
        "X_train = tfidfconverter.fit_transform(X_train).toarray()\n",
        "X_test = tfidfconverter.transform(X_test).toarray()"
      ],
      "execution_count": 0,
      "outputs": []
    },
    {
      "cell_type": "code",
      "metadata": {
        "id": "69mmGPRGuDrb",
        "colab_type": "code",
        "colab": {}
      },
      "source": [
        "y_train = np.array(train_data_pd['Topic'])\n",
        "y_test = np.array(test_data_pd['Topic'])"
      ],
      "execution_count": 0,
      "outputs": []
    },
    {
      "cell_type": "code",
      "metadata": {
        "id": "K9rfeghluL52",
        "colab_type": "code",
        "colab": {}
      },
      "source": [
        "from xgboost import XGBClassifier\n",
        "from sklearn.ensemble import RandomForestClassifier"
      ],
      "execution_count": 0,
      "outputs": []
    },
    {
      "cell_type": "code",
      "metadata": {
        "id": "kjsVAoHWvALQ",
        "colab_type": "code",
        "colab": {}
      },
      "source": [
        "xgb = XGBClassifier(random_state=SEED)\n",
        "xgb.fit(X_train, y_train)\n",
        "predictions_xgb = xgb.predict(X_test)"
      ],
      "execution_count": 0,
      "outputs": []
    },
    {
      "cell_type": "code",
      "metadata": {
        "id": "3L0xTqsSvLLY",
        "colab_type": "code",
        "colab": {}
      },
      "source": [
        "rfc = RandomForestClassifier(n_estimators=1000, random_state=SEED)\n",
        "rfc.fit(X_train, y_train)\n",
        "prediction_rfc = rfc.predict(X_test)"
      ],
      "execution_count": 0,
      "outputs": []
    },
    {
      "cell_type": "code",
      "metadata": {
        "id": "G-jjaqnS2ppr",
        "colab_type": "code",
        "colab": {
          "base_uri": "https://localhost:8080/",
          "height": 51
        },
        "outputId": "b5e028f4-e953-483a-d9e7-89b4b2be4bc9"
      },
      "source": [
        "print(accuracy_score(prediction_rfc, y_test)*100)\n",
        "print(f1_score(prediction_rfc, y_test, average='macro'))"
      ],
      "execution_count": 88,
      "outputs": [
        {
          "output_type": "stream",
          "text": [
            "82.45614035087719\n",
            "0.8192035152581152\n"
          ],
          "name": "stdout"
        }
      ]
    },
    {
      "cell_type": "code",
      "metadata": {
        "id": "Hz3DWi4zvb10",
        "colab_type": "code",
        "colab": {
          "base_uri": "https://localhost:8080/",
          "height": 51
        },
        "outputId": "f2b22ec1-3c9e-4f2b-e492-7ecd4032fb1b"
      },
      "source": [
        "print(accuracy_score(predictions_xgb, y_test)*100)\n",
        "print(f1_score(predictions_xgb, y_test, average='macro'))"
      ],
      "execution_count": 89,
      "outputs": [
        {
          "output_type": "stream",
          "text": [
            "77.77777777777779\n",
            "0.7701272075319517\n"
          ],
          "name": "stdout"
        }
      ]
    },
    {
      "cell_type": "code",
      "metadata": {
        "id": "j7Uey_abwPtE",
        "colab_type": "code",
        "colab": {}
      },
      "source": [
        "def predict_company(tweet):\n",
        "    tweet = ''.join([i for i in tweet if i not in punctuation])\n",
        "    tweet = vectorizer.transform([tweet.lower()]).toarray()\n",
        "    tweet = tfidfconverter.transform(tweet).toarray()\n",
        "    prediction = rfc.predict(tweet)\n",
        "    reverse_company_dict = {1: 'apple',\n",
        "                            2: 'google',\n",
        "                            3: 'microsoft',\n",
        "                            4: 'twitter'}\n",
        "    # company_dict = {'apple' : 1,\n",
        "    #          'google' : 2,\n",
        "    #          'microsoft': 3,\n",
        "    #          'twitter': 4 }\n",
        "    return reverse_company_dict[int(prediction)]"
      ],
      "execution_count": 0,
      "outputs": []
    },
    {
      "cell_type": "code",
      "metadata": {
        "id": "mCnAfY9j1Bhm",
        "colab_type": "code",
        "colab": {
          "base_uri": "https://localhost:8080/",
          "height": 34
        },
        "outputId": "200b7226-02f3-4262-f904-15b83b6d77ca"
      },
      "source": [
        "predict_company(\"RT @techinciter: Suppose Microsoft Had Bought Siri? \")"
      ],
      "execution_count": 106,
      "outputs": [
        {
          "output_type": "execute_result",
          "data": {
            "text/plain": [
              "'microsoft'"
            ]
          },
          "metadata": {
            "tags": []
          },
          "execution_count": 106
        }
      ]
    },
    {
      "cell_type": "code",
      "metadata": {
        "id": "DkD0b_Fw1OEl",
        "colab_type": "code",
        "colab": {}
      },
      "source": [
        ""
      ],
      "execution_count": 0,
      "outputs": []
    }
  ]
}