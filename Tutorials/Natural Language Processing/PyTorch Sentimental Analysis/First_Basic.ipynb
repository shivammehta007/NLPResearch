{
 "cells": [
  {
   "cell_type": "markdown",
   "metadata": {
    "colab_type": "text",
    "id": "view-in-github"
   },
   "source": [
    "<a href=\"https://colab.research.google.com/github/shivammehta007/NLPResearch/blob/master/Tutorials/Natural%20Language%20Processing/PyTorch%20Sentimental%20Analysis/First_Basic.ipynb\" target=\"_parent\"><img src=\"https://colab.research.google.com/assets/colab-badge.svg\" alt=\"Open In Colab\"/></a>"
   ]
  },
  {
   "cell_type": "code",
   "execution_count": null,
   "metadata": {
    "colab": {},
    "colab_type": "code",
    "id": "60yYrUe04rn8"
   },
   "outputs": [],
   "source": [
    "import torch \n",
    "from torchtext import data\n",
    "import torch.nn as nn\n",
    "import torch.nn.functional as F\n",
    "import torch.optim as optim"
   ]
  },
  {
   "cell_type": "code",
   "execution_count": 2,
   "metadata": {
    "colab": {
     "base_uri": "https://localhost:8080/",
     "height": 34
    },
    "colab_type": "code",
    "id": "bLU7GJku4roA",
    "outputId": "e68faf29-37fb-420b-9cef-619d832a4ca7"
   },
   "outputs": [
    {
     "data": {
      "text/plain": [
       "<torch._C.Generator at 0x7fa7ed5b4990>"
      ]
     },
     "execution_count": 2,
     "metadata": {
      "tags": []
     },
     "output_type": "execute_result"
    }
   ],
   "source": [
    "SEED = 1234\n",
    "torch.manual_seed(SEED)"
   ]
  },
  {
   "cell_type": "code",
   "execution_count": null,
   "metadata": {
    "colab": {},
    "colab_type": "code",
    "id": "-4MUItRv4roL"
   },
   "outputs": [],
   "source": [
    "TEXT = data.Field(tokenize = 'spacy')\n",
    "LABEL = data.LabelField(dtype=torch.float)"
   ]
  },
  {
   "cell_type": "code",
   "execution_count": 4,
   "metadata": {
    "colab": {
     "base_uri": "https://localhost:8080/",
     "height": 51
    },
    "colab_type": "code",
    "id": "V43KzXAZ4roN",
    "outputId": "b8d741fa-33e5-4296-b1e1-c6c659dd29db"
   },
   "outputs": [
    {
     "name": "stderr",
     "output_type": "stream",
     "text": [
      "aclImdb_v1.tar.gz:   0%|          | 0.00/84.1M [00:00<?, ?B/s]"
     ]
    },
    {
     "name": "stdout",
     "output_type": "stream",
     "text": [
      "downloading aclImdb_v1.tar.gz\n"
     ]
    },
    {
     "name": "stderr",
     "output_type": "stream",
     "text": [
      "aclImdb_v1.tar.gz: 100%|██████████| 84.1M/84.1M [00:02<00:00, 38.7MB/s]\n"
     ]
    }
   ],
   "source": [
    "from torchtext import datasets\n",
    "train_dataset , test_dataset = datasets.IMDB.splits(TEXT, LABEL)"
   ]
  },
  {
   "cell_type": "code",
   "execution_count": 5,
   "metadata": {
    "colab": {
     "base_uri": "https://localhost:8080/",
     "height": 34
    },
    "colab_type": "code",
    "id": "UaEKwziK4roQ",
    "outputId": "751acc72-7c53-4939-ae73-d6e30c980e97"
   },
   "outputs": [
    {
     "data": {
      "text/plain": [
       "(25000, 25000)"
      ]
     },
     "execution_count": 5,
     "metadata": {
      "tags": []
     },
     "output_type": "execute_result"
    }
   ],
   "source": [
    "len(train_dataset), len(test_dataset)"
   ]
  },
  {
   "cell_type": "code",
   "execution_count": null,
   "metadata": {
    "colab": {},
    "colab_type": "code",
    "id": "3iytNz3I9xM8"
   },
   "outputs": [],
   "source": [
    "import random\n",
    "\n",
    "train_data, validation_data = train_dataset.split(random_state= random.seed(SEED))"
   ]
  },
  {
   "cell_type": "code",
   "execution_count": 7,
   "metadata": {
    "colab": {
     "base_uri": "https://localhost:8080/",
     "height": 34
    },
    "colab_type": "code",
    "id": "HKOalK7K-MDJ",
    "outputId": "2d7d75d3-6e67-496c-e72c-df24dbd3ad3f"
   },
   "outputs": [
    {
     "data": {
      "text/plain": [
       "(17500, 7500)"
      ]
     },
     "execution_count": 7,
     "metadata": {
      "tags": []
     },
     "output_type": "execute_result"
    }
   ],
   "source": [
    "len(train_data), len(validation_data)"
   ]
  },
  {
   "cell_type": "code",
   "execution_count": null,
   "metadata": {
    "colab": {},
    "colab_type": "code",
    "id": "TM_xMWhd_UGo"
   },
   "outputs": [],
   "source": [
    "MAX_VOCAB_SIZE = 25000\n",
    "TEXT.build_vocab(train_data, max_size = MAX_VOCAB_SIZE)\n",
    "LABEL.build_vocab(train_data)"
   ]
  },
  {
   "cell_type": "code",
   "execution_count": 9,
   "metadata": {
    "colab": {
     "base_uri": "https://localhost:8080/",
     "height": 71
    },
    "colab_type": "code",
    "id": "hcdKbsfJ_s_G",
    "outputId": "93a095bc-08b8-4856-dee4-389b1d745b12"
   },
   "outputs": [
    {
     "name": "stdout",
     "output_type": "stream",
     "text": [
      "25002 2\n",
      "[('the', 202273), (',', 191724), ('.', 165509), ('and', 109826), ('a', 109039), ('of', 100566), ('to', 93435), ('is', 76237), ('in', 61513), ('I', 53946), ('it', 53635), ('that', 49166), ('\"', 44415), (\"'s\", 42942), ('this', 42362), ('-', 37016), ('/><br', 35354), ('was', 35200), ('as', 30258), ('with', 29916)]\n"
     ]
    }
   ],
   "source": [
    "print(len(TEXT.vocab), len(LABEL.vocab))\n",
    "print(TEXT.vocab.freqs.most_common(20))\n"
   ]
  },
  {
   "cell_type": "code",
   "execution_count": 10,
   "metadata": {
    "colab": {
     "base_uri": "https://localhost:8080/",
     "height": 34
    },
    "colab_type": "code",
    "id": "vw0CGHpomElr",
    "outputId": "eb7ce08c-6c8b-48dc-d75c-18171fd754a5"
   },
   "outputs": [
    {
     "data": {
      "text/plain": [
       "True"
      ]
     },
     "execution_count": 10,
     "metadata": {
      "tags": []
     },
     "output_type": "execute_result"
    }
   ],
   "source": [
    "torch.cuda.is_available()"
   ]
  },
  {
   "cell_type": "code",
   "execution_count": null,
   "metadata": {
    "colab": {},
    "colab_type": "code",
    "id": "iIKeLKta_wvN"
   },
   "outputs": [],
   "source": [
    "BATCH_SIZES= 64\n",
    "\n",
    "device = torch.device('cuda' if torch.cuda.is_available() else 'cpu')"
   ]
  },
  {
   "cell_type": "code",
   "execution_count": null,
   "metadata": {
    "colab": {},
    "colab_type": "code",
    "id": "-xt4FKy3AwNu"
   },
   "outputs": [],
   "source": [
    "train_iterator, valid_iterator, test_iterator = data.BucketIterator.splits( (train_data, validation_data, test_dataset ), batch_size=BATCH_SIZES, device=device)"
   ]
  },
  {
   "cell_type": "code",
   "execution_count": null,
   "metadata": {
    "colab": {},
    "colab_type": "code",
    "id": "o3-cnTfUBbeO"
   },
   "outputs": [],
   "source": [
    "class RNN(nn.Module):\n",
    "    def __init__(self, input_dims, embedded_dim, hidden_dim, output_dim):\n",
    "        super(RNN, self).__init__()\n",
    "        self.embedding = nn.Embedding(input_dims, embedded_dim)\n",
    "        self.rnn = nn.RNN(embedded_dim, hidden_dim)\n",
    "        self.dropout = nn.Dropout(0.3)\n",
    "        self.fc = nn.Linear(hidden_dim, output_dim)\n",
    "        \n",
    "    def forward(self, text):\n",
    "        embedded = self.embedding(text)\n",
    "        output, hidden = self.rnn(embedded)\n",
    "        hidden = self.dropout(hidden.squeeze(0))\n",
    "        return self.fc(hidden)\n",
    "        "
   ]
  },
  {
   "cell_type": "code",
   "execution_count": null,
   "metadata": {
    "colab": {},
    "colab_type": "code",
    "id": "9LOdHJrEC2IU"
   },
   "outputs": [],
   "source": [
    "INPUT_DIM = len(TEXT.vocab)\n",
    "EMBEDDING_DIM = 100\n",
    "HIDDEN_DIM = 256\n",
    "OUTPUT_DIM = 1\n",
    "\n",
    "model = RNN(INPUT_DIM, EMBEDDING_DIM, HIDDEN_DIM, OUTPUT_DIM)\n"
   ]
  },
  {
   "cell_type": "code",
   "execution_count": 26,
   "metadata": {
    "colab": {
     "base_uri": "https://localhost:8080/",
     "height": 34
    },
    "colab_type": "code",
    "id": "tnHVaSGRExLw",
    "outputId": "0290efaf-36a4-4969-9466-77d59a0a7015"
   },
   "outputs": [
    {
     "name": "stdout",
     "output_type": "stream",
     "text": [
      "Number Of Trainable Parameters: 2,592,105\n"
     ]
    }
   ],
   "source": [
    "print('Number Of Trainable Parameters: {:,}'.format(sum(p.numel() for p in model.parameters())))"
   ]
  },
  {
   "cell_type": "code",
   "execution_count": null,
   "metadata": {
    "colab": {},
    "colab_type": "code",
    "id": "UNIJosmGklDl"
   },
   "outputs": [],
   "source": [
    "optimzer = optim.SGD(model.parameters(), lr=0.001)"
   ]
  },
  {
   "cell_type": "code",
   "execution_count": null,
   "metadata": {
    "colab": {},
    "colab_type": "code",
    "id": "XoXrPeqzleIz"
   },
   "outputs": [],
   "source": [
    "loss = nn.BCEWithLogitsLoss()\n",
    "model = model.to(device)\n",
    "loss = loss.to(device)"
   ]
  },
  {
   "cell_type": "code",
   "execution_count": null,
   "metadata": {
    "colab": {},
    "colab_type": "code",
    "id": "xJ1dIeg6l5QS"
   },
   "outputs": [],
   "source": [
    "def binary_accuracy(y_pred, y):\n",
    "    rounded_pred = torch.round(torch.sigmoid(y_pred))\n",
    "    correct = (rounded_pred == y).float()\n",
    "    accuracy = correct.sum()/ len(y_pred)\n",
    "    return accuracy\n",
    "    "
   ]
  },
  {
   "cell_type": "code",
   "execution_count": null,
   "metadata": {
    "colab": {},
    "colab_type": "code",
    "id": "uBrkzDxsmxNo"
   },
   "outputs": [],
   "source": [
    "def train(model, iterator, optimizer, loss_function):\n",
    "    epoch_accuracy = 0\n",
    "    epoch_loss = 0\n",
    "    \n",
    "    model.train()\n",
    "    for batch in iterator:\n",
    "        optimizer.zero_grad()\n",
    "        prediction = model(batch.text).squeeze(1)\n",
    "        loss = loss_function(prediction, batch.label)\n",
    "        accuracy = binary_accuracy(prediction, batch.label)\n",
    "        loss.backward()\n",
    "        optimizer.step()\n",
    "        epoch_loss += loss.item()\n",
    "        epoch_accuracy += accuracy.item()\n",
    "        \n",
    "    return epoch_loss / len(iterator) , epoch_accuracy / len(iterator)\n",
    "        \n",
    "        \n",
    "        "
   ]
  },
  {
   "cell_type": "code",
   "execution_count": null,
   "metadata": {
    "colab": {},
    "colab_type": "code",
    "id": "sbKkt0q2qVMK"
   },
   "outputs": [],
   "source": [
    "import time\n",
    "\n",
    "def epoch_time(start_time, end_time):\n",
    "    elapsed_time = end_time - start_time\n",
    "    elapsed_mins = int(elapsed_time / 60)\n",
    "    elapsed_secs = int(elapsed_time - (elapsed_mins * 60))\n",
    "    return elapsed_mins, elapsed_secs"
   ]
  },
  {
   "cell_type": "code",
   "execution_count": null,
   "metadata": {
    "colab": {},
    "colab_type": "code",
    "id": "5U8nsnvSq5hH"
   },
   "outputs": [],
   "source": [
    "def evaluate(model, iterator, loss_function):\n",
    "    model.eval()\n",
    "    \n",
    "    epoch_loss = 0\n",
    "    epoch_accuracy = 0\n",
    "    \n",
    "    with torch.no_grad():\n",
    "        for batch in iterator:\n",
    "            prediction = model(batch.text).squeeze(1)\n",
    "            loss = loss_function(prediction, batch.label)\n",
    "            acc = binary_accuracy(prediction, batch.label)\n",
    "            \n",
    "            epoch_loss += loss.item()\n",
    "            epoch_accuracy += acc.item()\n",
    "        \n",
    "    return epoch_loss / len(iterator) , epoch_accuracy/ len(iterator)\n"
   ]
  },
  {
   "cell_type": "code",
   "execution_count": 33,
   "metadata": {
    "colab": {
     "base_uri": "https://localhost:8080/",
     "height": 527
    },
    "colab_type": "code",
    "id": "iLuMZaVrxajA",
    "outputId": "7dcb6cd9-cbed-4a32-d134-5c5d7d23a87c"
   },
   "outputs": [
    {
     "name": "stdout",
     "output_type": "stream",
     "text": [
      "Train Loss: 0.6959577918487744 , Train Accuracy: 0.5013197342844775\n",
      "Validation Loss: 0.6957829033924361, Validation Accuracy: 0.4880384888689397\n",
      "Epoch :  0, Epoch Time :  0m24s\n",
      "Train Loss: 0.6963565549711241 , Train Accuracy: 0.4898657457236826\n",
      "Validation Loss: 0.6949578382201114, Validation Accuracy: 0.490024717682499\n",
      "Epoch :  1, Epoch Time :  0m24s\n",
      "Train Loss: 0.6945790039361829 , Train Accuracy: 0.5047005345351505\n",
      "Validation Loss: 0.695247793096607, Validation Accuracy: 0.4887005651401261\n",
      "Epoch :  2, Epoch Time :  0m24s\n",
      "Train Loss: 0.6953943062872783 , Train Accuracy: 0.4976456596033417\n",
      "Validation Loss: 0.6954819317591392, Validation Accuracy: 0.4873764125977532\n",
      "Epoch :  3, Epoch Time :  0m24s\n",
      "Train Loss: 0.6952920377689557 , Train Accuracy: 0.4947292102079322\n",
      "Validation Loss: 0.6950839318461337, Validation Accuracy: 0.4893626414113126\n",
      "Epoch :  4, Epoch Time :  0m24s\n",
      "Train Loss: 0.6954676933097144 , Train Accuracy: 0.4964318301555884\n",
      "Validation Loss: 0.6949649301625914, Validation Accuracy: 0.4892302261570753\n",
      "Epoch :  5, Epoch Time :  0m24s\n",
      "Train Loss: 0.6946500668125432 , Train Accuracy: 0.5031119656823847\n",
      "Validation Loss: 0.6949419894460904, Validation Accuracy: 0.490024717682499\n",
      "Epoch :  6, Epoch Time :  0m24s\n",
      "Train Loss: 0.6944944007988394 , Train Accuracy: 0.504814585630041\n",
      "Validation Loss: 0.6950765125832316, Validation Accuracy: 0.490024717682499\n",
      "Epoch :  7, Epoch Time :  0m24s\n",
      "Train Loss: 0.6951769522941895 , Train Accuracy: 0.4968473019391081\n",
      "Validation Loss: 0.6946402778059749, Validation Accuracy: 0.5017213983050848\n",
      "Epoch :  8, Epoch Time :  0m24s\n",
      "Train Loss: 0.6946776393991317 , Train Accuracy: 0.501784085139741\n",
      "Validation Loss: 0.6949017335802822, Validation Accuracy: 0.490024717682499\n",
      "Epoch :  9, Epoch Time :  0m24s\n"
     ]
    }
   ],
   "source": [
    "EPOCHS = 10\n",
    "\n",
    "best_valid_loss = float('inf')\n",
    "\n",
    "best_state_dict = {}\n",
    "for epoch in range(EPOCHS):\n",
    "    start_time = time.time()\n",
    "    \n",
    "    train_loss, train_accuracy = train(model, train_iterator, optimzer, loss)\n",
    "\n",
    "    print('Train Loss: {} , Train Accuracy: {}'.format(train_loss, train_accuracy))\n",
    "\n",
    "    valid_loss, valid_accuracy = evaluate(model, valid_iterator, loss)\n",
    "    \n",
    "    print('Validation Loss: {}, Validation Accuracy: {}'.format(valid_loss, valid_accuracy))\n",
    "    \n",
    "    end_time = time.time()\n",
    "    \n",
    "    epoch_mins, epoch_sec = epoch_time(start_time, end_time)\n",
    "    \n",
    "    if valid_loss < best_valid_loss:\n",
    "        best_valid_loss = valid_loss\n",
    "        best_state_dict = model.state_dict()\n",
    "        \n",
    "    print('Epoch : {:2}, Epoch Time : {:2}m{:2}s'.format(epoch, epoch_mins, epoch_sec))\n"
   ]
  },
  {
   "cell_type": "code",
   "execution_count": null,
   "metadata": {
    "colab": {},
    "colab_type": "code",
    "id": "AutaIADH2ATS"
   },
   "outputs": [],
   "source": [
    "# Check on Testing Set \n",
    "model.load_state_dict(best_state_dict)\n",
    "testing_loss, testing_accuracy = evaluate(model, test_iterator, loss)"
   ]
  },
  {
   "cell_type": "code",
   "execution_count": 39,
   "metadata": {
    "colab": {
     "base_uri": "https://localhost:8080/",
     "height": 34
    },
    "colab_type": "code",
    "id": "sNqcnMPGkCSK",
    "outputId": "4c55d31c-fc07-4746-fa12-774d7a040319"
   },
   "outputs": [
    {
     "name": "stdout",
     "output_type": "stream",
     "text": [
      "Test Loss : 0.6854497983937373, Test Accuracy : 59.84%\n"
     ]
    }
   ],
   "source": [
    "print('Test Loss : {}, Test Accuracy : {:.2f}%'.format(testing_loss, testing_accuracy*100))"
   ]
  },
  {
   "cell_type": "code",
   "execution_count": null,
   "metadata": {
    "colab": {},
    "colab_type": "code",
    "id": "7hxtUeeyklk1"
   },
   "outputs": [],
   "source": []
  }
 ],
 "metadata": {
  "accelerator": "GPU",
  "colab": {
   "include_colab_link": true,
   "name": "First_Basic.ipynb",
   "provenance": [],
   "version": "0.3.2"
  },
  "kernelspec": {
   "display_name": "Python 3",
   "language": "python",
   "name": "python3"
  },
  "language_info": {
   "codemirror_mode": {
    "name": "ipython",
    "version": 3
   },
   "file_extension": ".py",
   "mimetype": "text/x-python",
   "name": "python",
   "nbconvert_exporter": "python",
   "pygments_lexer": "ipython3",
   "version": "3.6.7"
  }
 },
 "nbformat": 4,
 "nbformat_minor": 2
}
