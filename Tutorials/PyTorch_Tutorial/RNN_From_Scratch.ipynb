{
  "nbformat": 4,
  "nbformat_minor": 0,
  "metadata": {
    "colab": {
      "name": "RNN From Scratch.ipynb",
      "provenance": [],
      "collapsed_sections": [],
      "include_colab_link": true
    },
    "kernelspec": {
      "name": "python3",
      "display_name": "Python 3"
    }
  },
  "cells": [
    {
      "cell_type": "markdown",
      "metadata": {
        "id": "view-in-github",
        "colab_type": "text"
      },
      "source": [
        "<a href=\"https://colab.research.google.com/github/shivammehta007/NLPResearch/blob/master/RNN_From_Scratch.ipynb\" target=\"_parent\"><img src=\"https://colab.research.google.com/assets/colab-badge.svg\" alt=\"Open In Colab\"/></a>"
      ]
    },
    {
      "cell_type": "code",
      "metadata": {
        "id": "cadVLGB6YpLA",
        "colab_type": "code",
        "colab": {}
      },
      "source": [
        "import numpy as np\n",
        "import torch\n",
        "import torch.nn as nn"
      ],
      "execution_count": 0,
      "outputs": []
    },
    {
      "cell_type": "code",
      "metadata": {
        "id": "5R7XuqWRY-nd",
        "colab_type": "code",
        "colab": {}
      },
      "source": [
        "text = ['It is such a beautiful weather today' , 'I feel like going for a walk', 'Trees and sky also looks very beautiful']\n",
        "\n",
        "# Create a Vocabulary of Characters\n",
        "\n",
        "vocab = set(' '.join(text))"
      ],
      "execution_count": 0,
      "outputs": []
    },
    {
      "cell_type": "code",
      "metadata": {
        "id": "c8egP0VGaeDr",
        "colab_type": "code",
        "colab": {}
      },
      "source": [
        "int2char = dict(enumerate(vocab))\n",
        "char2int = {char : index for index, char in int2char.items()}"
      ],
      "execution_count": 0,
      "outputs": []
    },
    {
      "cell_type": "code",
      "metadata": {
        "id": "DdjC5QMmae_z",
        "colab_type": "code",
        "outputId": "63785b44-72fe-44ae-b1b2-0e12ea95f878",
        "colab": {
          "base_uri": "https://localhost:8080/",
          "height": 54
        }
      },
      "source": [
        "print(int2char, char2int)"
      ],
      "execution_count": 4,
      "outputs": [
        {
          "output_type": "stream",
          "text": [
            "{0: 'd', 1: 'I', 2: 's', 3: 'u', 4: 'k', 5: 'a', 6: 'T', 7: 'v', 8: 'w', 9: ' ', 10: 'b', 11: 'h', 12: 'n', 13: 'c', 14: 'e', 15: 'g', 16: 'i', 17: 'f', 18: 'y', 19: 't', 20: 'l', 21: 'r', 22: 'o'} {'d': 0, 'I': 1, 's': 2, 'u': 3, 'k': 4, 'a': 5, 'T': 6, 'v': 7, 'w': 8, ' ': 9, 'b': 10, 'h': 11, 'n': 12, 'c': 13, 'e': 14, 'g': 15, 'i': 16, 'f': 17, 'y': 18, 't': 19, 'l': 20, 'r': 21, 'o': 22}\n"
          ],
          "name": "stdout"
        }
      ]
    },
    {
      "cell_type": "code",
      "metadata": {
        "id": "vd8_MG3naySY",
        "colab_type": "code",
        "colab": {}
      },
      "source": [
        "# Padding all the text to that of maximum length\n",
        "max_length = len(max(text, key=len))"
      ],
      "execution_count": 0,
      "outputs": []
    },
    {
      "cell_type": "code",
      "metadata": {
        "id": "yxk0D1n7cCqB",
        "colab_type": "code",
        "colab": {}
      },
      "source": [
        "for i in range(len(text)):\n",
        "    while len(text[i]) < max_length:\n",
        "        text[i] += ' '"
      ],
      "execution_count": 0,
      "outputs": []
    },
    {
      "cell_type": "markdown",
      "metadata": {
        "id": "MluJQybzdVHx",
        "colab_type": "text"
      },
      "source": [
        "As we will predict next character in sequence , we will deveide the data into \n",
        "* Input\n",
        "* Ground Truth/ Target"
      ]
    },
    {
      "cell_type": "code",
      "metadata": {
        "id": "2-Hh9nlJcUbS",
        "colab_type": "code",
        "colab": {}
      },
      "source": [
        "input_sequence = [text[i][:-1] for i in range(len(text))]\n",
        "target_sequence = [text[i][1:] for i in range(len(text))]"
      ],
      "execution_count": 0,
      "outputs": []
    },
    {
      "cell_type": "code",
      "metadata": {
        "id": "Roc3UOoLeDdG",
        "colab_type": "code",
        "outputId": "e5f3c5b8-ff13-459d-9f3f-fc841766889e",
        "colab": {
          "base_uri": "https://localhost:8080/",
          "height": 51
        }
      },
      "source": [
        "print('Input_Sentence : {} \\nOutput_Sentence: {}'.format(input_sequence[2], target_sequence[2]))"
      ],
      "execution_count": 8,
      "outputs": [
        {
          "output_type": "stream",
          "text": [
            "Input_Sentence : Trees and sky also looks very beautifu \n",
            "Output_Sentence: rees and sky also looks very beautiful\n"
          ],
          "name": "stdout"
        }
      ]
    },
    {
      "cell_type": "markdown",
      "metadata": {
        "id": "V1Tpddx4fFWg",
        "colab_type": "text"
      },
      "source": [
        "Lets Convert all the Text to sequence of integers from the vocabulary, since computers understand numbers better than text anyday"
      ]
    },
    {
      "cell_type": "code",
      "metadata": {
        "id": "Ul_oMgTleFgn",
        "colab_type": "code",
        "colab": {}
      },
      "source": [
        "for i in range(len(text)):\n",
        "    input_sequence[i] = [char2int[x] for x in input_sequence[i]]\n",
        "    target_sequence[i] = [char2int[x] for x in target_sequence[i]]"
      ],
      "execution_count": 0,
      "outputs": []
    },
    {
      "cell_type": "code",
      "metadata": {
        "id": "1rUBUS5XfbT1",
        "colab_type": "code",
        "outputId": "36365840-3f2f-4b66-fadf-1ae74d2612b5",
        "colab": {
          "base_uri": "https://localhost:8080/",
          "height": 51
        }
      },
      "source": [
        "print('Input_Sentence : {} \\nOutput_Sentence: {}'.format(input_sequence[2], target_sequence[2]))"
      ],
      "execution_count": 10,
      "outputs": [
        {
          "output_type": "stream",
          "text": [
            "Input_Sentence : [6, 21, 14, 14, 2, 9, 5, 12, 0, 9, 2, 4, 18, 9, 5, 20, 2, 22, 9, 20, 22, 22, 4, 2, 9, 7, 14, 21, 18, 9, 10, 14, 5, 3, 19, 16, 17, 3] \n",
            "Output_Sentence: [21, 14, 14, 2, 9, 5, 12, 0, 9, 2, 4, 18, 9, 5, 20, 2, 22, 9, 20, 22, 22, 4, 2, 9, 7, 14, 21, 18, 9, 10, 14, 5, 3, 19, 16, 17, 3, 20]\n"
          ],
          "name": "stdout"
        }
      ]
    },
    {
      "cell_type": "code",
      "metadata": {
        "id": "Hn1HkdBWfcg1",
        "colab_type": "code",
        "colab": {}
      },
      "source": [
        "dict_size = len(char2int)\n",
        "seq_len = len(input_sequence[0])\n",
        "batch_size = len(text)\n"
      ],
      "execution_count": 0,
      "outputs": []
    },
    {
      "cell_type": "code",
      "metadata": {
        "id": "s9Ee-sKfKm_z",
        "colab_type": "code",
        "outputId": "f2a58d66-684a-447f-b8d4-73e2b2826e64",
        "colab": {
          "base_uri": "https://localhost:8080/",
          "height": 34
        }
      },
      "source": [
        "print(dict_size, seq_len, batch_size)"
      ],
      "execution_count": 12,
      "outputs": [
        {
          "output_type": "stream",
          "text": [
            "23 38 3\n"
          ],
          "name": "stdout"
        }
      ]
    },
    {
      "cell_type": "code",
      "metadata": {
        "id": "EDDXOYtmgaof",
        "colab_type": "code",
        "colab": {}
      },
      "source": [
        "# Create One Hot representation of it on dict size\n",
        "def one_hot_representation(sequence, dict_size, seq_len, batch_size):\n",
        "    features = np.zeros((batch_size, seq_len, dict_size), dtype=np.float32)\n",
        "    for i in range(batch_size):\n",
        "        for u in range(seq_len):\n",
        "            features[i, u, sequence[i][u]] = 1\n",
        "    return features"
      ],
      "execution_count": 0,
      "outputs": []
    },
    {
      "cell_type": "code",
      "metadata": {
        "id": "amECX0fIgb3h",
        "colab_type": "code",
        "outputId": "284bf23d-b23a-4c13-bdc8-0fb6b7e38c93",
        "colab": {
          "base_uri": "https://localhost:8080/",
          "height": 51
        }
      },
      "source": [
        "input_sequence = one_hot_representation(input_sequence, dict_size, seq_len, batch_size)\n",
        "print(input_sequence.shape)\n",
        "print(input_sequence[0,0])"
      ],
      "execution_count": 14,
      "outputs": [
        {
          "output_type": "stream",
          "text": [
            "(3, 38, 23)\n",
            "[0. 1. 0. 0. 0. 0. 0. 0. 0. 0. 0. 0. 0. 0. 0. 0. 0. 0. 0. 0. 0. 0. 0.]\n"
          ],
          "name": "stdout"
        }
      ]
    },
    {
      "cell_type": "code",
      "metadata": {
        "id": "FeB8WQ3CiwNm",
        "colab_type": "code",
        "colab": {}
      },
      "source": [
        "device = torch.device('cuda') if torch.cuda.is_available() else torch.device('cpu')"
      ],
      "execution_count": 0,
      "outputs": []
    },
    {
      "cell_type": "code",
      "metadata": {
        "id": "Tb2YhKZPr7tY",
        "colab_type": "code",
        "outputId": "47ffa8aa-c2af-46d5-d4fc-62e41dd77cfb",
        "colab": {
          "base_uri": "https://localhost:8080/",
          "height": 34
        }
      },
      "source": [
        "device"
      ],
      "execution_count": 16,
      "outputs": [
        {
          "output_type": "execute_result",
          "data": {
            "text/plain": [
              "device(type='cpu')"
            ]
          },
          "metadata": {
            "tags": []
          },
          "execution_count": 16
        }
      ]
    },
    {
      "cell_type": "code",
      "metadata": {
        "id": "bOxYvySLjixd",
        "colab_type": "code",
        "colab": {}
      },
      "source": [
        "#Putting the input and output to Tensors \n",
        "input_sequence = torch.from_numpy(input_sequence)\n",
        "target_sequence = torch.Tensor(target_sequence)\n"
      ],
      "execution_count": 0,
      "outputs": []
    },
    {
      "cell_type": "code",
      "metadata": {
        "id": "OPdsNZURjjXA",
        "colab_type": "code",
        "colab": {}
      },
      "source": [
        "class Model(nn.Module):\n",
        "    def __init__(self,  input_size, output_size, hidden_dim, n_layers):\n",
        "        super(Model, self).__init__()\n",
        "        self.hidden_dim = hidden_dim\n",
        "        self.n_layers = n_layers\n",
        "\n",
        "        self.rnn = nn.RNN(input_size, hidden_dim, n_layers, batch_first=True)\n",
        "        self.fc = nn.Linear(hidden_dim, output_size) \n",
        "    \n",
        "    def forward(self, x):\n",
        "        batch_size = x.size(0)\n",
        "        hidden = torch.zeros(self.n_layers, batch_size, self.hidden_dim)\n",
        "        out, hidden = self.rnn(x, hidden)\n",
        "        out = out.contiguous().view(-1, self.hidden_dim)\n",
        "        out = self.fc(out)\n",
        "\n",
        "        return out, hidden\n",
        "\n"
      ],
      "execution_count": 0,
      "outputs": []
    },
    {
      "cell_type": "code",
      "metadata": {
        "id": "UX9KmZRKqlfZ",
        "colab_type": "code",
        "colab": {}
      },
      "source": [
        "model = Model(input_size=dict_size, output_size=dict_size, hidden_dim=12, n_layers=1)\n",
        "model.to(device)\n",
        "input_sequence = input_sequence.to(device)"
      ],
      "execution_count": 0,
      "outputs": []
    },
    {
      "cell_type": "code",
      "metadata": {
        "id": "ARUg6tF9w6Cv",
        "colab_type": "code",
        "colab": {}
      },
      "source": [
        ""
      ],
      "execution_count": 0,
      "outputs": []
    },
    {
      "cell_type": "code",
      "metadata": {
        "id": "0-oEY5qtrzTh",
        "colab_type": "code",
        "colab": {}
      },
      "source": [
        "epochs = 400\n",
        "lr = 0.01\n",
        "\n",
        "loss_criteria = nn.CrossEntropyLoss()\n",
        "optimizer = torch.optim.Adam(model.parameters(), lr=lr)"
      ],
      "execution_count": 0,
      "outputs": []
    },
    {
      "cell_type": "code",
      "metadata": {
        "id": "t6fHR029sXLd",
        "colab_type": "code",
        "outputId": "c89c1fb8-b07a-4949-a558-656c50c959c4",
        "colab": {
          "base_uri": "https://localhost:8080/",
          "height": 697
        }
      },
      "source": [
        "for epoch in range(epochs):\n",
        "    optimizer.zero_grad()\n",
        "    input_sequence = input_sequence.to(device)\n",
        "    output, hidden = model(input_sequence)\n",
        "    loss = loss_criteria(output, target_sequence.view(-1).long())\n",
        "    loss.backward()\n",
        "    optimizer.step()\n",
        "\n",
        "    if epoch % 10 == 0:\n",
        "        print('Epoch: {}/{}.............'.format(epoch, epochs), end=' ')\n",
        "        print(\"Loss: {:.4f}\".format(loss.item()))\n"
      ],
      "execution_count": 21,
      "outputs": [
        {
          "output_type": "stream",
          "text": [
            "Epoch: 0/400............. Loss: 3.1206\n",
            "Epoch: 10/400............. Loss: 2.6526\n",
            "Epoch: 20/400............. Loss: 2.4161\n",
            "Epoch: 30/400............. Loss: 2.1373\n",
            "Epoch: 40/400............. Loss: 1.8292\n",
            "Epoch: 50/400............. Loss: 1.5236\n",
            "Epoch: 60/400............. Loss: 1.2383\n",
            "Epoch: 70/400............. Loss: 0.9988\n",
            "Epoch: 80/400............. Loss: 0.7995\n",
            "Epoch: 90/400............. Loss: 0.6351\n",
            "Epoch: 100/400............. Loss: 0.5033\n",
            "Epoch: 110/400............. Loss: 0.4036\n",
            "Epoch: 120/400............. Loss: 0.3309\n",
            "Epoch: 130/400............. Loss: 0.2925\n",
            "Epoch: 140/400............. Loss: 0.2422\n",
            "Epoch: 150/400............. Loss: 0.2101\n",
            "Epoch: 160/400............. Loss: 0.2093\n",
            "Epoch: 170/400............. Loss: 0.1998\n",
            "Epoch: 180/400............. Loss: 0.1642\n",
            "Epoch: 190/400............. Loss: 0.1422\n",
            "Epoch: 200/400............. Loss: 0.1254\n",
            "Epoch: 210/400............. Loss: 0.1129\n",
            "Epoch: 220/400............. Loss: 0.1028\n",
            "Epoch: 230/400............. Loss: 0.0943\n",
            "Epoch: 240/400............. Loss: 0.0871\n",
            "Epoch: 250/400............. Loss: 0.0809\n",
            "Epoch: 260/400............. Loss: 0.0755\n",
            "Epoch: 270/400............. Loss: 0.0706\n",
            "Epoch: 280/400............. Loss: 0.0663\n",
            "Epoch: 290/400............. Loss: 0.0624\n",
            "Epoch: 300/400............. Loss: 0.0589\n",
            "Epoch: 310/400............. Loss: 0.0558\n",
            "Epoch: 320/400............. Loss: 0.0560\n",
            "Epoch: 330/400............. Loss: 0.9548\n",
            "Epoch: 340/400............. Loss: 0.6316\n",
            "Epoch: 350/400............. Loss: 0.4271\n",
            "Epoch: 360/400............. Loss: 0.2956\n",
            "Epoch: 370/400............. Loss: 0.2194\n",
            "Epoch: 380/400............. Loss: 0.1710\n",
            "Epoch: 390/400............. Loss: 0.1399\n"
          ],
          "name": "stdout"
        }
      ]
    },
    {
      "cell_type": "code",
      "metadata": {
        "id": "3ooTJhX1uz3r",
        "colab_type": "code",
        "colab": {}
      },
      "source": [
        "def predict(model, character):\n",
        "    character = np.array([[char2int[c] for c in character]])\n",
        "    character = one_hot_representation(character, dict_size, character.shape[1], 1)\n",
        "    character = torch.from_numpy(character)\n",
        "    character.to(device)\n",
        "\n",
        "    out, hidden = model(character)\n",
        "\n",
        "    prob = nn.functional.softmax(out[-1], dim=0).data\n",
        "    print(prob)\n",
        "    char_index = torch.max(prob, dim=0)[1].item()\n",
        "\n",
        "    print(torch.max(prob, dim=0)[1])\n",
        "\n",
        "    return int2char[char_index], hidden\n"
      ],
      "execution_count": 0,
      "outputs": []
    },
    {
      "cell_type": "code",
      "metadata": {
        "id": "XeHc90iktITA",
        "colab_type": "code",
        "colab": {}
      },
      "source": [
        "def sample(model, out_len, start='hey'):\n",
        "    model.eval() # eval mode\n",
        "    start = start.lower()\n",
        "    # First off, run through the starting characters\n",
        "    chars = [ch for ch in start]\n",
        "    size = out_len - len(chars)\n",
        "    # Now pass in the previous characters and get a new one\n",
        "    for ii in range(size):\n",
        "        char, h = predict(model, chars)\n",
        "        chars.append(char)\n",
        "\n",
        "    return ''.join(chars)"
      ],
      "execution_count": 0,
      "outputs": []
    },
    {
      "cell_type": "code",
      "metadata": {
        "id": "XTegnvc5AYn8",
        "colab_type": "code",
        "colab": {
          "base_uri": "https://localhost:8080/",
          "height": 1000
        },
        "outputId": "4caa420d-9f57-49a4-c697-44053fb71ead"
      },
      "source": [
        "sample(model, 20, 'good')"
      ],
      "execution_count": 24,
      "outputs": [
        {
          "output_type": "stream",
          "text": [
            "tensor([1.3324e-04, 1.2969e-05, 4.3902e-04, 1.1530e-08, 8.4264e-07, 1.5567e-03,\n",
            "        2.0978e-05, 1.1320e-06, 4.2832e-05, 4.8840e-05, 1.5949e-05, 7.9627e-07,\n",
            "        1.7953e-06, 3.1495e-04, 3.3396e-06, 3.3394e-07, 3.4322e-02, 8.0553e-07,\n",
            "        1.6653e-02, 7.9277e-08, 3.6279e-07, 9.4643e-01, 5.8938e-07])\n",
            "tensor(21)\n",
            "tensor([6.0160e-07, 3.5080e-06, 1.6277e-02, 8.4036e-06, 1.4118e-04, 7.7540e-01,\n",
            "        7.3494e-06, 4.7181e-07, 4.4646e-06, 1.9672e-01, 1.0428e-05, 2.5977e-08,\n",
            "        6.1613e-06, 7.9516e-06, 3.4217e-04, 3.8261e-06, 6.8783e-07, 2.3451e-04,\n",
            "        7.0744e-03, 1.7581e-05, 3.9243e-06, 3.6935e-03, 4.2082e-05])\n",
            "tensor(5)\n",
            "tensor([6.5516e-07, 5.9588e-06, 2.6132e-04, 3.0863e-04, 6.8798e-06, 6.0230e-03,\n",
            "        1.2980e-05, 3.7207e-05, 3.8905e-04, 2.2506e-01, 7.7097e-06, 9.1019e-07,\n",
            "        9.1851e-07, 1.9621e-04, 1.7750e-04, 3.1469e-05, 7.4341e-08, 4.8775e-05,\n",
            "        1.1323e-05, 1.2204e-01, 6.4538e-01, 7.3080e-07, 3.7513e-06])\n",
            "tensor(20)\n",
            "tensor([3.3429e-05, 4.3210e-04, 6.9178e-02, 2.2759e-02, 2.8632e-02, 2.6649e-03,\n",
            "        3.1168e-04, 3.8193e-03, 2.3107e-04, 1.2173e-01, 6.4930e-02, 3.4708e-03,\n",
            "        2.4731e-04, 1.2258e-03, 3.0166e-05, 1.0783e-05, 1.8647e-01, 2.8869e-05,\n",
            "        2.4929e-02, 1.1475e-04, 2.2305e-04, 3.3845e-05, 4.6849e-01])\n",
            "tensor(22)\n",
            "tensor([2.4929e-03, 3.0020e-05, 1.1335e-06, 1.1725e-04, 5.5951e-03, 1.6641e-07,\n",
            "        4.9336e-05, 3.6961e-06, 6.4764e-04, 7.5986e-02, 6.7126e-06, 1.1112e-04,\n",
            "        2.8502e-03, 4.0373e-05, 3.4976e-05, 1.0838e-06, 1.2279e-04, 4.3542e-05,\n",
            "        9.1737e-06, 6.9329e-04, 1.8105e-01, 5.4033e-05, 7.3006e-01])\n",
            "tensor(22)\n",
            "tensor([6.5979e-04, 1.1774e-05, 4.1750e-04, 6.3284e-06, 9.9197e-01, 2.0773e-07,\n",
            "        7.7323e-06, 2.2447e-07, 1.0717e-04, 3.8604e-06, 3.8722e-05, 6.1038e-06,\n",
            "        3.7639e-05, 9.7344e-06, 3.4675e-07, 9.3853e-08, 3.5612e-03, 1.1569e-05,\n",
            "        2.0084e-07, 2.6612e-06, 5.7371e-08, 1.5585e-07, 3.1491e-03])\n",
            "tensor(4)\n",
            "tensor([6.6135e-04, 2.6030e-04, 3.3327e-01, 1.9537e-04, 1.4585e-03, 2.9548e-01,\n",
            "        4.8253e-04, 1.6886e-04, 3.4208e-04, 2.3806e-01, 7.3276e-04, 4.5147e-04,\n",
            "        3.0808e-04, 3.5456e-03, 2.6922e-03, 3.6055e-04, 1.7967e-02, 6.0753e-05,\n",
            "        9.5072e-02, 1.6227e-05, 8.7188e-04, 6.7822e-03, 7.5678e-04])\n",
            "tensor(2)\n",
            "tensor([6.3214e-07, 1.6573e-06, 8.3943e-05, 2.1400e-05, 6.5249e-04, 1.6903e-03,\n",
            "        2.5926e-06, 2.7174e-08, 1.1704e-03, 9.9494e-01, 2.3383e-06, 7.4813e-09,\n",
            "        4.0646e-08, 2.3658e-06, 2.6543e-06, 5.0129e-08, 5.0179e-08, 4.0504e-05,\n",
            "        5.7808e-06, 1.8348e-05, 1.0777e-04, 5.8238e-06, 1.2532e-03])\n",
            "tensor(9)\n",
            "tensor([1.2194e-07, 9.3922e-06, 7.9487e-01, 8.9594e-06, 4.1521e-06, 1.4214e-01,\n",
            "        1.7297e-05, 8.0093e-03, 3.0022e-05, 1.2498e-02, 2.7385e-02, 1.7532e-06,\n",
            "        9.1569e-08, 3.8274e-04, 7.9217e-05, 9.2105e-05, 1.3238e-03, 2.5952e-05,\n",
            "        1.2495e-02, 1.1771e-05, 5.3695e-04, 7.6006e-05, 3.6920e-06])\n",
            "tensor(2)\n",
            "tensor([2.7866e-06, 2.6261e-05, 1.1805e-03, 1.6157e-01, 2.7671e-01, 3.7554e-04,\n",
            "        3.7302e-05, 1.5155e-06, 4.5144e-05, 4.2018e-02, 4.5924e-07, 2.3530e-06,\n",
            "        1.1160e-03, 2.8125e-05, 3.9415e-03, 1.9651e-06, 2.1257e-07, 1.7717e-05,\n",
            "        4.7702e-06, 1.3638e-04, 1.5697e-03, 8.6705e-08, 5.1120e-01])\n",
            "tensor(22)\n",
            "tensor([3.0996e-05, 1.4957e-03, 6.2306e-03, 8.8551e-02, 1.2479e-02, 1.2237e-02,\n",
            "        1.2994e-03, 3.4445e-02, 5.4664e-03, 5.9919e-02, 4.5800e-02, 2.1750e-04,\n",
            "        4.8709e-04, 3.9722e-02, 6.9887e-05, 5.1643e-05, 8.8898e-03, 1.8431e-02,\n",
            "        3.9402e-03, 6.3168e-01, 1.6405e-02, 2.1233e-03, 1.0029e-02])\n",
            "tensor(19)\n",
            "tensor([2.5671e-05, 2.5169e-06, 1.4925e-07, 1.7986e-03, 1.1457e-06, 8.0401e-09,\n",
            "        4.0103e-06, 8.7651e-05, 1.2543e-10, 2.1008e-07, 5.3164e-08, 9.8094e-02,\n",
            "        8.9785e-01, 4.3839e-06, 1.4974e-03, 1.0059e-04, 1.4617e-04, 2.8198e-08,\n",
            "        1.7793e-05, 2.2943e-06, 3.0951e-04, 1.1170e-07, 5.6906e-05])\n",
            "tensor(12)\n",
            "tensor([6.6992e-01, 2.5779e-04, 2.4525e-06, 2.7501e-03, 2.2093e-02, 9.3427e-07,\n",
            "        2.5020e-04, 1.3571e-05, 9.4972e-04, 6.0550e-06, 2.6705e-05, 1.6459e-01,\n",
            "        2.1085e-03, 4.9744e-04, 2.5295e-05, 3.0625e-02, 5.3582e-04, 7.8259e-02,\n",
            "        2.4505e-08, 2.6888e-02, 1.9763e-04, 2.2170e-07, 1.2595e-07])\n",
            "tensor(0)\n",
            "tensor([2.8112e-07, 3.1308e-06, 4.1604e-05, 7.1550e-09, 6.1631e-08, 6.8925e-02,\n",
            "        5.8268e-06, 2.0087e-06, 2.3255e-05, 1.1426e-02, 4.9102e-05, 2.5993e-07,\n",
            "        6.3129e-08, 2.9765e-06, 4.7933e-04, 2.2325e-08, 1.3084e-04, 6.7297e-06,\n",
            "        2.4618e-03, 3.9018e-08, 5.4025e-07, 9.1641e-01, 3.2284e-05])\n",
            "tensor(21)\n",
            "tensor([6.1807e-07, 1.0044e-05, 4.6823e-01, 3.7929e-04, 2.3341e-04, 1.4478e-01,\n",
            "        3.4508e-05, 1.9233e-04, 6.9450e-07, 2.0375e-01, 3.7506e-05, 8.3684e-07,\n",
            "        5.3659e-04, 3.2558e-05, 1.3830e-01, 4.8145e-04, 3.7828e-06, 4.3693e-05,\n",
            "        3.3909e-02, 8.0621e-06, 6.5175e-03, 1.9902e-04, 2.3225e-03])\n",
            "tensor(2)\n",
            "tensor([6.8396e-06, 6.4306e-05, 1.6774e-03, 9.2706e-02, 4.7060e-02, 9.6241e-03,\n",
            "        1.3795e-04, 2.6994e-05, 2.2959e-03, 5.0225e-01, 4.8428e-06, 2.0556e-06,\n",
            "        1.2091e-04, 1.8220e-04, 3.7351e-02, 1.5563e-04, 3.7309e-08, 6.2263e-03,\n",
            "        1.6410e-06, 1.7557e-02, 2.7480e-01, 6.6981e-07, 7.7483e-03])\n",
            "tensor(9)\n"
          ],
          "name": "stdout"
        },
        {
          "output_type": "execute_result",
          "data": {
            "text/plain": [
              "'goodralooks sotndrs '"
            ]
          },
          "metadata": {
            "tags": []
          },
          "execution_count": 24
        }
      ]
    },
    {
      "cell_type": "code",
      "metadata": {
        "id": "Hc4BMy5SAad4",
        "colab_type": "code",
        "colab": {}
      },
      "source": [
        ""
      ],
      "execution_count": 0,
      "outputs": []
    }
  ]
}