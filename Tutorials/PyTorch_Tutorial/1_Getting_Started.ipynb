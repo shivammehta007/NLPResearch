{
 "cells": [
  {
   "cell_type": "markdown",
   "metadata": {},
   "source": [
    "Link: https://pytorch.org/tutorials/beginner/deep_learning_60min_blitz.html"
   ]
  },
  {
   "cell_type": "code",
   "execution_count": 1,
   "metadata": {},
   "outputs": [],
   "source": [
    "from __future__ import print_function\n",
    "import torch"
   ]
  },
  {
   "cell_type": "markdown",
   "metadata": {},
   "source": [
    "Initializing a matrix"
   ]
  },
  {
   "cell_type": "code",
   "execution_count": 2,
   "metadata": {},
   "outputs": [
    {
     "name": "stdout",
     "output_type": "stream",
     "text": [
      "tensor([[1.0761e-22, 1.4013e-45, 1.4235e-30, 1.4013e-45],\n",
      "        [1.2910e-35, 1.4013e-45, 1.4215e-30, 1.4013e-45],\n",
      "        [1.2761e-22, 1.4013e-45, 1.0739e-22, 1.4013e-45],\n",
      "        [1.4225e-30, 1.4013e-45, 1.2903e-35, 1.4013e-45],\n",
      "        [1.4225e-30, 1.4013e-45, 1.2807e-22, 1.4013e-45],\n",
      "        [1.4215e-30, 1.4013e-45, 1.4215e-30, 1.4013e-45]])\n",
      "tensor([[1.0761e-22, 1.4013e-45, 1.4235e-30, 1.4013e-45, 1.2910e-35, 1.4013e-45],\n",
      "        [1.4215e-30, 1.4013e-45, 1.2761e-22, 1.4013e-45, 1.0739e-22, 1.4013e-45],\n",
      "        [1.4225e-30, 1.4013e-45, 1.2903e-35, 1.4013e-45, 1.4225e-30, 1.4013e-45],\n",
      "        [1.2807e-22, 1.4013e-45, 1.4215e-30, 1.4013e-45, 1.4215e-30, 1.4013e-45]])\n",
      "tensor([1.0761e-22, 1.4013e-45, 1.4235e-30, 1.4013e-45, 1.2910e-35, 1.4013e-45,\n",
      "        1.4215e-30, 1.4013e-45, 1.2761e-22, 1.4013e-45, 1.0739e-22, 1.4013e-45,\n",
      "        1.4225e-30, 1.4013e-45, 1.2903e-35, 1.4013e-45, 1.4225e-30, 1.4013e-45,\n",
      "        1.2807e-22, 1.4013e-45, 1.4215e-30, 1.4013e-45, 1.4215e-30, 1.4013e-45])\n",
      "<class 'torch.Tensor'>\n"
     ]
    }
   ],
   "source": [
    "x = torch.empty(6,4)\n",
    "print(x)\n",
    "print(x.reshape(4,6))\n",
    "print(x.view(24))\n",
    "print(type(x))"
   ]
  },
  {
   "cell_type": "code",
   "execution_count": 3,
   "metadata": {},
   "outputs": [
    {
     "name": "stdout",
     "output_type": "stream",
     "text": [
      "tensor([[0.4211, 0.9934, 0.3699],\n",
      "        [0.6998, 0.4500, 0.8729],\n",
      "        [0.3409, 0.2364, 0.5567],\n",
      "        [0.1558, 0.8091, 0.1216],\n",
      "        [0.2371, 0.9374, 0.0206]])\n",
      "tensor([[0., 0., 0.],\n",
      "        [0., 0., 0.],\n",
      "        [0., 0., 0.],\n",
      "        [0., 0., 0.],\n",
      "        [0., 0., 0.]])\n",
      "torch.Size([5, 3])\n"
     ]
    }
   ],
   "source": [
    "x = torch.rand(5,3)\n",
    "print(x)\n",
    "y = torch.zeros(5,3, dtype=torch.float)\n",
    "print(y)\n",
    "print(x.size())"
   ]
  },
  {
   "cell_type": "code",
   "execution_count": 4,
   "metadata": {},
   "outputs": [
    {
     "name": "stdout",
     "output_type": "stream",
     "text": [
      "tensor([[0.5245, 0.8692, 0.0201],\n",
      "        [0.8460, 0.9743, 0.0176],\n",
      "        [0.5257, 0.0147, 0.3019],\n",
      "        [0.3490, 0.8909, 0.0862],\n",
      "        [0.5972, 0.9460, 0.9397]])\n"
     ]
    }
   ],
   "source": [
    "b = torch.rand_like(y, dtype=torch.float)\n",
    "print(b)"
   ]
  },
  {
   "cell_type": "code",
   "execution_count": 5,
   "metadata": {},
   "outputs": [
    {
     "name": "stdout",
     "output_type": "stream",
     "text": [
      "tensor([[0.4211, 0.9934, 0.3699],\n",
      "        [0.6998, 0.4500, 0.8729],\n",
      "        [0.3409, 0.2364, 0.5567],\n",
      "        [0.1558, 0.8091, 0.1216],\n",
      "        [0.2371, 0.9374, 0.0206]])\n"
     ]
    }
   ],
   "source": [
    "data = x+y\n",
    "print(data)"
   ]
  },
  {
   "cell_type": "code",
   "execution_count": 6,
   "metadata": {},
   "outputs": [
    {
     "name": "stdout",
     "output_type": "stream",
     "text": [
      "tensor([[0.4724, 0.4628, 0.5393],\n",
      "        [0.6220, 0.9108, 0.1871]])\n",
      "tensor([[0.4724, 0.6220],\n",
      "        [0.4628, 0.9108],\n",
      "        [0.5393, 0.1871]])\n"
     ]
    }
   ],
   "source": [
    "c = torch.rand(3,2)\n",
    "print(c.t())\n",
    "print(c)\n",
    "# print(torch.transpose(c, -1,0))"
   ]
  },
  {
   "cell_type": "code",
   "execution_count": 7,
   "metadata": {},
   "outputs": [
    {
     "data": {
      "text/plain": [
       "False"
      ]
     },
     "execution_count": 7,
     "metadata": {},
     "output_type": "execute_result"
    }
   ],
   "source": [
    "# False Because Macbook -_-\n",
    "torch.cuda.is_available()"
   ]
  },
  {
   "cell_type": "markdown",
   "metadata": {},
   "source": [
    "## Automatic Gradient : autograd"
   ]
  },
  {
   "cell_type": "code",
   "execution_count": 8,
   "metadata": {},
   "outputs": [
    {
     "name": "stdout",
     "output_type": "stream",
     "text": [
      "tensor([[1., 1.],\n",
      "        [1., 1.]], requires_grad=True)\n"
     ]
    }
   ],
   "source": [
    "x = torch.ones(2,2, requires_grad=True)\n",
    "print(x)"
   ]
  },
  {
   "cell_type": "code",
   "execution_count": 9,
   "metadata": {},
   "outputs": [
    {
     "name": "stdout",
     "output_type": "stream",
     "text": [
      "tensor([[3., 3.],\n",
      "        [3., 3.]], grad_fn=<AddBackward0>)\n"
     ]
    }
   ],
   "source": [
    "y = x + 2\n",
    "print(y)"
   ]
  },
  {
   "cell_type": "code",
   "execution_count": 10,
   "metadata": {},
   "outputs": [
    {
     "name": "stdout",
     "output_type": "stream",
     "text": [
      "tensor([[27., 27.],\n",
      "        [27., 27.]], grad_fn=<MulBackward0>)\n",
      "tensor(27., grad_fn=<MeanBackward0>)\n"
     ]
    }
   ],
   "source": [
    "z = y*y *3\n",
    "out = z.mean()\n",
    "print(z)\n",
    "print(out)"
   ]
  },
  {
   "cell_type": "code",
   "execution_count": 11,
   "metadata": {},
   "outputs": [],
   "source": [
    "out.backward()"
   ]
  },
  {
   "cell_type": "code",
   "execution_count": 12,
   "metadata": {},
   "outputs": [
    {
     "name": "stdout",
     "output_type": "stream",
     "text": [
      "tensor([[4.5000, 4.5000],\n",
      "        [4.5000, 4.5000]])\n"
     ]
    }
   ],
   "source": [
    "print(x.grad)"
   ]
  },
  {
   "cell_type": "code",
   "execution_count": 13,
   "metadata": {},
   "outputs": [
    {
     "name": "stdout",
     "output_type": "stream",
     "text": [
      "False\n",
      "True\n",
      "<SumBackward0 object at 0x11b3a5a20>\n"
     ]
    }
   ],
   "source": [
    "a = torch.randn(2, 2)\n",
    "a = ((a * 3) / (a - 1))\n",
    "print(a.requires_grad)\n",
    "a.requires_grad_(True)\n",
    "print(a.requires_grad)\n",
    "b = (a * a).sum()\n",
    "print(b.grad_fn)"
   ]
  },
  {
   "cell_type": "code",
   "execution_count": 14,
   "metadata": {},
   "outputs": [
    {
     "name": "stdout",
     "output_type": "stream",
     "text": [
      "tensor([[-11.1287,  -1.2985],\n",
      "        [ -4.6900,  79.2172]])\n"
     ]
    }
   ],
   "source": [
    "b.backward()\n",
    "print(a.grad)"
   ]
  },
  {
   "cell_type": "code",
   "execution_count": 15,
   "metadata": {},
   "outputs": [
    {
     "name": "stdout",
     "output_type": "stream",
     "text": [
      "tensor([   4.8059,  928.2822, 1009.1189], grad_fn=<MulBackward0>)\n"
     ]
    }
   ],
   "source": [
    "x = torch.rand(3, requires_grad=True)\n",
    "y = x*2\n",
    "while y.data.norm() < 1000:\n",
    "    y = y*2\n",
    "\n",
    "print(y)"
   ]
  },
  {
   "cell_type": "code",
   "execution_count": 16,
   "metadata": {},
   "outputs": [
    {
     "name": "stdout",
     "output_type": "stream",
     "text": [
      "tensor([4.0960e+02, 4.0960e+03, 4.0960e-01])\n"
     ]
    }
   ],
   "source": [
    "v = torch.tensor([0.1, 1.0, 0.0001], dtype=torch.float)\n",
    "y.backward(v)\n",
    "print(x.grad)"
   ]
  },
  {
   "cell_type": "code",
   "execution_count": 17,
   "metadata": {},
   "outputs": [
    {
     "name": "stdout",
     "output_type": "stream",
     "text": [
      "False\n",
      "True\n"
     ]
    }
   ],
   "source": [
    "with torch.no_grad():\n",
    "    print( (x**2).requires_grad)\n",
    "print( (x**2).requires_grad)"
   ]
  },
  {
   "cell_type": "code",
   "execution_count": 25,
   "metadata": {},
   "outputs": [],
   "source": [
    "x = torch.rand(5, 10, requires_grad=True)"
   ]
  },
  {
   "cell_type": "code",
   "execution_count": 37,
   "metadata": {},
   "outputs": [
    {
     "data": {
      "text/plain": [
       "tensor([0.2787, 0.5092, 0.6330, 0.0853, 0.1845, 0.6749, 0.2134, 0.4823, 0.3860,\n",
       "        0.7606, 0.6958, 0.8749, 0.7311, 0.4366, 0.3527, 0.6562, 0.2712, 0.9325,\n",
       "        0.1516, 0.0092, 0.4119, 0.1704, 0.5580, 0.2106, 0.0903, 0.3065, 0.3325,\n",
       "        0.3495, 0.2903, 0.4991, 0.3995, 0.6567, 0.8301, 0.3108, 0.5299, 0.8983,\n",
       "        0.3753, 0.7403, 0.6513, 0.8189, 0.6782, 0.2254, 0.0702, 0.6598, 0.7375,\n",
       "        0.4342, 0.7455, 0.4047, 0.4849, 0.6905], grad_fn=<ViewBackward>)"
      ]
     },
     "execution_count": 37,
     "metadata": {},
     "output_type": "execute_result"
    }
   ],
   "source": [
    "x.view(-1)"
   ]
  },
  {
   "cell_type": "code",
   "execution_count": null,
   "metadata": {},
   "outputs": [],
   "source": []
  }
 ],
 "metadata": {
  "kernelspec": {
   "display_name": "Python 3",
   "language": "python",
   "name": "python3"
  },
  "language_info": {
   "codemirror_mode": {
    "name": "ipython",
    "version": 3
   },
   "file_extension": ".py",
   "mimetype": "text/x-python",
   "name": "python",
   "nbconvert_exporter": "python",
   "pygments_lexer": "ipython3",
   "version": "3.6.7"
  }
 },
 "nbformat": 4,
 "nbformat_minor": 2
}
