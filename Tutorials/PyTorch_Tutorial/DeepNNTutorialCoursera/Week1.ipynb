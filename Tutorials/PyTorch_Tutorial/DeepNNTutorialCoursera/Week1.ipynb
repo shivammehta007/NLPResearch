{
  "nbformat": 4,
  "nbformat_minor": 0,
  "metadata": {
    "kernelspec": {
      "display_name": "Python 3",
      "language": "python",
      "name": "python3"
    },
    "language_info": {
      "name": ""
    },
    "colab": {
      "name": "Week1.ipynb",
      "provenance": [],
      "include_colab_link": true
    }
  },
  "cells": [
    {
      "cell_type": "markdown",
      "metadata": {
        "id": "view-in-github",
        "colab_type": "text"
      },
      "source": [
        "<a href=\"https://colab.research.google.com/github/shivammehta007/NLPResearch/blob/master/Tutorials/PyTorch_Tutorial/DeepNNTutorialCoursera/Week1.ipynb\" target=\"_parent\"><img src=\"https://colab.research.google.com/assets/colab-badge.svg\" alt=\"Open In Colab\"/></a>"
      ]
    },
    {
      "cell_type": "code",
      "metadata": {
        "id": "_RYagDPOG0MA",
        "colab_type": "code",
        "colab": {}
      },
      "source": [
        "import torch\n",
        "import numpy as np\n",
        "import matplotlib.pyplot as plt\n",
        "%matplotlib inline"
      ],
      "execution_count": 0,
      "outputs": []
    },
    {
      "cell_type": "markdown",
      "metadata": {
        "id": "cdymgfDMNZgR",
        "colab_type": "text"
      },
      "source": [
        "# One Dimension Tensor"
      ]
    },
    {
      "cell_type": "code",
      "metadata": {
        "id": "tCoimyW4G4HT",
        "colab_type": "code",
        "colab": {
          "base_uri": "https://localhost:8080/",
          "height": 34
        },
        "outputId": "9200f628-2121-4c8c-cfc8-72aa8ec81939"
      },
      "source": [
        "a = torch.Tensor([0, 1, 2, 3, 4])\n",
        "a[1], a"
      ],
      "execution_count": 2,
      "outputs": [
        {
          "output_type": "execute_result",
          "data": {
            "text/plain": [
              "(tensor(1.), tensor([0., 1., 2., 3., 4.]))"
            ]
          },
          "metadata": {
            "tags": []
          },
          "execution_count": 2
        }
      ]
    },
    {
      "cell_type": "code",
      "metadata": {
        "id": "a7iGrzgZHKuF",
        "colab_type": "code",
        "colab": {
          "base_uri": "https://localhost:8080/",
          "height": 34
        },
        "outputId": "663ed6e6-0c43-4764-cb8c-a5d78f009658"
      },
      "source": [
        "a.dtype"
      ],
      "execution_count": 3,
      "outputs": [
        {
          "output_type": "execute_result",
          "data": {
            "text/plain": [
              "torch.float32"
            ]
          },
          "metadata": {
            "tags": []
          },
          "execution_count": 3
        }
      ]
    },
    {
      "cell_type": "code",
      "metadata": {
        "id": "sH_dvxFBHLYP",
        "colab_type": "code",
        "colab": {
          "base_uri": "https://localhost:8080/",
          "height": 34
        },
        "outputId": "ccd19dd0-06fb-43ee-d1bb-20fe303e9492"
      },
      "source": [
        "a.type()"
      ],
      "execution_count": 5,
      "outputs": [
        {
          "output_type": "execute_result",
          "data": {
            "text/plain": [
              "'torch.FloatTensor'"
            ]
          },
          "metadata": {
            "tags": []
          },
          "execution_count": 5
        }
      ]
    },
    {
      "cell_type": "code",
      "metadata": {
        "id": "4scw8JmQHSA5",
        "colab_type": "code",
        "colab": {
          "base_uri": "https://localhost:8080/",
          "height": 34
        },
        "outputId": "d670b70e-ecdb-4152-8dd4-0becd26be2e0"
      },
      "source": [
        "a.size(), a.shape, a.ndimension()"
      ],
      "execution_count": 8,
      "outputs": [
        {
          "output_type": "execute_result",
          "data": {
            "text/plain": [
              "(torch.Size([5]), torch.Size([5]), 1)"
            ]
          },
          "metadata": {
            "tags": []
          },
          "execution_count": 8
        }
      ]
    },
    {
      "cell_type": "code",
      "metadata": {
        "id": "2R4q4laSHmVA",
        "colab_type": "code",
        "colab": {}
      },
      "source": [
        "a_col = a.view(5, 1)"
      ],
      "execution_count": 0,
      "outputs": []
    },
    {
      "cell_type": "markdown",
      "metadata": {
        "id": "jCBGKA75IHpi",
        "colab_type": "text"
      },
      "source": [
        "If we don't know the dimensions we can use -1 instead of that"
      ]
    },
    {
      "cell_type": "code",
      "metadata": {
        "id": "uywkIGYqH1uW",
        "colab_type": "code",
        "colab": {
          "base_uri": "https://localhost:8080/",
          "height": 102
        },
        "outputId": "5c3fe63a-7dce-44a3-ce56-043be7107154"
      },
      "source": [
        "a.view(-1, 1)"
      ],
      "execution_count": 18,
      "outputs": [
        {
          "output_type": "execute_result",
          "data": {
            "text/plain": [
              "tensor([[0.],\n",
              "        [1.],\n",
              "        [2.],\n",
              "        [3.],\n",
              "        [4.]])"
            ]
          },
          "metadata": {
            "tags": []
          },
          "execution_count": 18
        }
      ]
    },
    {
      "cell_type": "code",
      "metadata": {
        "id": "hC06fCUHIMLX",
        "colab_type": "code",
        "colab": {
          "base_uri": "https://localhost:8080/",
          "height": 34
        },
        "outputId": "1a6582c4-3b28-4b6c-e935-81ed2034a3a6"
      },
      "source": [
        "a_col.ndimension()"
      ],
      "execution_count": 19,
      "outputs": [
        {
          "output_type": "execute_result",
          "data": {
            "text/plain": [
              "2"
            ]
          },
          "metadata": {
            "tags": []
          },
          "execution_count": 19
        }
      ]
    },
    {
      "cell_type": "code",
      "metadata": {
        "id": "d6CVDX3xITRX",
        "colab_type": "code",
        "colab": {
          "base_uri": "https://localhost:8080/",
          "height": 34
        },
        "outputId": "4f9f85d0-89c0-4303-d906-9b681a2db1a4"
      },
      "source": [
        "x = torch.Tensor([0, np.pi, np.pi/2, np.pi/4])\n",
        "torch.sin(x)"
      ],
      "execution_count": 23,
      "outputs": [
        {
          "output_type": "execute_result",
          "data": {
            "text/plain": [
              "tensor([ 0.0000e+00, -8.7423e-08,  1.0000e+00,  7.0711e-01])"
            ]
          },
          "metadata": {
            "tags": []
          },
          "execution_count": 23
        }
      ]
    },
    {
      "cell_type": "code",
      "metadata": {
        "id": "Zx0JUfmFL4iY",
        "colab_type": "code",
        "colab": {
          "base_uri": "https://localhost:8080/",
          "height": 34
        },
        "outputId": "afcfec4d-4bca-46d2-88cb-c2b553055fd2"
      },
      "source": [
        "torch.linspace(-5, 5, steps=11)"
      ],
      "execution_count": 28,
      "outputs": [
        {
          "output_type": "execute_result",
          "data": {
            "text/plain": [
              "tensor([-5., -4., -3., -2., -1.,  0.,  1.,  2.,  3.,  4.,  5.])"
            ]
          },
          "metadata": {
            "tags": []
          },
          "execution_count": 28
        }
      ]
    },
    {
      "cell_type": "code",
      "metadata": {
        "id": "Cwm9vNDOMNWM",
        "colab_type": "code",
        "colab": {}
      },
      "source": [
        "x = torch.linspace(0, 8*np.pi, 1000)\n",
        "y = torch.sin(x)"
      ],
      "execution_count": 0,
      "outputs": []
    },
    {
      "cell_type": "code",
      "metadata": {
        "id": "tpytj_emMxPI",
        "colab_type": "code",
        "colab": {
          "base_uri": "https://localhost:8080/",
          "height": 265
        },
        "outputId": "52127163-d214-4391-d913-fad665a3efd0"
      },
      "source": [
        "plt.plot(x.numpy(), y.numpy())\n",
        "plt.show()"
      ],
      "execution_count": 35,
      "outputs": [
        {
          "output_type": "display_data",
          "data": {
            "image/png": "[encoded data removed]",
            "text/plain": [
              "<Figure size 432x288 with 1 Axes>"
            ]
          },
          "metadata": {
            "tags": []
          }
        }
      ]
    },
    {
      "cell_type": "markdown",
      "metadata": {
        "id": "fwik0EuoNcMJ",
        "colab_type": "text"
      },
      "source": [
        "# 2 D Tensor"
      ]
    },
    {
      "cell_type": "code",
      "metadata": {
        "id": "ClYzuXy4M7Yz",
        "colab_type": "code",
        "colab": {
          "base_uri": "https://localhost:8080/",
          "height": 102
        },
        "outputId": "e0f70f4f-24b3-4550-9e61-d07501bb961a"
      },
      "source": [
        "x = torch.rand((5, 2))\n",
        "x"
      ],
      "execution_count": 39,
      "outputs": [
        {
          "output_type": "execute_result",
          "data": {
            "text/plain": [
              "tensor([[0.4732, 0.8077],\n",
              "        [0.8364, 0.4012],\n",
              "        [0.8111, 0.4640],\n",
              "        [0.9573, 0.1818],\n",
              "        [0.8853, 0.3871]])"
            ]
          },
          "metadata": {
            "tags": []
          },
          "execution_count": 39
        }
      ]
    },
    {
      "cell_type": "markdown",
      "metadata": {
        "id": "UTyDdg6wWm2x",
        "colab_type": "text"
      },
      "source": [
        "Same as 1 D tensors"
      ]
    },
    {
      "cell_type": "markdown",
      "metadata": {
        "id": "gZYy-lipX9EO",
        "colab_type": "text"
      },
      "source": [
        "# Derivatives in PyTorch"
      ]
    },
    {
      "cell_type": "code",
      "metadata": {
        "id": "e-ksfVt7NkfA",
        "colab_type": "code",
        "colab": {}
      },
      "source": [
        "x = torch.tensor(2, requires_grad=True, dtype=torch.float32)\n",
        "y = x ** 2"
      ],
      "execution_count": 0,
      "outputs": []
    },
    {
      "cell_type": "markdown",
      "metadata": {
        "id": "q2yGLc2FY_zs",
        "colab_type": "text"
      },
      "source": [
        "$ x^2 \\rightarrow \\dfrac{dy}{dx} = 2x$"
      ]
    },
    {
      "cell_type": "code",
      "metadata": {
        "id": "eUJqZ0e7YJLd",
        "colab_type": "code",
        "colab": {
          "base_uri": "https://localhost:8080/",
          "height": 34
        },
        "outputId": "32d971f3-9116-40e2-93f1-95af496b93bb"
      },
      "source": [
        "y.backward()\n",
        "y"
      ],
      "execution_count": 44,
      "outputs": [
        {
          "output_type": "execute_result",
          "data": {
            "text/plain": [
              "tensor(4., grad_fn=<PowBackward0>)"
            ]
          },
          "metadata": {
            "tags": []
          },
          "execution_count": 44
        }
      ]
    },
    {
      "cell_type": "markdown",
      "metadata": {
        "id": "osy07lJdZiJp",
        "colab_type": "text"
      },
      "source": [
        "$ 2*x \\rightarrow 2 * 2= 4 $"
      ]
    },
    {
      "cell_type": "code",
      "metadata": {
        "id": "Pk-PPJC3YVyo",
        "colab_type": "code",
        "colab": {
          "base_uri": "https://localhost:8080/",
          "height": 34
        },
        "outputId": "ba7c0ea4-83dc-403d-a6c2-3f5f0f1ce9c8"
      },
      "source": [
        "x.grad"
      ],
      "execution_count": 46,
      "outputs": [
        {
          "output_type": "execute_result",
          "data": {
            "text/plain": [
              "tensor(4.)"
            ]
          },
          "metadata": {
            "tags": []
          },
          "execution_count": 46
        }
      ]
    },
    {
      "cell_type": "markdown",
      "metadata": {
        "id": "AuEPkzf4cDpA",
        "colab_type": "text"
      },
      "source": [
        "Another Example"
      ]
    },
    {
      "cell_type": "code",
      "metadata": {
        "id": "TDj7VXfSY2qr",
        "colab_type": "code",
        "colab": {}
      },
      "source": [
        "x = torch.tensor(2, requires_grad=True, dtype=torch.float32)"
      ],
      "execution_count": 0,
      "outputs": []
    },
    {
      "cell_type": "code",
      "metadata": {
        "id": "Jm0dN_SwcHvE",
        "colab_type": "code",
        "colab": {
          "base_uri": "https://localhost:8080/",
          "height": 34
        },
        "outputId": "fdf2daed-7c9d-4013-e6f4-f77fcdea5f62"
      },
      "source": [
        "y = x**2 + 2 * x + 1\n",
        "y"
      ],
      "execution_count": 49,
      "outputs": [
        {
          "output_type": "execute_result",
          "data": {
            "text/plain": [
              "tensor(9., grad_fn=<AddBackward0>)"
            ]
          },
          "metadata": {
            "tags": []
          },
          "execution_count": 49
        }
      ]
    },
    {
      "cell_type": "code",
      "metadata": {
        "id": "hMZo2Ff-cQSl",
        "colab_type": "code",
        "colab": {}
      },
      "source": [
        "y.backward()"
      ],
      "execution_count": 0,
      "outputs": []
    },
    {
      "cell_type": "code",
      "metadata": {
        "id": "xZ7U23OWcTYR",
        "colab_type": "code",
        "colab": {
          "base_uri": "https://localhost:8080/",
          "height": 34
        },
        "outputId": "84e36f4e-b76a-45d3-8699-526c1145b458"
      },
      "source": [
        "x.grad"
      ],
      "execution_count": 51,
      "outputs": [
        {
          "output_type": "execute_result",
          "data": {
            "text/plain": [
              "tensor(6.)"
            ]
          },
          "metadata": {
            "tags": []
          },
          "execution_count": 51
        }
      ]
    },
    {
      "cell_type": "code",
      "metadata": {
        "id": "g04o3LFHcT8E",
        "colab_type": "code",
        "colab": {}
      },
      "source": [
        ""
      ],
      "execution_count": 0,
      "outputs": []
    },
    {
      "cell_type": "markdown",
      "metadata": {
        "id": "v0nYrmzncWtN",
        "colab_type": "text"
      },
      "source": [
        "# Partial Derivatives"
      ]
    },
    {
      "cell_type": "code",
      "metadata": {
        "id": "rk9EhESZcX62",
        "colab_type": "code",
        "colab": {}
      },
      "source": [
        "u = torch.tensor(1, requires_grad=True, dtype=torch.float32)\n",
        "v = torch.tensor(2, requires_grad=True, dtype=torch.float32)\n",
        "z = u*v + u**2"
      ],
      "execution_count": 0,
      "outputs": []
    },
    {
      "cell_type": "code",
      "metadata": {
        "id": "r1HRBowhcqI0",
        "colab_type": "code",
        "colab": {
          "base_uri": "https://localhost:8080/",
          "height": 34
        },
        "outputId": "8d5f5458-c7ee-4328-eaf7-8040138501e8"
      },
      "source": [
        "z.backward()\n",
        "z"
      ],
      "execution_count": 58,
      "outputs": [
        {
          "output_type": "execute_result",
          "data": {
            "text/plain": [
              "tensor(3., grad_fn=<AddBackward0>)"
            ]
          },
          "metadata": {
            "tags": []
          },
          "execution_count": 58
        }
      ]
    },
    {
      "cell_type": "code",
      "metadata": {
        "id": "CWEnCiwjcrJd",
        "colab_type": "code",
        "colab": {
          "base_uri": "https://localhost:8080/",
          "height": 34
        },
        "outputId": "24ba4f64-1311-4000-942f-b1a4fe21f7b3"
      },
      "source": [
        "u.grad"
      ],
      "execution_count": 59,
      "outputs": [
        {
          "output_type": "execute_result",
          "data": {
            "text/plain": [
              "tensor(4.)"
            ]
          },
          "metadata": {
            "tags": []
          },
          "execution_count": 59
        }
      ]
    },
    {
      "cell_type": "code",
      "metadata": {
        "id": "otYJ1Tf5csEL",
        "colab_type": "code",
        "colab": {
          "base_uri": "https://localhost:8080/",
          "height": 34
        },
        "outputId": "acf6ba3b-8f08-4386-caa7-ccf4e71b9a81"
      },
      "source": [
        "v.grad"
      ],
      "execution_count": 60,
      "outputs": [
        {
          "output_type": "execute_result",
          "data": {
            "text/plain": [
              "tensor(1.)"
            ]
          },
          "metadata": {
            "tags": []
          },
          "execution_count": 60
        }
      ]
    },
    {
      "cell_type": "code",
      "metadata": {
        "id": "ducu4Zl2csjA",
        "colab_type": "code",
        "colab": {}
      },
      "source": [
        ""
      ],
      "execution_count": 0,
      "outputs": []
    },
    {
      "cell_type": "markdown",
      "metadata": {
        "id": "8UECnhRcdfHC",
        "colab_type": "text"
      },
      "source": [
        "# DataSet"
      ]
    },
    {
      "cell_type": "code",
      "metadata": {
        "id": "MsZ0iTI8dfrM",
        "colab_type": "code",
        "colab": {}
      },
      "source": [
        "from torch.utils.data import Dataset"
      ],
      "execution_count": 0,
      "outputs": []
    },
    {
      "cell_type": "code",
      "metadata": {
        "id": "s7EaCLe1dkEc",
        "colab_type": "code",
        "colab": {}
      },
      "source": [
        "class TestDataset(Dataset):\n",
        "\n",
        "    def __init__(self, length=100, transform=None):\n",
        "        self.x = 2 * torch.ones(length, 2)\n",
        "        self.y = torch.ones(length, 1)\n",
        "    \n",
        "        self.len = length\n",
        "        self.transform = transform\n",
        "    \n",
        "    def __getitem__(self, index):\n",
        "        sample = self.x[index], self.y[index]\n",
        "        if self.transform:\n",
        "            sample = self.transform(sample)\n",
        "        return sample\n",
        "    \n",
        "    def __len__(self):\n",
        "        return self.len"
      ],
      "execution_count": 0,
      "outputs": []
    },
    {
      "cell_type": "code",
      "metadata": {
        "id": "-JWhoIIEeue-",
        "colab_type": "code",
        "colab": {}
      },
      "source": [
        "dataset = TestDataset()"
      ],
      "execution_count": 0,
      "outputs": []
    },
    {
      "cell_type": "code",
      "metadata": {
        "id": "VxKcVNRIe0po",
        "colab_type": "code",
        "colab": {
          "base_uri": "https://localhost:8080/",
          "height": 34
        },
        "outputId": "05f597f5-f63b-4129-b250-891e70e8b133"
      },
      "source": [
        "len(dataset)"
      ],
      "execution_count": 76,
      "outputs": [
        {
          "output_type": "execute_result",
          "data": {
            "text/plain": [
              "100"
            ]
          },
          "metadata": {
            "tags": []
          },
          "execution_count": 76
        }
      ]
    },
    {
      "cell_type": "code",
      "metadata": {
        "id": "yLUuuV3ne3so",
        "colab_type": "code",
        "colab": {
          "base_uri": "https://localhost:8080/",
          "height": 34
        },
        "outputId": "771a7926-a9e9-485c-96e5-ab28532587ec"
      },
      "source": [
        "dataset[0]"
      ],
      "execution_count": 77,
      "outputs": [
        {
          "output_type": "execute_result",
          "data": {
            "text/plain": [
              "(tensor([2., 2.]), tensor([1.]))"
            ]
          },
          "metadata": {
            "tags": []
          },
          "execution_count": 77
        }
      ]
    },
    {
      "cell_type": "code",
      "metadata": {
        "id": "v3Cvy4AEe55J",
        "colab_type": "code",
        "colab": {}
      },
      "source": [
        "class AddMult:\n",
        "    def __init__(self, addx=1, multiy=1):\n",
        "        self.addx = addx\n",
        "        self.multiy = multiy\n",
        "    \n",
        "    def __call__(self, sample):\n",
        "        x = sample[0]\n",
        "        y = sample[1]\n",
        "        x = x + self.addx\n",
        "        y = y * self.multiy\n",
        "        return x, y"
      ],
      "execution_count": 0,
      "outputs": []
    },
    {
      "cell_type": "code",
      "metadata": {
        "id": "lzMu4MCigNqQ",
        "colab_type": "code",
        "colab": {}
      },
      "source": [
        "am = AddMult()"
      ],
      "execution_count": 0,
      "outputs": []
    },
    {
      "cell_type": "code",
      "metadata": {
        "id": "bqnajR3tgqYK",
        "colab_type": "code",
        "colab": {}
      },
      "source": [
        "dataset_ = TestDataset(transform=am)"
      ],
      "execution_count": 0,
      "outputs": []
    },
    {
      "cell_type": "code",
      "metadata": {
        "id": "Ae12fCsjgtIm",
        "colab_type": "code",
        "colab": {
          "base_uri": "https://localhost:8080/",
          "height": 34
        },
        "outputId": "db7d317f-9924-4aee-ed3b-7a638a827680"
      },
      "source": [
        "dataset_[0]"
      ],
      "execution_count": 81,
      "outputs": [
        {
          "output_type": "execute_result",
          "data": {
            "text/plain": [
              "(tensor([3., 3.]), tensor([1.]))"
            ]
          },
          "metadata": {
            "tags": []
          },
          "execution_count": 81
        }
      ]
    },
    {
      "cell_type": "code",
      "metadata": {
        "id": "WHTcusI3guPH",
        "colab_type": "code",
        "colab": {}
      },
      "source": [
        ""
      ],
      "execution_count": 0,
      "outputs": []
    }
  ]
}