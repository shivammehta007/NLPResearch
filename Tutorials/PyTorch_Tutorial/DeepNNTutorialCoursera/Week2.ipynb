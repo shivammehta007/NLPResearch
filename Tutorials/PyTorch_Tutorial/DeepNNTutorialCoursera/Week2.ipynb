{
  "nbformat": 4,
  "nbformat_minor": 0,
  "metadata": {
    "colab": {
      "name": "Week2.ipynb",
      "provenance": [],
      "include_colab_link": true
    },
    "kernelspec": {
      "name": "python3",
      "display_name": "Python 3"
    }
  },
  "cells": [
    {
      "cell_type": "markdown",
      "metadata": {
        "id": "view-in-github",
        "colab_type": "text"
      },
      "source": [
        "<a href=\"https://colab.research.google.com/github/shivammehta007/NLPResearch/blob/master/Tutorials/PyTorch_Tutorial/DeepNNTutorialCoursera/Week2.ipynb\" target=\"_parent\"><img src=\"https://colab.research.google.com/assets/colab-badge.svg\" alt=\"Open In Colab\"/></a>"
      ]
    },
    {
      "cell_type": "markdown",
      "metadata": {
        "id": "J0Xa8-bZIfLq",
        "colab_type": "text"
      },
      "source": [
        "# Week 2"
      ]
    },
    {
      "cell_type": "code",
      "metadata": {
        "id": "T1iFFIIIIgKN",
        "colab_type": "code",
        "colab": {}
      },
      "source": [
        "import torch\n",
        "import torch.nn as nn\n",
        "import matplotlib.pyplot as plt\n",
        "%matplotlib inline"
      ],
      "execution_count": 0,
      "outputs": []
    },
    {
      "cell_type": "code",
      "metadata": {
        "id": "gynOyAWDKd9Z",
        "colab_type": "code",
        "colab": {
          "base_uri": "https://localhost:8080/",
          "height": 34
        },
        "outputId": "8b997640-1725-411c-a14f-7ea729afb41e"
      },
      "source": [
        "torch.manual_seed(1)"
      ],
      "execution_count": 10,
      "outputs": [
        {
          "output_type": "execute_result",
          "data": {
            "text/plain": [
              "<torch._C.Generator at 0x7fc27b32f390>"
            ]
          },
          "metadata": {
            "tags": []
          },
          "execution_count": 10
        }
      ]
    },
    {
      "cell_type": "code",
      "metadata": {
        "id": "DT44GbitIiGJ",
        "colab_type": "code",
        "colab": {}
      },
      "source": [
        "w = torch.tensor(2.0, requires_grad=True)\n",
        "b = torch.tensor(1.0, requires_grad=True)"
      ],
      "execution_count": 0,
      "outputs": []
    },
    {
      "cell_type": "code",
      "metadata": {
        "id": "XCHhkD6hKGuZ",
        "colab_type": "code",
        "colab": {}
      },
      "source": [
        "def forward(x):\n",
        "    return x *w + b"
      ],
      "execution_count": 0,
      "outputs": []
    },
    {
      "cell_type": "code",
      "metadata": {
        "id": "2d7HKXLJKKbB",
        "colab_type": "code",
        "colab": {}
      },
      "source": [
        "x = torch.tensor([1.0])"
      ],
      "execution_count": 0,
      "outputs": []
    },
    {
      "cell_type": "code",
      "metadata": {
        "id": "M6YIzHQcKM5T",
        "colab_type": "code",
        "colab": {}
      },
      "source": [
        "yhat = forward(x)"
      ],
      "execution_count": 0,
      "outputs": []
    },
    {
      "cell_type": "code",
      "metadata": {
        "id": "g4meoTc1KOxv",
        "colab_type": "code",
        "colab": {
          "base_uri": "https://localhost:8080/",
          "height": 34
        },
        "outputId": "81dd39f0-e6d2-4c50-fe75-e7b5a0f8634b"
      },
      "source": [
        "yhat"
      ],
      "execution_count": 6,
      "outputs": [
        {
          "output_type": "execute_result",
          "data": {
            "text/plain": [
              "tensor([3.], grad_fn=<AddBackward0>)"
            ]
          },
          "metadata": {
            "tags": []
          },
          "execution_count": 6
        }
      ]
    },
    {
      "cell_type": "code",
      "metadata": {
        "id": "YPiZi14OKQ24",
        "colab_type": "code",
        "colab": {}
      },
      "source": [
        "model = nn.Linear(in_features=1, out_features=1)"
      ],
      "execution_count": 0,
      "outputs": []
    },
    {
      "cell_type": "code",
      "metadata": {
        "id": "fpeSk2wJKZy9",
        "colab_type": "code",
        "colab": {}
      },
      "source": [
        "y = model(x)"
      ],
      "execution_count": 0,
      "outputs": []
    },
    {
      "cell_type": "code",
      "metadata": {
        "id": "A-nzShpzKbKc",
        "colab_type": "code",
        "colab": {
          "base_uri": "https://localhost:8080/",
          "height": 68
        },
        "outputId": "cb1349bd-f272-4a19-c814-acc7a1541264"
      },
      "source": [
        "list(model.parameters())"
      ],
      "execution_count": 12,
      "outputs": [
        {
          "output_type": "execute_result",
          "data": {
            "text/plain": [
              "[Parameter containing:\n",
              " tensor([[0.5935]], requires_grad=True), Parameter containing:\n",
              " tensor([-0.1612], requires_grad=True)]"
            ]
          },
          "metadata": {
            "tags": []
          },
          "execution_count": 12
        }
      ]
    },
    {
      "cell_type": "code",
      "metadata": {
        "id": "0BefGa9KKjH8",
        "colab_type": "code",
        "colab": {}
      },
      "source": [
        "x = torch.tensor([0.0])"
      ],
      "execution_count": 0,
      "outputs": []
    },
    {
      "cell_type": "code",
      "metadata": {
        "id": "5A5ekQ-oKx0W",
        "colab_type": "code",
        "colab": {}
      },
      "source": [
        "y_hat = model(x)"
      ],
      "execution_count": 0,
      "outputs": []
    },
    {
      "cell_type": "code",
      "metadata": {
        "id": "Zm8o5_olKzvy",
        "colab_type": "code",
        "colab": {
          "base_uri": "https://localhost:8080/",
          "height": 34
        },
        "outputId": "7d61b6b6-0fbd-48de-d899-77ed4948d577"
      },
      "source": [
        "y_hat"
      ],
      "execution_count": 15,
      "outputs": [
        {
          "output_type": "execute_result",
          "data": {
            "text/plain": [
              "tensor([-0.1612], grad_fn=<AddBackward0>)"
            ]
          },
          "metadata": {
            "tags": []
          },
          "execution_count": 15
        }
      ]
    },
    {
      "cell_type": "code",
      "metadata": {
        "id": "9BNMhzVkK4VA",
        "colab_type": "code",
        "colab": {}
      },
      "source": [
        "x = torch.tensor([[1.0], [2.0]])"
      ],
      "execution_count": 0,
      "outputs": []
    },
    {
      "cell_type": "code",
      "metadata": {
        "id": "Lx8bw61fK7_Y",
        "colab_type": "code",
        "colab": {
          "base_uri": "https://localhost:8080/",
          "height": 51
        },
        "outputId": "9ac92eff-7549-43ed-bdfb-10f01da6fb1e"
      },
      "source": [
        "model(x)"
      ],
      "execution_count": 19,
      "outputs": [
        {
          "output_type": "execute_result",
          "data": {
            "text/plain": [
              "tensor([[0.4324],\n",
              "        [1.0259]], grad_fn=<AddmmBackward>)"
            ]
          },
          "metadata": {
            "tags": []
          },
          "execution_count": 19
        }
      ]
    },
    {
      "cell_type": "code",
      "metadata": {
        "id": "ex2cl_BLK9A4",
        "colab_type": "code",
        "colab": {}
      },
      "source": [
        ""
      ],
      "execution_count": 0,
      "outputs": []
    },
    {
      "cell_type": "markdown",
      "metadata": {
        "id": "SA66ale3LMgN",
        "colab_type": "text"
      },
      "source": [
        "# Simple Linear Regression"
      ]
    },
    {
      "cell_type": "code",
      "metadata": {
        "id": "qMtV-1LnLN2G",
        "colab_type": "code",
        "colab": {}
      },
      "source": [
        "class LR(nn.Module):\n",
        "\n",
        "    def __init__(self, in_size, out_size):\n",
        "        super(LR, self).__init__()\n",
        "        self.linear = nn.Linear(in_size, out_size)\n",
        "\n",
        "    def forward(self, x):\n",
        "        return self.linear(x)\n"
      ],
      "execution_count": 0,
      "outputs": []
    },
    {
      "cell_type": "code",
      "metadata": {
        "id": "3JXYqjHCMVWq",
        "colab_type": "code",
        "colab": {}
      },
      "source": [
        "model = LR(1,1)\n",
        "y_hat = model(torch.tensor([1.0]))"
      ],
      "execution_count": 0,
      "outputs": []
    },
    {
      "cell_type": "code",
      "metadata": {
        "id": "w_F4elYgMbKW",
        "colab_type": "code",
        "colab": {
          "base_uri": "https://localhost:8080/",
          "height": 34
        },
        "outputId": "47212bc1-bd50-48da-9ba6-509e3e661664"
      },
      "source": [
        "model.state_dict()['linear.bias'].data[0], model.state_dict()['linear.weight'].data[0]"
      ],
      "execution_count": 32,
      "outputs": [
        {
          "output_type": "execute_result",
          "data": {
            "text/plain": [
              "(tensor(-0.4414), tensor([0.5153]))"
            ]
          },
          "metadata": {
            "tags": []
          },
          "execution_count": 32
        }
      ]
    },
    {
      "cell_type": "code",
      "metadata": {
        "id": "l-2R7-kaMiEA",
        "colab_type": "code",
        "colab": {
          "base_uri": "https://localhost:8080/",
          "height": 68
        },
        "outputId": "b983656d-4473-4ae5-8eb1-b1776e7281f1"
      },
      "source": [
        "list(model.parameters())"
      ],
      "execution_count": 34,
      "outputs": [
        {
          "output_type": "execute_result",
          "data": {
            "text/plain": [
              "[Parameter containing:\n",
              " tensor([[0.5153]], requires_grad=True), Parameter containing:\n",
              " tensor([-0.4414], requires_grad=True)]"
            ]
          },
          "metadata": {
            "tags": []
          },
          "execution_count": 34
        }
      ]
    },
    {
      "cell_type": "code",
      "metadata": {
        "id": "Xxt6SMFOM5-_",
        "colab_type": "code",
        "colab": {
          "base_uri": "https://localhost:8080/",
          "height": 51
        },
        "outputId": "aa8fa39e-56f4-4e20-f7e1-ef38a4dd388e"
      },
      "source": [
        "model.state_dict()"
      ],
      "execution_count": 37,
      "outputs": [
        {
          "output_type": "execute_result",
          "data": {
            "text/plain": [
              "OrderedDict([('linear.weight', tensor([[-0.1939]])),\n",
              "             ('linear.bias', tensor([0.4694]))])"
            ]
          },
          "metadata": {
            "tags": []
          },
          "execution_count": 37
        }
      ]
    },
    {
      "cell_type": "markdown",
      "metadata": {
        "id": "C6w4VqHCvhLG",
        "colab_type": "text"
      },
      "source": [
        "# Custom Simple Linear Regression"
      ]
    },
    {
      "cell_type": "code",
      "metadata": {
        "id": "LYLVXDf1NJo_",
        "colab_type": "code",
        "colab": {}
      },
      "source": [
        "w = torch.tensor(-10.0, requires_grad=True)\n",
        "X = torch.arange(-3, 3, 0.1).view(-1, 1)\n",
        "f = -3 * X"
      ],
      "execution_count": 0,
      "outputs": []
    },
    {
      "cell_type": "code",
      "metadata": {
        "id": "fS5GuFxmtoc1",
        "colab_type": "code",
        "colab": {}
      },
      "source": [
        ""
      ],
      "execution_count": 0,
      "outputs": []
    },
    {
      "cell_type": "code",
      "metadata": {
        "id": "OstXsCgytrNI",
        "colab_type": "code",
        "colab": {
          "base_uri": "https://localhost:8080/",
          "height": 265
        },
        "outputId": "9a192d10-38ca-4688-f69a-94e3cbc59300"
      },
      "source": [
        "plt.plot(X.numpy(), f.numpy())\n",
        "plt.show()"
      ],
      "execution_count": 48,
      "outputs": [
        {
          "output_type": "display_data",
          "data": {
            "image/png": "[encoded data removed]",
            "text/plain": [
              "<Figure size 432x288 with 1 Axes>"
            ]
          },
          "metadata": {
            "tags": []
          }
        }
      ]
    },
    {
      "cell_type": "code",
      "metadata": {
        "id": "vYjzuzhyt0Jy",
        "colab_type": "code",
        "colab": {}
      },
      "source": [
        "noise = f + 0.1 * torch.randn(X.size())"
      ],
      "execution_count": 0,
      "outputs": []
    },
    {
      "cell_type": "code",
      "metadata": {
        "id": "pNiPPdfZuriv",
        "colab_type": "code",
        "colab": {
          "base_uri": "https://localhost:8080/",
          "height": 265
        },
        "outputId": "f20b6fca-e9a4-4100-d0ef-577e56cf1b6c"
      },
      "source": [
        "plt.plot(X.numpy(), noise.numpy(), 'ro')\n",
        "plt.show()"
      ],
      "execution_count": 50,
      "outputs": [
        {
          "output_type": "display_data",
          "data": {
            "image/png": "[encoded data removed]",
            "text/plain": [
              "<Figure size 432x288 with 1 Axes>"
            ]
          },
          "metadata": {
            "tags": []
          }
        }
      ]
    },
    {
      "cell_type": "code",
      "metadata": {
        "id": "SgreGOB8uzBJ",
        "colab_type": "code",
        "colab": {}
      },
      "source": [
        "def forward(x):\n",
        "    return w*x\n",
        "\n",
        "def criterion(y_hat, y):\n",
        "    return torch.mean((y_hat - y)**2)"
      ],
      "execution_count": 0,
      "outputs": []
    },
    {
      "cell_type": "code",
      "metadata": {
        "id": "-4Xnnejsu_fr",
        "colab_type": "code",
        "colab": {}
      },
      "source": [
        "lr = 0.1\n",
        "COST = []\n",
        "\n",
        "for epoch in range(4):\n",
        "    y_hat = forward(X)\n",
        "    loss = criterion(y_hat, noise)\n",
        "    loss.backward()\n",
        "    w.data = w.data - lr * w.grad.data\n",
        "    w.grad.data.zero_()\n",
        "    COST.append(loss.item())\n",
        "    plt.plot(X.numpy(), )\n"
      ],
      "execution_count": 0,
      "outputs": []
    },
    {
      "cell_type": "code",
      "metadata": {
        "id": "9fk-vLMXweSO",
        "colab_type": "code",
        "colab": {
          "base_uri": "https://localhost:8080/",
          "height": 265
        },
        "outputId": "e50c1cb2-1dfb-4860-9ab7-91f440927013"
      },
      "source": [
        "plt.plot(COST)\n",
        "plt.show()"
      ],
      "execution_count": 56,
      "outputs": [
        {
          "output_type": "display_data",
          "data": {
            "image/png": "[encoded data removed]",
            "text/plain": [
              "<Figure size 432x288 with 1 Axes>"
            ]
          },
          "metadata": {
            "tags": []
          }
        }
      ]
    },
    {
      "cell_type": "markdown",
      "metadata": {
        "id": "fxchjXSoAlqd",
        "colab_type": "text"
      },
      "source": [
        "# Stochastic Gradient Descent"
      ]
    },
    {
      "cell_type": "code",
      "metadata": {
        "id": "SD3Ak_5Lwlf2",
        "colab_type": "code",
        "colab": {}
      },
      "source": [
        "w = torch.tensor(-15.0, requires_grad=True)\n",
        "b = torch.tensor(-10.0, requires_grad=True)"
      ],
      "execution_count": 0,
      "outputs": []
    },
    {
      "cell_type": "code",
      "metadata": {
        "id": "SxIhfPTmBqwO",
        "colab_type": "code",
        "colab": {}
      },
      "source": [
        "X = torch.arange(-3, 3, 0.1).view(-1, 1)\n",
        "f = -3*X"
      ],
      "execution_count": 0,
      "outputs": []
    },
    {
      "cell_type": "code",
      "metadata": {
        "id": "WwWt7Nk5ENgX",
        "colab_type": "code",
        "colab": {}
      },
      "source": [
        "Y = f + 0.1 * torch.randn(X.size())"
      ],
      "execution_count": 0,
      "outputs": []
    },
    {
      "cell_type": "code",
      "metadata": {
        "id": "6I3aOfKVEY4C",
        "colab_type": "code",
        "colab": {}
      },
      "source": [
        "def forward(x):\n",
        "    return w*x + b\n",
        "\n",
        "def criterion(y_hat, y):\n",
        "    return torch.mean((y_hat - y)**2)"
      ],
      "execution_count": 0,
      "outputs": []
    },
    {
      "cell_type": "code",
      "metadata": {
        "id": "9lcRZ8DfEaLf",
        "colab_type": "code",
        "colab": {}
      },
      "source": [
        "lr = 0.1\n",
        "LOSS = []\n",
        "for epoch in range(4):\n",
        "    total = 0\n",
        "    for x, y in zip(X, Y):\n",
        "        yhat = forward(x)\n",
        "        loss = criterion(yhat, Y)\n",
        "        loss.backward()\n",
        "        w.data = w.data - lr * w.grad.data\n",
        "        b.data = b.data - lr * b.grad.data\n",
        "        w.grad.data.zero_()\n",
        "        b.grad.data.zero_()\n",
        "        total += loss.item()\n",
        "    \n",
        "    LOSS.append(total)"
      ],
      "execution_count": 0,
      "outputs": []
    },
    {
      "cell_type": "code",
      "metadata": {
        "id": "3BzfZfNvGL0H",
        "colab_type": "code",
        "colab": {
          "base_uri": "https://localhost:8080/",
          "height": 34
        },
        "outputId": "a55f1dbd-e89d-4d52-f123-34c83af6e9d2"
      },
      "source": [
        "w.item(), b.item()"
      ],
      "execution_count": 74,
      "outputs": [
        {
          "output_type": "execute_result",
          "data": {
            "text/plain": [
              "(0.3253627419471741, -0.8065991997718811)"
            ]
          },
          "metadata": {
            "tags": []
          },
          "execution_count": 74
        }
      ]
    },
    {
      "cell_type": "code",
      "metadata": {
        "id": "C3f4TUwOFQjr",
        "colab_type": "code",
        "colab": {
          "base_uri": "https://localhost:8080/",
          "height": 265
        },
        "outputId": "3c173f9a-1e9d-4d40-c719-5fb0a9a1fe1d"
      },
      "source": [
        "plt.plot(LOSS)\n",
        "plt.show()"
      ],
      "execution_count": 72,
      "outputs": [
        {
          "output_type": "display_data",
          "data": {
            "image/png": "[encoded data removed]",
            "text/plain": [
              "<Figure size 432x288 with 1 Axes>"
            ]
          },
          "metadata": {
            "tags": []
          }
        }
      ]
    },
    {
      "cell_type": "code",
      "metadata": {
        "id": "IZXZCISmFxg7",
        "colab_type": "code",
        "colab": {}
      },
      "source": [
        ""
      ],
      "execution_count": 0,
      "outputs": []
    },
    {
      "cell_type": "markdown",
      "metadata": {
        "id": "4Kr8cySIFyQv",
        "colab_type": "text"
      },
      "source": [
        "# Using DataLoader"
      ]
    },
    {
      "cell_type": "code",
      "metadata": {
        "id": "2zHt6qdTFzRK",
        "colab_type": "code",
        "colab": {}
      },
      "source": [
        "from torch.utils.data import Dataset"
      ],
      "execution_count": 0,
      "outputs": []
    },
    {
      "cell_type": "code",
      "metadata": {
        "id": "1Cw0iJdtF7CP",
        "colab_type": "code",
        "colab": {}
      },
      "source": [
        "class Data(Dataset):\n",
        "\n",
        "    def __init__(self):\n",
        "        self.X = torch.arange(-3, 3, 0.1).view(-1, 1)\n",
        "        self.y = 3 * X + 1\n",
        "        self.len = self.X.shape[0]\n",
        "    \n",
        "    def __getitem__(self, index):\n",
        "        return self.X[index], self.y[index]\n",
        "\n",
        "    def __len__(self):\n",
        "        return self.len"
      ],
      "execution_count": 0,
      "outputs": []
    },
    {
      "cell_type": "code",
      "metadata": {
        "id": "f9XHTUJcGc3V",
        "colab_type": "code",
        "colab": {}
      },
      "source": [
        "data = Data()"
      ],
      "execution_count": 0,
      "outputs": []
    },
    {
      "cell_type": "code",
      "metadata": {
        "id": "rmyfl32yGgJF",
        "colab_type": "code",
        "colab": {
          "base_uri": "https://localhost:8080/",
          "height": 34
        },
        "outputId": "bd8f6d74-3453-4a64-b72e-0469be060995"
      },
      "source": [
        "len(data)"
      ],
      "execution_count": 78,
      "outputs": [
        {
          "output_type": "execute_result",
          "data": {
            "text/plain": [
              "60"
            ]
          },
          "metadata": {
            "tags": []
          },
          "execution_count": 78
        }
      ]
    },
    {
      "cell_type": "code",
      "metadata": {
        "id": "zi3jTWMHGg_N",
        "colab_type": "code",
        "colab": {}
      },
      "source": [
        "from torch.utils.data import DataLoader"
      ],
      "execution_count": 0,
      "outputs": []
    },
    {
      "cell_type": "code",
      "metadata": {
        "id": "f5EnosQYGuoK",
        "colab_type": "code",
        "colab": {}
      },
      "source": [
        "dataloader = DataLoader(dataset=data, batch_size=4)"
      ],
      "execution_count": 0,
      "outputs": []
    },
    {
      "cell_type": "code",
      "metadata": {
        "id": "hV1gN8GbG5Nb",
        "colab_type": "code",
        "colab": {}
      },
      "source": [
        "# for i in dataloader:\n",
        "#     print(i)"
      ],
      "execution_count": 0,
      "outputs": []
    },
    {
      "cell_type": "code",
      "metadata": {
        "id": "hFL9mG4SG8HM",
        "colab_type": "code",
        "colab": {}
      },
      "source": [
        "lr = 0.1\n",
        "LOSS = []\n",
        "for epoch in range(4):\n",
        "    total = 0\n",
        "    for x, y in dataloader:\n",
        "        yhat = forward(x)\n",
        "        loss = criterion(yhat, y)\n",
        "        loss.backward()\n",
        "        w.data = w.data - lr * w.grad.data\n",
        "        b.data = b.data - lr * b.grad.data\n",
        "        w.grad.data.zero_()\n",
        "        b.grad.data.zero_()\n",
        "    \n",
        "        LOSS.append(loss.item())"
      ],
      "execution_count": 0,
      "outputs": []
    },
    {
      "cell_type": "code",
      "metadata": {
        "id": "jHzj7xW6IM7v",
        "colab_type": "code",
        "colab": {
          "base_uri": "https://localhost:8080/",
          "height": 266
        },
        "outputId": "b2217508-234b-4a25-934e-b4e022b32567"
      },
      "source": [
        "plt.plot(LOSS)\n",
        "plt.show()"
      ],
      "execution_count": 89,
      "outputs": [
        {
          "output_type": "display_data",
          "data": {
            "image/png": "[encoded data removed]",
            "text/plain": [
              "<Figure size 432x288 with 1 Axes>"
            ]
          },
          "metadata": {
            "tags": []
          }
        }
      ]
    },
    {
      "cell_type": "markdown",
      "metadata": {
        "id": "CeLG8IpXNFBL",
        "colab_type": "text"
      },
      "source": [
        "# Optimizers"
      ]
    },
    {
      "cell_type": "code",
      "metadata": {
        "id": "-2spm0yqMn-5",
        "colab_type": "code",
        "colab": {}
      },
      "source": [
        "criterion = nn.MSELoss()"
      ],
      "execution_count": 0,
      "outputs": []
    },
    {
      "cell_type": "code",
      "metadata": {
        "id": "7O6fBWtFNBy-",
        "colab_type": "code",
        "colab": {}
      },
      "source": [
        "import torch.optim as optim"
      ],
      "execution_count": 0,
      "outputs": []
    },
    {
      "cell_type": "code",
      "metadata": {
        "id": "GlppuyCvNENx",
        "colab_type": "code",
        "colab": {}
      },
      "source": [
        "optimizer = optim.SGD(model.parameters(), lr=0.01)"
      ],
      "execution_count": 0,
      "outputs": []
    },
    {
      "cell_type": "code",
      "metadata": {
        "id": "B1UeY98lNT3N",
        "colab_type": "code",
        "colab": {
          "base_uri": "https://localhost:8080/",
          "height": 136
        },
        "outputId": "35ff7db8-468c-4ad6-bab0-8b095fdb013f"
      },
      "source": [
        "optimizer.state_dict()"
      ],
      "execution_count": 94,
      "outputs": [
        {
          "output_type": "execute_result",
          "data": {
            "text/plain": [
              "{'param_groups': [{'dampening': 0,\n",
              "   'lr': 0.01,\n",
              "   'momentum': 0,\n",
              "   'nesterov': False,\n",
              "   'params': [140473258783008, 140473258783440],\n",
              "   'weight_decay': 0}],\n",
              " 'state': {}}"
            ]
          },
          "metadata": {
            "tags": []
          },
          "execution_count": 94
        }
      ]
    },
    {
      "cell_type": "code",
      "metadata": {
        "id": "nneXSFpPNVT1",
        "colab_type": "code",
        "colab": {}
      },
      "source": [
        ""
      ],
      "execution_count": 0,
      "outputs": []
    }
  ]
}