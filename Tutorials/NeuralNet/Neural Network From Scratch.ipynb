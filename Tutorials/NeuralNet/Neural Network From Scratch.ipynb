{
 "cells": [
  {
   "cell_type": "markdown",
   "metadata": {},
   "source": [
    "# Neural Network \n",
    "## with MNIST Dataset\n",
    "Tutorial Used : https://www.python-course.eu/neural_network_mnist.php\n",
    "                https://jonathanweisberg.org/post/A%20Neural%20Network%20from%20Scratch%20-%20Part%201/"
   ]
  },
  {
   "cell_type": "code",
   "execution_count": 1,
   "metadata": {},
   "outputs": [
    {
     "name": "stderr",
     "output_type": "stream",
     "text": [
      "Using TensorFlow backend.\n"
     ]
    }
   ],
   "source": [
    "import numpy as np\n",
    "import keras\n",
    "%matplotlib inline\n",
    "import matplotlib.pyplot as plt\n",
    "\n"
   ]
  },
  {
   "cell_type": "code",
   "execution_count": 2,
   "metadata": {},
   "outputs": [],
   "source": [
    "# Load Data\n",
    "(train_x_orig, train_y_orig), (test_x_orig, test_y_orig) = keras.datasets.mnist.load_data()"
   ]
  },
  {
   "cell_type": "code",
   "execution_count": 3,
   "metadata": {},
   "outputs": [
    {
     "name": "stdout",
     "output_type": "stream",
     "text": [
      "Number of training examples: 60000\n",
      "Number of testing examples: 10000\n",
      "Each image is of size: (28, 28, 3)\n",
      "train_x_orig shape: (60000, 28, 28)\n",
      "train_y shape: (60000,)\n",
      "test_x_orig shape: (10000, 28, 28)\n",
      "test_y shape: (10000,)\n"
     ]
    }
   ],
   "source": [
    "# Data Values\n",
    "\n",
    "m_train = train_x_orig.shape[0]\n",
    "num_px = train_x_orig.shape[1]\n",
    "m_test = test_x_orig.shape[0]\n",
    "\n",
    "print (\"Number of training examples: \" + str(m_train))\n",
    "print (\"Number of testing examples: \" + str(m_test))\n",
    "print (\"Each image is of size: (\" + str(num_px) + \", \" + str(num_px) + \", 3)\")\n",
    "print (\"train_x_orig shape: \" + str(train_x_orig.shape))\n",
    "print (\"train_y shape: \" + str(train_y_orig.shape))\n",
    "print (\"test_x_orig shape: \" + str(test_x_orig.shape))\n",
    "print (\"test_y shape: \" + str(test_y_orig.shape))"
   ]
  },
  {
   "cell_type": "code",
   "execution_count": 4,
   "metadata": {},
   "outputs": [],
   "source": [
    "# Prepare Training Labels\n",
    "\n",
    "digits = 10\n",
    "examples = train_y_orig.shape[0]\n",
    "\n",
    "train_y_orig = train_y_orig.reshape(1, examples)\n",
    "\n",
    "train_y = np.eye(digits)[train_y_orig.astype('int32')]\n",
    "train_y = train_y.T.reshape(digits, examples)\n",
    "#print(train_y)"
   ]
  },
  {
   "cell_type": "code",
   "execution_count": 5,
   "metadata": {},
   "outputs": [],
   "source": [
    "# Prepare Test Labels\n",
    "\n",
    "m_test = test_y_orig.shape[0]\n",
    "test_y_orig = test_y_orig.reshape(1, m_test)\n",
    "\n",
    "test_y = np.eye(digits)[test_y_orig.astype('int32')]\n",
    "test_y = test_y.T.reshape(digits, m_test)\n",
    "#print(test_y)"
   ]
  },
  {
   "cell_type": "code",
   "execution_count": 6,
   "metadata": {},
   "outputs": [
    {
     "name": "stdout",
     "output_type": "stream",
     "text": [
      "train_x's shape: (784, 60000)\n",
      "test_x's shape: (784, 10000)\n",
      "train_y's shape: (10, 60000)\n",
      "test_y's shape: (10, 10000)\n"
     ]
    }
   ],
   "source": [
    "#Model data\n",
    "\n",
    "# Convert into shape of (784,60000)\n",
    "train_x_flatten = train_x_orig.reshape(train_x_orig.shape[0], -1).T  \n",
    "# Convert into shape of (784,10000)\n",
    "test_x_flatten = test_x_orig.reshape(test_x_orig.shape[0], -1).T\n",
    "\n",
    "train_x = train_x_flatten / 255.\n",
    "test_x = test_x_flatten / 255.\n",
    "\n",
    "print (\"train_x's shape: \" + str(train_x.shape))\n",
    "print (\"test_x's shape: \" + str(test_x.shape))\n",
    "\n",
    "train_y = train_y\n",
    "test_y = test_y\n",
    "print (\"train_y's shape: \" + str(train_y.shape))\n",
    "print (\"test_y's shape: \" + str(test_y.shape))\n",
    "\n",
    "\n",
    "# train_x_flatten = train_x_orig.reshape(train_x_orig.shape[0], -1).T  \n",
    "# test_x_flatten = test_x_orig.reshape(test_x_orig.shape[0], -1).T\n",
    "\n",
    "# train_x = train_x_flatten / 255.\n",
    "# test_x = test_x_flatten / 255.\n",
    "\n",
    "# print (\"train_x's shape: \" + str(train_x.shape))\n",
    "# print (\"test_x's shape: \" + str(test_x.shape))\n",
    "\n",
    "# train_y = train_y\n",
    "# test_y = test_y\n",
    "# print (\"train_y's shape: \" + str(train_y.shape))\n",
    "# print (\"test_y's shape: \" + str(test_y.shape))\n",
    "\n",
    "\n"
   ]
  },
  {
   "cell_type": "code",
   "execution_count": 7,
   "metadata": {},
   "outputs": [],
   "source": [
    "#Define all the activation functions\n",
    "def sigmoid(value):\n",
    "    return 1.0 / ( 1.0+np.exp(-value))\n",
    "\n",
    "def sigmoid_prime(value):\n",
    "    return sigmoid(value) * (1- sigmoid(value))\n",
    "\n",
    "def softmax(value):\n",
    "    return np.exp(value) / (np.sum(np.exp(value), axis = 0))\n",
    "\n",
    "def sofmax_prime(value):\n",
    "    return softmax(value) * (1- softmax(value))"
   ]
  },
  {
   "cell_type": "code",
   "execution_count": 8,
   "metadata": {},
   "outputs": [],
   "source": [
    "# Cost Function\n",
    "\n",
    "def compute_cost(Y, Y_hat):\n",
    "    cost_sum = np.sum(np.multiply(Y, np.log(Y_hat)))\n",
    "    m = Y.shape[1]\n",
    "    cost = -(1/m) * cost_sum\n",
    "    return cost"
   ]
  },
  {
   "cell_type": "code",
   "execution_count": 9,
   "metadata": {},
   "outputs": [],
   "source": [
    "# Initializing Hyper Parameters\n",
    "\n",
    "n_x = train_x.shape[0]\n",
    "n_h = 50\n",
    "learning_rate = 1\n",
    "digits = 10\n",
    "m = train_x.shape[1]\n",
    "epochs = 5000"
   ]
  },
  {
   "cell_type": "code",
   "execution_count": 10,
   "metadata": {},
   "outputs": [
    {
     "name": "stdout",
     "output_type": "stream",
     "text": [
      "Input Values : 784\n",
      "Hidden Values : 50\n",
      "60000\n",
      "(784, 60000)\n"
     ]
    }
   ],
   "source": [
    "print('Input Values : {}'.format(n_x))\n",
    "print('Hidden Values : {}'.format(n_h))\n",
    "print(m)\n",
    "print(train_x.shape)"
   ]
  },
  {
   "cell_type": "code",
   "execution_count": 11,
   "metadata": {},
   "outputs": [],
   "source": [
    "# Initializing Weights and Biasis\n",
    "\n",
    "W1 = np.random.randn(n_h, n_x)\n",
    "b1 = np.zeros((n_h, 1))\n",
    "W2 = np.random.randn(digits, n_h)\n",
    "b2 = np.zeros((digits, 1))\n",
    "costs = []"
   ]
  },
  {
   "cell_type": "code",
   "execution_count": 12,
   "metadata": {},
   "outputs": [
    {
     "data": {
      "text/plain": [
       "(50, 784)"
      ]
     },
     "execution_count": 12,
     "metadata": {},
     "output_type": "execute_result"
    }
   ],
   "source": [
    "W1.shape"
   ]
  },
  {
   "cell_type": "code",
   "execution_count": 13,
   "metadata": {},
   "outputs": [
    {
     "name": "stdout",
     "output_type": "stream",
     "text": [
      "Epoch 0 cost:  8.469171166420832\n",
      "Epoch 100 cost:  0.7453787192903603\n",
      "Epoch 200 cost:  0.5741690493852551\n",
      "Epoch 300 cost:  0.49876598671588207\n",
      "Epoch 400 cost:  0.4527038860318677\n",
      "Epoch 500 cost:  0.4201930331787324\n",
      "Epoch 600 cost:  0.3952274714531878\n",
      "Epoch 700 cost:  0.37510283173097736\n",
      "Epoch 800 cost:  0.3583698316502337\n",
      "Epoch 900 cost:  0.3441332784074583\n",
      "Epoch 1000 cost:  0.3318052974131262\n",
      "Epoch 1100 cost:  0.32096635629279757\n",
      "Epoch 1200 cost:  0.3113031593927571\n",
      "Epoch 1300 cost:  0.3025831511490964\n",
      "Epoch 1400 cost:  0.2946357104335482\n",
      "Epoch 1500 cost:  0.2873350719943786\n",
      "Epoch 1600 cost:  0.2805871515612894\n",
      "Epoch 1700 cost:  0.27431976182527035\n",
      "Epoch 1800 cost:  0.26847548659418574\n",
      "Epoch 1900 cost:  0.2630066514697559\n",
      "Epoch 2000 cost:  0.25787170649872293\n",
      "Epoch 2100 cost:  0.2530332601559977\n",
      "Epoch 2200 cost:  0.24845753950987745\n",
      "Epoch 2300 cost:  0.24411452199187086\n",
      "Epoch 2400 cost:  0.23997843516899642\n",
      "Epoch 2500 cost:  0.2360283461966839\n",
      "Epoch 2600 cost:  0.23224821640759835\n",
      "Epoch 2700 cost:  0.22862599855157076\n",
      "Epoch 2800 cost:  0.2251522498731223\n",
      "Epoch 2900 cost:  0.22181906112079391\n",
      "Epoch 3000 cost:  0.21861945201617405\n",
      "Epoch 3100 cost:  0.21554691248525087\n",
      "Epoch 3200 cost:  0.21259494184254524\n",
      "Epoch 3300 cost:  0.2097567081261371\n",
      "Epoch 3400 cost:  0.2070249772264224\n",
      "Epoch 3500 cost:  0.204392321248118\n",
      "Epoch 3600 cost:  0.20185146527037093\n",
      "Epoch 3700 cost:  0.19939558626358175\n",
      "Epoch 3800 cost:  0.19701845916056945\n",
      "Epoch 3900 cost:  0.19471448905274263\n",
      "Epoch 4000 cost:  0.19247876608540118\n",
      "Epoch 4100 cost:  0.190307211781231\n",
      "Epoch 4200 cost:  0.1881966561827166\n",
      "Epoch 4300 cost:  0.18614458495563188\n",
      "Epoch 4400 cost:  0.18414863819435656\n",
      "Epoch 4500 cost:  0.18220629006093342\n",
      "Epoch 4600 cost:  0.18031487848371575\n",
      "Epoch 4700 cost:  0.1784717683782511\n",
      "Epoch 4800 cost:  0.17667444759194936\n",
      "Epoch 4900 cost:  0.17492053725677725\n",
      "Final cost: 0.17322471428148278\n"
     ]
    }
   ],
   "source": [
    "# Running the Neural Network\n",
    "\n",
    "for i in range(epochs):\n",
    "    Z1 = np.matmul(W1,train_x) + b1\n",
    "    A1 = sigmoid(Z1)     # Activation Sigmoid\n",
    "    Z2 = np.matmul(W2,A1) + b2\n",
    "    A2 = softmax(Z2)     # Activation Softmax\n",
    "    cost = compute_cost(train_y, A2)\n",
    "    \n",
    "    dZ2 = A2 - train_y\n",
    "    dW2 = (1./m) * np.matmul(dZ2, A1.T)\n",
    "    db2 = (1./m) * np.sum(dZ2, axis=1, keepdims=True)\n",
    "    \n",
    "    dA1 = np.matmul(W2.T,dZ2)\n",
    "    dZ1 = dA1 * sigmoid_prime(Z1)\n",
    "    dW1 = (1./m) * np.matmul(dZ1, train_x.T)\n",
    "    db1 = (1./m) * np.sum(dZ1, axis = 1, keepdims=True)\n",
    "    \n",
    "    W2 = W2 - learning_rate * dW2\n",
    "    b2 = b2 - learning_rate * db2\n",
    "    W1 = W1 - learning_rate * dW1\n",
    "    b1 = b1 - learning_rate * db1\n",
    "    \n",
    "    if (i % 100 == 0):\n",
    "        print(\"Epoch\", i, \"cost: \", cost)\n",
    "\n",
    "print(\"Final cost:\", cost)\n",
    "    "
   ]
  },
  {
   "cell_type": "code",
   "execution_count": 14,
   "metadata": {},
   "outputs": [],
   "source": [
    "# Save the Biasis and weights because it took ages to calculate on Mac xP\n",
    "np.savetxt('W1.csv', W1, delimiter=',')\n",
    "np.savetxt('W2.csv', W2, delimiter=',')\n",
    "np.savetxt('b1.csv', b1, delimiter=',')\n",
    "np.savetxt('b2.csv', b2, delimiter=',')"
   ]
  },
  {
   "cell_type": "code",
   "execution_count": 18,
   "metadata": {},
   "outputs": [
    {
     "name": "stdout",
     "output_type": "stream",
     "text": [
      "Test Accuracy : 93.53\n"
     ]
    }
   ],
   "source": [
    "# Test Accuracy \n",
    "\n",
    "Z1 = np.matmul(W1, test_x) + b1\n",
    "A1 = sigmoid(Z1)\n",
    "Z2 = np.matmul(W2, A1) + b2\n",
    "A2 = softmax(Z2)\n",
    "predictions = np.argmax(A2, axis=0)\n",
    "labels = np.argmax(test_y, axis=0)\n",
    "\n",
    "correct = 0 \n",
    "for i in range(labels.size):\n",
    "    if predictions[i] == labels[i]:\n",
    "        correct +=1\n",
    "print('Test Accuracy : {}'.format(100*correct/labels.size))\n"
   ]
  },
  {
   "cell_type": "code",
   "execution_count": null,
   "metadata": {},
   "outputs": [],
   "source": []
  }
 ],
 "metadata": {
  "kernelspec": {
   "display_name": "Python 3",
   "language": "python",
   "name": "python3"
  },
  "language_info": {
   "codemirror_mode": {
    "name": "ipython",
    "version": 3
   },
   "file_extension": ".py",
   "mimetype": "text/x-python",
   "name": "python",
   "nbconvert_exporter": "python",
   "pygments_lexer": "ipython3",
   "version": "3.6.7"
  }
 },
 "nbformat": 4,
 "nbformat_minor": 2
}
